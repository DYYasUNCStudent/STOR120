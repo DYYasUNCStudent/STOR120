{
 "cells": [
  {
   "cell_type": "code",
   "execution_count": 1,
   "metadata": {
    "tags": []
   },
   "outputs": [],
   "source": [
    "from datascience import *\n",
    "import numpy as np\n",
    "#np.warnings.filterwarnings('ignore', category=np.VisibleDeprecationWarning)  "
   ]
  },
  {
   "cell_type": "markdown",
   "metadata": {},
   "source": [
    "## Years and Majors\n",
    "\n",
    "Scenario:\n",
    "\n",
    "Class consists of second years (60%) and third years (40%)\n",
    "\n",
    "- 50% of the second years have declared their major\n",
    "- 80% of the third years have declared their major\n",
    "- I pick one student at random.\n",
    "\n",
    "**Which is more likely: Second year or third year?***\n"
   ]
  },
  {
   "cell_type": "markdown",
   "metadata": {},
   "source": [
    "## Possible Approach 1: Tree Diagram Calculation"
   ]
  },
  {
   "cell_type": "code",
   "execution_count": 2,
   "metadata": {
    "tags": []
   },
   "outputs": [
    {
     "data": {
      "text/plain": [
       "0.5161290322580645"
      ]
     },
     "execution_count": 2,
     "metadata": {},
     "output_type": "execute_result"
    }
   ],
   "source": [
    "# P(third year | declared), from tree diagram\n",
    "\n",
    "(0.4 * 0.8) / (0.6 * 0.5 + 0.4 * 0.8)"
   ]
  },
  {
   "cell_type": "code",
   "execution_count": 3,
   "metadata": {
    "tags": []
   },
   "outputs": [
    {
     "data": {
      "text/plain": [
       "0.4838709677419354"
      ]
     },
     "execution_count": 3,
     "metadata": {},
     "output_type": "execute_result"
    }
   ],
   "source": [
    "# P(second year | declared), from tree diagram\n",
    "\n",
    "(0.6 * 0.5) / (0.6 * 0.5 + 0.4 * 0.8)"
   ]
  },
  {
   "cell_type": "markdown",
   "metadata": {},
   "source": [
    "## Possible Approach 2: Data Science Approach"
   ]
  },
  {
   "cell_type": "code",
   "execution_count": 8,
   "metadata": {
    "tags": []
   },
   "outputs": [],
   "source": [
    "# np.array(list) converts list to an array\n",
    "# provided all the elements of list are of the same type\n",
    "\n",
    "n = 100\n",
    "second = round(n * 0.6)\n",
    "third = n - round(n * 0.6)\n",
    "\n",
    "year = []\n",
    "year = np.append(year, ['Second']*second)\n",
    "year = np.append(year, ['Third']*third)\n",
    "\n",
    "major = []\n",
    "major = np.append(major, ['Declared'] * round(second * 0.5))\n",
    "major = np.append(major, ['Undeclared'] * (second - round(second * 0.5)))\n",
    "major = np.append(major, ['Declared'] * round(third * 0.8))\n",
    "major = np.append(major, ['Undeclared'] * (third  - round(third * 0.8)))\n"
   ]
  },
  {
   "cell_type": "code",
   "execution_count": 9,
   "metadata": {
    "tags": []
   },
   "outputs": [
    {
     "data": {
      "text/html": [
       "<table border=\"1\" class=\"dataframe\">\n",
       "    <thead>\n",
       "        <tr>\n",
       "            <th>Year</th> <th>Major</th>\n",
       "        </tr>\n",
       "    </thead>\n",
       "    <tbody>\n",
       "        <tr>\n",
       "            <td>Second</td> <td>Declared</td>\n",
       "        </tr>\n",
       "        <tr>\n",
       "            <td>Second</td> <td>Declared</td>\n",
       "        </tr>\n",
       "        <tr>\n",
       "            <td>Second</td> <td>Declared</td>\n",
       "        </tr>\n",
       "        <tr>\n",
       "            <td>Second</td> <td>Declared</td>\n",
       "        </tr>\n",
       "        <tr>\n",
       "            <td>Second</td> <td>Declared</td>\n",
       "        </tr>\n",
       "        <tr>\n",
       "            <td>Second</td> <td>Declared</td>\n",
       "        </tr>\n",
       "        <tr>\n",
       "            <td>Second</td> <td>Declared</td>\n",
       "        </tr>\n",
       "        <tr>\n",
       "            <td>Second</td> <td>Declared</td>\n",
       "        </tr>\n",
       "        <tr>\n",
       "            <td>Second</td> <td>Declared</td>\n",
       "        </tr>\n",
       "        <tr>\n",
       "            <td>Second</td> <td>Declared</td>\n",
       "        </tr>\n",
       "    </tbody>\n",
       "</table>\n",
       "<p>... (90 rows omitted)</p>"
      ],
      "text/plain": [
       "Year   | Major\n",
       "Second | Declared\n",
       "Second | Declared\n",
       "Second | Declared\n",
       "Second | Declared\n",
       "Second | Declared\n",
       "Second | Declared\n",
       "Second | Declared\n",
       "Second | Declared\n",
       "Second | Declared\n",
       "Second | Declared\n",
       "... (90 rows omitted)"
      ]
     },
     "execution_count": 9,
     "metadata": {},
     "output_type": "execute_result"
    }
   ],
   "source": [
    "students = Table().with_columns(\n",
    "    'Year', year,\n",
    "    'Major', major\n",
    ")\n",
    "\n",
    "students"
   ]
  },
  {
   "cell_type": "code",
   "execution_count": 10,
   "metadata": {
    "tags": []
   },
   "outputs": [
    {
     "data": {
      "text/html": [
       "<table border=\"1\" class=\"dataframe\">\n",
       "    <thead>\n",
       "        <tr>\n",
       "            <th>Year</th> <th>count</th>\n",
       "        </tr>\n",
       "    </thead>\n",
       "    <tbody>\n",
       "        <tr>\n",
       "            <td>Second</td> <td>60   </td>\n",
       "        </tr>\n",
       "        <tr>\n",
       "            <td>Third </td> <td>40   </td>\n",
       "        </tr>\n",
       "    </tbody>\n",
       "</table>"
      ],
      "text/plain": [
       "Year   | count\n",
       "Second | 60\n",
       "Third  | 40"
      ]
     },
     "execution_count": 10,
     "metadata": {},
     "output_type": "execute_result"
    }
   ],
   "source": [
    "students.group('Year')"
   ]
  },
  {
   "cell_type": "code",
   "execution_count": 11,
   "metadata": {
    "tags": []
   },
   "outputs": [
    {
     "data": {
      "text/html": [
       "<table border=\"1\" class=\"dataframe\">\n",
       "    <thead>\n",
       "        <tr>\n",
       "            <th>Major</th> <th>Second</th> <th>Third</th>\n",
       "        </tr>\n",
       "    </thead>\n",
       "    <tbody>\n",
       "        <tr>\n",
       "            <td>Declared  </td> <td>30    </td> <td>32   </td>\n",
       "        </tr>\n",
       "        <tr>\n",
       "            <td>Undeclared</td> <td>30    </td> <td>8    </td>\n",
       "        </tr>\n",
       "    </tbody>\n",
       "</table>"
      ],
      "text/plain": [
       "Major      | Second | Third\n",
       "Declared   | 30     | 32\n",
       "Undeclared | 30     | 8"
      ]
     },
     "execution_count": 11,
     "metadata": {},
     "output_type": "execute_result"
    }
   ],
   "source": [
    "students.pivot('Year', 'Major')"
   ]
  },
  {
   "cell_type": "code",
   "execution_count": 12,
   "metadata": {
    "tags": []
   },
   "outputs": [
    {
     "data": {
      "text/plain": [
       "0.5161290322580645"
      ]
     },
     "execution_count": 12,
     "metadata": {},
     "output_type": "execute_result"
    }
   ],
   "source": [
    "# I pick one student at random...That student has declared a major!\n",
    "# Second Year or Third Year?\n",
    "\n",
    "# Probablity of third year\n",
    "32 / (30 + 32)"
   ]
  },
  {
   "cell_type": "code",
   "execution_count": 13,
   "metadata": {
    "tags": []
   },
   "outputs": [
    {
     "data": {
      "text/plain": [
       "0.4838709677419355"
      ]
     },
     "execution_count": 13,
     "metadata": {},
     "output_type": "execute_result"
    }
   ],
   "source": [
    "# Probability of second year\n",
    "30 / (30 + 32)"
   ]
  },
  {
   "cell_type": "markdown",
   "metadata": {},
   "source": [
    "## Monty Hall\n",
    "\n",
    "Suppose you're on a game show, and you're given the choice of three doors: \n",
    "\n",
    "- Behind one door is a car; behind the others, goats. \n",
    "- You pick a door, say No. 1, and the host, who knows what's behind the doors, opens another door, say No. 3, which has a goat.\n",
    "- He then says to you, \"Do you want to pick door No. 2?\" Is it to your advantage to switch your choice?"
   ]
  },
  {
   "cell_type": "code",
   "execution_count": 14,
   "metadata": {
    "tags": []
   },
   "outputs": [
    {
     "data": {
      "text/plain": [
       "0.6666666666666666"
      ]
     },
     "execution_count": 14,
     "metadata": {},
     "output_type": "execute_result"
    }
   ],
   "source": [
    "# P(win car | switched), from tree diagram\n",
    "\n",
    "(2/3 * 1/2) / (2/3 * 1/2 + 1/3 * 1/2)"
   ]
  },
  {
   "cell_type": "markdown",
   "metadata": {},
   "source": [
    "## Disease Decisions\n",
    "\n",
    "### Interpretation by Physicians of Clinical Laboratory Results (1978)\n",
    "\n",
    "\"We asked 20 house officers, 20 fourth-year medical students and 20 attending physicians, selected in 67 consecutive hallway encounters at four Harvard Medical School teaching hospitals, the following question: \n",
    "\n",
    "- \"If a test to detect a disease whose prevalence is 1/1000 has a false positive rate of 5%, what is the chance that a person found to have a positive result actually has the disease, assuming that you know nothing about the person's symptoms or signs?\"\n"
   ]
  },
  {
   "cell_type": "markdown",
   "metadata": {},
   "source": [
    "## Possible Approach 1: Tree Diagram Calculation"
   ]
  },
  {
   "cell_type": "code",
   "execution_count": 15,
   "metadata": {
    "tags": []
   },
   "outputs": [
    {
     "data": {
      "text/plain": [
       "0.019627085377821395"
      ]
     },
     "execution_count": 15,
     "metadata": {},
     "output_type": "execute_result"
    }
   ],
   "source": [
    "# P(disease | tested +)\n",
    "# if prior probability of disease is 1/10\n",
    "\n",
    "(0.001 * 1) / (0.001*1 + 0.999*0.05)"
   ]
  },
  {
   "cell_type": "code",
   "execution_count": null,
   "metadata": {},
   "outputs": [],
   "source": [
    "year = []\n",
    "year = np.append(year, ['Second']*second)\n",
    "year = np.append(year, ['Third']*third)"
   ]
  },
  {
   "cell_type": "markdown",
   "metadata": {},
   "source": [
    "## Possible Approach 2: Data Science Approach"
   ]
  },
  {
   "cell_type": "code",
   "execution_count": 16,
   "metadata": {
    "tags": []
   },
   "outputs": [],
   "source": [
    "def create_population(prior_disease_prob, n):\n",
    "    \n",
    "    disease = round(n * prior_disease_prob)\n",
    "    no_disease = n - round(n * prior_disease_prob)\n",
    "\n",
    "    status = []\n",
    "    status = np.append(status, ['Disease'] * disease)\n",
    "    status = np.append(status, ['No disease'] * no_disease)\n",
    " \n",
    "        \n",
    "    result = []\n",
    "    result = np.append(result,  ['Test +'] * disease)\n",
    "    result = np.append(result,  ['Test +'] * round(no_disease * 0.05))\n",
    "    result = np.append(result,  ['Test +'] * round(no_disease * 0.05))\n",
    "    \n",
    "    np.array(\n",
    "        np.sum([\n",
    "            ['Test +'] * disease,\n",
    "            ['Test +'] * round(no_disease * 0.05),\n",
    "            ['Test -'] * (no_disease - round(no_disease * 0.05))\n",
    "        ]),\n",
    "        dtype=object\n",
    "    )\n",
    "                 \n",
    "    t = Table().with_columns(\n",
    "    'Status', status,\n",
    "    'Test Result', result\n",
    "    )\n",
    "    return t"
   ]
  },
  {
   "cell_type": "code",
   "execution_count": 17,
   "metadata": {
    "tags": []
   },
   "outputs": [
    {
     "ename": "ValueError",
     "evalue": "setting an array element with a sequence. The requested array has an inhomogeneous shape after 1 dimensions. The detected shape was (2,) + inhomogeneous part.",
     "output_type": "error",
     "traceback": [
      "\u001b[1;31m---------------------------------------------------------------------------\u001b[0m",
      "\u001b[1;31mValueError\u001b[0m                                Traceback (most recent call last)",
      "Cell \u001b[1;32mIn[17], line 1\u001b[0m\n\u001b[1;32m----> 1\u001b[0m create_population(\u001b[38;5;241m1\u001b[39m\u001b[38;5;241m/\u001b[39m\u001b[38;5;241m1000\u001b[39m, \u001b[38;5;241m10000\u001b[39m)\n",
      "Cell \u001b[1;32mIn[16], line 7\u001b[0m, in \u001b[0;36mcreate_population\u001b[1;34m(prior_disease_prob, n)\u001b[0m\n\u001b[0;32m      3\u001b[0m disease \u001b[38;5;241m=\u001b[39m \u001b[38;5;28mround\u001b[39m(n \u001b[38;5;241m*\u001b[39m prior_disease_prob)\n\u001b[0;32m      4\u001b[0m no_disease \u001b[38;5;241m=\u001b[39m n \u001b[38;5;241m-\u001b[39m \u001b[38;5;28mround\u001b[39m(n \u001b[38;5;241m*\u001b[39m prior_disease_prob)\n\u001b[0;32m      6\u001b[0m status \u001b[38;5;241m=\u001b[39m np\u001b[38;5;241m.\u001b[39marray(\n\u001b[1;32m----> 7\u001b[0m     np\u001b[38;5;241m.\u001b[39msum([\n\u001b[0;32m      8\u001b[0m         [\u001b[38;5;124m'\u001b[39m\u001b[38;5;124mDisease\u001b[39m\u001b[38;5;124m'\u001b[39m] \u001b[38;5;241m*\u001b[39m disease,\n\u001b[0;32m      9\u001b[0m         [\u001b[38;5;124m'\u001b[39m\u001b[38;5;124mNo disease\u001b[39m\u001b[38;5;124m'\u001b[39m] \u001b[38;5;241m*\u001b[39m no_disease\n\u001b[0;32m     10\u001b[0m     ]),\n\u001b[0;32m     11\u001b[0m     dtype\u001b[38;5;241m=\u001b[39m\u001b[38;5;28mobject\u001b[39m\n\u001b[0;32m     12\u001b[0m )\n\u001b[0;32m     14\u001b[0m result \u001b[38;5;241m=\u001b[39m np\u001b[38;5;241m.\u001b[39marray(\n\u001b[0;32m     15\u001b[0m     np\u001b[38;5;241m.\u001b[39msum([\n\u001b[0;32m     16\u001b[0m         [\u001b[38;5;124m'\u001b[39m\u001b[38;5;124mTest +\u001b[39m\u001b[38;5;124m'\u001b[39m] \u001b[38;5;241m*\u001b[39m disease,\n\u001b[1;32m   (...)\u001b[0m\n\u001b[0;32m     20\u001b[0m     dtype\u001b[38;5;241m=\u001b[39m\u001b[38;5;28mobject\u001b[39m\n\u001b[0;32m     21\u001b[0m )\n\u001b[0;32m     23\u001b[0m t \u001b[38;5;241m=\u001b[39m Table()\u001b[38;5;241m.\u001b[39mwith_columns(\n\u001b[0;32m     24\u001b[0m \u001b[38;5;124m'\u001b[39m\u001b[38;5;124mStatus\u001b[39m\u001b[38;5;124m'\u001b[39m, status,\n\u001b[0;32m     25\u001b[0m \u001b[38;5;124m'\u001b[39m\u001b[38;5;124mTest Result\u001b[39m\u001b[38;5;124m'\u001b[39m, result\n\u001b[0;32m     26\u001b[0m )\n",
      "File \u001b[1;32m<__array_function__ internals>:200\u001b[0m, in \u001b[0;36msum\u001b[1;34m(*args, **kwargs)\u001b[0m\n",
      "File \u001b[1;32m~\\anaconda3\\Lib\\site-packages\\numpy\\core\\fromnumeric.py:2324\u001b[0m, in \u001b[0;36msum\u001b[1;34m(a, axis, dtype, out, keepdims, initial, where)\u001b[0m\n\u001b[0;32m   2321\u001b[0m         \u001b[38;5;28;01mreturn\u001b[39;00m out\n\u001b[0;32m   2322\u001b[0m     \u001b[38;5;28;01mreturn\u001b[39;00m res\n\u001b[1;32m-> 2324\u001b[0m \u001b[38;5;28;01mreturn\u001b[39;00m _wrapreduction(a, np\u001b[38;5;241m.\u001b[39madd, \u001b[38;5;124m'\u001b[39m\u001b[38;5;124msum\u001b[39m\u001b[38;5;124m'\u001b[39m, axis, dtype, out, keepdims\u001b[38;5;241m=\u001b[39mkeepdims,\n\u001b[0;32m   2325\u001b[0m                       initial\u001b[38;5;241m=\u001b[39minitial, where\u001b[38;5;241m=\u001b[39mwhere)\n",
      "File \u001b[1;32m~\\anaconda3\\Lib\\site-packages\\numpy\\core\\fromnumeric.py:86\u001b[0m, in \u001b[0;36m_wrapreduction\u001b[1;34m(obj, ufunc, method, axis, dtype, out, **kwargs)\u001b[0m\n\u001b[0;32m     83\u001b[0m         \u001b[38;5;28;01melse\u001b[39;00m:\n\u001b[0;32m     84\u001b[0m             \u001b[38;5;28;01mreturn\u001b[39;00m reduction(axis\u001b[38;5;241m=\u001b[39maxis, out\u001b[38;5;241m=\u001b[39mout, \u001b[38;5;241m*\u001b[39m\u001b[38;5;241m*\u001b[39mpasskwargs)\n\u001b[1;32m---> 86\u001b[0m \u001b[38;5;28;01mreturn\u001b[39;00m ufunc\u001b[38;5;241m.\u001b[39mreduce(obj, axis, dtype, out, \u001b[38;5;241m*\u001b[39m\u001b[38;5;241m*\u001b[39mpasskwargs)\n",
      "\u001b[1;31mValueError\u001b[0m: setting an array element with a sequence. The requested array has an inhomogeneous shape after 1 dimensions. The detected shape was (2,) + inhomogeneous part."
     ]
    }
   ],
   "source": [
    "create_population(1/1000, 10000)"
   ]
  },
  {
   "cell_type": "code",
   "execution_count": 13,
   "metadata": {},
   "outputs": [
    {
     "data": {
      "text/html": [
       "<table border=\"1\" class=\"dataframe\">\n",
       "    <thead>\n",
       "        <tr>\n",
       "            <th>Status</th> <th>Test +</th> <th>Test -</th>\n",
       "        </tr>\n",
       "    </thead>\n",
       "    <tbody>\n",
       "        <tr>\n",
       "            <td>Disease   </td> <td>10    </td> <td>0     </td>\n",
       "        </tr>\n",
       "        <tr>\n",
       "            <td>No disease</td> <td>500   </td> <td>9490  </td>\n",
       "        </tr>\n",
       "    </tbody>\n",
       "</table>"
      ],
      "text/plain": [
       "Status     | Test + | Test -\n",
       "Disease    | 10     | 0\n",
       "No disease | 500    | 9490"
      ]
     },
     "execution_count": 13,
     "metadata": {},
     "output_type": "execute_result"
    }
   ],
   "source": [
    "create_population(1/1000, 10000).pivot('Test Result', 'Status')"
   ]
  },
  {
   "cell_type": "markdown",
   "metadata": {},
   "source": [
    "## More Common Disease\n",
    "\n",
    "If prior probability of disease is 1/10... what do you observe?"
   ]
  },
  {
   "cell_type": "code",
   "execution_count": 17,
   "metadata": {},
   "outputs": [
    {
     "data": {
      "text/plain": [
       "0.689655172413793"
      ]
     },
     "execution_count": 17,
     "metadata": {},
     "output_type": "execute_result"
    }
   ],
   "source": [
    "# P(disease | tested +)\n",
    "# if prior probability of disease is 1/10\n",
    "\n",
    "(0.1 * 1) / (0.1*1 + 0.9*0.05)"
   ]
  },
  {
   "cell_type": "code",
   "execution_count": 20,
   "metadata": {},
   "outputs": [
    {
     "data": {
      "text/html": [
       "<table border=\"1\" class=\"dataframe\">\n",
       "    <thead>\n",
       "        <tr>\n",
       "            <th>Status</th> <th>Test +</th> <th>Test -</th>\n",
       "        </tr>\n",
       "    </thead>\n",
       "    <tbody>\n",
       "        <tr>\n",
       "            <td>Disease   </td> <td>1000  </td> <td>0     </td>\n",
       "        </tr>\n",
       "        <tr>\n",
       "            <td>No disease</td> <td>450   </td> <td>8550  </td>\n",
       "        </tr>\n",
       "    </tbody>\n",
       "</table>"
      ],
      "text/plain": [
       "Status     | Test + | Test -\n",
       "Disease    | 1000   | 0\n",
       "No disease | 450    | 8550"
      ]
     },
     "execution_count": 20,
     "metadata": {},
     "output_type": "execute_result"
    }
   ],
   "source": [
    "# Can we confirm this result using the data science approach?\n",
    "\n",
    "create_population(1/10, 10000).pivot('Test Result', 'Status')"
   ]
  },
  {
   "cell_type": "code",
   "execution_count": 21,
   "metadata": {},
   "outputs": [
    {
     "data": {
      "text/plain": [
       "0.6896551724137931"
      ]
     },
     "execution_count": 21,
     "metadata": {},
     "output_type": "execute_result"
    }
   ],
   "source": [
    "# P(disease | tested +)\n",
    "# if prior probability of disease is 1/10\n",
    "\n",
    "1000 / (1000 + 450)"
   ]
  },
  {
   "cell_type": "markdown",
   "metadata": {},
   "source": [
    "**A probability of an outcome is…**\n",
    "\n",
    "- The frequency with which it will occur in repeated trials, or\n",
    "- The subjective degree of belief that it will (or has) occurred\n",
    "\n",
    "\n",
    "**Why use subjective priors?**\n",
    "\n",
    "- In order to quantify a belief that is relevant to a decision\n",
    "- When the subject of your prediction was not selected randomly from the population\n"
   ]
  },
  {
   "cell_type": "code",
   "execution_count": null,
   "metadata": {},
   "outputs": [],
   "source": []
  }
 ],
 "metadata": {
  "kernelspec": {
   "display_name": "Python 3 (ipykernel)",
   "language": "python",
   "name": "python3"
  },
  "language_info": {
   "codemirror_mode": {
    "name": "ipython",
    "version": 3
   },
   "file_extension": ".py",
   "mimetype": "text/x-python",
   "name": "python",
   "nbconvert_exporter": "python",
   "pygments_lexer": "ipython3",
   "version": "3.11.4"
  }
 },
 "nbformat": 4,
 "nbformat_minor": 4
}
