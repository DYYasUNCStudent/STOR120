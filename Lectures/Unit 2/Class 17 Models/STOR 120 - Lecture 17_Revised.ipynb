{
 "cells": [
  {
   "cell_type": "code",
   "execution_count": 15,
   "metadata": {},
   "outputs": [],
   "source": [
    "from datascience import *\n",
    "import numpy as np\n",
    "\n",
    "%matplotlib inline\n",
    "import matplotlib.pyplot as plots\n",
    "plots.style.use('fivethirtyeight')"
   ]
  },
  {
   "cell_type": "markdown",
   "metadata": {},
   "source": [
    "## Review: Population Distribution and Parameter\n",
    "\n",
    "- Population: The collection or set of all objects or individuals being studied.\n",
    "\n",
    "- Parameter: A number that summarizes(or describes) a characteristic of a target population.\n"
   ]
  },
  {
   "cell_type": "code",
   "execution_count": 58,
   "metadata": {},
   "outputs": [
    {
     "data": {
      "text/html": [
       "<table border=\"1\" class=\"dataframe\">\n",
       "    <thead>\n",
       "        <tr>\n",
       "            <th>popularity</th> <th>dance</th> <th>duration</th> <th>energy</th> <th>tempo</th> <th>valence</th> <th>genre</th>\n",
       "        </tr>\n",
       "    </thead>\n",
       "    <tbody>\n",
       "        <tr>\n",
       "            <td>0         </td> <td>0.702</td> <td>890.68  </td> <td>0.563 </td> <td>130.003</td> <td>0.581  </td> <td>Electronic</td>\n",
       "        </tr>\n",
       "        <tr>\n",
       "            <td>0         </td> <td>0.534</td> <td>168     </td> <td>0.994 </td> <td>130.034</td> <td>0.0295 </td> <td>Electronic</td>\n",
       "        </tr>\n",
       "        <tr>\n",
       "            <td>0         </td> <td>0.744</td> <td>360     </td> <td>0.86  </td> <td>129.91 </td> <td>0.458  </td> <td>Electronic</td>\n",
       "        </tr>\n",
       "        <tr>\n",
       "            <td>0         </td> <td>0.8  </td> <td>418.1   </td> <td>0.826 </td> <td>119.984</td> <td>0.342  </td> <td>Electronic</td>\n",
       "        </tr>\n",
       "        <tr>\n",
       "            <td>0         </td> <td>0.541</td> <td>100.339 </td> <td>0.803 </td> <td>174.069</td> <td>0.294  </td> <td>Electronic</td>\n",
       "        </tr>\n",
       "        <tr>\n",
       "            <td>0         </td> <td>0.662</td> <td>352.206 </td> <td>0.513 </td> <td>120    </td> <td>0.452  </td> <td>Electronic</td>\n",
       "        </tr>\n",
       "        <tr>\n",
       "            <td>0         </td> <td>0.706</td> <td>210.027 </td> <td>0.863 </td> <td>120.029</td> <td>0.258  </td> <td>Electronic</td>\n",
       "        </tr>\n",
       "        <tr>\n",
       "            <td>0         </td> <td>0.686</td> <td>186.714 </td> <td>0.471 </td> <td>89.975 </td> <td>0.173  </td> <td>Electronic</td>\n",
       "        </tr>\n",
       "        <tr>\n",
       "            <td>0         </td> <td>0.701</td> <td>389.13  </td> <td>0.626 </td> <td>120.006</td> <td>0.305  </td> <td>Electronic</td>\n",
       "        </tr>\n",
       "        <tr>\n",
       "            <td>0         </td> <td>0.533</td> <td>205.714 </td> <td>0.468 </td> <td>125.98 </td> <td>0.11   </td> <td>Electronic</td>\n",
       "        </tr>\n",
       "    </tbody>\n",
       "</table>\n",
       "<p>... (40550 rows omitted)</p>"
      ],
      "text/plain": [
       "popularity | dance | duration | energy | tempo   | valence | genre\n",
       "0          | 0.702 | 890.68   | 0.563  | 130.003 | 0.581   | Electronic\n",
       "0          | 0.534 | 168      | 0.994  | 130.034 | 0.0295  | Electronic\n",
       "0          | 0.744 | 360      | 0.86   | 129.91  | 0.458   | Electronic\n",
       "0          | 0.8   | 418.1    | 0.826  | 119.984 | 0.342   | Electronic\n",
       "0          | 0.541 | 100.339  | 0.803  | 174.069 | 0.294   | Electronic\n",
       "0          | 0.662 | 352.206  | 0.513  | 120     | 0.452   | Electronic\n",
       "0          | 0.706 | 210.027  | 0.863  | 120.029 | 0.258   | Electronic\n",
       "0          | 0.686 | 186.714  | 0.471  | 89.975  | 0.173   | Electronic\n",
       "0          | 0.701 | 389.13   | 0.626  | 120.006 | 0.305   | Electronic\n",
       "0          | 0.533 | 205.714  | 0.468  | 125.98  | 0.11    | Electronic\n",
       "... (40550 rows omitted)"
      ]
     },
     "execution_count": 58,
     "metadata": {},
     "output_type": "execute_result"
    }
   ],
   "source": [
    "music = Table.read_table('music.csv') # We are taking this data set as a population data set.\n",
    "music"
   ]
  },
  {
   "cell_type": "code",
   "execution_count": 59,
   "metadata": {},
   "outputs": [],
   "source": [
    "music_bins = np.arange(0, 800, 25)"
   ]
  },
  {
   "cell_type": "markdown",
   "metadata": {},
   "source": [
    "## Population Probability Distribution of `duration of songs`"
   ]
  },
  {
   "cell_type": "code",
   "execution_count": 21,
   "metadata": {},
   "outputs": [
    {
     "data": {
      "image/png": "[encoded data removed]",
      "text/plain": [
       "<Figure size 432x288 with 1 Axes>"
      ]
     },
     "metadata": {},
     "output_type": "display_data"
    }
   ],
   "source": [
    "music.hist('duration', bins=music_bins)"
   ]
  },
  {
   "cell_type": "markdown",
   "metadata": {},
   "source": [
    "## An example of a Population Parameter: The Median `duration of songs`"
   ]
  },
  {
   "cell_type": "code",
   "execution_count": 18,
   "metadata": {},
   "outputs": [
    {
     "data": {
      "text/plain": [
       "227.53299999999999"
      ]
     },
     "execution_count": 18,
     "metadata": {},
     "output_type": "execute_result"
    }
   ],
   "source": [
    "# (Population) Parameter\n",
    "np.median(music.column('duration'))"
   ]
  },
  {
   "cell_type": "markdown",
   "metadata": {},
   "source": [
    "## Review: Sample and  Statistic\n",
    "\n",
    "In the event that all population cannot be accessed for making observations and/or collecting data, we take a random sample from the target population and study its characteritics.\n",
    "\n",
    "We hope that the sample characteristics gives a reasonably good reflection of the characteristics of the population.\n",
    "\n",
    "- Sample: A fractional part/subset of the target population.\n",
    "\n",
    "- Statistic: A number that summarizes(or describes) a characteristic of a sample drawn from a target population.\n",
    "\n",
    "- A statistic can be used as an estimate of a parameter\n"
   ]
  },
  {
   "cell_type": "code",
   "execution_count": 70,
   "metadata": {},
   "outputs": [
    {
     "data": {
      "text/plain": [
       "281.17200000000003"
      ]
     },
     "execution_count": 70,
     "metadata": {},
     "output_type": "execute_result"
    }
   ],
   "source": [
    "# (Sample) Statistic based on sample size n = 10.\n",
    "np.median(music.sample(10).column('duration')) "
   ]
  },
  {
   "cell_type": "code",
   "execution_count": 78,
   "metadata": {},
   "outputs": [
    {
     "data": {
      "text/plain": [
       "229.6465"
      ]
     },
     "execution_count": 78,
     "metadata": {},
     "output_type": "execute_result"
    }
   ],
   "source": [
    "# (Sample) Statistic based on sample size n = 100\n",
    "np.median(music.sample(100).column('duration'))"
   ]
  },
  {
   "cell_type": "code",
   "execution_count": 92,
   "metadata": {},
   "outputs": [
    {
     "data": {
      "text/plain": [
       "231.37100000000001"
      ]
     },
     "execution_count": 92,
     "metadata": {},
     "output_type": "execute_result"
    }
   ],
   "source": [
    "# (Sample) Statistic based on sample size n = 1000\n",
    "np.median(music.sample(1000).column('duration'))"
   ]
  },
  {
   "cell_type": "markdown",
   "metadata": {},
   "source": [
    "## New Concept Alert\n",
    "\n",
    "Statistical Inference: Making conclusions/estimating unknowns based on data in random samples\n",
    "\n",
    "\n",
    "### Empirical Distributions of a Statistic\n",
    "\n",
    "Empirical distribution of the statistic:\n",
    "- Based on simulated values of the statistic\n",
    "- Consists of all the observed values of the statistic, and the proportion of times each value appeared\n",
    "\n",
    "Good approximation to the probability distribution of the statistic if the number of repetitions in the simulation is large. We will have an update on this soon. Watch out!"
   ]
  },
  {
   "cell_type": "code",
   "execution_count": 39,
   "metadata": {},
   "outputs": [],
   "source": [
    "# Define a function that returns one simulated value of the statistic\n",
    "\n",
    "def sample_median(size):\n",
    "    return np.median(music.sample(size).column('duration'))"
   ]
  },
  {
   "cell_type": "code",
   "execution_count": 51,
   "metadata": {},
   "outputs": [
    {
     "data": {
      "text/plain": [
       "209.39999999999998"
      ]
     },
     "execution_count": 51,
     "metadata": {},
     "output_type": "execute_result"
    }
   ],
   "source": [
    "sample_median(10)"
   ]
  },
  {
   "cell_type": "code",
   "execution_count": 52,
   "metadata": {},
   "outputs": [],
   "source": [
    "num_simulations = 5000"
   ]
  },
  {
   "cell_type": "code",
   "execution_count": 53,
   "metadata": {},
   "outputs": [],
   "source": [
    "sample_medians_array = make_array()\n",
    "\n",
    "for i in np.arange(num_simulations):\n",
    "    new_median = sample_median(10)\n",
    "    sample_medians_array = np.append(sample_medians_array, new_median)"
   ]
  },
  {
   "cell_type": "code",
   "execution_count": 54,
   "metadata": {},
   "outputs": [
    {
     "data": {
      "image/png": "[encoded data removed]",
      "text/plain": [
       "<Figure size 432x288 with 1 Axes>"
      ]
     },
     "metadata": {},
     "output_type": "display_data"
    }
   ],
   "source": [
    "Table().with_column(\n",
    "    'Sample medians', sample_medians_array\n",
    ").hist(bins = np.arange(120,350, 10))"
   ]
  },
  {
   "cell_type": "markdown",
   "metadata": {},
   "source": [
    "#### Empirical Distributions Overlayed"
   ]
  },
  {
   "cell_type": "code",
   "execution_count": 55,
   "metadata": {},
   "outputs": [],
   "source": [
    "sample_medians_array_10 = make_array()\n",
    "sample_medians_array_100 = make_array()\n",
    "sample_medians_array_1000 = make_array()\n",
    "\n",
    "num_simulations = 5000\n",
    "\n",
    "for i in np.arange(num_simulations):\n",
    "    sample_medians_array_10 = np.append(\n",
    "        sample_medians_array_10, \n",
    "        sample_median(10)\n",
    "    )\n",
    "    \n",
    "    sample_medians_array_100 = np.append(\n",
    "        sample_medians_array_100, \n",
    "        sample_median(100)\n",
    "    )\n",
    "    \n",
    "    sample_medians_array_1000 = np.append(\n",
    "        sample_medians_array_1000, \n",
    "        sample_median(1000)\n",
    "    )"
   ]
  },
  {
   "cell_type": "code",
   "execution_count": 56,
   "metadata": {},
   "outputs": [],
   "source": [
    "sample_medians = Table().with_columns('Size 10', sample_medians_array_10, \n",
    "                                      'Size 100', sample_medians_array_100,\n",
    "                                      'Size 1000', sample_medians_array_1000)"
   ]
  },
  {
   "cell_type": "code",
   "execution_count": 57,
   "metadata": {},
   "outputs": [
    {
     "data": {
      "image/png": "[encoded data removed]",
      "text/plain": [
       "<Figure size 432x288 with 1 Axes>"
      ]
     },
     "metadata": {},
     "output_type": "display_data"
    }
   ],
   "source": [
    "sample_medians.hist(bins = np.arange(170,300, 1))"
   ]
  },
  {
   "cell_type": "markdown",
   "metadata": {},
   "source": [
    "Update: The empirical distribution of the sample statistic(_the median in this example_) is a good approximation to the probability distribution of the statistic if \n",
    "\n",
    "- **the number of repetitions in the simulation is large** and/or \n",
    "- **the sample size drawn during each simulation is also large**."
   ]
  },
  {
   "cell_type": "markdown",
   "metadata": {},
   "source": [
    "## An Application of Empirical Distributions of Sample Statistic to solving real life problems.\n",
    "\n",
    "## Testing Hypothesis\n",
    "\n",
    "A model is a set of assumptions about a data-generating process.\n",
    "\n",
    "Or we could say that models include assumptions about chance processes used to generate data.\n",
    "\n",
    "Sometimes, data scientists have to decide whether or not a model is good. We will discuss an example of making such a decision.\n",
    "\n",
    "\n",
    "## Example 1: Mendel and Pea Flowers \n",
    "\n",
    "Context of the problem: Gregor Mendel (1822-1884) was an Austrian monk who is widely recognized as the founder of the modern field of genetics. Mendel performed careful and large-scale experiments on plants to come up with fundamental laws of genetics.\n",
    "\n",
    "Many of his experiments were on varieties of pea plants. He formulated sets of assumptions about each variety; these were his models. He then tested the validity of his models by growing the plants and gathering data.\n",
    "\n",
    "For pea plants of a particular variety, Mendel proposed the following model.\n",
    "\n",
    "_**For every plant, there is a 75% chance that it will have purple flowers, and a 25% chance that the flowers will be white, regardless of the colors in all the other plants.**_\n",
    "\n",
    "To see whether his model was valid, Mendel grew 929 pea plants of this variety. Among these 929 plants, 705 had purple flowers. This is our observed data(or reality).\n",
    "\n",
    "Our goal: We will use these data to perform a test of hypotheses and see if Mendel’s model looks good."
   ]
  },
  {
   "cell_type": "markdown",
   "metadata": {},
   "source": [
    "## Step 1: Setting up the null and alternative hypotheses for this application problem:\n",
    "\n",
    "**The null hypothesis:** The assumptions of Mendel's model are good. That is, each plant has a 75% chance of having purple flowers, independent of all other plants.\n",
    "\n",
    "\n",
    "Facts about the null hypothesis in general:\n",
    "\n",
    "- This is a clearly defined model about chances. \n",
    "- It says that the data were generated at random under clearly specified assumptions about the randomness. \n",
    "- The word “null” reinforces the idea that if the observed data look different from what the null hypothesis predicts, the difference is due to nothing but chance.\n",
    "- From a practical perspective, the null hypothesis is a hypothesis under which you can simulate data."
   ]
  },
  {
   "cell_type": "markdown",
   "metadata": {},
   "source": [
    "**The alternative hypothesis:** The alternative hypothesis is simply that his model isn’t good.\n",
    "\n",
    "Facts about the alternative hypothesis in general:\n",
    "\n",
    "- This says that some reason other than chance made the data differ from the predictions of the model in the null hypothesis.\n",
    "- Keep in mind that the alternative doesn’t say how good the model is or why the model isn’t good. It just says the model isn’t good."
   ]
  },
  {
   "cell_type": "markdown",
   "metadata": {},
   "source": [
    "## Step 2: Define The Test Statistic and Compute the Observed Value of the Test Statistic\n",
    "\n",
    "In order to decide between the two hypothesis, we must choose a statistic that we can use to make the decision. This is called the test statistic.\n",
    "\n",
    "We will be comparing two categorical distributions: \n",
    "\n",
    "- the one in Mendel’s model and \n",
    "- the one we will get in our random sample(observed data or reality).\n",
    "\n",
    "We want to see if these two distributions are close to each other or far apart. So our statistic in this example is how far the observed proportion of purple flowers is from the model porportion of purple proportions(75%).\n"
   ]
  },
  {
   "cell_type": "markdown",
   "metadata": {},
   "source": [
    "#### Compute the Observed Value of the Test Statistic\n",
    "\n",
    "The observed value of the test statistic is the value of the statistic you get from the data in the study, not a simulated value. Among Mendel’s 929 plants, 705 had purple flowers. The observed value of the test statistic was therefore"
   ]
  },
  {
   "cell_type": "code",
   "execution_count": 239,
   "metadata": {},
   "outputs": [
    {
     "data": {
      "text/plain": [
       "75.8880516684607"
      ]
     },
     "execution_count": 239,
     "metadata": {},
     "output_type": "execute_result"
    }
   ],
   "source": [
    "## Mendel had 929 plants, of which 705 had purple flowers(purple or not situation)\n",
    "\n",
    "percent_observed_purples = (705 / 929) * 100\n",
    "percent_observed_purples"
   ]
  },
  {
   "cell_type": "markdown",
   "metadata": {},
   "source": [
    "Underlying Reasoning: A sample percent of around 75% will be consistent with the model, but percents much bigger or much less than 75 will make you think that the model isn’t good. \n",
    "\n",
    "Therefore, small values of the distance will make you lean towards the null hypothesis. Big values of the statistic will make you lean towards the alternative.\n",
    "\n",
    "How far is the observed percenatge from the model? This is the observed value of the test statistic."
   ]
  },
  {
   "cell_type": "code",
   "execution_count": 149,
   "metadata": {},
   "outputs": [
    {
     "data": {
      "text/plain": [
       "0.8880516684607045"
      ]
     },
     "execution_count": 149,
     "metadata": {},
     "output_type": "execute_result"
    }
   ],
   "source": [
    "# The observed value of our test statistic (in percentage)\n",
    "\n",
    "observed_test_statistic = abs(percent_observed_purples - 75) \n",
    "observed_test_statistic"
   ]
  },
  {
   "cell_type": "markdown",
   "metadata": {},
   "source": [
    "## Step 3: The Distribution of the Test Statistic, Under the Null Hypothesis\n",
    "The main computational aspect of a test of hypotheses is figuring out what the model in the null hypothesis predicts. Specifically, we have to figure out what the values of the test statistic might be if the null hypothesis were true."
   ]
  },
  {
   "cell_type": "markdown",
   "metadata": {},
   "source": [
    "###  Approach to Assessment\n",
    "\n",
    "- If we can simulate data according to the assumptions of the model, we can learn what the model predicts.\n",
    "- We can then compare the predictions to the data that were observed(reality).\n",
    "- If the observed data(reality) and the model’s predictions are not consistent, then there is evidence against the validity of the model.\n",
    "\n",
    "\n",
    "If the model were true( as specified in the NULL hypothesis), we can simulate random samples by using the function `sample_proportions`. \n",
    "\n",
    "- The function is used for sampling at random from a categorical distribution.\n",
    "- The function samples at random from the population and returns an array containing the distribution of the categories in the sample.\n"
   ]
  },
  {
   "cell_type": "code",
   "execution_count": 203,
   "metadata": {},
   "outputs": [
    {
     "data": {
      "text/plain": [
       "0.75"
      ]
     },
     "execution_count": 203,
     "metadata": {},
     "output_type": "execute_result"
    }
   ],
   "source": [
    "sample_size = 929\n",
    "mendel_proportions = make_array(0.75, 0.25)\n",
    "mendel_proportion_purple = mendel_proportions.item(0)\n",
    "mendel_proportion_purple"
   ]
  },
  {
   "cell_type": "code",
   "execution_count": 213,
   "metadata": {},
   "outputs": [
    {
     "data": {
      "text/plain": [
       "0.7642626480086114"
      ]
     },
     "execution_count": 213,
     "metadata": {},
     "output_type": "execute_result"
    }
   ],
   "source": [
    "# If the model(assumption in the null hypothesis) were true,\n",
    "\n",
    "one_simulated_proportion = sample_proportions(929, mendel_proportions).item(0)\n",
    "one_simulated_proportion"
   ]
  },
  {
   "cell_type": "code",
   "execution_count": 214,
   "metadata": {},
   "outputs": [],
   "source": [
    "# How far is each simulated percentage/proportion from the model proportion of 75%?\n",
    "\n",
    "def one_simulated_distance():\n",
    "    sample_proportion_purple = sample_proportions(929, mendel_proportions).item(0)\n",
    "    return 100 * abs(sample_proportion_purple - mendel_proportion_purple)"
   ]
  },
  {
   "cell_type": "code",
   "execution_count": 187,
   "metadata": {},
   "outputs": [
    {
     "data": {
      "text/plain": [
       "1.21097954790097"
      ]
     },
     "execution_count": 187,
     "metadata": {},
     "output_type": "execute_result"
    }
   ],
   "source": [
    "one_simulated_distance()"
   ]
  },
  {
   "cell_type": "code",
   "execution_count": 217,
   "metadata": {},
   "outputs": [],
   "source": [
    "distances = make_array()\n",
    "\n",
    "for i in np.arange(10_000):\n",
    "    distances = np.append(distances, one_simulated_distance())"
   ]
  },
  {
   "cell_type": "code",
   "execution_count": 222,
   "metadata": {},
   "outputs": [
    {
     "data": {
      "text/html": [
       "<table border=\"1\" class=\"dataframe\">\n",
       "    <thead>\n",
       "        <tr>\n",
       "            <th>Distance between Sample % and 75%</th>\n",
       "        </tr>\n",
       "    </thead>\n",
       "    <tbody>\n",
       "        <tr>\n",
       "            <td>0.188375                         </td>\n",
       "        </tr>\n",
       "        <tr>\n",
       "            <td>1.80301                          </td>\n",
       "        </tr>\n",
       "        <tr>\n",
       "            <td>0.565124                         </td>\n",
       "        </tr>\n",
       "        <tr>\n",
       "            <td>0.349839                         </td>\n",
       "        </tr>\n",
       "        <tr>\n",
       "            <td>0.941873                         </td>\n",
       "        </tr>\n",
       "        <tr>\n",
       "            <td>0.888052                         </td>\n",
       "        </tr>\n",
       "        <tr>\n",
       "            <td>0.672766                         </td>\n",
       "        </tr>\n",
       "        <tr>\n",
       "            <td>0.511302                         </td>\n",
       "        </tr>\n",
       "        <tr>\n",
       "            <td>1.42626                          </td>\n",
       "        </tr>\n",
       "        <tr>\n",
       "            <td>1.15716                          </td>\n",
       "        </tr>\n",
       "    </tbody>\n",
       "</table>\n",
       "<p>... (9990 rows omitted)</p>"
      ],
      "text/plain": [
       "Distance between Sample % and 75%\n",
       "0.188375\n",
       "1.80301\n",
       "0.565124\n",
       "0.349839\n",
       "0.941873\n",
       "0.888052\n",
       "0.672766\n",
       "0.511302\n",
       "1.42626\n",
       "1.15716\n",
       "... (9990 rows omitted)"
      ]
     },
     "execution_count": 222,
     "metadata": {},
     "output_type": "execute_result"
    }
   ],
   "source": [
    "# Predicted percent of purple flowers in sample of 929 IF THE MODEL WERE TRUE.\n",
    "\n",
    "empirical_dist = Table().with_column(\n",
    "    'Distance between Sample % and 75%', distances\n",
    ")\n",
    "empirical_dist"
   ]
  },
  {
   "cell_type": "code",
   "execution_count": 223,
   "metadata": {},
   "outputs": [
    {
     "data": {
      "image/png": "[encoded data removed]",
      "text/plain": [
       "<Figure size 432x288 with 1 Axes>"
      ]
     },
     "metadata": {},
     "output_type": "display_data"
    }
   ],
   "source": [
    "empirical_dist.hist()\n",
    "plots.title('Prediction Made by the Null Hypothesis');"
   ]
  },
  {
   "cell_type": "markdown",
   "metadata": {},
   "source": [
    "Remember...\n",
    "\n",
    "Underlying Reasoning: A sample percent of _around_ 75%(or distance of 0 from 75%) will be consistent with the model, but percents much bigger or much less than 75(absolute difference value bigger than 0) will make you think that the model isn’t good. \n",
    "\n",
    "**Therefore, small values of the distance will make you lean towards the null hypothesis. Big values of the statistic will make you lean towards the alternative.**"
   ]
  },
  {
   "cell_type": "code",
   "execution_count": 233,
   "metadata": {},
   "outputs": [
    {
     "data": {
      "image/png": "[encoded data removed]",
      "text/plain": [
       "<Figure size 432x288 with 1 Axes>"
      ]
     },
     "metadata": {},
     "output_type": "display_data"
    }
   ],
   "source": [
    "empirical_dist.hist()\n",
    "plots.ylim(-0.02, 0.5)\n",
    "plots.title('Prediction Made by the Null Hypothesis')\n",
    "plots.scatter(observed_test_statistic, 0, color='red', s=40);"
   ]
  },
  {
   "cell_type": "markdown",
   "metadata": {},
   "source": [
    "Is the sample observation(red dot in the histogram above) based on the new variety of plants consistent with the predictions in the histogram, or not?\n",
    "\n",
    "Now the answer is not so clear. It depends on whether you think the red dot is too far from the bulk of the predicted values to be consistent with the prediction based on Mendel’s model."
   ]
  },
  {
   "cell_type": "markdown",
   "metadata": {},
   "source": [
    "## Step 4. The Conclusion of the Test\n",
    "\n",
    "The choice between the null and alternative hypotheses depends on the comparison between what you computed in Steps 2 and 3: the observed value of the test statistic and its distribution as predicted by the null hypothesis.\n",
    "\n",
    "If the two are not consistent with each other, then the data do not support the null hypothesis. In other words, the alternative hypothesis is better supported by the data. We say that the test rejects the null hypothesis.\n",
    "\n",
    "If the two are consistent with each other, then the observed test statistic is in line with what the null hypothesis predicts. In other words, the null hypothesis is better supported by the data. We say that the data are consistent with the null hypothesis."
   ]
  },
  {
   "cell_type": "code",
   "execution_count": 235,
   "metadata": {},
   "outputs": [
    {
     "data": {
      "image/png": "[encoded data removed]",
      "text/plain": [
       "<Figure size 432x288 with 1 Axes>"
      ]
     },
     "metadata": {},
     "output_type": "display_data"
    }
   ],
   "source": [
    "empirical_dist.hist()\n",
    "plots.title('Prediction Made by the Null Hypothesis')\n",
    "plots.plot([observed_test_statistic, observed_test_statistic], [0, .6], color='red', lw=2);"
   ]
  },
  {
   "cell_type": "code",
   "execution_count": 236,
   "metadata": {},
   "outputs": [
    {
     "data": {
      "text/plain": [
       "0.5409"
      ]
     },
     "execution_count": 236,
     "metadata": {},
     "output_type": "execute_result"
    }
   ],
   "source": [
    "p_value = empirical_dist.where(\n",
    "    'Distance between Sample % and 75%', \n",
    "    are.above_or_equal_to(observed_test_statistic)\n",
    ").num_rows / 10000\n",
    "\n",
    "p_value"
   ]
  },
  {
   "cell_type": "markdown",
   "metadata": {},
   "source": [
    "**Definition: The p-value of a test is the chance, based on the model in the null hypothesis, that the test statistic will be equal to the observed value in the sample or even further in the direction that supports the alternative.**\n",
    "\n",
    "If a p-value is small, that means the tail beyond the observed statistic is small and so the observed statistic is far away from what the null predicts. This implies that the data support the alternative hypothesis more than they support the null.\n",
    "\n",
    "How small is “small”? According to the conventions:\n",
    "\n",
    "- If the p-value is less than 5%, it is considered small and the result is called “statistically significant.”\n",
    "\n",
    "- If the p-value is even smaller – less than 1% – the result is called “highly statistically significant.”\n"
   ]
  },
  {
   "cell_type": "markdown",
   "metadata": {},
   "source": [
    "By this convention, our p-value of is considered large. So the conventional conclusion would be to fail to reject the null hypothesis and say that Mendel’s model looks good for the new plants. Formally, the result of the test is not statistically significant.\n",
    "\n",
    "Note that we could have alternatively computed out p-value in the following way:"
   ]
  },
  {
   "cell_type": "code",
   "execution_count": 238,
   "metadata": {},
   "outputs": [
    {
     "data": {
      "text/plain": [
       "0.5409"
      ]
     },
     "execution_count": 238,
     "metadata": {},
     "output_type": "execute_result"
    }
   ],
   "source": [
    "repetitions = 10_000\n",
    "np.count_nonzero(distances >= observed_test_statistic) / repetitions"
   ]
  },
  {
   "cell_type": "code",
   "execution_count": null,
   "metadata": {},
   "outputs": [],
   "source": []
  }
 ],
 "metadata": {
  "anaconda-cloud": {},
  "kernelspec": {
   "display_name": "Python 3 (ipykernel)",
   "language": "python",
   "name": "python3"
  },
  "language_info": {
   "codemirror_mode": {
    "name": "ipython",
    "version": 3
   },
   "file_extension": ".py",
   "mimetype": "text/x-python",
   "name": "python",
   "nbconvert_exporter": "python",
   "pygments_lexer": "ipython3",
   "version": "3.9.7"
  }
 },
 "nbformat": 4,
 "nbformat_minor": 4
}
