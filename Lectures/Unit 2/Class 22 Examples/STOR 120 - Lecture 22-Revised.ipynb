{
 "cells": [
  {
   "cell_type": "code",
   "execution_count": 2,
   "metadata": {},
   "outputs": [],
   "source": [
    "from datascience import *\n",
    "import numpy as np\n",
    "\n",
    "%matplotlib inline\n",
    "import matplotlib.pyplot as plots\n",
    "plots.style.use('fivethirtyeight')"
   ]
  },
  {
   "cell_type": "markdown",
   "metadata": {},
   "source": [
    "## Application of A/B TESTING to Observational Studies: The case of Kristen Gilbert\n",
    "\n",
    "[Kristen Gilbert](https://en.wikipedia.org/wiki/Kristen_Gilbert) was a former nurse who was convicted of four murders and two attempted murders of patients admitted to the Veterans Affairs Medical Center in Northampton, Massachusetts.\n",
    "\n",
    "We are going to construct a data that documents 1,641 nurse shifts that were tracked, out of which Kristen Gilbert was present 257 of those shifts(and not present 1384 of these shifts). Out of the 257 shifts when she was present, there was at a least a death on 40 of those shifts. Out of the 1,384 shifts when she was not present, there was at least a death 34 of those times.\n"
   ]
  },
  {
   "cell_type": "markdown",
   "metadata": {},
   "source": [
    "### Construct table of the data"
   ]
  },
  {
   "cell_type": "code",
   "execution_count": 3,
   "metadata": {},
   "outputs": [
    {
     "data": {
      "text/plain": [
       "array(['Yes', 'Yes', 'Yes', ..., 'No', 'No', 'No'],\n",
       "      dtype='<U3')"
      ]
     },
     "execution_count": 3,
     "metadata": {},
     "output_type": "execute_result"
    }
   ],
   "source": [
    "Gilbert_present = np.append(\n",
    "    np.repeat('Yes', 257), \n",
    "    np.repeat('No', 1384)\n",
    ")\n",
    "\n",
    "Gilbert_present"
   ]
  },
  {
   "cell_type": "code",
   "execution_count": 4,
   "metadata": {},
   "outputs": [
    {
     "data": {
      "text/plain": [
       "array([1, 1, 1, ..., 0, 0, 0])"
      ]
     },
     "execution_count": 4,
     "metadata": {},
     "output_type": "execute_result"
    }
   ],
   "source": [
    "Deaths = np.append(\n",
    "    np.append(np.repeat(1, 40), np.repeat(0, 217)),\n",
    "    np.append(np.repeat(1, 34), np.repeat(0, 1350))\n",
    ")\n",
    "\n",
    "Deaths   "
   ]
  },
  {
   "cell_type": "code",
   "execution_count": null,
   "metadata": {},
   "outputs": [],
   "source": [
    "Gilbert = Table().with_columns(\n",
    "    'Gilbert present', Gilbert_present,\n",
    "    'Deaths', Deaths\n",
    ")\n",
    "\n",
    "Gilbert"
   ]
  },
  {
   "cell_type": "markdown",
   "metadata": {},
   "source": [
    "**_In this example..._**\n",
    "\n",
    "## Step 1: Setting up the null and alternative hypotheses for this application problem:\n",
    "\n",
    "**Null Hypothesis:**\n",
    "\n",
    "There is no association between Ms. Gilbert’s presence and whether there was a death on the shift. \n",
    "\n",
    "\n",
    "**Alternative Hypothesis:**\n",
    "\n",
    "There is an association between Ms. Gilbert’s presence and whether there was a death on the shift. "
   ]
  },
  {
   "cell_type": "markdown",
   "metadata": {},
   "source": [
    "## Step 2: Define The Test Statistic and Compute the Observed Value of the Test Statistic\n",
    "\n",
    "Because we are comparing the rate of deaths while Ms. Kristen Gilbert was present to when she was not present, it makes natural sense that the test statistic should be the difference between the proportions of death when she was present and when she was not present. \n",
    "\n",
    "#### Compute the Observed Value of the Test Statistic"
   ]
  },
  {
   "cell_type": "code",
   "execution_count": 14,
   "metadata": {},
   "outputs": [
    {
     "data": {
      "text/html": [
       "<table border=\"1\" class=\"dataframe\">\n",
       "    <thead>\n",
       "        <tr>\n",
       "            <th>Gilbert present</th> <th>Deaths mean</th>\n",
       "        </tr>\n",
       "    </thead>\n",
       "    <tbody>\n",
       "        <tr>\n",
       "            <td>No             </td> <td>0.0245665  </td>\n",
       "        </tr>\n",
       "        <tr>\n",
       "            <td>Yes            </td> <td>0.155642   </td>\n",
       "        </tr>\n",
       "    </tbody>\n",
       "</table>"
      ],
      "text/plain": [
       "Gilbert present | Deaths mean\n",
       "No              | 0.0245665\n",
       "Yes             | 0.155642"
      ]
     },
     "execution_count": 14,
     "metadata": {},
     "output_type": "execute_result"
    }
   ],
   "source": [
    "Gilbert_summary = Gilbert.group('Gilbert present', np.mean)\n",
    "Gilbert_summary"
   ]
  },
  {
   "cell_type": "code",
   "execution_count": 15,
   "metadata": {},
   "outputs": [
    {
     "data": {
      "text/plain": [
       "-0.1310755493578642"
      ]
     },
     "execution_count": 15,
     "metadata": {},
     "output_type": "execute_result"
    }
   ],
   "source": [
    "obs_diff_prop = Gilbert_summary.column(1).item(0) - Gilbert_summary.column(1).item(1)\n",
    "obs_diff_prop"
   ]
  },
  {
   "cell_type": "code",
   "execution_count": 16,
   "metadata": {},
   "outputs": [],
   "source": [
    "def difference_of_props(table, group_label, outcome):\n",
    "    \"\"\"Takes: name of table, column label of binary categorical variable,\n",
    "    column label of group-label variable\n",
    "    Returns: Difference of proportions of the two groups\"\"\"\n",
    "    \n",
    "    #table with the two relevant columns\n",
    "    reduced = table.select(outcome, group_label)  \n",
    "    \n",
    "    # table containing counts for each group\n",
    "    summary_table = reduced.group(group_label, np.mean)\n",
    "    \n",
    "    return summary_table.column(1).item(0) - summary_table.column(1).item(1)"
   ]
  },
  {
   "cell_type": "code",
   "execution_count": 17,
   "metadata": {},
   "outputs": [
    {
     "data": {
      "text/plain": [
       "-0.1310755493578642"
      ]
     },
     "execution_count": 17,
     "metadata": {},
     "output_type": "execute_result"
    }
   ],
   "source": [
    "difference_of_props(Gilbert, 'Gilbert present', 'Deaths')"
   ]
  },
  {
   "cell_type": "markdown",
   "metadata": {},
   "source": [
    "## Step 3: The Distribution of the Test Statistic, Under the Null Hypothesis\n",
    "\n",
    "Recall the null hypothesis: \n",
    "\n",
    "**Null Hypothesis:**\n",
    "\n",
    "\n",
    "There is no association between Ms. Gilbert’s presence and whether there was a death on the shift. \n",
    "\n",
    "\n",
    "**How should we simulate test statistic under the null hypothesis?**\n",
    "\n",
    "## Use the permutation test to conduct the simulation."
   ]
  },
  {
   "cell_type": "code",
   "execution_count": 18,
   "metadata": {},
   "outputs": [
    {
     "data": {
      "text/plain": [
       "array(['No', 'Yes', 'No', ..., 'No', 'Yes', 'Yes'],\n",
       "      dtype='<U3')"
      ]
     },
     "execution_count": 18,
     "metadata": {},
     "output_type": "execute_result"
    }
   ],
   "source": [
    "shuffled_labels = Gilbert.sample(with_replacement=False).column('Gilbert present')\n",
    "shuffled_labels"
   ]
  },
  {
   "cell_type": "code",
   "execution_count": 19,
   "metadata": {},
   "outputs": [
    {
     "data": {
      "text/html": [
       "<table border=\"1\" class=\"dataframe\">\n",
       "    <thead>\n",
       "        <tr>\n",
       "            <th>Gilbert present</th> <th>Deaths</th> <th>Shuffled Label</th>\n",
       "        </tr>\n",
       "    </thead>\n",
       "    <tbody>\n",
       "        <tr>\n",
       "            <td>Yes            </td> <td>1     </td> <td>No            </td>\n",
       "        </tr>\n",
       "        <tr>\n",
       "            <td>Yes            </td> <td>1     </td> <td>Yes           </td>\n",
       "        </tr>\n",
       "        <tr>\n",
       "            <td>Yes            </td> <td>1     </td> <td>No            </td>\n",
       "        </tr>\n",
       "        <tr>\n",
       "            <td>Yes            </td> <td>1     </td> <td>No            </td>\n",
       "        </tr>\n",
       "        <tr>\n",
       "            <td>Yes            </td> <td>1     </td> <td>No            </td>\n",
       "        </tr>\n",
       "        <tr>\n",
       "            <td>Yes            </td> <td>1     </td> <td>No            </td>\n",
       "        </tr>\n",
       "        <tr>\n",
       "            <td>Yes            </td> <td>1     </td> <td>No            </td>\n",
       "        </tr>\n",
       "        <tr>\n",
       "            <td>Yes            </td> <td>1     </td> <td>No            </td>\n",
       "        </tr>\n",
       "        <tr>\n",
       "            <td>Yes            </td> <td>1     </td> <td>Yes           </td>\n",
       "        </tr>\n",
       "        <tr>\n",
       "            <td>Yes            </td> <td>1     </td> <td>Yes           </td>\n",
       "        </tr>\n",
       "    </tbody>\n",
       "</table>\n",
       "<p>... (1631 rows omitted)</p>"
      ],
      "text/plain": [
       "Gilbert present | Deaths | Shuffled Label\n",
       "Yes             | 1      | No\n",
       "Yes             | 1      | Yes\n",
       "Yes             | 1      | No\n",
       "Yes             | 1      | No\n",
       "Yes             | 1      | No\n",
       "Yes             | 1      | No\n",
       "Yes             | 1      | No\n",
       "Yes             | 1      | No\n",
       "Yes             | 1      | Yes\n",
       "Yes             | 1      | Yes\n",
       "... (1631 rows omitted)"
      ]
     },
     "execution_count": 19,
     "metadata": {},
     "output_type": "execute_result"
    }
   ],
   "source": [
    "original_and_shuffled = Gilbert.with_column(\n",
    "    'Shuffled Label', shuffled_labels\n",
    ")\n",
    "\n",
    "original_and_shuffled"
   ]
  },
  {
   "cell_type": "code",
   "execution_count": 20,
   "metadata": {},
   "outputs": [
    {
     "data": {
      "text/plain": [
       "-0.0018949191426193765"
      ]
     },
     "execution_count": 20,
     "metadata": {},
     "output_type": "execute_result"
    }
   ],
   "source": [
    "difference_of_props(original_and_shuffled, 'Shuffled Label', 'Deaths')"
   ]
  },
  {
   "cell_type": "markdown",
   "metadata": {},
   "source": [
    "#### Lets use the old simulation function again for the permutation test."
   ]
  },
  {
   "cell_type": "code",
   "execution_count": 21,
   "metadata": {},
   "outputs": [],
   "source": [
    "def one_simulated_difference(table, group_label, outcome):\n",
    "    \"\"\"Takes: name of table, column label of binary cateogorcial variable,\n",
    "    column label of group-label variable\n",
    "    Returns: Difference of proportions of the two groups after shuffling labels\"\"\"\n",
    "    \n",
    "    # array of shuffled labels\n",
    "    shuffled_labels = table.sample(with_replacement = False).column(group_label)\n",
    "    \n",
    "    # table of outcome variable and shuffled labels\n",
    "    shuffled_table = table.select(outcome).with_column(\n",
    "        'Shuffled Label', shuffled_labels)\n",
    "    \n",
    "    return difference_of_props(shuffled_table, 'Shuffled Label', outcome)  "
   ]
  },
  {
   "cell_type": "code",
   "execution_count": 27,
   "metadata": {},
   "outputs": [
    {
     "data": {
      "text/plain": [
       "0.011945862666156853"
      ]
     },
     "execution_count": 27,
     "metadata": {},
     "output_type": "execute_result"
    }
   ],
   "source": [
    "one_simulated_difference(Gilbert, 'Gilbert present', 'Deaths')"
   ]
  },
  {
   "cell_type": "markdown",
   "metadata": {},
   "source": [
    "### Simulate many outcomes"
   ]
  },
  {
   "cell_type": "code",
   "execution_count": 28,
   "metadata": {},
   "outputs": [],
   "source": [
    "differences = make_array()\n",
    "\n",
    "for i in np.arange(1000):\n",
    "    new_difference = one_simulated_difference(Gilbert, 'Gilbert present', 'Deaths')\n",
    "    differences = np.append(differences, new_difference)"
   ]
  },
  {
   "cell_type": "markdown",
   "metadata": {},
   "source": [
    "### Use simulation to make a decision"
   ]
  },
  {
   "cell_type": "code",
   "execution_count": 29,
   "metadata": {},
   "outputs": [
    {
     "name": "stdout",
     "output_type": "stream",
     "text": [
      "Observed Difference: -0.1310755493578642\n"
     ]
    },
    {
     "data": {
      "image/png": "[encoded data removed]",
      "text/plain": [
       "<Figure size 432x288 with 1 Axes>"
      ]
     },
     "metadata": {},
     "output_type": "display_data"
    }
   ],
   "source": [
    "Table().with_column('Difference Between Group Proportions', differences).hist(bins=17)\n",
    "print('Observed Difference:', obs_diff_prop)\n",
    "plots.title('Prediction Under the Null Hypothesis');\n",
    "plots.plot([obs_diff_prop, obs_diff_prop], [0, 30], color='red', lw=2);\n",
    "plots.xticks(rotation = 270);"
   ]
  },
  {
   "cell_type": "code",
   "execution_count": 30,
   "metadata": {},
   "outputs": [
    {
     "data": {
      "text/plain": [
       "0.0"
      ]
     },
     "execution_count": 30,
     "metadata": {},
     "output_type": "execute_result"
    }
   ],
   "source": [
    "p_value = sum(differences<= obs_diff_prop)/1000\n",
    "p_value"
   ]
  },
  {
   "cell_type": "markdown",
   "metadata": {},
   "source": [
    "## Step 4. The Conclusion of the Test\n",
    "\n",
    "The p-value of a test is the chance, based on the model in the null hypothesis, that the test statistic will be equal to the observed value in the sample or even further in the direction that supports the alternative.\n"
   ]
  },
  {
   "cell_type": "markdown",
   "metadata": {},
   "source": [
    "IN THIS EXAMPLE, since the p-value above is smaller than a chosen p-value cut-off of 0.01, we REJECT the null hypothesis in favor of the alternative hypothesis. This means that the results of the hypothesis testing procedure provides a HIGHLY statistically significant evidence to state that there is an association between Ms. Gilbert’s presence and whether there was a death on the shift. \n",
    "\n",
    "\n",
    "Formally, we say that `the result of the test is statistically significant.` "
   ]
  },
  {
   "cell_type": "markdown",
   "metadata": {},
   "source": [
    "## Types of Errors in Hypothesis testing.\n",
    "\n",
    "See Class 22 Lecture slides."
   ]
  },
  {
   "cell_type": "markdown",
   "metadata": {},
   "source": [
    "**Example:**  For each of the following scenarios, indicate which type of statistical error could have been committed or, alternatively, that no statistical error was made. When warranted, provide a definition for the indicated statistical error.\n",
    "\n",
    "- a.\tUnknown to the statistical analyst, the null hypothesis is actually true.\n",
    "\n",
    "\n",
    "\n",
    "- b.\tThe statistical analyst fails to reject the null hypothesis.\n",
    "\n",
    "\n",
    "\n",
    "\n",
    "- c.\tThe statistical analyst rejects the null hypothesis.\n",
    "\n",
    "\n",
    "\n",
    "\n",
    "- d.\tUnknown to the statistical analyst, the null hypothesis is actually true, and the analyst fails to reject the null hypothesis.\n",
    "\n",
    "\n",
    "\n",
    "- e.\tUnknown to the statistical analyst, the null hypothesis is actually false.\n",
    "\n",
    "\n",
    "\n",
    "- f.\tUnknown to the statistical analyst, the null hypothesis is actually false, and the analyst rejects the null hypothesis.\n"
   ]
  },
  {
   "cell_type": "code",
   "execution_count": null,
   "metadata": {},
   "outputs": [],
   "source": []
  }
 ],
 "metadata": {
  "kernelspec": {
   "display_name": "Python 3 (ipykernel)",
   "language": "python",
   "name": "python3"
  },
  "language_info": {
   "codemirror_mode": {
    "name": "ipython",
    "version": 3
   },
   "file_extension": ".py",
   "mimetype": "text/x-python",
   "name": "python",
   "nbconvert_exporter": "python",
   "pygments_lexer": "ipython3",
   "version": "3.9.7"
  }
 },
 "nbformat": 4,
 "nbformat_minor": 4
}
