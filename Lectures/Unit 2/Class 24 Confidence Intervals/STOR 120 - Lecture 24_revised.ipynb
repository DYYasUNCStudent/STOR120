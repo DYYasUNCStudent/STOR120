{
 "cells": [
  {
   "cell_type": "code",
   "execution_count": 1,
   "metadata": {},
   "outputs": [],
   "source": [
    "from datascience import *\n",
    "%matplotlib inline\n",
    "import matplotlib.pyplot as plots\n",
    "plots.style.use('fivethirtyeight')\n",
    "import numpy as np"
   ]
  },
  {
   "cell_type": "markdown",
   "metadata": {},
   "source": [
    "## Extending the example with population data"
   ]
  },
  {
   "cell_type": "code",
   "execution_count": 2,
   "metadata": {},
   "outputs": [
    {
     "data": {
      "text/html": [
       "<table border=\"1\" class=\"dataframe\">\n",
       "    <thead>\n",
       "        <tr>\n",
       "            <th>Date</th> <th>Flight Number</th> <th>Destination</th> <th>Delay</th>\n",
       "        </tr>\n",
       "    </thead>\n",
       "    <tbody>\n",
       "        <tr>\n",
       "            <td>6/1/15</td> <td>73           </td> <td>HNL        </td> <td>257  </td>\n",
       "        </tr>\n",
       "        <tr>\n",
       "            <td>6/1/15</td> <td>217          </td> <td>EWR        </td> <td>28   </td>\n",
       "        </tr>\n",
       "        <tr>\n",
       "            <td>6/1/15</td> <td>237          </td> <td>STL        </td> <td>-3   </td>\n",
       "        </tr>\n",
       "        <tr>\n",
       "            <td>6/1/15</td> <td>250          </td> <td>SAN        </td> <td>0    </td>\n",
       "        </tr>\n",
       "        <tr>\n",
       "            <td>6/1/15</td> <td>267          </td> <td>PHL        </td> <td>64   </td>\n",
       "        </tr>\n",
       "        <tr>\n",
       "            <td>6/1/15</td> <td>273          </td> <td>SEA        </td> <td>-6   </td>\n",
       "        </tr>\n",
       "        <tr>\n",
       "            <td>6/1/15</td> <td>278          </td> <td>SEA        </td> <td>-8   </td>\n",
       "        </tr>\n",
       "        <tr>\n",
       "            <td>6/1/15</td> <td>292          </td> <td>EWR        </td> <td>12   </td>\n",
       "        </tr>\n",
       "        <tr>\n",
       "            <td>6/1/15</td> <td>300          </td> <td>HNL        </td> <td>20   </td>\n",
       "        </tr>\n",
       "        <tr>\n",
       "            <td>6/1/15</td> <td>317          </td> <td>IND        </td> <td>-10  </td>\n",
       "        </tr>\n",
       "    </tbody>\n",
       "</table>\n",
       "<p>... (13815 rows omitted)</p>"
      ],
      "text/plain": [
       "Date   | Flight Number | Destination | Delay\n",
       "6/1/15 | 73            | HNL         | 257\n",
       "6/1/15 | 217           | EWR         | 28\n",
       "6/1/15 | 237           | STL         | -3\n",
       "6/1/15 | 250           | SAN         | 0\n",
       "6/1/15 | 267           | PHL         | 64\n",
       "6/1/15 | 273           | SEA         | -6\n",
       "6/1/15 | 278           | SEA         | -8\n",
       "6/1/15 | 292           | EWR         | 12\n",
       "6/1/15 | 300           | HNL         | 20\n",
       "6/1/15 | 317           | IND         | -10\n",
       "... (13815 rows omitted)"
      ]
     },
     "execution_count": 2,
     "metadata": {},
     "output_type": "execute_result"
    }
   ],
   "source": [
    "united = Table.read_table('united.csv')\n",
    "united"
   ]
  },
  {
   "cell_type": "markdown",
   "metadata": {},
   "source": [
    "**Question:** Using the bootstrapping simulation methods from class, construct a 90% confidence interval to determine the proportion of flights (at the time that the `united` data was sampled) that either left on time(`Delay = 0`) or left earlier than the scheduled time(`Delay < 0`) because all passengers were already on board. \n",
    "\n",
    "In addition to the bootstrapping simulation, include a plot of the simulated data and a line representing the 90% confidence interval. \n",
    "\n",
    "*Note: To receive credit for this question, you must use the bootstrapping simulation methods as performed in class. While there may be other methods to simulate or construct this confidence interval, you are being tested on showing that you can perform this specific method.*"
   ]
  },
  {
   "cell_type": "code",
   "execution_count": 41,
   "metadata": {},
   "outputs": [
    {
     "data": {
      "text/plain": [
       "0.4290777576853526"
      ]
     },
     "execution_count": 41,
     "metadata": {},
     "output_type": "execute_result"
    }
   ],
   "source": [
    "# Find a population proportion as at the time the data was collected.\n",
    "\n",
    "pop_prop_on_time = united.where('Delay', are.below_or_equal_to(0)).num_rows / united.num_rows\n",
    "pop_prop_on_time"
   ]
  },
  {
   "cell_type": "code",
   "execution_count": 42,
   "metadata": {},
   "outputs": [
    {
     "data": {
      "text/plain": [
       "(0.4290777576853526, 0.485)"
      ]
     },
     "execution_count": 42,
     "metadata": {},
     "output_type": "execute_result"
    }
   ],
   "source": [
    "our_sample = united.sample(200, with_replacement=False)\n",
    "our_sample_prop = our_sample.where('Delay', are.below_or_equal_to(0)).num_rows / our_sample.num_rows\n",
    "\n",
    "pop_prop_on_time, our_sample_prop"
   ]
  },
  {
   "cell_type": "code",
   "execution_count": 43,
   "metadata": {},
   "outputs": [],
   "source": [
    "# Define a function that pulls takes a bootstrap sample of the original sample\n",
    "# And return the median delay time of the bootstrap sample\n",
    "\n",
    "def one_bootstrap_prop():\n",
    "    one_bootstrap_sample = our_sample.sample()\n",
    "    return one_bootstrap_sample.where('Delay', are.below_or_equal_to(0)).num_rows / one_bootstrap_sample.num_rows"
   ]
  },
  {
   "cell_type": "code",
   "execution_count": 44,
   "metadata": {},
   "outputs": [
    {
     "data": {
      "text/plain": [
       "0.455"
      ]
     },
     "execution_count": 44,
     "metadata": {},
     "output_type": "execute_result"
    }
   ],
   "source": [
    "one_bootstrap_prop()"
   ]
  },
  {
   "cell_type": "code",
   "execution_count": 45,
   "metadata": {},
   "outputs": [],
   "source": [
    "# Generate the Bootstrap Empirical Distribution of 1000 Sample Proportions\n",
    "\n",
    "bootstrap_props = make_array()\n",
    "\n",
    "for i in np.arange(1_000):\n",
    "    new_prop = one_bootstrap_prop()\n",
    "    bootstrap_props = np.append(bootstrap_props, new_prop)"
   ]
  },
  {
   "cell_type": "code",
   "execution_count": 46,
   "metadata": {},
   "outputs": [
    {
     "data": {
      "text/plain": [
       "(0.42999999999999999, 0.54500000000000004)"
      ]
     },
     "execution_count": 46,
     "metadata": {},
     "output_type": "execute_result"
    }
   ],
   "source": [
    "left_90 = percentile(5, bootstrap_props)\n",
    "right_90 = percentile(95, bootstrap_props)\n",
    "\n",
    "left_90, right_90"
   ]
  },
  {
   "cell_type": "code",
   "execution_count": 50,
   "metadata": {},
   "outputs": [
    {
     "data": {
      "image/png": "[encoded data removed]",
      "text/plain": [
       "<Figure size 432x288 with 1 Axes>"
      ]
     },
     "metadata": {},
     "output_type": "display_data"
    }
   ],
   "source": [
    "# Visualize the Bootstrap Empirical Distribution of Sample proportions\n",
    "# Superimpose the population and sample values, as well as the left and right end-points of the 90% confidence interval.\n",
    "\n",
    "Table().with_column(\n",
    "    'Bootstrap Proportions', bootstrap_props\n",
    ").hist('Bootstrap Proportions', bins = 10)\n",
    "\n",
    "plots.plot([left_90, right_90], [0,0], color=\"gold\",lw=10);\n",
    "plots.plot([pop_prop_on_time, pop_prop_on_time], [0,11], color=\"red\", lw=2);\n",
    "plots.plot([our_sample_prop, our_sample_prop], [0,11], color=\"blue\", lw=2);"
   ]
  },
  {
   "cell_type": "markdown",
   "metadata": {},
   "source": [
    "Based on the data sampled an the simulations conducted, we can be 90% confident that the true but unknown proportion of flights that left early or on time lies between the two values obtained above."
   ]
  },
  {
   "cell_type": "markdown",
   "metadata": {},
   "source": [
    "# Summary of steps taken above to compute ONE confidence interval for an \"UNKNOWN\" population median.\n",
    "\n",
    "\n",
    "- Step #1: Draw a large random sample from the population(You might be asked to use the entire data set provided to you as the original sample too).\n",
    "- Step #2: Take bootstrap (re)samples of the large random sample in step #1 and compute the bootstrap sample medians.\n",
    "- Step #3: Pick off the “middle 95%” interval of all the estimates(by using the percentile function to choose the left and right end-points)"
   ]
  },
  {
   "cell_type": "markdown",
   "metadata": {},
   "source": [
    "## Side Considerations: What Confidence Level should I choose?"
   ]
  },
  {
   "cell_type": "code",
   "execution_count": 47,
   "metadata": {},
   "outputs": [
    {
     "data": {
      "text/plain": [
       "(0.41499999999999998, 0.55500000000000005)"
      ]
     },
     "execution_count": 47,
     "metadata": {},
     "output_type": "execute_result"
    }
   ],
   "source": [
    "left_95 = percentile(2.5, bootstrap_props)\n",
    "right_95 = percentile(97.5, bootstrap_props)\n",
    "\n",
    "left_95, right_95"
   ]
  },
  {
   "cell_type": "markdown",
   "metadata": {},
   "source": [
    "# Precision Vs Certainty"
   ]
  },
  {
   "cell_type": "code",
   "execution_count": 48,
   "metadata": {},
   "outputs": [
    {
     "data": {
      "text/plain": [
       "(0.14000000000000007, 0.11500000000000005)"
      ]
     },
     "execution_count": 48,
     "metadata": {},
     "output_type": "execute_result"
    }
   ],
   "source": [
    "width_of_90_percent_CI = right_90 - left_90\n",
    "width_of_95_percent_CI = right_95 -  left_95\n",
    "\n",
    "width_of_95_percent_CI,  width_of_90_percent_CI"
   ]
  },
  {
   "cell_type": "code",
   "execution_count": 49,
   "metadata": {},
   "outputs": [
    {
     "data": {
      "text/plain": [
       "True"
      ]
     },
     "execution_count": 49,
     "metadata": {},
     "output_type": "execute_result"
    }
   ],
   "source": [
    "width_of_95_percent_CI > width_of_90_percent_CI"
   ]
  },
  {
   "cell_type": "markdown",
   "metadata": {},
   "source": [
    "## Interpreting Confidence Intervals: Simulation of Simulations ##\n",
    "\n",
    "What does the sub-topic above mean?"
   ]
  },
  {
   "cell_type": "code",
   "execution_count": 10,
   "metadata": {},
   "outputs": [],
   "source": [
    "def bootstrap_prop(original_sample, label, replications):\n",
    "    \"\"\"Returns an array of bootstrapped sample medians:\n",
    "    original_sample: table containing the original sample\n",
    "    label: label of column containing the variable\n",
    "    replications: number of bootstrap samples\n",
    "    \"\"\"\n",
    "    target_column = original_sample.select(label)\n",
    "    flight_props = make_array()\n",
    "    for i in np.arange(replications):\n",
    "        one_bootstrap_sample = target_column.sample()\n",
    "        resampled_prop = one_bootstrap_sample.where(label, are.below_or_equal_to(0)).num_rows / one_bootstrap_sample.num_rows \n",
    "        flight_props = np.append(flight_props, resampled_prop)\n",
    "        \n",
    "    return flight_props"
   ]
  },
  {
   "cell_type": "code",
   "execution_count": 11,
   "metadata": {},
   "outputs": [],
   "source": [
    "all_delays = united.select('Delay')\n",
    "\n",
    "left_ends = make_array()\n",
    "right_ends = make_array()\n",
    "\n",
    "# Generate 100 intervals, in the table intervals\n",
    "\n",
    "for i in np.arange(100):\n",
    "    one_b_sample = all_delays.sample(200, with_replacement=False)\n",
    "    proportions = bootstrap_prop(one_b_sample, 'Delay', 1000)\n",
    "    left_ends = np.append(left_ends, percentile(5, proportions))\n",
    "    right_ends = np.append(right_ends, percentile(95, proportions))\n",
    "\n",
    "intervals = Table().with_columns(\n",
    "    'Left', left_ends,\n",
    "    'Right', right_ends\n",
    ")   "
   ]
  },
  {
   "cell_type": "code",
   "execution_count": 12,
   "metadata": {},
   "outputs": [
    {
     "data": {
      "text/html": [
       "<table border=\"1\" class=\"dataframe\">\n",
       "    <thead>\n",
       "        <tr>\n",
       "            <th>Left</th> <th>Right</th>\n",
       "        </tr>\n",
       "    </thead>\n",
       "    <tbody>\n",
       "        <tr>\n",
       "            <td>0.385</td> <td>0.505</td>\n",
       "        </tr>\n",
       "        <tr>\n",
       "            <td>0.34 </td> <td>0.46 </td>\n",
       "        </tr>\n",
       "        <tr>\n",
       "            <td>0.36 </td> <td>0.475</td>\n",
       "        </tr>\n",
       "        <tr>\n",
       "            <td>0.375</td> <td>0.49 </td>\n",
       "        </tr>\n",
       "        <tr>\n",
       "            <td>0.395</td> <td>0.515</td>\n",
       "        </tr>\n",
       "        <tr>\n",
       "            <td>0.355</td> <td>0.465</td>\n",
       "        </tr>\n",
       "        <tr>\n",
       "            <td>0.36 </td> <td>0.48 </td>\n",
       "        </tr>\n",
       "        <tr>\n",
       "            <td>0.36 </td> <td>0.48 </td>\n",
       "        </tr>\n",
       "        <tr>\n",
       "            <td>0.425</td> <td>0.545</td>\n",
       "        </tr>\n",
       "        <tr>\n",
       "            <td>0.38 </td> <td>0.5  </td>\n",
       "        </tr>\n",
       "    </tbody>\n",
       "</table>\n",
       "<p>... (90 rows omitted)</p>"
      ],
      "text/plain": [
       "Left  | Right\n",
       "0.385 | 0.505\n",
       "0.34  | 0.46\n",
       "0.36  | 0.475\n",
       "0.375 | 0.49\n",
       "0.395 | 0.515\n",
       "0.355 | 0.465\n",
       "0.36  | 0.48\n",
       "0.36  | 0.48\n",
       "0.425 | 0.545\n",
       "0.38  | 0.5\n",
       "... (90 rows omitted)"
      ]
     },
     "execution_count": 12,
     "metadata": {},
     "output_type": "execute_result"
    }
   ],
   "source": [
    "intervals"
   ]
  },
  {
   "cell_type": "code",
   "execution_count": 13,
   "metadata": {},
   "outputs": [
    {
     "data": {
      "text/html": [
       "<table border=\"1\" class=\"dataframe\">\n",
       "    <thead>\n",
       "        <tr>\n",
       "            <th>1</th> <th>2</th> <th>3</th> <th>4</th> <th>5</th> <th>6</th> <th>7</th> <th>8</th> <th>9</th> <th>10</th> <th>11</th> <th>12</th> <th>13</th> <th>14</th> <th>15</th> <th>16</th> <th>17</th> <th>18</th> <th>19</th> <th>20</th> <th>21</th> <th>22</th> <th>23</th> <th>24</th> <th>25</th> <th>26</th> <th>27</th> <th>28</th> <th>29</th> <th>30</th> <th>31</th> <th>32</th> <th>33</th> <th>34</th> <th>35</th> <th>36</th> <th>37</th> <th>38</th> <th>39</th> <th>40</th> <th>41</th> <th>42</th> <th>43</th> <th>44</th> <th>45</th> <th>46</th> <th>47</th> <th>48</th> <th>49</th> <th>50</th> <th>51</th> <th>52</th> <th>53</th> <th>54</th> <th>55</th> <th>56</th> <th>57</th> <th>58</th> <th>59</th> <th>60</th> <th>61</th> <th>62</th> <th>63</th> <th>64</th> <th>65</th> <th>66</th> <th>67</th> <th>68</th> <th>69</th> <th>70</th> <th>71</th> <th>72</th> <th>73</th> <th>74</th> <th>75</th> <th>76</th> <th>77</th> <th>78</th> <th>79</th> <th>80</th> <th>81</th> <th>82</th> <th>83</th> <th>84</th> <th>85</th> <th>86</th> <th>87</th> <th>88</th> <th>89</th> <th>90</th> <th>91</th> <th>92</th> <th>93</th> <th>94</th> <th>95</th> <th>96</th> <th>97</th> <th>98</th> <th>99</th> <th>100</th>\n",
       "        </tr>\n",
       "    </thead>\n",
       "    <tbody>\n",
       "        <tr>\n",
       "            <td>0.385</td> <td>0.34</td> <td>0.36 </td> <td>0.375</td> <td>0.395</td> <td>0.355</td> <td>0.36</td> <td>0.36</td> <td>0.425</td> <td>0.38</td> <td>0.355</td> <td>0.375</td> <td>0.38</td> <td>0.365</td> <td>0.425</td> <td>0.405</td> <td>0.37 </td> <td>0.335</td> <td>0.44 </td> <td>0.33 </td> <td>0.36</td> <td>0.325</td> <td>0.345</td> <td>0.28 </td> <td>0.37</td> <td>0.42</td> <td>0.44 </td> <td>0.305</td> <td>0.345</td> <td>0.36</td> <td>0.355</td> <td>0.415</td> <td>0.37</td> <td>0.335</td> <td>0.325</td> <td>0.35</td> <td>0.37 </td> <td>0.38</td> <td>0.37</td> <td>0.385</td> <td>0.35</td> <td>0.38 </td> <td>0.39 </td> <td>0.39</td> <td>0.345</td> <td>0.36</td> <td>0.345</td> <td>0.385</td> <td>0.355</td> <td>0.395</td> <td>0.37</td> <td>0.335</td> <td>0.335</td> <td>0.365</td> <td>0.33</td> <td>0.305</td> <td>0.375</td> <td>0.335</td> <td>0.33</td> <td>0.35 </td> <td>0.38 </td> <td>0.375</td> <td>0.38</td> <td>0.34 </td> <td>0.395</td> <td>0.39 </td> <td>0.37</td> <td>0.34</td> <td>0.405</td> <td>0.395</td> <td>0.34</td> <td>0.365</td> <td>0.395</td> <td>0.415</td> <td>0.35</td> <td>0.36</td> <td>0.36 </td> <td>0.46</td> <td>0.38</td> <td>0.37</td> <td>0.355</td> <td>0.33 </td> <td>0.355</td> <td>0.345</td> <td>0.355</td> <td>0.38</td> <td>0.35</td> <td>0.335</td> <td>0.39 </td> <td>0.37</td> <td>0.39</td> <td>0.375</td> <td>0.375</td> <td>0.415</td> <td>0.36</td> <td>0.4  </td> <td>0.38 </td> <td>0.31</td> <td>0.415</td> <td>0.365</td>\n",
       "        </tr>\n",
       "        <tr>\n",
       "            <td>0.505</td> <td>0.46</td> <td>0.475</td> <td>0.49 </td> <td>0.515</td> <td>0.465</td> <td>0.48</td> <td>0.48</td> <td>0.545</td> <td>0.5 </td> <td>0.475</td> <td>0.49 </td> <td>0.5 </td> <td>0.475</td> <td>0.545</td> <td>0.525</td> <td>0.485</td> <td>0.445</td> <td>0.555</td> <td>0.445</td> <td>0.47</td> <td>0.435</td> <td>0.46 </td> <td>0.395</td> <td>0.48</td> <td>0.53</td> <td>0.555</td> <td>0.42 </td> <td>0.46 </td> <td>0.47</td> <td>0.465</td> <td>0.525</td> <td>0.48</td> <td>0.45 </td> <td>0.435</td> <td>0.46</td> <td>0.485</td> <td>0.5 </td> <td>0.49</td> <td>0.5  </td> <td>0.46</td> <td>0.495</td> <td>0.505</td> <td>0.5 </td> <td>0.46 </td> <td>0.47</td> <td>0.465</td> <td>0.5  </td> <td>0.47 </td> <td>0.51 </td> <td>0.48</td> <td>0.45 </td> <td>0.445</td> <td>0.48 </td> <td>0.44</td> <td>0.42 </td> <td>0.485</td> <td>0.45 </td> <td>0.44</td> <td>0.465</td> <td>0.495</td> <td>0.495</td> <td>0.5 </td> <td>0.455</td> <td>0.51 </td> <td>0.505</td> <td>0.48</td> <td>0.46</td> <td>0.525</td> <td>0.515</td> <td>0.45</td> <td>0.48 </td> <td>0.515</td> <td>0.52 </td> <td>0.46</td> <td>0.48</td> <td>0.475</td> <td>0.58</td> <td>0.5 </td> <td>0.48</td> <td>0.475</td> <td>0.445</td> <td>0.47 </td> <td>0.465</td> <td>0.475</td> <td>0.49</td> <td>0.46</td> <td>0.445</td> <td>0.505</td> <td>0.49</td> <td>0.5 </td> <td>0.495</td> <td>0.495</td> <td>0.53 </td> <td>0.47</td> <td>0.515</td> <td>0.495</td> <td>0.42</td> <td>0.53 </td> <td>0.475</td>\n",
       "        </tr>\n",
       "    </tbody>\n",
       "</table>"
      ],
      "text/plain": [
       "1     | 2    | 3     | 4     | 5     | 6     | 7    | 8    | 9     | 10   | 11    | 12    | 13   | 14    | 15    | 16    | 17    | 18    | 19    | 20    | 21   | 22    | 23    | 24    | 25   | 26   | 27    | 28    | 29    | 30   | 31    | 32    | 33   | 34    | 35    | 36   | 37    | 38   | 39   | 40    | 41   | 42    | 43    | 44   | 45    | 46   | 47    | 48    | 49    | 50    | 51   | 52    | 53    | 54    | 55   | 56    | 57    | 58    | 59   | 60    | 61    | 62    | 63   | 64    | 65    | 66    | 67   | 68   | 69    | 70    | 71   | 72    | 73    | 74    | 75   | 76   | 77    | 78   | 79   | 80   | 81    | 82    | 83    | 84    | 85    | 86   | 87   | 88    | 89    | 90   | 91   | 92    | 93    | 94    | 95   | 96    | 97    | 98   | 99    | 100\n",
       "0.385 | 0.34 | 0.36  | 0.375 | 0.395 | 0.355 | 0.36 | 0.36 | 0.425 | 0.38 | 0.355 | 0.375 | 0.38 | 0.365 | 0.425 | 0.405 | 0.37  | 0.335 | 0.44  | 0.33  | 0.36 | 0.325 | 0.345 | 0.28  | 0.37 | 0.42 | 0.44  | 0.305 | 0.345 | 0.36 | 0.355 | 0.415 | 0.37 | 0.335 | 0.325 | 0.35 | 0.37  | 0.38 | 0.37 | 0.385 | 0.35 | 0.38  | 0.39  | 0.39 | 0.345 | 0.36 | 0.345 | 0.385 | 0.355 | 0.395 | 0.37 | 0.335 | 0.335 | 0.365 | 0.33 | 0.305 | 0.375 | 0.335 | 0.33 | 0.35  | 0.38  | 0.375 | 0.38 | 0.34  | 0.395 | 0.39  | 0.37 | 0.34 | 0.405 | 0.395 | 0.34 | 0.365 | 0.395 | 0.415 | 0.35 | 0.36 | 0.36  | 0.46 | 0.38 | 0.37 | 0.355 | 0.33  | 0.355 | 0.345 | 0.355 | 0.38 | 0.35 | 0.335 | 0.39  | 0.37 | 0.39 | 0.375 | 0.375 | 0.415 | 0.36 | 0.4   | 0.38  | 0.31 | 0.415 | 0.365\n",
       "0.505 | 0.46 | 0.475 | 0.49  | 0.515 | 0.465 | 0.48 | 0.48 | 0.545 | 0.5  | 0.475 | 0.49  | 0.5  | 0.475 | 0.545 | 0.525 | 0.485 | 0.445 | 0.555 | 0.445 | 0.47 | 0.435 | 0.46  | 0.395 | 0.48 | 0.53 | 0.555 | 0.42  | 0.46  | 0.47 | 0.465 | 0.525 | 0.48 | 0.45  | 0.435 | 0.46 | 0.485 | 0.5  | 0.49 | 0.5   | 0.46 | 0.495 | 0.505 | 0.5  | 0.46  | 0.47 | 0.465 | 0.5   | 0.47  | 0.51  | 0.48 | 0.45  | 0.445 | 0.48  | 0.44 | 0.42  | 0.485 | 0.45  | 0.44 | 0.465 | 0.495 | 0.495 | 0.5  | 0.455 | 0.51  | 0.505 | 0.48 | 0.46 | 0.525 | 0.515 | 0.45 | 0.48  | 0.515 | 0.52  | 0.46 | 0.48 | 0.475 | 0.58 | 0.5  | 0.48 | 0.475 | 0.445 | 0.47  | 0.465 | 0.475 | 0.49 | 0.46 | 0.445 | 0.505 | 0.49 | 0.5  | 0.495 | 0.495 | 0.53  | 0.47 | 0.515 | 0.495 | 0.42 | 0.53  | 0.475"
      ]
     },
     "execution_count": 13,
     "metadata": {},
     "output_type": "execute_result"
    }
   ],
   "source": [
    "# transposes table and labels columns by replication\n",
    "replication_number = np.ndarray.astype(np.arange(1, 101), str)\n",
    "intervals2 = Table(replication_number).with_rows(make_array(left_ends, right_ends))\n",
    "intervals2 "
   ]
  },
  {
   "cell_type": "code",
   "execution_count": 14,
   "metadata": {
    "tags": []
   },
   "outputs": [
    {
     "data": {
      "image/png": "[encoded data removed]",
      "text/plain": [
       "<Figure size 576x576 with 1 Axes>"
      ]
     },
     "metadata": {},
     "output_type": "display_data"
    }
   ],
   "source": [
    "# makes the the plot bigger\n",
    "plots.figure(figsize=(8,8))\n",
    "\n",
    "#plot 100 intervals on one plot\n",
    "for i in np.arange(100):\n",
    "    ends = intervals2.column(i)\n",
    "    plots.plot(ends, make_array(i+1, i+1), color='gold', lw=2, zorder=2)\n",
    "    \n",
    "plots.plot([pop_prop_on_time, pop_prop_on_time], make_array(0, 100), color='red', lw=5, zorder=1)\n",
    "plots.xlabel('Median (minutes)')\n",
    "plots.ylabel('Replication')\n",
    "plots.title('Population Median and Intervals of Estimates');"
   ]
  },
  {
   "cell_type": "markdown",
   "metadata": {},
   "source": [
    "# Communicating your findings correctly:\n",
    "\n",
    "About $90 \\%$ of all random samples, eash of size 200 flights, would result in a $90 \\%$ confidence interval that contained the population percentage/proportion of flights that were not delayed past the scheduled time of flight. "
   ]
  },
  {
   "cell_type": "markdown",
   "metadata": {},
   "source": [
    "# Take-Home Example: Confidence Intervals  based on Bootstrap Resamples"
   ]
  },
  {
   "cell_type": "markdown",
   "metadata": {},
   "source": [
    "## Another Example: Estimating the Mean Maternal Age\n",
    "\n",
    "**Question:** Using the bootstrapping simulation methods from class, construct a 95% confidence interval to determine the mean maternal age(as of the time when the `births` data was sampled).\n",
    "\n",
    "In addition to the bootstrapping simulation, include a plot of the simulated data and a line representing the 95% confidence interval. \n",
    "\n",
    "*Note: To receive credit for this question, you must use the bootstrapping simulation methods as performed in class. While there may be other methods to simulate or construct this confidence interval, you are being tested on showing that you can perform this specific method.*"
   ]
  },
  {
   "cell_type": "code",
   "execution_count": 51,
   "metadata": {},
   "outputs": [
    {
     "data": {
      "text/html": [
       "<table border=\"1\" class=\"dataframe\">\n",
       "    <thead>\n",
       "        <tr>\n",
       "            <th>Birth Weight</th> <th>Gestational Days</th> <th>Maternal Age</th> <th>Maternal Height</th> <th>Maternal Pregnancy Weight</th> <th>Maternal Smoker</th>\n",
       "        </tr>\n",
       "    </thead>\n",
       "    <tbody>\n",
       "        <tr>\n",
       "            <td>120         </td> <td>284             </td> <td>27          </td> <td>62             </td> <td>100                      </td> <td>False          </td>\n",
       "        </tr>\n",
       "        <tr>\n",
       "            <td>113         </td> <td>282             </td> <td>33          </td> <td>64             </td> <td>135                      </td> <td>False          </td>\n",
       "        </tr>\n",
       "        <tr>\n",
       "            <td>128         </td> <td>279             </td> <td>28          </td> <td>64             </td> <td>115                      </td> <td>True           </td>\n",
       "        </tr>\n",
       "        <tr>\n",
       "            <td>108         </td> <td>282             </td> <td>23          </td> <td>67             </td> <td>125                      </td> <td>True           </td>\n",
       "        </tr>\n",
       "        <tr>\n",
       "            <td>136         </td> <td>286             </td> <td>25          </td> <td>62             </td> <td>93                       </td> <td>False          </td>\n",
       "        </tr>\n",
       "        <tr>\n",
       "            <td>138         </td> <td>244             </td> <td>33          </td> <td>62             </td> <td>178                      </td> <td>False          </td>\n",
       "        </tr>\n",
       "        <tr>\n",
       "            <td>132         </td> <td>245             </td> <td>23          </td> <td>65             </td> <td>140                      </td> <td>False          </td>\n",
       "        </tr>\n",
       "        <tr>\n",
       "            <td>120         </td> <td>289             </td> <td>25          </td> <td>62             </td> <td>125                      </td> <td>False          </td>\n",
       "        </tr>\n",
       "        <tr>\n",
       "            <td>143         </td> <td>299             </td> <td>30          </td> <td>66             </td> <td>136                      </td> <td>True           </td>\n",
       "        </tr>\n",
       "        <tr>\n",
       "            <td>140         </td> <td>351             </td> <td>27          </td> <td>68             </td> <td>120                      </td> <td>False          </td>\n",
       "        </tr>\n",
       "    </tbody>\n",
       "</table>\n",
       "<p>... (1164 rows omitted)</p>"
      ],
      "text/plain": [
       "Birth Weight | Gestational Days | Maternal Age | Maternal Height | Maternal Pregnancy Weight | Maternal Smoker\n",
       "120          | 284              | 27           | 62              | 100                       | False\n",
       "113          | 282              | 33           | 64              | 135                       | False\n",
       "128          | 279              | 28           | 64              | 115                       | True\n",
       "108          | 282              | 23           | 67              | 125                       | True\n",
       "136          | 286              | 25           | 62              | 93                        | False\n",
       "138          | 244              | 33           | 62              | 178                       | False\n",
       "132          | 245              | 23           | 65              | 140                       | False\n",
       "120          | 289              | 25           | 62              | 125                       | False\n",
       "143          | 299              | 30           | 66              | 136                       | True\n",
       "140          | 351              | 27           | 68              | 120                       | False\n",
       "... (1164 rows omitted)"
      ]
     },
     "execution_count": 51,
     "metadata": {},
     "output_type": "execute_result"
    }
   ],
   "source": [
    "# This time we have a sample, but no population data!\n",
    "births = Table.read_table('baby.csv')\n",
    "births"
   ]
  },
  {
   "cell_type": "code",
   "execution_count": 52,
   "metadata": {},
   "outputs": [
    {
     "data": {
      "image/png": "[encoded data removed]",
      "text/plain": [
       "<Figure size 432x288 with 1 Axes>"
      ]
     },
     "metadata": {},
     "output_type": "display_data"
    }
   ],
   "source": [
    "# sample distribution\n",
    "\n",
    "births.hist('Maternal Age')"
   ]
  },
  {
   "cell_type": "code",
   "execution_count": 53,
   "metadata": {},
   "outputs": [
    {
     "data": {
      "text/plain": [
       "27.228279386712096"
      ]
     },
     "execution_count": 53,
     "metadata": {},
     "output_type": "execute_result"
    }
   ],
   "source": [
    "# sample mean maternal age\n",
    "\n",
    "mean_age = np.mean(births.column('Maternal Age'))\n",
    "mean_age"
   ]
  },
  {
   "cell_type": "code",
   "execution_count": 54,
   "metadata": {},
   "outputs": [],
   "source": [
    "# samples with replacement from our sample\n",
    "# returns the mean maternal age of this bootstrap sample\n",
    "\n",
    "def one_bootstrap_mean():\n",
    "    return np.mean(births.sample().column('Maternal Age'))"
   ]
  },
  {
   "cell_type": "code",
   "execution_count": 55,
   "metadata": {},
   "outputs": [],
   "source": [
    "bootstrap_means = make_array()\n",
    "\n",
    "for i in np.arange(1000):\n",
    "    new_mean = one_bootstrap_mean()\n",
    "    bootstrap_means = np.append(bootstrap_means, new_mean)\n",
    "\n",
    "# Determine the bounds for the middle 95% of bootstrap sample mean maternal ages\n",
    "    \n",
    "left = percentile(2.5, bootstrap_means)\n",
    "right = percentile(97.5, bootstrap_means)"
   ]
  },
  {
   "cell_type": "code",
   "execution_count": 56,
   "metadata": {},
   "outputs": [
    {
     "name": "stdout",
     "output_type": "stream",
     "text": [
      "We have 95% confidence that the mean maternal age is in the interval from 26.902 to 27.548 years old.\n"
     ]
    },
    {
     "data": {
      "image/png": "[encoded data removed]",
      "text/plain": [
       "<Figure size 432x288 with 1 Axes>"
      ]
     },
     "metadata": {},
     "output_type": "display_data"
    }
   ],
   "source": [
    "Table().with_column('Bootstrap means', bootstrap_means).hist()\n",
    "\n",
    "plots.plot([left,right], [0,0], color=\"gold\", lw=10, zorder=1);\n",
    "plots.plot([mean_age,mean_age], [0,2.5], color=\"blue\", lw=3, zorder=1);\n",
    "plots.title('Bootstrap Means (1K Bootstraps from our Sample)');\n",
    "\n",
    "print(\"We have 95% confidence that the mean maternal age is in the interval from\", \n",
    "      np.round(left, 3),\n",
    "      \"to\",\n",
    "      np.round(right, 3),\n",
    "      'years old.'\n",
    "     )"
   ]
  },
  {
   "cell_type": "code",
   "execution_count": 57,
   "metadata": {},
   "outputs": [],
   "source": [
    "def bootstrap_mean(original_sample, label, replications):\n",
    "    \"\"\"Returns an array of bootstrapped sample medians:\n",
    "    original_sample: table containing the original sample\n",
    "    label: label of column containing the variable\n",
    "    replications: number of bootstrap samples\n",
    "    \"\"\"\n",
    "    target_column = original_sample.select(label)\n",
    "    means = make_array()\n",
    "    for i in np.arange(replications):\n",
    "        bootstrap_sample = target_column.sample()\n",
    "        resampled_mean = np.mean(bootstrap_sample.column(label)) \n",
    "        means = np.append(means, resampled_mean)\n",
    "        \n",
    "    return means"
   ]
  },
  {
   "cell_type": "code",
   "execution_count": 58,
   "metadata": {},
   "outputs": [],
   "source": [
    "all_ages = births.select('Maternal Age')\n",
    "\n",
    "# Generate 100 intervals, in the table intervals\n",
    "age_left_ends = make_array()\n",
    "age_right_ends = make_array()\n",
    "\n",
    "for i in np.arange(100):\n",
    "    age_sample = all_ages.sample(100, with_replacement=False)\n",
    "    bootstrap_sample_mean = bootstrap_mean(age_sample, 'Maternal Age', 1000)\n",
    "    age_left_ends = np.append(age_left_ends, percentile(2.5, bootstrap_sample_mean))\n",
    "    age_right_ends = np.append(age_right_ends, percentile(97.5, bootstrap_sample_mean))\n",
    "\n",
    "intervals = Table().with_columns(\n",
    "    'Left', age_left_ends,\n",
    "    'Right', age_right_ends\n",
    ")   "
   ]
  },
  {
   "cell_type": "code",
   "execution_count": 59,
   "metadata": {},
   "outputs": [
    {
     "data": {
      "text/html": [
       "<table border=\"1\" class=\"dataframe\">\n",
       "    <thead>\n",
       "        <tr>\n",
       "            <th>1</th> <th>2</th> <th>3</th> <th>4</th> <th>5</th> <th>6</th> <th>7</th> <th>8</th> <th>9</th> <th>10</th> <th>11</th> <th>12</th> <th>13</th> <th>14</th> <th>15</th> <th>16</th> <th>17</th> <th>18</th> <th>19</th> <th>20</th> <th>21</th> <th>22</th> <th>23</th> <th>24</th> <th>25</th> <th>26</th> <th>27</th> <th>28</th> <th>29</th> <th>30</th> <th>31</th> <th>32</th> <th>33</th> <th>34</th> <th>35</th> <th>36</th> <th>37</th> <th>38</th> <th>39</th> <th>40</th> <th>41</th> <th>42</th> <th>43</th> <th>44</th> <th>45</th> <th>46</th> <th>47</th> <th>48</th> <th>49</th> <th>50</th> <th>51</th> <th>52</th> <th>53</th> <th>54</th> <th>55</th> <th>56</th> <th>57</th> <th>58</th> <th>59</th> <th>60</th> <th>61</th> <th>62</th> <th>63</th> <th>64</th> <th>65</th> <th>66</th> <th>67</th> <th>68</th> <th>69</th> <th>70</th> <th>71</th> <th>72</th> <th>73</th> <th>74</th> <th>75</th> <th>76</th> <th>77</th> <th>78</th> <th>79</th> <th>80</th> <th>81</th> <th>82</th> <th>83</th> <th>84</th> <th>85</th> <th>86</th> <th>87</th> <th>88</th> <th>89</th> <th>90</th> <th>91</th> <th>92</th> <th>93</th> <th>94</th> <th>95</th> <th>96</th> <th>97</th> <th>98</th> <th>99</th> <th>100</th>\n",
       "        </tr>\n",
       "    </thead>\n",
       "    <tbody>\n",
       "        <tr>\n",
       "            <td>26.45</td> <td>26.1</td> <td>26.29</td> <td>26.18</td> <td>25.59</td> <td>26.05</td> <td>25.42</td> <td>26.35</td> <td>26.74</td> <td>25.99</td> <td>25.85</td> <td>25.67</td> <td>26.09</td> <td>26.38</td> <td>26.4 </td> <td>25.76</td> <td>26.34</td> <td>26.08</td> <td>26.06</td> <td>25.21</td> <td>26.9</td> <td>25.22</td> <td>25.79</td> <td>26.06</td> <td>26.05</td> <td>26.19</td> <td>26.53</td> <td>26.63</td> <td>26.45</td> <td>26.31</td> <td>26.57</td> <td>25.18</td> <td>26.59</td> <td>25.94</td> <td>25.84</td> <td>26.55</td> <td>26.99</td> <td>26.31</td> <td>26.48</td> <td>26.59</td> <td>25.79</td> <td>26.06</td> <td>26.3 </td> <td>25.32</td> <td>26.1</td> <td>26.28</td> <td>25.54</td> <td>25.24</td> <td>25.69</td> <td>25.55</td> <td>25.47</td> <td>25.39</td> <td>25.6 </td> <td>25.73</td> <td>26.19</td> <td>26.22</td> <td>26.21</td> <td>26.16</td> <td>25.83</td> <td>25.74</td> <td>26.31</td> <td>26.49</td> <td>25.49</td> <td>26.5 </td> <td>26.28</td> <td>26.06</td> <td>25.92</td> <td>26.27</td> <td>26.42</td> <td>26.1 </td> <td>24.9</td> <td>26.45</td> <td>26.27</td> <td>26.16</td> <td>25.79</td> <td>24.97</td> <td>26.75</td> <td>26.46</td> <td>25.62</td> <td>25.59</td> <td>26.26</td> <td>26.56</td> <td>25.94</td> <td>25.83</td> <td>25.79</td> <td>26.94</td> <td>26.22</td> <td>25.19</td> <td>26.89</td> <td>26.3 </td> <td>25.91</td> <td>26.71</td> <td>25.78</td> <td>25.18</td> <td>26.34</td> <td>26.26</td> <td>26.46</td> <td>25.36</td> <td>25.62</td> <td>26.77</td>\n",
       "        </tr>\n",
       "        <tr>\n",
       "            <td>28.85</td> <td>28.4</td> <td>28.74</td> <td>28.37</td> <td>27.98</td> <td>28.7 </td> <td>27.74</td> <td>28.68</td> <td>29.14</td> <td>28.3 </td> <td>28.18</td> <td>27.89</td> <td>28.15</td> <td>28.56</td> <td>28.73</td> <td>27.87</td> <td>28.37</td> <td>28.41</td> <td>28.4 </td> <td>27.56</td> <td>29.4</td> <td>27.49</td> <td>28.07</td> <td>28.43</td> <td>28.13</td> <td>28.27</td> <td>28.87</td> <td>28.91</td> <td>28.68</td> <td>28.77</td> <td>28.72</td> <td>27.29</td> <td>29.14</td> <td>28.35</td> <td>28.16</td> <td>29.27</td> <td>29.36</td> <td>28.39</td> <td>28.8 </td> <td>28.82</td> <td>27.9 </td> <td>28.16</td> <td>28.62</td> <td>27.57</td> <td>28.3</td> <td>28.33</td> <td>27.56</td> <td>27.38</td> <td>27.69</td> <td>27.85</td> <td>27.76</td> <td>27.38</td> <td>28.13</td> <td>27.74</td> <td>28.49</td> <td>28.65</td> <td>28.64</td> <td>28.63</td> <td>28.05</td> <td>28.25</td> <td>28.74</td> <td>28.94</td> <td>27.75</td> <td>28.79</td> <td>28.95</td> <td>28.29</td> <td>28.17</td> <td>28.52</td> <td>28.9 </td> <td>28.34</td> <td>27  </td> <td>28.61</td> <td>28.46</td> <td>28.29</td> <td>28.04</td> <td>27.4 </td> <td>29.27</td> <td>28.94</td> <td>27.92</td> <td>27.62</td> <td>28.36</td> <td>28.87</td> <td>28.2 </td> <td>28.32</td> <td>28.18</td> <td>29.18</td> <td>28.48</td> <td>27.33</td> <td>29.36</td> <td>28.66</td> <td>28.42</td> <td>28.74</td> <td>28.19</td> <td>27.26</td> <td>28.83</td> <td>28.5 </td> <td>28.74</td> <td>27.58</td> <td>27.67</td> <td>29.22</td>\n",
       "        </tr>\n",
       "    </tbody>\n",
       "</table>"
      ],
      "text/plain": [
       "1     | 2    | 3     | 4     | 5     | 6     | 7     | 8     | 9     | 10    | 11    | 12    | 13    | 14    | 15    | 16    | 17    | 18    | 19    | 20    | 21   | 22    | 23    | 24    | 25    | 26    | 27    | 28    | 29    | 30    | 31    | 32    | 33    | 34    | 35    | 36    | 37    | 38    | 39    | 40    | 41    | 42    | 43    | 44    | 45   | 46    | 47    | 48    | 49    | 50    | 51    | 52    | 53    | 54    | 55    | 56    | 57    | 58    | 59    | 60    | 61    | 62    | 63    | 64    | 65    | 66    | 67    | 68    | 69    | 70    | 71   | 72    | 73    | 74    | 75    | 76    | 77    | 78    | 79    | 80    | 81    | 82    | 83    | 84    | 85    | 86    | 87    | 88    | 89    | 90    | 91    | 92    | 93    | 94    | 95    | 96    | 97    | 98    | 99    | 100\n",
       "26.45 | 26.1 | 26.29 | 26.18 | 25.59 | 26.05 | 25.42 | 26.35 | 26.74 | 25.99 | 25.85 | 25.67 | 26.09 | 26.38 | 26.4  | 25.76 | 26.34 | 26.08 | 26.06 | 25.21 | 26.9 | 25.22 | 25.79 | 26.06 | 26.05 | 26.19 | 26.53 | 26.63 | 26.45 | 26.31 | 26.57 | 25.18 | 26.59 | 25.94 | 25.84 | 26.55 | 26.99 | 26.31 | 26.48 | 26.59 | 25.79 | 26.06 | 26.3  | 25.32 | 26.1 | 26.28 | 25.54 | 25.24 | 25.69 | 25.55 | 25.47 | 25.39 | 25.6  | 25.73 | 26.19 | 26.22 | 26.21 | 26.16 | 25.83 | 25.74 | 26.31 | 26.49 | 25.49 | 26.5  | 26.28 | 26.06 | 25.92 | 26.27 | 26.42 | 26.1  | 24.9 | 26.45 | 26.27 | 26.16 | 25.79 | 24.97 | 26.75 | 26.46 | 25.62 | 25.59 | 26.26 | 26.56 | 25.94 | 25.83 | 25.79 | 26.94 | 26.22 | 25.19 | 26.89 | 26.3  | 25.91 | 26.71 | 25.78 | 25.18 | 26.34 | 26.26 | 26.46 | 25.36 | 25.62 | 26.77\n",
       "28.85 | 28.4 | 28.74 | 28.37 | 27.98 | 28.7  | 27.74 | 28.68 | 29.14 | 28.3  | 28.18 | 27.89 | 28.15 | 28.56 | 28.73 | 27.87 | 28.37 | 28.41 | 28.4  | 27.56 | 29.4 | 27.49 | 28.07 | 28.43 | 28.13 | 28.27 | 28.87 | 28.91 | 28.68 | 28.77 | 28.72 | 27.29 | 29.14 | 28.35 | 28.16 | 29.27 | 29.36 | 28.39 | 28.8  | 28.82 | 27.9  | 28.16 | 28.62 | 27.57 | 28.3 | 28.33 | 27.56 | 27.38 | 27.69 | 27.85 | 27.76 | 27.38 | 28.13 | 27.74 | 28.49 | 28.65 | 28.64 | 28.63 | 28.05 | 28.25 | 28.74 | 28.94 | 27.75 | 28.79 | 28.95 | 28.29 | 28.17 | 28.52 | 28.9  | 28.34 | 27   | 28.61 | 28.46 | 28.29 | 28.04 | 27.4  | 29.27 | 28.94 | 27.92 | 27.62 | 28.36 | 28.87 | 28.2  | 28.32 | 28.18 | 29.18 | 28.48 | 27.33 | 29.36 | 28.66 | 28.42 | 28.74 | 28.19 | 27.26 | 28.83 | 28.5  | 28.74 | 27.58 | 27.67 | 29.22"
      ]
     },
     "execution_count": 59,
     "metadata": {},
     "output_type": "execute_result"
    }
   ],
   "source": [
    "# transposes table and labels columns by replication\n",
    "replication_number = np.ndarray.astype(np.arange(1, 101), str)\n",
    "intervals_age = Table(replication_number).with_rows(make_array(age_left_ends, age_right_ends))\n",
    "intervals_age"
   ]
  },
  {
   "cell_type": "code",
   "execution_count": 60,
   "metadata": {
    "tags": []
   },
   "outputs": [
    {
     "data": {
      "image/png": "[encoded data removed]",
      "text/plain": [
       "<Figure size 576x576 with 1 Axes>"
      ]
     },
     "metadata": {},
     "output_type": "display_data"
    }
   ],
   "source": [
    "# makes the the plot bigger\n",
    "plots.figure(figsize=(8,8))\n",
    "\n",
    "#plot 100 intervals on one plot\n",
    "for i in np.arange(100):\n",
    "    ends = intervals_age.column(i)\n",
    "    plots.plot(ends, make_array(i+1, i+1), color='gold', lw=2, zorder=2)\n",
    "    \n",
    "plots.plot([mean_age, mean_age], make_array(0, 100), color='red', lw=5, zorder=1)\n",
    "plots.xlabel('Mean Age')\n",
    "plots.ylabel('Replication')\n",
    "plots.title('Intervals of Estimates of the Population Mean');"
   ]
  },
  {
   "cell_type": "code",
   "execution_count": null,
   "metadata": {},
   "outputs": [],
   "source": []
  },
  {
   "cell_type": "code",
   "execution_count": null,
   "metadata": {},
   "outputs": [],
   "source": []
  }
 ],
 "metadata": {
  "anaconda-cloud": {},
  "kernelspec": {
   "display_name": "Python 3 (ipykernel)",
   "language": "python",
   "name": "python3"
  },
  "language_info": {
   "codemirror_mode": {
    "name": "ipython",
    "version": 3
   },
   "file_extension": ".py",
   "mimetype": "text/x-python",
   "name": "python",
   "nbconvert_exporter": "python",
   "pygments_lexer": "ipython3",
   "version": "3.9.7"
  }
 },
 "nbformat": 4,
 "nbformat_minor": 4
}
