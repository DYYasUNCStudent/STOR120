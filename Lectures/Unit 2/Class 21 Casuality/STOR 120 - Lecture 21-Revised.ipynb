{
 "cells": [
  {
   "cell_type": "code",
   "execution_count": 23,
   "metadata": {},
   "outputs": [],
   "source": [
    "from datascience import *\n",
    "import numpy as np\n",
    "\n",
    "%matplotlib inline\n",
    "import matplotlib.pyplot as plots\n",
    "plots.style.use('fivethirtyeight')"
   ]
  },
  {
   "cell_type": "markdown",
   "metadata": {},
   "source": [
    "# Another example of A/B testing: Casuality"
   ]
  },
  {
   "cell_type": "markdown",
   "metadata": {},
   "source": [
    "### A reminder of the difference between `Experiments` and `Observational Studies`.\n",
    "\n",
    "**Example**\n",
    "\n",
    "Alejandro owns a restaurant where he sells pizza by the slice. He wonders if customers prefer their pepperoni on top of the cheese or under the cheese. Every day for a week, he prepares both types of pizza. \n",
    "\n",
    "Every time a customer orders a slice of pepperoni pizza, he flips a coin to determine whether he'll give the customer a slice with pepperoni on top or under the cheese.\n",
    "\n",
    "He then asked each customer to rate their pizza. At the end of the week, he found that customers who received pepperoni on top rated their pizza significantly better on average than customers who received pepperoni under the cheese.\n",
    "\n",
    "\n",
    "What conclusion can they draw from this study?\n",
    "\n",
    "    [a] Customer ratings caused the difference in pepperoni placement.\n",
    "\n",
    "    [b] Pepperoni placement caused the difference in customer ratings.\n",
    "\n",
    "    [c] Any customer would prefer pepperoni on top of the cheese.\n",
    "\n",
    "    [d] Any other pizza restaurant should put their pepperoni on top of the cheese.\n",
    "\n",
    "    [e] There was an association between pepperoni placement and customer rating, but it's not necessarily a causal relationship."
   ]
  },
  {
   "cell_type": "markdown",
   "metadata": {},
   "source": [
    "**The Take-Away**\n",
    "\n",
    "_Since the treatment and control groups are assigned randomly in such experiments, differences in their outcomes can be compared to what would happen just due to chance if the treatment had no effect at all._\n",
    "\n",
    "_If the observed differences are more marked than what we would predict as purely due to chance, we will have evidence of causation. Because of the unbiased assignment of individuals to the treatment and control groups, differences in the outcomes of the two groups can be ascribed to the treatment._"
   ]
  },
  {
   "cell_type": "markdown",
   "metadata": {},
   "source": [
    "## Observational Study\n",
    "\n",
    "**Example**\n",
    "\n",
    "A survey of over 7,000 randomly selected employees in 15 nations recently showed that employees who work in a digital workplace tended to be happier than those who don't work in a digital workplace.\n",
    "\n",
    "\n",
    "Can we conclude that working in a digital workplace caused employees to be happier? Why?\n",
    "\n",
    "    [a] Yes, because the sample size was large.\n",
    "\n",
    "    [b] Yes, because the employees were randomly selected.\n",
    "\n",
    "    [c] Yes, because the employees were randomly assigned.\n",
    "\n",
    "    [d] Not necessarily, because the sample size was too small.\n",
    "\n",
    "    [e] Not necessarily, because this wasn't an experiment."
   ]
  },
  {
   "cell_type": "markdown",
   "metadata": {},
   "source": [
    "**The Take-Away**\n",
    "\n",
    "_This was an observational study since employees were not randomly assigned to a workplace, so we can't say that working in a digital workplace necessarily caused the employees to be happier._\n",
    "\n",
    "_In general, observational studies can provide evidence of a naturally occurring association between variables, but they cannot by themselves show a causal connection._"
   ]
  },
  {
   "cell_type": "markdown",
   "metadata": {},
   "source": [
    "## Application of A/B TESTING to Randomized Controlled Experiments\n",
    "\n",
    "## Context of the data set\n",
    "\n",
    "Swimming with dolphins can certainly be fun, _but is it also therapeutic for patients suffering from clinical depression?_ \n",
    "\n",
    "**Experimental Design**\n",
    "\n",
    "To investigate this possibility, researchers recruited 30 subjects aged 18–65 with a clinical diagnosis of mild to moderate depression. Subjects were required to discontinue use of any antidepressant drugs or psychotherapy four weeks prior to the experiment, and throughout the experiment. These 30 subjects went to an island off the coast of Honduras, where they were randomly assigned to one of two treatment groups. \n",
    "\n",
    "\n",
    "\n",
    "Both groups engaged in the same amount of swimming and snorkeling each day, but one group did so in the presence of bottlenose dolphins(_Dolphin group_) and the other group did not(_No Dolphin group_). \n",
    "\n",
    "\n",
    "At the end of two weeks, each subjects’ level of depression was evaluated, as it had been at the beginning of the study, and it was determined whether they showed substantial improvement (reducing their level of depression) by the end of the study.\n"
   ]
  },
  {
   "cell_type": "markdown",
   "metadata": {
    "tags": []
   },
   "source": [
    "## Research Question\n",
    "\n",
    "Does this data support the claim that swimming with dolphins is therapeutic for patients suffering from clinical depression?"
   ]
  },
  {
   "cell_type": "markdown",
   "metadata": {},
   "source": [
    "### Dolphin Therapy\n",
    "\n",
    "- In the Dolphin Group:\n",
    "        10 of the 13 patients showed substantial improvement\n",
    "        \n",
    "- In the Control Group: \n",
    "        3 of the 12 patients showed substantial improvement\n",
    "        \n",
    "\n",
    "- 5 of the patients dropped off during the study.\n",
    "\n",
    "In our sample the difference(observed test statistic) between the groups was:\n",
    "\n",
    "$\\hat{p}=\\hat{p}_D-\\hat{p}_{N D}=\\frac{10}{13}-\\frac{3}{12} \\approx 0.52$\n",
    "\n",
    "**How different would the groups be by chance if the Dolphin Therapy had no influence over improvements in depression?**"
   ]
  },
  {
   "cell_type": "code",
   "execution_count": 24,
   "metadata": {},
   "outputs": [
    {
     "data": {
      "text/plain": [
       "array(['Dolphin', 'Dolphin', 'Dolphin', 'Dolphin', 'Dolphin', 'Dolphin',\n",
       "       'Dolphin', 'Dolphin', 'Dolphin', 'Dolphin', 'Dolphin', 'Dolphin',\n",
       "       'Dolphin', 'No Dolphin', 'No Dolphin', 'No Dolphin', 'No Dolphin',\n",
       "       'No Dolphin', 'No Dolphin', 'No Dolphin', 'No Dolphin',\n",
       "       'No Dolphin', 'No Dolphin', 'No Dolphin', 'No Dolphin'],\n",
       "      dtype='<U10')"
      ]
     },
     "execution_count": 24,
     "metadata": {},
     "output_type": "execute_result"
    }
   ],
   "source": [
    "# let us create the data set. We do not have the raw data set.\n",
    "# Create the Categorical variable(Therapy) for whether patient is in the \"Dolphin\" or \"No Dolphin\" group\n",
    "\n",
    "Therapy = np.append(\n",
    "    np.repeat('Dolphin', 13), \n",
    "    np.repeat('No Dolphin', 12)\n",
    ")\n",
    "\n",
    "Therapy"
   ]
  },
  {
   "cell_type": "code",
   "execution_count": 25,
   "metadata": {},
   "outputs": [
    {
     "data": {
      "text/plain": [
       "array([1, 1, 1, 1, 1, 1, 1, 1, 1, 1, 0, 0, 0, 1, 1, 1, 0, 0, 0, 0, 0, 0, 0,\n",
       "       0, 0])"
      ]
     },
     "execution_count": 25,
     "metadata": {},
     "output_type": "execute_result"
    }
   ],
   "source": [
    "# Define an indicator(binary) variable with two levels.\n",
    "# 1 = Improvement, 0 = No Improvement\n",
    "\n",
    "Improvement = np.append(\n",
    "    np.append(np.repeat(1, 10), np.repeat(0, 3)),\n",
    "    np.append(np.repeat(1, 3), np.repeat(0, 9))\n",
    ")\n",
    "\n",
    "Improvement    "
   ]
  },
  {
   "cell_type": "code",
   "execution_count": 26,
   "metadata": {},
   "outputs": [
    {
     "data": {
      "text/html": [
       "<table border=\"1\" class=\"dataframe\">\n",
       "    <thead>\n",
       "        <tr>\n",
       "            <th>Therapy</th> <th>Improvement</th>\n",
       "        </tr>\n",
       "    </thead>\n",
       "    <tbody>\n",
       "        <tr>\n",
       "            <td>Dolphin   </td> <td>1          </td>\n",
       "        </tr>\n",
       "        <tr>\n",
       "            <td>Dolphin   </td> <td>1          </td>\n",
       "        </tr>\n",
       "        <tr>\n",
       "            <td>Dolphin   </td> <td>1          </td>\n",
       "        </tr>\n",
       "        <tr>\n",
       "            <td>Dolphin   </td> <td>1          </td>\n",
       "        </tr>\n",
       "        <tr>\n",
       "            <td>Dolphin   </td> <td>1          </td>\n",
       "        </tr>\n",
       "        <tr>\n",
       "            <td>Dolphin   </td> <td>1          </td>\n",
       "        </tr>\n",
       "        <tr>\n",
       "            <td>Dolphin   </td> <td>1          </td>\n",
       "        </tr>\n",
       "        <tr>\n",
       "            <td>Dolphin   </td> <td>1          </td>\n",
       "        </tr>\n",
       "        <tr>\n",
       "            <td>Dolphin   </td> <td>1          </td>\n",
       "        </tr>\n",
       "        <tr>\n",
       "            <td>Dolphin   </td> <td>1          </td>\n",
       "        </tr>\n",
       "        <tr>\n",
       "            <td>Dolphin   </td> <td>0          </td>\n",
       "        </tr>\n",
       "        <tr>\n",
       "            <td>Dolphin   </td> <td>0          </td>\n",
       "        </tr>\n",
       "        <tr>\n",
       "            <td>Dolphin   </td> <td>0          </td>\n",
       "        </tr>\n",
       "        <tr>\n",
       "            <td>No Dolphin</td> <td>1          </td>\n",
       "        </tr>\n",
       "        <tr>\n",
       "            <td>No Dolphin</td> <td>1          </td>\n",
       "        </tr>\n",
       "        <tr>\n",
       "            <td>No Dolphin</td> <td>1          </td>\n",
       "        </tr>\n",
       "        <tr>\n",
       "            <td>No Dolphin</td> <td>0          </td>\n",
       "        </tr>\n",
       "        <tr>\n",
       "            <td>No Dolphin</td> <td>0          </td>\n",
       "        </tr>\n",
       "        <tr>\n",
       "            <td>No Dolphin</td> <td>0          </td>\n",
       "        </tr>\n",
       "        <tr>\n",
       "            <td>No Dolphin</td> <td>0          </td>\n",
       "        </tr>\n",
       "        <tr>\n",
       "            <td>No Dolphin</td> <td>0          </td>\n",
       "        </tr>\n",
       "        <tr>\n",
       "            <td>No Dolphin</td> <td>0          </td>\n",
       "        </tr>\n",
       "        <tr>\n",
       "            <td>No Dolphin</td> <td>0          </td>\n",
       "        </tr>\n",
       "        <tr>\n",
       "            <td>No Dolphin</td> <td>0          </td>\n",
       "        </tr>\n",
       "        <tr>\n",
       "            <td>No Dolphin</td> <td>0          </td>\n",
       "        </tr>\n",
       "    </tbody>\n",
       "</table>"
      ],
      "text/plain": [
       "<IPython.core.display.HTML object>"
      ]
     },
     "metadata": {},
     "output_type": "display_data"
    }
   ],
   "source": [
    "# Combine both columns\n",
    "\n",
    "dolphin = Table().with_columns(\n",
    "    'Therapy', Therapy,\n",
    "    'Improvement', Improvement\n",
    ")\n",
    "\n",
    "dolphin.show()"
   ]
  },
  {
   "cell_type": "markdown",
   "metadata": {},
   "source": [
    "**Some Descriptive Statistics**\n",
    "\n",
    "We consider the count of how many mothers are in the two groups."
   ]
  },
  {
   "cell_type": "code",
   "execution_count": 27,
   "metadata": {},
   "outputs": [
    {
     "data": {
      "text/html": [
       "<table border=\"1\" class=\"dataframe\">\n",
       "    <thead>\n",
       "        <tr>\n",
       "            <th>Therapy</th> <th>count</th>\n",
       "        </tr>\n",
       "    </thead>\n",
       "    <tbody>\n",
       "        <tr>\n",
       "            <td>Dolphin   </td> <td>13   </td>\n",
       "        </tr>\n",
       "        <tr>\n",
       "            <td>No Dolphin</td> <td>12   </td>\n",
       "        </tr>\n",
       "    </tbody>\n",
       "</table>"
      ],
      "text/plain": [
       "Therapy    | count\n",
       "Dolphin    | 13\n",
       "No Dolphin | 12"
      ]
     },
     "execution_count": 27,
     "metadata": {},
     "output_type": "execute_result"
    }
   ],
   "source": [
    "dolphin.group('Therapy')"
   ]
  },
  {
   "cell_type": "markdown",
   "metadata": {},
   "source": [
    "**Some Descriptive Statistics - Visualization of the levels of a categorical variable**\n",
    "\n",
    "We use a bar chart. "
   ]
  },
  {
   "cell_type": "code",
   "execution_count": 28,
   "metadata": {},
   "outputs": [
    {
     "data": {
      "image/png": "[encoded data removed]",
      "text/plain": [
       "<Figure size 432x288 with 1 Axes>"
      ]
     },
     "metadata": {},
     "output_type": "display_data"
    }
   ],
   "source": [
    "dolphin.group('Therapy').barh('Therapy')"
   ]
  },
  {
   "cell_type": "markdown",
   "metadata": {},
   "source": [
    "**Some Descriptive Statistics**\n",
    "\n",
    "We consider the **proportion** of pateints who improved in each of the two groups."
   ]
  },
  {
   "cell_type": "markdown",
   "metadata": {},
   "source": [
    "**Hypothesis Testing**\n",
    "\n",
    "- A test chooses between two views of how data were generated\n",
    "\n",
    "- The views are called hypotheses: **The Null and the Alternative Hypotheses.**\n",
    "\n",
    "- The test picks the hypothesis that is better supported by the observed data\n"
   ]
  },
  {
   "cell_type": "markdown",
   "metadata": {},
   "source": [
    "**_In this example..._**\n",
    "\n",
    "## Step 1: Setting up the null and alternative hypotheses for this application problem:\n",
    "\n",
    "**Null Hypothesis:**\n",
    "\n",
    "In the population, the proportion of patients of who showed improvements in depression symptoms in the DOLPHIN group is the same as the proportion of patients of who showed improvements in depression symptoms in the NO DOLPHIN group. The difference in the sample is due to chance (whether a patient swins with a dolphin or not does not make any difference in in the incidence of improvements).\n",
    "\n",
    "**Alternative Hypothesis:**\n",
    "\n",
    "In the population, the proportion of patients of who showed improvements in depression symptoms in the DOLPHIN group is greater than the proportion of patients of who showed improvements in depression symptoms in the NO DOLPHIN group. \n",
    "\n"
   ]
  },
  {
   "cell_type": "markdown",
   "metadata": {},
   "source": [
    "## Step 2: Define The Test Statistic and Compute the Observed Value of the Test Statistic\n",
    "\n",
    "Because we are comparing how effective the dolphin therapy treatment is to those whi did not swim in the therapy group, it makes natural sense that the test statistic should be the difference between the proportions of those who showed improvements in both groups.\n",
    "\n",
    "#### Compute the Observed Value of the Test Statistic"
   ]
  },
  {
   "cell_type": "code",
   "execution_count": 29,
   "metadata": {},
   "outputs": [
    {
     "data": {
      "text/html": [
       "<table border=\"1\" class=\"dataframe\">\n",
       "    <thead>\n",
       "        <tr>\n",
       "            <th>Therapy</th> <th>Improvement mean</th>\n",
       "        </tr>\n",
       "    </thead>\n",
       "    <tbody>\n",
       "        <tr>\n",
       "            <td>Dolphin   </td> <td>0.769231        </td>\n",
       "        </tr>\n",
       "        <tr>\n",
       "            <td>No Dolphin</td> <td>0.25            </td>\n",
       "        </tr>\n",
       "    </tbody>\n",
       "</table>"
      ],
      "text/plain": [
       "Therapy    | Improvement mean\n",
       "Dolphin    | 0.769231\n",
       "No Dolphin | 0.25"
      ]
     },
     "execution_count": 29,
     "metadata": {},
     "output_type": "execute_result"
    }
   ],
   "source": [
    "dolphin_summary = dolphin.group('Therapy', np.mean)\n",
    "dolphin_summary"
   ]
  },
  {
   "cell_type": "code",
   "execution_count": 30,
   "metadata": {},
   "outputs": [
    {
     "data": {
      "text/plain": [
       "0.5192307692307693"
      ]
     },
     "execution_count": 30,
     "metadata": {},
     "output_type": "execute_result"
    }
   ],
   "source": [
    "obs_diff_prop = dolphin_summary.column(1).item(0) - dolphin_summary.column(1).item(1)\n",
    "obs_diff_prop"
   ]
  },
  {
   "cell_type": "code",
   "execution_count": 31,
   "metadata": {},
   "outputs": [],
   "source": [
    "def difference_of_props(table, group_label, outcome):\n",
    "    \"\"\"Takes: name of table, column label of binary categorical variable,\n",
    "    column label of group-label variable\n",
    "    Returns: Difference of proportions of the two groups\"\"\"\n",
    "    \n",
    "    #table with the two relevant columns\n",
    "    reduced = table.select(outcome, group_label)  \n",
    "    \n",
    "    # table containing counts for each group\n",
    "    summary_table = reduced.group(group_label, np.mean)\n",
    "    \n",
    "    return summary_table.column(1).item(0) - summary_table.column(1).item(1)"
   ]
  },
  {
   "cell_type": "code",
   "execution_count": 32,
   "metadata": {},
   "outputs": [
    {
     "data": {
      "text/plain": [
       "0.5192307692307693"
      ]
     },
     "execution_count": 32,
     "metadata": {},
     "output_type": "execute_result"
    }
   ],
   "source": [
    "difference_of_props(dolphin, 'Therapy', 'Improvement')"
   ]
  },
  {
   "cell_type": "markdown",
   "metadata": {},
   "source": [
    "## Step 3: The Distribution of the Test Statistic, Under the Null Hypothesis\n",
    "\n",
    "Recall the null hypothesis: \n",
    "\n",
    "**Null Hypothesis:**\n",
    "\n",
    "\n",
    "In the population, the proportion of patients of who showed improvements in depression symptoms in the DOLPHIN group is the same as the proportion of patients of who showed improvements in depression symptoms in the NO DOLPHIN group. The difference in the sample is due to chance (whether a patient swins with a dolphin or not does not make any difference in in the incidence of improvements).\n",
    "\n",
    "\n",
    "**How should we simulate test statistic under the null hypothesis?**\n",
    "\n",
    "## Use the permutation test to conduct the simulation."
   ]
  },
  {
   "cell_type": "markdown",
   "metadata": {},
   "source": [
    "In our sample the difference between the groups was:\n",
    "$$\n",
    "\\hat{p}=\\hat{p}_D-\\hat{p}_{N D}=\\frac{10}{13}-\\frac{3}{12} \\approx 0.52\n",
    "$$\n",
    "How different would the groups be by chance if the Dolphin Therapy had no influence over improvements in depression?"
   ]
  },
  {
   "cell_type": "code",
   "execution_count": 33,
   "metadata": {},
   "outputs": [
    {
     "data": {
      "text/plain": [
       "array(['Dolphin', 'No Dolphin', 'No Dolphin', 'Dolphin', 'Dolphin',\n",
       "       'Dolphin', 'No Dolphin', 'Dolphin', 'Dolphin', 'Dolphin',\n",
       "       'No Dolphin', 'Dolphin', 'No Dolphin', 'Dolphin', 'Dolphin',\n",
       "       'Dolphin', 'No Dolphin', 'Dolphin', 'Dolphin', 'No Dolphin',\n",
       "       'No Dolphin', 'No Dolphin', 'No Dolphin', 'No Dolphin', 'No Dolphin'],\n",
       "      dtype='<U10')"
      ]
     },
     "execution_count": 33,
     "metadata": {},
     "output_type": "execute_result"
    }
   ],
   "source": [
    "shuffled_labels = dolphin.sample(with_replacement=False).column('Therapy')\n",
    "shuffled_labels"
   ]
  },
  {
   "cell_type": "code",
   "execution_count": 34,
   "metadata": {},
   "outputs": [
    {
     "data": {
      "text/html": [
       "<table border=\"1\" class=\"dataframe\">\n",
       "    <thead>\n",
       "        <tr>\n",
       "            <th>Therapy</th> <th>Improvement</th> <th>Shuffled Label</th>\n",
       "        </tr>\n",
       "    </thead>\n",
       "    <tbody>\n",
       "        <tr>\n",
       "            <td>Dolphin</td> <td>1          </td> <td>Dolphin       </td>\n",
       "        </tr>\n",
       "        <tr>\n",
       "            <td>Dolphin</td> <td>1          </td> <td>No Dolphin    </td>\n",
       "        </tr>\n",
       "        <tr>\n",
       "            <td>Dolphin</td> <td>1          </td> <td>No Dolphin    </td>\n",
       "        </tr>\n",
       "        <tr>\n",
       "            <td>Dolphin</td> <td>1          </td> <td>Dolphin       </td>\n",
       "        </tr>\n",
       "        <tr>\n",
       "            <td>Dolphin</td> <td>1          </td> <td>Dolphin       </td>\n",
       "        </tr>\n",
       "        <tr>\n",
       "            <td>Dolphin</td> <td>1          </td> <td>Dolphin       </td>\n",
       "        </tr>\n",
       "        <tr>\n",
       "            <td>Dolphin</td> <td>1          </td> <td>No Dolphin    </td>\n",
       "        </tr>\n",
       "        <tr>\n",
       "            <td>Dolphin</td> <td>1          </td> <td>Dolphin       </td>\n",
       "        </tr>\n",
       "        <tr>\n",
       "            <td>Dolphin</td> <td>1          </td> <td>Dolphin       </td>\n",
       "        </tr>\n",
       "        <tr>\n",
       "            <td>Dolphin</td> <td>1          </td> <td>Dolphin       </td>\n",
       "        </tr>\n",
       "    </tbody>\n",
       "</table>\n",
       "<p>... (15 rows omitted)</p>"
      ],
      "text/plain": [
       "Therapy | Improvement | Shuffled Label\n",
       "Dolphin | 1           | Dolphin\n",
       "Dolphin | 1           | No Dolphin\n",
       "Dolphin | 1           | No Dolphin\n",
       "Dolphin | 1           | Dolphin\n",
       "Dolphin | 1           | Dolphin\n",
       "Dolphin | 1           | Dolphin\n",
       "Dolphin | 1           | No Dolphin\n",
       "Dolphin | 1           | Dolphin\n",
       "Dolphin | 1           | Dolphin\n",
       "Dolphin | 1           | Dolphin\n",
       "... (15 rows omitted)"
      ]
     },
     "execution_count": 34,
     "metadata": {},
     "output_type": "execute_result"
    }
   ],
   "source": [
    "original_and_shuffled = dolphin.with_column(\n",
    "    'Shuffled Label', shuffled_labels\n",
    ")\n",
    "\n",
    "original_and_shuffled"
   ]
  },
  {
   "cell_type": "code",
   "execution_count": 35,
   "metadata": {},
   "outputs": [
    {
     "data": {
      "text/plain": [
       "0.5192307692307693"
      ]
     },
     "execution_count": 35,
     "metadata": {},
     "output_type": "execute_result"
    }
   ],
   "source": [
    "difference_of_props(original_and_shuffled, 'Shuffled Label', 'Improvement')"
   ]
  },
  {
   "cell_type": "code",
   "execution_count": 36,
   "metadata": {},
   "outputs": [],
   "source": [
    "def one_simulated_difference(table, group_label, outcome):\n",
    "    \"\"\"Takes: name of table, column label of binary cateogorcial variable,\n",
    "    column label of group-label variable\n",
    "    Returns: Difference of proportions of the two groups after shuffling labels\"\"\"\n",
    "    \n",
    "    # array of shuffled labels\n",
    "    shuffled_labels = table.sample(with_replacement = False).column(group_label)\n",
    "    \n",
    "    # table of outcome variable and shuffled labels\n",
    "    shuffled_table = table.select(outcome).with_column(\n",
    "        'Shuffled Label', shuffled_labels)\n",
    "    \n",
    "    return difference_of_props(shuffled_table, 'Shuffled Label', outcome)  "
   ]
  },
  {
   "cell_type": "code",
   "execution_count": 37,
   "metadata": {},
   "outputs": [
    {
     "data": {
      "text/plain": [
       "0.19871794871794873"
      ]
     },
     "execution_count": 37,
     "metadata": {},
     "output_type": "execute_result"
    }
   ],
   "source": [
    "one_simulated_difference(dolphin, 'Therapy', 'Improvement')"
   ]
  },
  {
   "cell_type": "code",
   "execution_count": 38,
   "metadata": {},
   "outputs": [],
   "source": [
    "differences = make_array()\n",
    "\n",
    "for i in np.arange(10000):\n",
    "    new_difference = one_simulated_difference(dolphin, 'Therapy', 'Improvement')\n",
    "    differences = np.append(differences, new_difference)"
   ]
  },
  {
   "cell_type": "code",
   "execution_count": 39,
   "metadata": {},
   "outputs": [
    {
     "name": "stdout",
     "output_type": "stream",
     "text": [
      "Observed Difference: 0.5192307692307693\n"
     ]
    },
    {
     "data": {
      "image/png": "[encoded data removed]",
      "text/plain": [
       "<Figure size 432x288 with 1 Axes>"
      ]
     },
     "metadata": {},
     "output_type": "display_data"
    }
   ],
   "source": [
    "Table().with_column('Difference Between Group Proportions', differences).hist(bins=11)\n",
    "print('Observed Difference:', obs_diff_prop)\n",
    "plots.title('Prediction Under the Null Hypothesis');\n",
    "plots.plot([obs_diff_prop, obs_diff_prop], [0, 2], color='red', lw=2);"
   ]
  },
  {
   "cell_type": "code",
   "execution_count": 40,
   "metadata": {},
   "outputs": [
    {
     "data": {
      "text/plain": [
       "0.0132"
      ]
     },
     "execution_count": 40,
     "metadata": {},
     "output_type": "execute_result"
    }
   ],
   "source": [
    "p_value = sum(differences>= obs_diff_prop)/10000\n",
    "p_value"
   ]
  },
  {
   "cell_type": "markdown",
   "metadata": {},
   "source": [
    "## Step 4. The Conclusion of the Test\n",
    "\n",
    "The p-value of a test is the chance, based on the model in the null hypothesis, that the test statistic will be equal to the observed value in the sample or even further in the direction that supports the alternative.\n"
   ]
  },
  {
   "cell_type": "markdown",
   "metadata": {},
   "source": [
    "IN THIS EXAMPLE, since the p-value above is smaller than a chosen p-value cut-off of 0.05, we REJECT the null hypothesis in favor of the alternative hypothesis. This means that the results of the hypothesis testing procedure provides a statistically significant evidence to state that the proportion of patients of who showed improvements in depression symptoms in the DOLPHIN group is greater than the proportion of patients of who showed improvements in depression symptoms in the NO DOLPHIN group\n",
    "\n",
    "\n",
    "Formally, we say that `the result of the test is statistically significant.` "
   ]
  },
  {
   "cell_type": "code",
   "execution_count": null,
   "metadata": {},
   "outputs": [],
   "source": []
  }
 ],
 "metadata": {
  "kernelspec": {
   "display_name": "Python 3 (ipykernel)",
   "language": "python",
   "name": "python3"
  },
  "language_info": {
   "codemirror_mode": {
    "name": "ipython",
    "version": 3
   },
   "file_extension": ".py",
   "mimetype": "text/x-python",
   "name": "python",
   "nbconvert_exporter": "python",
   "pygments_lexer": "ipython3",
   "version": "3.9.7"
  }
 },
 "nbformat": 4,
 "nbformat_minor": 4
}
