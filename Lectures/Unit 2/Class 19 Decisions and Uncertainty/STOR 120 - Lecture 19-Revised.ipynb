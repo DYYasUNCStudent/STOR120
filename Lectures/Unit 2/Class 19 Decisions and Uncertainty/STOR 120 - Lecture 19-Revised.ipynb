{
 "cells": [
  {
   "cell_type": "code",
   "execution_count": 1,
   "metadata": {},
   "outputs": [],
   "source": [
    "from datascience import *\n",
    "import numpy as np\n",
    "\n",
    "%matplotlib inline\n",
    "import matplotlib.pyplot as plots\n",
    "plots.style.use('fivethirtyeight')"
   ]
  },
  {
   "cell_type": "markdown",
   "metadata": {},
   "source": [
    "## Class 19: Decisions and Uncertainty"
   ]
  },
  {
   "cell_type": "markdown",
   "metadata": {},
   "source": [
    "# Another example of Multiple Categories: Benford's Law\n",
    "\n",
    "[Benford’s Law](https://en.wikipedia.org/wiki/Benford%27s_law), also known as the Law of First Digits or the Phenomenon of Significant Digits, refers to the observation that the first digits (or numerals to be exact) of the numbers found in series of records of the most varied sources do not display a uniform distribution, but rather are arranged in such a way that the digit “1” is the most frequent, followed by “2”, “3”, and so in a successively decreasing manner down to “9”.\n",
    "\n",
    "A set of numbers is said to satisfy Benford's law if the leading digit $d(d \\in\\{1, \\ldots, 9\\})$ occurs with probability(or proportion or distribution) given by the formula: $\\log _{10}\\left(1+\\frac{1}{d}\\right)$\n",
    "\n",
    "As data scientist, we take this to be a model of the expected frequencies of the digits 1,...,9. we can take any record of numbers, say on a document and compare it to the distribution proposed by benford's law.\n",
    "\n",
    "- We begin by using the Benford model formula above to generate the expected model proportions of each of the digits 1,...,9. \n",
    "- Then we follow with a visualization of the model/expected frequencies of each digit.\n"
   ]
  },
  {
   "cell_type": "code",
   "execution_count": 2,
   "metadata": {},
   "outputs": [],
   "source": [
    "digits = np.arange(1, 10)\n",
    "benford_model = np.log10(1 + 1/digits)"
   ]
  },
  {
   "cell_type": "code",
   "execution_count": 3,
   "metadata": {},
   "outputs": [
    {
     "data": {
      "image/png": "[encoded data removed]",
      "text/plain": [
       "<Figure size 432x324 with 1 Axes>"
      ]
     },
     "metadata": {},
     "output_type": "display_data"
    }
   ],
   "source": [
    "benford = Table().with_columns(\n",
    "    'First digit', digits,\n",
    "    'Benford Model Probability', benford_model)\n",
    "benford.barh('First digit')"
   ]
  },
  {
   "cell_type": "code",
   "execution_count": 4,
   "metadata": {},
   "outputs": [],
   "source": [
    "# This is a custom function defined to extract the first digit \n",
    "# of any number argument to it.\n",
    "\n",
    "\n",
    "def first_digit(num):\n",
    "    return int(str(num)[0])"
   ]
  },
  {
   "cell_type": "code",
   "execution_count": 5,
   "metadata": {},
   "outputs": [
    {
     "data": {
      "text/plain": [
       "3"
      ]
     },
     "execution_count": 5,
     "metadata": {},
     "output_type": "execute_result"
    }
   ],
   "source": [
    "first_digit(32)"
   ]
  },
  {
   "cell_type": "code",
   "execution_count": 6,
   "metadata": {},
   "outputs": [
    {
     "data": {
      "text/plain": [
       "1"
      ]
     },
     "execution_count": 6,
     "metadata": {},
     "output_type": "execute_result"
    }
   ],
   "source": [
    "first_digit(17719087)"
   ]
  },
  {
   "cell_type": "markdown",
   "metadata": {},
   "source": [
    "### Benford's Law and COVID-19 Reporting"
   ]
  },
  {
   "cell_type": "code",
   "execution_count": 7,
   "metadata": {},
   "outputs": [
    {
     "data": {
      "text/html": [
       "<table border=\"1\" class=\"dataframe\">\n",
       "    <thead>\n",
       "        <tr>\n",
       "            <th>First Digit</th> <th>Count</th>\n",
       "        </tr>\n",
       "    </thead>\n",
       "    <tbody>\n",
       "        <tr>\n",
       "            <td>1          </td> <td>194  </td>\n",
       "        </tr>\n",
       "        <tr>\n",
       "            <td>2          </td> <td>106  </td>\n",
       "        </tr>\n",
       "        <tr>\n",
       "            <td>3          </td> <td>72   </td>\n",
       "        </tr>\n",
       "        <tr>\n",
       "            <td>4          </td> <td>51   </td>\n",
       "        </tr>\n",
       "        <tr>\n",
       "            <td>5          </td> <td>52   </td>\n",
       "        </tr>\n",
       "        <tr>\n",
       "            <td>6          </td> <td>38   </td>\n",
       "        </tr>\n",
       "        <tr>\n",
       "            <td>7          </td> <td>36   </td>\n",
       "        </tr>\n",
       "        <tr>\n",
       "            <td>8          </td> <td>22   </td>\n",
       "        </tr>\n",
       "        <tr>\n",
       "            <td>9          </td> <td>10   </td>\n",
       "        </tr>\n",
       "    </tbody>\n",
       "</table>"
      ],
      "text/plain": [
       "First Digit | Count\n",
       "1           | 194\n",
       "2           | 106\n",
       "3           | 72\n",
       "4           | 51\n",
       "5           | 52\n",
       "6           | 38\n",
       "7           | 36\n",
       "8           | 22\n",
       "9           | 10"
      ]
     },
     "execution_count": 7,
     "metadata": {},
     "output_type": "execute_result"
    }
   ],
   "source": [
    "COVID_by_digit = Table().with_columns(\n",
    "    'First Digit', np.arange(1, 10),\n",
    "    \"Count\", make_array(194, 106, 72, 51, 52, 38, 36, 22, 10)\n",
    ")\n",
    "\n",
    "COVID_by_digit"
   ]
  },
  {
   "cell_type": "code",
   "execution_count": 8,
   "metadata": {},
   "outputs": [
    {
     "data": {
      "text/html": [
       "<table border=\"1\" class=\"dataframe\">\n",
       "    <thead>\n",
       "        <tr>\n",
       "            <th>First Digit</th> <th>Count</th> <th>Proportion</th>\n",
       "        </tr>\n",
       "    </thead>\n",
       "    <tbody>\n",
       "        <tr>\n",
       "            <td>1          </td> <td>194  </td> <td>0.333907  </td>\n",
       "        </tr>\n",
       "        <tr>\n",
       "            <td>2          </td> <td>106  </td> <td>0.182444  </td>\n",
       "        </tr>\n",
       "        <tr>\n",
       "            <td>3          </td> <td>72   </td> <td>0.123924  </td>\n",
       "        </tr>\n",
       "        <tr>\n",
       "            <td>4          </td> <td>51   </td> <td>0.0877797 </td>\n",
       "        </tr>\n",
       "        <tr>\n",
       "            <td>5          </td> <td>52   </td> <td>0.0895009 </td>\n",
       "        </tr>\n",
       "        <tr>\n",
       "            <td>6          </td> <td>38   </td> <td>0.0654045 </td>\n",
       "        </tr>\n",
       "        <tr>\n",
       "            <td>7          </td> <td>36   </td> <td>0.0619621 </td>\n",
       "        </tr>\n",
       "        <tr>\n",
       "            <td>8          </td> <td>22   </td> <td>0.0378657 </td>\n",
       "        </tr>\n",
       "        <tr>\n",
       "            <td>9          </td> <td>10   </td> <td>0.0172117 </td>\n",
       "        </tr>\n",
       "    </tbody>\n",
       "</table>"
      ],
      "text/plain": [
       "First Digit | Count | Proportion\n",
       "1           | 194   | 0.333907\n",
       "2           | 106   | 0.182444\n",
       "3           | 72    | 0.123924\n",
       "4           | 51    | 0.0877797\n",
       "5           | 52    | 0.0895009\n",
       "6           | 38    | 0.0654045\n",
       "7           | 36    | 0.0619621\n",
       "8           | 22    | 0.0378657\n",
       "9           | 10    | 0.0172117"
      ]
     },
     "execution_count": 8,
     "metadata": {},
     "output_type": "execute_result"
    }
   ],
   "source": [
    "COVID_by_digit = COVID_by_digit.with_column(\n",
    "    'Proportion', COVID_by_digit.column('Count') / sum(COVID_by_digit.column('Count'))\n",
    ")\n",
    "\n",
    "COVID_by_digit"
   ]
  },
  {
   "cell_type": "code",
   "execution_count": 9,
   "metadata": {},
   "outputs": [
    {
     "data": {
      "text/html": [
       "<table border=\"1\" class=\"dataframe\">\n",
       "    <thead>\n",
       "        <tr>\n",
       "            <th>First Digit</th> <th>Count</th> <th>Proportion</th> <th>benford prop</th>\n",
       "        </tr>\n",
       "    </thead>\n",
       "    <tbody>\n",
       "        <tr>\n",
       "            <td>1          </td> <td>194  </td> <td>0.333907  </td> <td>0.30103     </td>\n",
       "        </tr>\n",
       "        <tr>\n",
       "            <td>2          </td> <td>106  </td> <td>0.182444  </td> <td>0.176091    </td>\n",
       "        </tr>\n",
       "        <tr>\n",
       "            <td>3          </td> <td>72   </td> <td>0.123924  </td> <td>0.124939    </td>\n",
       "        </tr>\n",
       "        <tr>\n",
       "            <td>4          </td> <td>51   </td> <td>0.0877797 </td> <td>0.09691     </td>\n",
       "        </tr>\n",
       "        <tr>\n",
       "            <td>5          </td> <td>52   </td> <td>0.0895009 </td> <td>0.0791812   </td>\n",
       "        </tr>\n",
       "        <tr>\n",
       "            <td>6          </td> <td>38   </td> <td>0.0654045 </td> <td>0.0669468   </td>\n",
       "        </tr>\n",
       "        <tr>\n",
       "            <td>7          </td> <td>36   </td> <td>0.0619621 </td> <td>0.0579919   </td>\n",
       "        </tr>\n",
       "        <tr>\n",
       "            <td>8          </td> <td>22   </td> <td>0.0378657 </td> <td>0.0511525   </td>\n",
       "        </tr>\n",
       "        <tr>\n",
       "            <td>9          </td> <td>10   </td> <td>0.0172117 </td> <td>0.0457575   </td>\n",
       "        </tr>\n",
       "    </tbody>\n",
       "</table>"
      ],
      "text/plain": [
       "First Digit | Count | Proportion | benford prop\n",
       "1           | 194   | 0.333907   | 0.30103\n",
       "2           | 106   | 0.182444   | 0.176091\n",
       "3           | 72    | 0.123924   | 0.124939\n",
       "4           | 51    | 0.0877797  | 0.09691\n",
       "5           | 52    | 0.0895009  | 0.0791812\n",
       "6           | 38    | 0.0654045  | 0.0669468\n",
       "7           | 36    | 0.0619621  | 0.0579919\n",
       "8           | 22    | 0.0378657  | 0.0511525\n",
       "9           | 10    | 0.0172117  | 0.0457575"
      ]
     },
     "execution_count": 9,
     "metadata": {},
     "output_type": "execute_result"
    }
   ],
   "source": [
    "benford_and_covid_prop = COVID_by_digit.with_column(\n",
    "    'benford prop', benford_model\n",
    ")\n",
    "\n",
    "benford_and_covid_prop"
   ]
  },
  {
   "cell_type": "markdown",
   "metadata": {},
   "source": [
    "## Step 1: Setting up the null and alternative hypotheses for this application problem:\n",
    "\n",
    "**The null hypothesis:** Chinese reported data match the distribution expected in Benford's law. \n",
    "\n",
    "**The alternative hypothesis:** Chinese reported data DO NOT match the distribution expected in Benford's law. "
   ]
  },
  {
   "cell_type": "markdown",
   "metadata": {},
   "source": [
    "## Step 2: Define The Test Statistic and Compute the Observed Value of the Test Statistic\n",
    "\n",
    "- The proportions provided by Benford's law corresponds to many categories(1,2,3,...,9). \n",
    "- Our goal is to compare the expected proportions under Benford's law to the observed proportions of digits as first digits in the Chinese reported data. \n",
    "\n",
    "Since for each distribution, we have more than two categories, we must **use the Total Variation Distance**."
   ]
  },
  {
   "cell_type": "code",
   "execution_count": 10,
   "metadata": {},
   "outputs": [],
   "source": [
    "def covid_tvd(distribution_1, distribution_2):\n",
    "    return sum(abs(distribution_1 - distribution_2))/2"
   ]
  },
  {
   "cell_type": "markdown",
   "metadata": {},
   "source": [
    "### Compute the Observed Value of the Test Statistic"
   ]
  },
  {
   "cell_type": "code",
   "execution_count": 11,
   "metadata": {
    "tags": []
   },
   "outputs": [
    {
     "data": {
      "text/plain": [
       "0.053519665852272122"
      ]
     },
     "execution_count": 11,
     "metadata": {},
     "output_type": "execute_result"
    }
   ],
   "source": [
    "COVID_observed_tvd = covid_tvd(benford_and_covid_prop.column('Proportion'), benford_and_covid_prop.column('benford prop')) \n",
    "COVID_observed_tvd"
   ]
  },
  {
   "cell_type": "markdown",
   "metadata": {},
   "source": [
    "## Step 3: The Distribution of the Test Statistic, Under the Null Hypothesis\n",
    "\n",
    "If the null hypothesis was true, what would be an example of a simulated tvd look like?\n",
    "\n",
    "- To answer that question, we need a sample size that compares to the one used to compute the `observed tvd` above. What would that be?\n",
    "\n",
    "- That would be the sum of the `Count` column in the `benford_and_covid_prop` table above."
   ]
  },
  {
   "cell_type": "code",
   "execution_count": 12,
   "metadata": {},
   "outputs": [
    {
     "data": {
      "text/html": [
       "<table border=\"1\" class=\"dataframe\">\n",
       "    <thead>\n",
       "        <tr>\n",
       "            <th>First Digit</th> <th>Count</th> <th>Proportion</th> <th>benford prop</th> <th>Simulated</th>\n",
       "        </tr>\n",
       "    </thead>\n",
       "    <tbody>\n",
       "        <tr>\n",
       "            <td>1          </td> <td>194  </td> <td>0.333907  </td> <td>0.30103     </td> <td>0.311532 </td>\n",
       "        </tr>\n",
       "        <tr>\n",
       "            <td>2          </td> <td>106  </td> <td>0.182444  </td> <td>0.176091    </td> <td>0.192771 </td>\n",
       "        </tr>\n",
       "        <tr>\n",
       "            <td>3          </td> <td>72   </td> <td>0.123924  </td> <td>0.124939    </td> <td>0.113597 </td>\n",
       "        </tr>\n",
       "        <tr>\n",
       "            <td>4          </td> <td>51   </td> <td>0.0877797 </td> <td>0.09691     </td> <td>0.0843373</td>\n",
       "        </tr>\n",
       "        <tr>\n",
       "            <td>5          </td> <td>52   </td> <td>0.0895009 </td> <td>0.0791812   </td> <td>0.091222 </td>\n",
       "        </tr>\n",
       "        <tr>\n",
       "            <td>6          </td> <td>38   </td> <td>0.0654045 </td> <td>0.0669468   </td> <td>0.0636833</td>\n",
       "        </tr>\n",
       "        <tr>\n",
       "            <td>7          </td> <td>36   </td> <td>0.0619621 </td> <td>0.0579919   </td> <td>0.0464716</td>\n",
       "        </tr>\n",
       "        <tr>\n",
       "            <td>8          </td> <td>22   </td> <td>0.0378657 </td> <td>0.0511525   </td> <td>0.0413081</td>\n",
       "        </tr>\n",
       "        <tr>\n",
       "            <td>9          </td> <td>10   </td> <td>0.0172117 </td> <td>0.0457575   </td> <td>0.0550775</td>\n",
       "        </tr>\n",
       "    </tbody>\n",
       "</table>"
      ],
      "text/plain": [
       "First Digit | Count | Proportion | benford prop | Simulated\n",
       "1           | 194   | 0.333907   | 0.30103      | 0.311532\n",
       "2           | 106   | 0.182444   | 0.176091     | 0.192771\n",
       "3           | 72    | 0.123924   | 0.124939     | 0.113597\n",
       "4           | 51    | 0.0877797  | 0.09691      | 0.0843373\n",
       "5           | 52    | 0.0895009  | 0.0791812    | 0.091222\n",
       "6           | 38    | 0.0654045  | 0.0669468    | 0.0636833\n",
       "7           | 36    | 0.0619621  | 0.0579919    | 0.0464716\n",
       "8           | 22    | 0.0378657  | 0.0511525    | 0.0413081\n",
       "9           | 10    | 0.0172117  | 0.0457575    | 0.0550775"
      ]
     },
     "execution_count": 12,
     "metadata": {},
     "output_type": "execute_result"
    }
   ],
   "source": [
    "# A sample TVD value based on comparing simulated proportions to the Benford model.\n",
    "\n",
    "covid_sample_size = sum(benford_and_covid_prop.column('Count'))\n",
    "benford_proportion = benford_and_covid_prop.column('benford prop')\n",
    "simulated_distribution = sample_proportions(covid_sample_size, benford_proportion)\n",
    "\n",
    "\n",
    "# The actual observed distribution (Panels) looks quite different\n",
    "# from the simulation -- try running this several times to confirm!\n",
    "benford_and_covid_prop_with_simulated = benford_and_covid_prop.with_column('Simulated', simulated_distribution)\n",
    "benford_and_covid_prop_with_simulated"
   ]
  },
  {
   "cell_type": "code",
   "execution_count": 13,
   "metadata": {},
   "outputs": [
    {
     "data": {
      "text/plain": [
       "0.04854241831059182"
      ]
     },
     "execution_count": 13,
     "metadata": {},
     "output_type": "execute_result"
    }
   ],
   "source": [
    "# An example of a tvd between a simulated proportion of digits and the proportions of the Benford model.\n",
    "\n",
    "covid_tvd(benford_and_covid_prop_with_simulated.column('Simulated'), benford_and_covid_prop.column('benford prop')) "
   ]
  },
  {
   "cell_type": "markdown",
   "metadata": {},
   "source": [
    "The next step is to repeatedly simulate proportions and use the `covid_tvd` function to compute the tvd between EACH simulated proportion of digits and the proportions of the Benford model."
   ]
  },
  {
   "cell_type": "code",
   "execution_count": 14,
   "metadata": {},
   "outputs": [],
   "source": [
    "def simulate_COVID_count_first_digits():\n",
    "    simulated_distb = sample_proportions(covid_sample_size, benford_proportion)\n",
    "    a_simulated_tvd = covid_tvd(simulated_distb, benford_proportion) \n",
    "    return a_simulated_tvd"
   ]
  },
  {
   "cell_type": "code",
   "execution_count": 15,
   "metadata": {
    "tags": []
   },
   "outputs": [
    {
     "data": {
      "text/plain": [
       "0.033952258521489392"
      ]
     },
     "execution_count": 15,
     "metadata": {},
     "output_type": "execute_result"
    }
   ],
   "source": [
    "simulate_COVID_count_first_digits()"
   ]
  },
  {
   "cell_type": "code",
   "execution_count": 16,
   "metadata": {},
   "outputs": [],
   "source": [
    "COVID_simulated_tvds = make_array()\n",
    "\n",
    "num_trials = 10_000\n",
    "\n",
    "for i in np.arange(num_trials):\n",
    "    COVID_simulated_tvds = np.append(COVID_simulated_tvds, simulate_COVID_count_first_digits())"
   ]
  },
  {
   "cell_type": "code",
   "execution_count": 17,
   "metadata": {
    "tags": []
   },
   "outputs": [
    {
     "data": {
      "image/png": "[encoded data removed]",
      "text/plain": [
       "<Figure size 432x288 with 1 Axes>"
      ]
     },
     "metadata": {},
     "output_type": "display_data"
    }
   ],
   "source": [
    "COVID_bins = np.arange(0, 0.10, 0.005)\n",
    "\n",
    "Table().with_column('COVID Simulated TVD', COVID_simulated_tvds).hist(0, bins = COVID_bins)\n",
    "plots.plot([COVID_observed_tvd, COVID_observed_tvd], [0, 30], color='red', lw=2);"
   ]
  },
  {
   "cell_type": "code",
   "execution_count": 18,
   "metadata": {},
   "outputs": [
    {
     "data": {
      "text/plain": [
       "0.2085"
      ]
     },
     "execution_count": 18,
     "metadata": {},
     "output_type": "execute_result"
    }
   ],
   "source": [
    "p_value = np.count_nonzero(COVID_simulated_tvds >= COVID_observed_tvd) / num_trials\n",
    "p_value"
   ]
  },
  {
   "cell_type": "markdown",
   "metadata": {},
   "source": [
    "## Step 4. The Conclusion of the Test\n",
    "\n",
    "The choice between the null and alternative hypotheses depends on the comparison between what you computed in Steps 2 and 3: the observed value of the test statistic and its distribution as predicted by the null hypothesis.\n",
    "\n",
    "- By our convention and using a p-value cut-off of 5%, the p-value we computed above is considered large. It is bigger than the 5%. \n",
    "\n",
    "- So the conventional conclusion would be to FAIL TO REJECT the null hypothesis. Formally, we say that `the result of the test is NOT statistically significant.`\n",
    "\n",
    "- That is, we do not have sufficient evidence to state that Chinese reported data DO NOT match the distribution expected in Benford's law. "
   ]
  },
  {
   "cell_type": "markdown",
   "metadata": {},
   "source": [
    "#  New Topic: Comparing Two Samples\n",
    "\n",
    "In all of these cases we have considered before now, there was just one random sample, and we were trying to decide how the proportions of two or more categories of attributes had been generated. But often, data scientists have to compare two random samples with each other.\n",
    "\n",
    "In this class, we develop a way of using Python to compare two random samples and answer questions about the similarities and differences between them. You will see that the methods we develop have diverse applications.\n",
    "\n",
    "Context of the problem\n",
    "\n",
    "- A large Statistics class is divided into 12 lab sections.\n",
    "- Garduate Instructional Assistants lead the labs.\n",
    "- After the midterm, students in lab section 3 notice that the average score for the students in lab section 3 is lower than in others\n",
    "\n",
    "Research Question: Is the difference due to chance OR some other factor other than chance(statistically significant)?\n"
   ]
  },
  {
   "cell_type": "code",
   "execution_count": 19,
   "metadata": {},
   "outputs": [
    {
     "data": {
      "text/html": [
       "<table border=\"1\" class=\"dataframe\">\n",
       "    <thead>\n",
       "        <tr>\n",
       "            <th>Section</th> <th>Midterm</th>\n",
       "        </tr>\n",
       "    </thead>\n",
       "    <tbody>\n",
       "        <tr>\n",
       "            <td>1      </td> <td>22     </td>\n",
       "        </tr>\n",
       "        <tr>\n",
       "            <td>2      </td> <td>12     </td>\n",
       "        </tr>\n",
       "        <tr>\n",
       "            <td>2      </td> <td>23     </td>\n",
       "        </tr>\n",
       "        <tr>\n",
       "            <td>2      </td> <td>14     </td>\n",
       "        </tr>\n",
       "        <tr>\n",
       "            <td>1      </td> <td>20     </td>\n",
       "        </tr>\n",
       "        <tr>\n",
       "            <td>3      </td> <td>25     </td>\n",
       "        </tr>\n",
       "        <tr>\n",
       "            <td>4      </td> <td>19     </td>\n",
       "        </tr>\n",
       "        <tr>\n",
       "            <td>1      </td> <td>24     </td>\n",
       "        </tr>\n",
       "        <tr>\n",
       "            <td>5      </td> <td>8      </td>\n",
       "        </tr>\n",
       "        <tr>\n",
       "            <td>6      </td> <td>14     </td>\n",
       "        </tr>\n",
       "    </tbody>\n",
       "</table>\n",
       "<p>... (349 rows omitted)</p>"
      ],
      "text/plain": [
       "Section | Midterm\n",
       "1       | 22\n",
       "2       | 12\n",
       "2       | 23\n",
       "2       | 14\n",
       "1       | 20\n",
       "3       | 25\n",
       "4       | 19\n",
       "1       | 24\n",
       "5       | 8\n",
       "6       | 14\n",
       "... (349 rows omitted)"
      ]
     },
     "execution_count": 19,
     "metadata": {},
     "output_type": "execute_result"
    }
   ],
   "source": [
    "# Load the data set.\n",
    "\n",
    "scores = Table.read_table('scores_by_section.csv')\n",
    "scores"
   ]
  },
  {
   "cell_type": "markdown",
   "metadata": {},
   "source": [
    "### Some Descriptive Statistics of the Data Set\n",
    "\n",
    "Create a summary table of:\n",
    "\n",
    "- how many students there are in each lab section.\n",
    "- the average score of students by lab section."
   ]
  },
  {
   "cell_type": "code",
   "execution_count": 20,
   "metadata": {},
   "outputs": [
    {
     "data": {
      "text/html": [
       "<table border=\"1\" class=\"dataframe\">\n",
       "    <thead>\n",
       "        <tr>\n",
       "            <th>Section</th> <th>count</th>\n",
       "        </tr>\n",
       "    </thead>\n",
       "    <tbody>\n",
       "        <tr>\n",
       "            <td>1      </td> <td>32   </td>\n",
       "        </tr>\n",
       "        <tr>\n",
       "            <td>2      </td> <td>32   </td>\n",
       "        </tr>\n",
       "        <tr>\n",
       "            <td>3      </td> <td>27   </td>\n",
       "        </tr>\n",
       "        <tr>\n",
       "            <td>4      </td> <td>30   </td>\n",
       "        </tr>\n",
       "        <tr>\n",
       "            <td>5      </td> <td>33   </td>\n",
       "        </tr>\n",
       "        <tr>\n",
       "            <td>6      </td> <td>32   </td>\n",
       "        </tr>\n",
       "        <tr>\n",
       "            <td>7      </td> <td>24   </td>\n",
       "        </tr>\n",
       "        <tr>\n",
       "            <td>8      </td> <td>29   </td>\n",
       "        </tr>\n",
       "        <tr>\n",
       "            <td>9      </td> <td>30   </td>\n",
       "        </tr>\n",
       "        <tr>\n",
       "            <td>10     </td> <td>34   </td>\n",
       "        </tr>\n",
       "    </tbody>\n",
       "</table>\n",
       "<p>... (2 rows omitted)</p>"
      ],
      "text/plain": [
       "Section | count\n",
       "1       | 32\n",
       "2       | 32\n",
       "3       | 27\n",
       "4       | 30\n",
       "5       | 33\n",
       "6       | 32\n",
       "7       | 24\n",
       "8       | 29\n",
       "9       | 30\n",
       "10      | 34\n",
       "... (2 rows omitted)"
      ]
     },
     "execution_count": 20,
     "metadata": {},
     "output_type": "execute_result"
    }
   ],
   "source": [
    "# how many students there are in each lab section?\n",
    "\n",
    "scores.group('Section')"
   ]
  },
  {
   "cell_type": "code",
   "execution_count": 21,
   "metadata": {},
   "outputs": [
    {
     "data": {
      "text/html": [
       "<table border=\"1\" class=\"dataframe\">\n",
       "    <thead>\n",
       "        <tr>\n",
       "            <th>Section</th> <th>Midterm average</th>\n",
       "        </tr>\n",
       "    </thead>\n",
       "    <tbody>\n",
       "        <tr>\n",
       "            <td>1      </td> <td>15.5938        </td>\n",
       "        </tr>\n",
       "        <tr>\n",
       "            <td>2      </td> <td>15.125         </td>\n",
       "        </tr>\n",
       "        <tr>\n",
       "            <td>3      </td> <td>13.6667        </td>\n",
       "        </tr>\n",
       "        <tr>\n",
       "            <td>4      </td> <td>14.7667        </td>\n",
       "        </tr>\n",
       "        <tr>\n",
       "            <td>5      </td> <td>17.4545        </td>\n",
       "        </tr>\n",
       "        <tr>\n",
       "            <td>6      </td> <td>15.0312        </td>\n",
       "        </tr>\n",
       "        <tr>\n",
       "            <td>7      </td> <td>16.625         </td>\n",
       "        </tr>\n",
       "        <tr>\n",
       "            <td>8      </td> <td>16.3103        </td>\n",
       "        </tr>\n",
       "        <tr>\n",
       "            <td>9      </td> <td>14.5667        </td>\n",
       "        </tr>\n",
       "        <tr>\n",
       "            <td>10     </td> <td>15.2353        </td>\n",
       "        </tr>\n",
       "    </tbody>\n",
       "</table>\n",
       "<p>... (2 rows omitted)</p>"
      ],
      "text/plain": [
       "Section | Midterm average\n",
       "1       | 15.5938\n",
       "2       | 15.125\n",
       "3       | 13.6667\n",
       "4       | 14.7667\n",
       "5       | 17.4545\n",
       "6       | 15.0312\n",
       "7       | 16.625\n",
       "8       | 16.3103\n",
       "9       | 14.5667\n",
       "10      | 15.2353\n",
       "... (2 rows omitted)"
      ]
     },
     "execution_count": 21,
     "metadata": {},
     "output_type": "execute_result"
    }
   ],
   "source": [
    "# What is the the average score of students by lab section?\n",
    "\n",
    "average_score_by_section = scores.group('Section', np.average)\n",
    "average_score_by_section"
   ]
  },
  {
   "cell_type": "markdown",
   "metadata": {},
   "source": [
    "## Step 1: Setting up the null and alternative hypotheses for this application problem:\n",
    "\n",
    "**The null hypothesis:** If we had picked my section at random from the whole class, we could have got an average like the one observed for lab section 3.\n",
    "\n",
    "\n",
    "**The alternative hypothesis:** No, the average score for lab section 3 is too low. Chance/Randomness is not the only reason for the low scores.\n"
   ]
  },
  {
   "cell_type": "markdown",
   "metadata": {},
   "source": [
    "## Step 2: Define The Test Statistic and Compute the Observed Value of the Test Statistic\n",
    "\n",
    "The model says the average of any lab section is NOT different from what was obseved for lab section 3. The alternative viewpoint is that the average score observed for section is statistically and significantly differen from what was observed for lab section 3. \n",
    "\n",
    "Based on this context and what we appear to be keepping track of, a natural statistic is this example is the average score of a lab section. \n",
    "\n",
    "- Values close to the average observed for lab section 3 will favor the null hypothesis."
   ]
  },
  {
   "cell_type": "code",
   "execution_count": 22,
   "metadata": {},
   "outputs": [
    {
     "data": {
      "text/plain": [
       "13.666666666666666"
      ]
     },
     "execution_count": 22,
     "metadata": {},
     "output_type": "execute_result"
    }
   ],
   "source": [
    "observed_average = average_score_by_section.where('Section', 3).column('Midterm average').item(0)\n",
    "observed_average"
   ]
  },
  {
   "cell_type": "markdown",
   "metadata": {},
   "source": [
    "## Step 3: The Distribution of the Test Statistic, Under the Null Hypothesis\n",
    "\n",
    "- We can simulate data based on the assumption that the model stated in the null hypothesis is true.\n",
    "\n",
    "- That is, we can simulate drawing ANY section of sample size 27 at random from a population of all sections to observe what the average score will be."
   ]
  },
  {
   "cell_type": "code",
   "execution_count": 23,
   "metadata": {},
   "outputs": [
    {
     "data": {
      "text/html": [
       "<table border=\"1\" class=\"dataframe\">\n",
       "    <thead>\n",
       "        <tr>\n",
       "            <th>Section</th> <th>Midterm</th>\n",
       "        </tr>\n",
       "    </thead>\n",
       "    <tbody>\n",
       "        <tr>\n",
       "            <td>7      </td> <td>12     </td>\n",
       "        </tr>\n",
       "        <tr>\n",
       "            <td>8      </td> <td>8      </td>\n",
       "        </tr>\n",
       "        <tr>\n",
       "            <td>4      </td> <td>15     </td>\n",
       "        </tr>\n",
       "        <tr>\n",
       "            <td>11     </td> <td>11     </td>\n",
       "        </tr>\n",
       "        <tr>\n",
       "            <td>2      </td> <td>5      </td>\n",
       "        </tr>\n",
       "        <tr>\n",
       "            <td>8      </td> <td>18     </td>\n",
       "        </tr>\n",
       "        <tr>\n",
       "            <td>6      </td> <td>11     </td>\n",
       "        </tr>\n",
       "        <tr>\n",
       "            <td>5      </td> <td>13     </td>\n",
       "        </tr>\n",
       "        <tr>\n",
       "            <td>8      </td> <td>16     </td>\n",
       "        </tr>\n",
       "        <tr>\n",
       "            <td>7      </td> <td>10     </td>\n",
       "        </tr>\n",
       "    </tbody>\n",
       "</table>\n",
       "<p>... (17 rows omitted)</p>"
      ],
      "text/plain": [
       "Section | Midterm\n",
       "7       | 12\n",
       "8       | 8\n",
       "4       | 15\n",
       "11      | 11\n",
       "2       | 5\n",
       "8       | 18\n",
       "6       | 11\n",
       "5       | 13\n",
       "8       | 16\n",
       "7       | 10\n",
       "... (17 rows omitted)"
      ]
     },
     "execution_count": 23,
     "metadata": {},
     "output_type": "execute_result"
    }
   ],
   "source": [
    "random_sample = scores.sample(27, with_replacement=False)\n",
    "random_sample"
   ]
  },
  {
   "cell_type": "code",
   "execution_count": 24,
   "metadata": {},
   "outputs": [
    {
     "data": {
      "text/plain": [
       "13.333333333333334"
      ]
     },
     "execution_count": 24,
     "metadata": {},
     "output_type": "execute_result"
    }
   ],
   "source": [
    "np.average(random_sample.column('Midterm'))"
   ]
  },
  {
   "cell_type": "code",
   "execution_count": 25,
   "metadata": {},
   "outputs": [],
   "source": [
    "# Simulate one value of the test statistic \n",
    "# under the hypothesis that the section is like a random sample from the class\n",
    "\n",
    "def random_sample_midterm_avg():\n",
    "    random_sample = scores.sample(27, with_replacement = False)\n",
    "    return np.average(random_sample.column('Midterm'))"
   ]
  },
  {
   "cell_type": "code",
   "execution_count": 26,
   "metadata": {},
   "outputs": [],
   "source": [
    "# Simulate 10,000 copies of the test statistic\n",
    "\n",
    "sample_averages = make_array()\n",
    "\n",
    "for i in np.arange(10000):\n",
    "    sample_averages = np.append(sample_averages, random_sample_midterm_avg())    "
   ]
  },
  {
   "cell_type": "code",
   "execution_count": 27,
   "metadata": {},
   "outputs": [
    {
     "data": {
      "image/png": "[encoded data removed]",
      "text/plain": [
       "<Figure size 432x288 with 1 Axes>"
      ]
     },
     "metadata": {},
     "output_type": "display_data"
    }
   ],
   "source": [
    "# Compare the simulated distribution of the statistic\n",
    "# and the actual observed statistic\n",
    "\n",
    "averages_tbl = Table().with_column('Random Sample Average', sample_averages)\n",
    "averages_tbl.hist(bins = 20)\n",
    "plots.plot([observed_average, observed_average], [0, .35], color='red', lw=2);"
   ]
  },
  {
   "cell_type": "code",
   "execution_count": 28,
   "metadata": {},
   "outputs": [
    {
     "data": {
      "text/plain": [
       "0.0547"
      ]
     },
     "execution_count": 28,
     "metadata": {},
     "output_type": "execute_result"
    }
   ],
   "source": [
    "p_value = np.count_nonzero(sample_averages <= observed_average) / 10000\n",
    "p_value"
   ]
  },
  {
   "cell_type": "markdown",
   "metadata": {},
   "source": [
    "## Step 4. The Conclusion of the Test\n",
    "\n",
    "The p-value of a test is the chance, based on the model in the null hypothesis, that the test statistic will be equal to the observed value in the sample or even further in the direction that supports the alternative.\n",
    "\n",
    "IN GENERAL, this is a reminder that a hypothesis test has only two possible conclusions:\n",
    "\n",
    "- Reject the Null Hypothesis:\n",
    "        - p-value is small(smaller than the chosen p-value cutoff)\n",
    "        - the tail beyond the observed statistic is small, so the observed statistic is far away from what the null predicts. \n",
    "        - This implies that the data support the alternative hypothesis better than they support the null.\n",
    "        \n",
    "- Fail to reject the Null Hypothesis:\n",
    "        - p-value is not small(or larger than the p-value cut-off)\n",
    "        - the tail beyond the observed statistic is not small, so the observed statistic is not far away from what the null predicts.\n",
    "        - This implies that the data does not support the alternative hypothesis better than they support the null.\n"
   ]
  },
  {
   "cell_type": "markdown",
   "metadata": {},
   "source": [
    "IN THIS EXAMPLE, since the p-value above is larger than a chosen p-value cut-off of 0.05, we FAIL TO REJECT the null hypothesis. This means that the hypothesis testing analysis lends support to the realization that the the data does not support the alternative hypothesis better than they support the null.\n",
    "\n",
    "Formally, we say that `the result of the test is NOT statistically significant.` \n",
    "\n",
    "In the context of this problem, we fail to reject the claim that if we had picked my section at random from the whole class, we could have got an average like the one observed for lab section 3."
   ]
  },
  {
   "cell_type": "code",
   "execution_count": null,
   "metadata": {},
   "outputs": [],
   "source": []
  }
 ],
 "metadata": {
  "anaconda-cloud": {},
  "kernelspec": {
   "display_name": "Python 3 (ipykernel)",
   "language": "python",
   "name": "python3"
  },
  "language_info": {
   "codemirror_mode": {
    "name": "ipython",
    "version": 3
   },
   "file_extension": ".py",
   "mimetype": "text/x-python",
   "name": "python",
   "nbconvert_exporter": "python",
   "pygments_lexer": "ipython3",
   "version": "3.9.7"
  }
 },
 "nbformat": 4,
 "nbformat_minor": 4
}
