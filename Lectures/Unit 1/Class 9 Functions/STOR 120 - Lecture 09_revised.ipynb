{
 "cells": [
  {
   "cell_type": "code",
   "execution_count": 1,
   "metadata": {},
   "outputs": [],
   "source": [
    "from datascience import *\n",
    "import numpy as np\n",
    "\n",
    "%matplotlib inline\n",
    "import matplotlib.pyplot as plots\n",
    "plots.style.use('fivethirtyeight')"
   ]
  },
  {
   "cell_type": "markdown",
   "metadata": {},
   "source": [
    "## Lecture 9 ##"
   ]
  },
  {
   "cell_type": "markdown",
   "metadata": {},
   "source": [
    "## Visualizations Review ##"
   ]
  },
  {
   "cell_type": "code",
   "execution_count": 39,
   "metadata": {},
   "outputs": [
    {
     "data": {
      "text/html": [
       "<table border=\"1\" class=\"dataframe\">\n",
       "    <thead>\n",
       "        <tr>\n",
       "            <th>Gender</th> <th>ClassYear</th> <th>LarkOwl</th> <th>NumEarlyClass</th> <th>EarlyClass</th> <th>GPA</th> <th>ClassesMissed</th> <th>CognitionZscore</th> <th>PoorSleepQuality</th> <th>DepressionScore</th> <th>AnxietyScore</th> <th>StressScore</th> <th>DepressionStatus</th> <th>AnxietyStatus</th> <th>Stress</th> <th>DASScore</th> <th>Happiness</th> <th>AlcoholUse</th> <th>Drinks</th> <th>WeekdayBed</th> <th>WeekdayRise</th> <th>WeekdaySleep</th> <th>WeekendBed</th> <th>WeekendRise</th> <th>WeekendSleep</th> <th>AverageSleep</th> <th>AllNighter</th>\n",
       "        </tr>\n",
       "    </thead>\n",
       "    <tbody>\n",
       "        <tr>\n",
       "            <td>0     </td> <td>4        </td> <td>Neither</td> <td>0            </td> <td>0         </td> <td>3.6 </td> <td>0            </td> <td>-0.26          </td> <td>4               </td> <td>4              </td> <td>3           </td> <td>8          </td> <td>normal          </td> <td>normal       </td> <td>normal</td> <td>15      </td> <td>28       </td> <td>Moderate  </td> <td>10    </td> <td>25.75     </td> <td>8.7        </td> <td>7.7         </td> <td>25.75     </td> <td>9.5        </td> <td>5.88        </td> <td>7.18        </td> <td>0         </td>\n",
       "        </tr>\n",
       "        <tr>\n",
       "            <td>0     </td> <td>4        </td> <td>Neither</td> <td>2            </td> <td>1         </td> <td>3.24</td> <td>0            </td> <td>1.39           </td> <td>6               </td> <td>1              </td> <td>0           </td> <td>3          </td> <td>normal          </td> <td>normal       </td> <td>normal</td> <td>4       </td> <td>25       </td> <td>Moderate  </td> <td>6     </td> <td>25.7      </td> <td>8.2        </td> <td>6.8         </td> <td>26        </td> <td>10         </td> <td>7.25        </td> <td>6.93        </td> <td>0         </td>\n",
       "        </tr>\n",
       "        <tr>\n",
       "            <td>0     </td> <td>4        </td> <td>Owl    </td> <td>0            </td> <td>0         </td> <td>2.97</td> <td>12           </td> <td>0.38           </td> <td>18              </td> <td>18             </td> <td>18          </td> <td>9          </td> <td>moderate        </td> <td>severe       </td> <td>normal</td> <td>45      </td> <td>17       </td> <td>Light     </td> <td>3     </td> <td>27.44     </td> <td>6.55       </td> <td>3           </td> <td>28        </td> <td>12.59      </td> <td>10.09       </td> <td>5.02        </td> <td>0         </td>\n",
       "        </tr>\n",
       "        <tr>\n",
       "            <td>0     </td> <td>1        </td> <td>Lark   </td> <td>5            </td> <td>1         </td> <td>3.76</td> <td>0            </td> <td>1.39           </td> <td>9               </td> <td>1              </td> <td>4           </td> <td>6          </td> <td>normal          </td> <td>normal       </td> <td>normal</td> <td>11      </td> <td>32       </td> <td>Light     </td> <td>2     </td> <td>23.5      </td> <td>7.17       </td> <td>6.77        </td> <td>27        </td> <td>8          </td> <td>7.25        </td> <td>6.9         </td> <td>0         </td>\n",
       "        </tr>\n",
       "        <tr>\n",
       "            <td>0     </td> <td>4        </td> <td>Owl    </td> <td>0            </td> <td>0         </td> <td>3.2 </td> <td>4            </td> <td>1.22           </td> <td>9               </td> <td>7              </td> <td>25          </td> <td>14         </td> <td>normal          </td> <td>severe       </td> <td>normal</td> <td>46      </td> <td>15       </td> <td>Moderate  </td> <td>4     </td> <td>25.9      </td> <td>8.67       </td> <td>6.09        </td> <td>23.75     </td> <td>9.5        </td> <td>7           </td> <td>6.35        </td> <td>0         </td>\n",
       "        </tr>\n",
       "        <tr>\n",
       "            <td>1     </td> <td>4        </td> <td>Neither</td> <td>0            </td> <td>0         </td> <td>3.5 </td> <td>0            </td> <td>-0.04          </td> <td>6               </td> <td>14             </td> <td>8           </td> <td>28         </td> <td>moderate        </td> <td>moderate     </td> <td>high  </td> <td>50      </td> <td>22       </td> <td>Abstain   </td> <td>0     </td> <td>23.8      </td> <td>8.95       </td> <td>9.05        </td> <td>26        </td> <td>10.75      </td> <td>9           </td> <td>9.04        </td> <td>0         </td>\n",
       "        </tr>\n",
       "        <tr>\n",
       "            <td>1     </td> <td>2        </td> <td>Lark   </td> <td>2            </td> <td>1         </td> <td>3.35</td> <td>2            </td> <td>0.41           </td> <td>2               </td> <td>1              </td> <td>0           </td> <td>1          </td> <td>normal          </td> <td>normal       </td> <td>normal</td> <td>2       </td> <td>25       </td> <td>Moderate  </td> <td>6     </td> <td>25.35     </td> <td>8.48       </td> <td>7.73        </td> <td>25.63     </td> <td>10.13      </td> <td>7           </td> <td>7.52        </td> <td>1         </td>\n",
       "        </tr>\n",
       "        <tr>\n",
       "            <td>0     </td> <td>2        </td> <td>Lark   </td> <td>0            </td> <td>0         </td> <td>3   </td> <td>0            </td> <td>-0.59          </td> <td>10              </td> <td>2              </td> <td>2           </td> <td>3          </td> <td>normal          </td> <td>normal       </td> <td>normal</td> <td>7       </td> <td>29       </td> <td>Light     </td> <td>3     </td> <td>23.9      </td> <td>9.07       </td> <td>9.02        </td> <td>25.13     </td> <td>9.75       </td> <td>9           </td> <td>9.01        </td> <td>0         </td>\n",
       "        </tr>\n",
       "        <tr>\n",
       "            <td>0     </td> <td>1        </td> <td>Neither</td> <td>2            </td> <td>1         </td> <td>4   </td> <td>0            </td> <td>1.03           </td> <td>5               </td> <td>12             </td> <td>16          </td> <td>20         </td> <td>moderate        </td> <td>severe       </td> <td>high  </td> <td>48      </td> <td>29       </td> <td>Light     </td> <td>3     </td> <td>24.4      </td> <td>8.75       </td> <td>8.25        </td> <td>24        </td> <td>9          </td> <td>9.25        </td> <td>8.54        </td> <td>0         </td>\n",
       "        </tr>\n",
       "        <tr>\n",
       "            <td>0     </td> <td>4        </td> <td>Neither</td> <td>2            </td> <td>1         </td> <td>2.9 </td> <td>0            </td> <td>0.72           </td> <td>2               </td> <td>6              </td> <td>11          </td> <td>31         </td> <td>normal          </td> <td>moderate     </td> <td>high  </td> <td>48      </td> <td>30       </td> <td>Moderate  </td> <td>6     </td> <td>26.2      </td> <td>8          </td> <td>6.6         </td> <td>25.38     </td> <td>10.25      </td> <td>6.88        </td> <td>6.68        </td> <td>0         </td>\n",
       "        </tr>\n",
       "    </tbody>\n",
       "</table>\n",
       "<p>... (243 rows omitted)</p>"
      ],
      "text/plain": [
       "Gender | ClassYear | LarkOwl | NumEarlyClass | EarlyClass | GPA  | ClassesMissed | CognitionZscore | PoorSleepQuality | DepressionScore | AnxietyScore | StressScore | DepressionStatus | AnxietyStatus | Stress | DASScore | Happiness | AlcoholUse | Drinks | WeekdayBed | WeekdayRise | WeekdaySleep | WeekendBed | WeekendRise | WeekendSleep | AverageSleep | AllNighter\n",
       "0      | 4         | Neither | 0             | 0          | 3.6  | 0             | -0.26           | 4                | 4               | 3            | 8           | normal           | normal        | normal | 15       | 28        | Moderate   | 10     | 25.75      | 8.7         | 7.7          | 25.75      | 9.5         | 5.88         | 7.18         | 0\n",
       "0      | 4         | Neither | 2             | 1          | 3.24 | 0             | 1.39            | 6                | 1               | 0            | 3           | normal           | normal        | normal | 4        | 25        | Moderate   | 6      | 25.7       | 8.2         | 6.8          | 26         | 10          | 7.25         | 6.93         | 0\n",
       "0      | 4         | Owl     | 0             | 0          | 2.97 | 12            | 0.38            | 18               | 18              | 18           | 9           | moderate         | severe        | normal | 45       | 17        | Light      | 3      | 27.44      | 6.55        | 3            | 28         | 12.59       | 10.09        | 5.02         | 0\n",
       "0      | 1         | Lark    | 5             | 1          | 3.76 | 0             | 1.39            | 9                | 1               | 4            | 6           | normal           | normal        | normal | 11       | 32        | Light      | 2      | 23.5       | 7.17        | 6.77         | 27         | 8           | 7.25         | 6.9          | 0\n",
       "0      | 4         | Owl     | 0             | 0          | 3.2  | 4             | 1.22            | 9                | 7               | 25           | 14          | normal           | severe        | normal | 46       | 15        | Moderate   | 4      | 25.9       | 8.67        | 6.09         | 23.75      | 9.5         | 7            | 6.35         | 0\n",
       "1      | 4         | Neither | 0             | 0          | 3.5  | 0             | -0.04           | 6                | 14              | 8            | 28          | moderate         | moderate      | high   | 50       | 22        | Abstain    | 0      | 23.8       | 8.95        | 9.05         | 26         | 10.75       | 9            | 9.04         | 0\n",
       "1      | 2         | Lark    | 2             | 1          | 3.35 | 2             | 0.41            | 2                | 1               | 0            | 1           | normal           | normal        | normal | 2        | 25        | Moderate   | 6      | 25.35      | 8.48        | 7.73         | 25.63      | 10.13       | 7            | 7.52         | 1\n",
       "0      | 2         | Lark    | 0             | 0          | 3    | 0             | -0.59           | 10               | 2               | 2            | 3           | normal           | normal        | normal | 7        | 29        | Light      | 3      | 23.9       | 9.07        | 9.02         | 25.13      | 9.75        | 9            | 9.01         | 0\n",
       "0      | 1         | Neither | 2             | 1          | 4    | 0             | 1.03            | 5                | 12              | 16           | 20          | moderate         | severe        | high   | 48       | 29        | Light      | 3      | 24.4       | 8.75        | 8.25         | 24         | 9           | 9.25         | 8.54         | 0\n",
       "0      | 4         | Neither | 2             | 1          | 2.9  | 0             | 0.72            | 2                | 6               | 11           | 31          | normal           | moderate      | high   | 48       | 30        | Moderate   | 6      | 26.2       | 8           | 6.6          | 25.38      | 10.25       | 6.88         | 6.68         | 0\n",
       "... (243 rows omitted)"
      ]
     },
     "execution_count": 39,
     "metadata": {},
     "output_type": "execute_result"
    }
   ],
   "source": [
    "sleep = Table.read_table('SleepStudy.csv')\n",
    "sleep"
   ]
  },
  {
   "cell_type": "markdown",
   "metadata": {},
   "source": [
    "## Descriptive Analysis of One Categorical Variable ##"
   ]
  },
  {
   "cell_type": "markdown",
   "metadata": {},
   "source": [
    "**Question:** Describe the distribution of the `DepressonStatus` among all students in the data set."
   ]
  },
  {
   "cell_type": "code",
   "execution_count": 7,
   "metadata": {},
   "outputs": [
    {
     "data": {
      "text/html": [
       "<table border=\"1\" class=\"dataframe\">\n",
       "    <thead>\n",
       "        <tr>\n",
       "            <th>DepressionStatus</th> <th>count</th>\n",
       "        </tr>\n",
       "    </thead>\n",
       "    <tbody>\n",
       "        <tr>\n",
       "            <td>moderate        </td> <td>34   </td>\n",
       "        </tr>\n",
       "        <tr>\n",
       "            <td>normal          </td> <td>209  </td>\n",
       "        </tr>\n",
       "        <tr>\n",
       "            <td>severe          </td> <td>10   </td>\n",
       "        </tr>\n",
       "    </tbody>\n",
       "</table>"
      ],
      "text/plain": [
       "DepressionStatus | count\n",
       "moderate         | 34\n",
       "normal           | 209\n",
       "severe           | 10"
      ]
     },
     "execution_count": 7,
     "metadata": {},
     "output_type": "execute_result"
    }
   ],
   "source": [
    "# Produce a frequency distribution.\n",
    "\n",
    "sleep.group('DepressionStatus')"
   ]
  },
  {
   "cell_type": "code",
   "execution_count": 13,
   "metadata": {},
   "outputs": [
    {
     "data": {
      "image/png": "[encoded data removed]",
      "text/plain": [
       "<Figure size 432x288 with 1 Axes>"
      ]
     },
     "metadata": {},
     "output_type": "display_data"
    }
   ],
   "source": [
    "# Produce a visualization to accompany the table above.\n",
    "\n",
    "sleep.group('DepressionStatus').sort('count' , descending = True).barh('DepressionStatus', )"
   ]
  },
  {
   "cell_type": "markdown",
   "metadata": {},
   "source": [
    "## Descriptive Analysis of Two Categorical Variables ##"
   ]
  },
  {
   "cell_type": "markdown",
   "metadata": {},
   "source": [
    "**Question:** Is there any evidence to suspect that the `LarkOwl` classification of a student might be linked to the student's level of `AlcoholUse`?"
   ]
  },
  {
   "cell_type": "code",
   "execution_count": 34,
   "metadata": {},
   "outputs": [
    {
     "data": {
      "text/html": [
       "<table border=\"1\" class=\"dataframe\">\n",
       "    <thead>\n",
       "        <tr>\n",
       "            <th>AlcoholUse</th> <th>Lark</th> <th>Neither</th> <th>Owl</th>\n",
       "        </tr>\n",
       "    </thead>\n",
       "    <tbody>\n",
       "        <tr>\n",
       "            <td>Abstain   </td> <td>6   </td> <td>20     </td> <td>8   </td>\n",
       "        </tr>\n",
       "        <tr>\n",
       "            <td>Heavy     </td> <td>2   </td> <td>10     </td> <td>4   </td>\n",
       "        </tr>\n",
       "        <tr>\n",
       "            <td>Light     </td> <td>19  </td> <td>59     </td> <td>5   </td>\n",
       "        </tr>\n",
       "        <tr>\n",
       "            <td>Moderate  </td> <td>14  </td> <td>74     </td> <td>32  </td>\n",
       "        </tr>\n",
       "    </tbody>\n",
       "</table>"
      ],
      "text/plain": [
       "AlcoholUse | Lark | Neither | Owl\n",
       "Abstain    | 6    | 20      | 8\n",
       "Heavy      | 2    | 10      | 4\n",
       "Light      | 19   | 59      | 5\n",
       "Moderate   | 14   | 74      | 32"
      ]
     },
     "execution_count": 34,
     "metadata": {},
     "output_type": "execute_result"
    }
   ],
   "source": [
    "# Create a Joint Frequency Distribution(Also Called a Contingency Table)\n",
    "\n",
    "joint_cont_table = sleep.pivot('LarkOwl', 'AlcoholUse')\n",
    "joint_cont_table"
   ]
  },
  {
   "cell_type": "code",
   "execution_count": 33,
   "metadata": {},
   "outputs": [
    {
     "data": {
      "image/png": "[encoded data removed]",
      "text/plain": [
       "<Figure size 432x288 with 1 Axes>"
      ]
     },
     "metadata": {},
     "output_type": "display_data"
    }
   ],
   "source": [
    "joint_cont_table.barh('AlcoholUse')"
   ]
  },
  {
   "cell_type": "markdown",
   "metadata": {},
   "source": [
    "## Descriptive Analysis of One DISCRETE Numerical Variable ##"
   ]
  },
  {
   "cell_type": "code",
   "execution_count": 36,
   "metadata": {},
   "outputs": [
    {
     "data": {
      "text/html": [
       "<table border=\"1\" class=\"dataframe\">\n",
       "    <thead>\n",
       "        <tr>\n",
       "            <th>ClassYear</th> <th>count</th>\n",
       "        </tr>\n",
       "    </thead>\n",
       "    <tbody>\n",
       "        <tr>\n",
       "            <td>1        </td> <td>47   </td>\n",
       "        </tr>\n",
       "        <tr>\n",
       "            <td>2        </td> <td>95   </td>\n",
       "        </tr>\n",
       "        <tr>\n",
       "            <td>3        </td> <td>54   </td>\n",
       "        </tr>\n",
       "        <tr>\n",
       "            <td>4        </td> <td>57   </td>\n",
       "        </tr>\n",
       "    </tbody>\n",
       "</table>"
      ],
      "text/plain": [
       "ClassYear | count\n",
       "1         | 47\n",
       "2         | 95\n",
       "3         | 54\n",
       "4         | 57"
      ]
     },
     "execution_count": 36,
     "metadata": {},
     "output_type": "execute_result"
    }
   ],
   "source": [
    "# Ungrouped Frequency Distribution of  One DISCRETE Numerical Variable.\n",
    "\n",
    "sleep.group('ClassYear')"
   ]
  },
  {
   "cell_type": "code",
   "execution_count": 42,
   "metadata": {},
   "outputs": [
    {
     "data": {
      "image/png": "[encoded data removed]",
      "text/plain": [
       "<Figure size 432x288 with 1 Axes>"
      ]
     },
     "metadata": {},
     "output_type": "display_data"
    }
   ],
   "source": [
    "sleep.group('ClassYear').sort('count', descending = True).barh('ClassYear')"
   ]
  },
  {
   "cell_type": "markdown",
   "metadata": {},
   "source": [
    "## Descriptive Analysis of One CONTINUOUS Numerical Variable ##"
   ]
  },
  {
   "cell_type": "code",
   "execution_count": 38,
   "metadata": {},
   "outputs": [
    {
     "data": {
      "text/html": [
       "<table border=\"1\" class=\"dataframe\">\n",
       "    <thead>\n",
       "        <tr>\n",
       "            <th>bin</th> <th>Drinks count</th>\n",
       "        </tr>\n",
       "    </thead>\n",
       "    <tbody>\n",
       "        <tr>\n",
       "            <td>0   </td> <td>58          </td>\n",
       "        </tr>\n",
       "        <tr>\n",
       "            <td>2.4 </td> <td>48          </td>\n",
       "        </tr>\n",
       "        <tr>\n",
       "            <td>4.8 </td> <td>76          </td>\n",
       "        </tr>\n",
       "        <tr>\n",
       "            <td>7.2 </td> <td>25          </td>\n",
       "        </tr>\n",
       "        <tr>\n",
       "            <td>9.6 </td> <td>26          </td>\n",
       "        </tr>\n",
       "        <tr>\n",
       "            <td>12  </td> <td>13          </td>\n",
       "        </tr>\n",
       "        <tr>\n",
       "            <td>14.4</td> <td>3           </td>\n",
       "        </tr>\n",
       "        <tr>\n",
       "            <td>16.8</td> <td>1           </td>\n",
       "        </tr>\n",
       "        <tr>\n",
       "            <td>19.2</td> <td>2           </td>\n",
       "        </tr>\n",
       "        <tr>\n",
       "            <td>21.6</td> <td>1           </td>\n",
       "        </tr>\n",
       "    </tbody>\n",
       "</table>\n",
       "<p>... (1 rows omitted)</p>"
      ],
      "text/plain": [
       "bin  | Drinks count\n",
       "0    | 58\n",
       "2.4  | 48\n",
       "4.8  | 76\n",
       "7.2  | 25\n",
       "9.6  | 26\n",
       "12   | 13\n",
       "14.4 | 3\n",
       "16.8 | 1\n",
       "19.2 | 2\n",
       "21.6 | 1\n",
       "... (1 rows omitted)"
      ]
     },
     "execution_count": 38,
     "metadata": {},
     "output_type": "execute_result"
    }
   ],
   "source": [
    "# Grouped Frequency Distribution of  One CONTINUOUS Numerical Variable.\n",
    "\n",
    "sleep.bin('Drinks')"
   ]
  },
  {
   "cell_type": "code",
   "execution_count": 43,
   "metadata": {},
   "outputs": [
    {
     "data": {
      "image/png": "[encoded data removed]",
      "text/plain": [
       "<Figure size 432x288 with 1 Axes>"
      ]
     },
     "metadata": {},
     "output_type": "display_data"
    }
   ],
   "source": [
    "sleep.hist('Drinks')"
   ]
  },
  {
   "cell_type": "markdown",
   "metadata": {},
   "source": [
    "## Descriptive Analysis of Two Numerical Variables ##\n",
    "\n",
    "**Question:** Is a student's Happiness level impacted by the student's number of hours of sleep?"
   ]
  },
  {
   "cell_type": "code",
   "execution_count": 45,
   "metadata": {},
   "outputs": [
    {
     "data": {
      "image/png": "[encoded data removed]",
      "text/plain": [
       "<Figure size 360x360 with 1 Axes>"
      ]
     },
     "metadata": {},
     "output_type": "display_data"
    }
   ],
   "source": [
    "# Draw a ScatterPlot\n",
    "\n",
    "sleep.scatter('AverageSleep', 'Happiness')"
   ]
  },
  {
   "cell_type": "markdown",
   "metadata": {},
   "source": [
    "## Descriptive Analysis of One Categorical Variable and One Numerical variable##\n",
    "\n",
    "**Question:** Is there any evidence of truth to it that `Larks` get more hours of sleep than `Owls`?"
   ]
  },
  {
   "cell_type": "code",
   "execution_count": 46,
   "metadata": {},
   "outputs": [
    {
     "data": {
      "text/plain": [
       "(4.9500000000000002, 10.619999999999999)"
      ]
     },
     "execution_count": 46,
     "metadata": {},
     "output_type": "execute_result"
    }
   ],
   "source": [
    "min(sleep.column('AverageSleep')), max(sleep.column('AverageSleep'))"
   ]
  },
  {
   "cell_type": "code",
   "execution_count": 47,
   "metadata": {},
   "outputs": [],
   "source": [
    "sleep_bins = np.arange(4,11,0.5)"
   ]
  },
  {
   "cell_type": "code",
   "execution_count": 48,
   "metadata": {},
   "outputs": [
    {
     "data": {
      "image/png": "[encoded data removed]",
      "text/plain": [
       "<Figure size 432x288 with 1 Axes>"
      ]
     },
     "metadata": {},
     "output_type": "display_data"
    },
    {
     "data": {
      "image/png": "[encoded data removed]",
      "text/plain": [
       "<Figure size 432x288 with 1 Axes>"
      ]
     },
     "metadata": {},
     "output_type": "display_data"
    }
   ],
   "source": [
    "LarkSleep = sleep.where('LarkOwl', are.containing('Lark'))\n",
    "LarkSleep.hist('AverageSleep', bins=sleep_bins)\n",
    "plots.title('Early Bird');\n",
    "\n",
    "OwlSleep = sleep.where('LarkOwl', are.containing('Owl'))\n",
    "OwlSleep.hist('AverageSleep', bins=sleep_bins)\n",
    "plots.title('Night Owl');"
   ]
  },
  {
   "cell_type": "markdown",
   "metadata": {},
   "source": [
    "## Functions. On a deeper Note ##\n",
    "\n",
    "Here are some examples of in-built functions in Python that you have seen so far..."
   ]
  },
  {
   "cell_type": "code",
   "execution_count": 49,
   "metadata": {},
   "outputs": [
    {
     "data": {
      "text/plain": [
       "7"
      ]
     },
     "execution_count": 49,
     "metadata": {},
     "output_type": "execute_result"
    }
   ],
   "source": [
    "max(5, 6, 7)"
   ]
  },
  {
   "cell_type": "code",
   "execution_count": 50,
   "metadata": {},
   "outputs": [
    {
     "data": {
      "text/plain": [
       "builtin_function_or_method"
      ]
     },
     "execution_count": 50,
     "metadata": {},
     "output_type": "execute_result"
    }
   ],
   "source": [
    "type(max)"
   ]
  },
  {
   "cell_type": "code",
   "execution_count": 51,
   "metadata": {},
   "outputs": [
    {
     "data": {
      "text/plain": [
       "123.46"
      ]
     },
     "execution_count": 51,
     "metadata": {},
     "output_type": "execute_result"
    }
   ],
   "source": [
    "round(123.456, 2)"
   ]
  },
  {
   "cell_type": "markdown",
   "metadata": {},
   "source": [
    "## Defining Your Own Custom Functions in Python ##\n",
    "\n",
    "The purpose of defining a function is to give a name to a computational process that may be applied multiple times. \n",
    "\n",
    "There are many situations in computing that require repeated computation. For example, it is often the case that we want to perform the same manipulation on every value in a column of a table."
   ]
  },
  {
   "cell_type": "markdown",
   "metadata": {},
   "source": [
    "**Question:** Define a function that takes a number(the argument/input) and triples the number."
   ]
  },
  {
   "cell_type": "code",
   "execution_count": 52,
   "metadata": {},
   "outputs": [],
   "source": [
    "def triple(x):\n",
    "    \"\"\"Find three times any value of x\"\"\"\n",
    "    return 3 * x"
   ]
  },
  {
   "cell_type": "code",
   "execution_count": 53,
   "metadata": {},
   "outputs": [
    {
     "data": {
      "text/plain": [
       "9"
      ]
     },
     "execution_count": 53,
     "metadata": {},
     "output_type": "execute_result"
    }
   ],
   "source": [
    "triple(3)"
   ]
  },
  {
   "cell_type": "code",
   "execution_count": 54,
   "metadata": {},
   "outputs": [],
   "source": [
    "num = 4"
   ]
  },
  {
   "cell_type": "code",
   "execution_count": 55,
   "metadata": {},
   "outputs": [
    {
     "data": {
      "text/plain": [
       "12"
      ]
     },
     "execution_count": 55,
     "metadata": {},
     "output_type": "execute_result"
    }
   ],
   "source": [
    "triple(num)"
   ]
  },
  {
   "cell_type": "code",
   "execution_count": 56,
   "metadata": {},
   "outputs": [
    {
     "data": {
      "text/plain": [
       "60"
      ]
     },
     "execution_count": 56,
     "metadata": {},
     "output_type": "execute_result"
    }
   ],
   "source": [
    "triple(num * 5)"
   ]
  },
  {
   "cell_type": "code",
   "execution_count": 58,
   "metadata": {},
   "outputs": [
    {
     "data": {
      "text/plain": [
       "array([3, 6, 9], dtype=int64)"
      ]
     },
     "execution_count": 58,
     "metadata": {},
     "output_type": "execute_result"
    }
   ],
   "source": [
    "set_of_vals = make_array(1, 2, 3)\n",
    "triple(set_of_vals)"
   ]
  },
  {
   "cell_type": "code",
   "execution_count": 66,
   "metadata": {},
   "outputs": [
    {
     "data": {
      "text/plain": [
       "'hahaha'"
      ]
     },
     "execution_count": 66,
     "metadata": {},
     "output_type": "execute_result"
    }
   ],
   "source": [
    "triple('ha')"
   ]
  },
  {
   "cell_type": "code",
   "execution_count": 68,
   "metadata": {},
   "outputs": [
    {
     "data": {
      "text/plain": [
       "array([ 0,  3,  6,  9, 12, 15, 18, 21, 24, 27])"
      ]
     },
     "execution_count": 68,
     "metadata": {},
     "output_type": "execute_result"
    }
   ],
   "source": [
    "triple(np.arange(10))"
   ]
  },
  {
   "cell_type": "markdown",
   "metadata": {},
   "source": [
    "## A very important note about the scope of variables defined in the body of a function ##"
   ]
  },
  {
   "cell_type": "code",
   "execution_count": 59,
   "metadata": {},
   "outputs": [],
   "source": [
    "def multiple_of_y(x):\n",
    "    y = 5\n",
    "    return y * x"
   ]
  },
  {
   "cell_type": "code",
   "execution_count": 60,
   "metadata": {},
   "outputs": [
    {
     "data": {
      "text/plain": [
       "50"
      ]
     },
     "execution_count": 60,
     "metadata": {},
     "output_type": "execute_result"
    }
   ],
   "source": [
    "multiple_of_y(10)"
   ]
  },
  {
   "cell_type": "code",
   "execution_count": 61,
   "metadata": {},
   "outputs": [],
   "source": [
    "def multiple_of_y(x):\n",
    "    y = 10\n",
    "    return y * x"
   ]
  },
  {
   "cell_type": "code",
   "execution_count": 62,
   "metadata": {},
   "outputs": [
    {
     "data": {
      "text/plain": [
       "100"
      ]
     },
     "execution_count": 62,
     "metadata": {},
     "output_type": "execute_result"
    }
   ],
   "source": [
    "multiple_of_y(10)"
   ]
  },
  {
   "cell_type": "code",
   "execution_count": 63,
   "metadata": {},
   "outputs": [
    {
     "ename": "NameError",
     "evalue": "name 'y' is not defined",
     "output_type": "error",
     "traceback": [
      "\u001b[1;31m---------------------------------------------------------------------------\u001b[0m",
      "\u001b[1;31mNameError\u001b[0m                                 Traceback (most recent call last)",
      "\u001b[1;32m~\\AppData\\Local\\Temp/ipykernel_19532/3563912222.py\u001b[0m in \u001b[0;36m<module>\u001b[1;34m\u001b[0m\n\u001b[1;32m----> 1\u001b[1;33m \u001b[0my\u001b[0m\u001b[1;33m\u001b[0m\u001b[1;33m\u001b[0m\u001b[0m\n\u001b[0m",
      "\u001b[1;31mNameError\u001b[0m: name 'y' is not defined"
     ]
    }
   ],
   "source": [
    "y"
   ]
  },
  {
   "cell_type": "markdown",
   "metadata": {},
   "source": [
    "## Function Type Agnostic "
   ]
  },
  {
   "cell_type": "markdown",
   "metadata": {},
   "source": [
    "**Question:** Write a function that returns what proportion EACH number in the array `s` is of the sum of the numbers in the array `s`?"
   ]
  },
  {
   "cell_type": "code",
   "execution_count": 77,
   "metadata": {},
   "outputs": [],
   "source": [
    "def f(s):\n",
    "    return np.round(s / sum(s) * 100, 2)"
   ]
  },
  {
   "cell_type": "code",
   "execution_count": 70,
   "metadata": {},
   "outputs": [
    {
     "ename": "TypeError",
     "evalue": "'int' object is not iterable",
     "output_type": "error",
     "traceback": [
      "\u001b[1;31m---------------------------------------------------------------------------\u001b[0m",
      "\u001b[1;31mTypeError\u001b[0m                                 Traceback (most recent call last)",
      "\u001b[1;32m~\\AppData\\Local\\Temp/ipykernel_19532/1408095538.py\u001b[0m in \u001b[0;36m<module>\u001b[1;34m\u001b[0m\n\u001b[1;32m----> 1\u001b[1;33m \u001b[0mf\u001b[0m\u001b[1;33m(\u001b[0m\u001b[1;36m5\u001b[0m\u001b[1;33m)\u001b[0m\u001b[1;33m\u001b[0m\u001b[1;33m\u001b[0m\u001b[0m\n\u001b[0m",
      "\u001b[1;32m~\\AppData\\Local\\Temp/ipykernel_19532/1606527534.py\u001b[0m in \u001b[0;36mf\u001b[1;34m(s)\u001b[0m\n\u001b[0;32m      1\u001b[0m \u001b[1;32mdef\u001b[0m \u001b[0mf\u001b[0m\u001b[1;33m(\u001b[0m\u001b[0ms\u001b[0m\u001b[1;33m)\u001b[0m\u001b[1;33m:\u001b[0m\u001b[1;33m\u001b[0m\u001b[1;33m\u001b[0m\u001b[0m\n\u001b[1;32m----> 2\u001b[1;33m     \u001b[1;32mreturn\u001b[0m \u001b[0mnp\u001b[0m\u001b[1;33m.\u001b[0m\u001b[0mround\u001b[0m\u001b[1;33m(\u001b[0m\u001b[0ms\u001b[0m \u001b[1;33m/\u001b[0m \u001b[0msum\u001b[0m\u001b[1;33m(\u001b[0m\u001b[0ms\u001b[0m\u001b[1;33m)\u001b[0m \u001b[1;33m*\u001b[0m \u001b[1;36m100\u001b[0m\u001b[1;33m,\u001b[0m \u001b[1;36m2\u001b[0m\u001b[1;33m)\u001b[0m\u001b[1;33m\u001b[0m\u001b[1;33m\u001b[0m\u001b[0m\n\u001b[0m",
      "\u001b[1;31mTypeError\u001b[0m: 'int' object is not iterable"
     ]
    }
   ],
   "source": [
    "f(5)"
   ]
  },
  {
   "cell_type": "code",
   "execution_count": 71,
   "metadata": {},
   "outputs": [
    {
     "ename": "TypeError",
     "evalue": "'float' object is not iterable",
     "output_type": "error",
     "traceback": [
      "\u001b[1;31m---------------------------------------------------------------------------\u001b[0m",
      "\u001b[1;31mTypeError\u001b[0m                                 Traceback (most recent call last)",
      "\u001b[1;32m~\\AppData\\Local\\Temp/ipykernel_19532/2806743271.py\u001b[0m in \u001b[0;36m<module>\u001b[1;34m\u001b[0m\n\u001b[1;32m----> 1\u001b[1;33m \u001b[0mf\u001b[0m\u001b[1;33m(\u001b[0m\u001b[1;36m5.0\u001b[0m\u001b[1;33m)\u001b[0m\u001b[1;33m\u001b[0m\u001b[1;33m\u001b[0m\u001b[0m\n\u001b[0m",
      "\u001b[1;32m~\\AppData\\Local\\Temp/ipykernel_19532/1606527534.py\u001b[0m in \u001b[0;36mf\u001b[1;34m(s)\u001b[0m\n\u001b[0;32m      1\u001b[0m \u001b[1;32mdef\u001b[0m \u001b[0mf\u001b[0m\u001b[1;33m(\u001b[0m\u001b[0ms\u001b[0m\u001b[1;33m)\u001b[0m\u001b[1;33m:\u001b[0m\u001b[1;33m\u001b[0m\u001b[1;33m\u001b[0m\u001b[0m\n\u001b[1;32m----> 2\u001b[1;33m     \u001b[1;32mreturn\u001b[0m \u001b[0mnp\u001b[0m\u001b[1;33m.\u001b[0m\u001b[0mround\u001b[0m\u001b[1;33m(\u001b[0m\u001b[0ms\u001b[0m \u001b[1;33m/\u001b[0m \u001b[0msum\u001b[0m\u001b[1;33m(\u001b[0m\u001b[0ms\u001b[0m\u001b[1;33m)\u001b[0m \u001b[1;33m*\u001b[0m \u001b[1;36m100\u001b[0m\u001b[1;33m,\u001b[0m \u001b[1;36m2\u001b[0m\u001b[1;33m)\u001b[0m\u001b[1;33m\u001b[0m\u001b[1;33m\u001b[0m\u001b[0m\n\u001b[0m",
      "\u001b[1;31mTypeError\u001b[0m: 'float' object is not iterable"
     ]
    }
   ],
   "source": [
    "f(5.0)"
   ]
  },
  {
   "cell_type": "code",
   "execution_count": 72,
   "metadata": {},
   "outputs": [
    {
     "ename": "TypeError",
     "evalue": "unsupported operand type(s) for +: 'int' and 'str'",
     "output_type": "error",
     "traceback": [
      "\u001b[1;31m---------------------------------------------------------------------------\u001b[0m",
      "\u001b[1;31mTypeError\u001b[0m                                 Traceback (most recent call last)",
      "\u001b[1;32m~\\AppData\\Local\\Temp/ipykernel_19532/3680111544.py\u001b[0m in \u001b[0;36m<module>\u001b[1;34m\u001b[0m\n\u001b[1;32m----> 1\u001b[1;33m \u001b[0mf\u001b[0m\u001b[1;33m(\u001b[0m\u001b[1;34m'boo'\u001b[0m\u001b[1;33m)\u001b[0m\u001b[1;33m\u001b[0m\u001b[1;33m\u001b[0m\u001b[0m\n\u001b[0m",
      "\u001b[1;32m~\\AppData\\Local\\Temp/ipykernel_19532/1606527534.py\u001b[0m in \u001b[0;36mf\u001b[1;34m(s)\u001b[0m\n\u001b[0;32m      1\u001b[0m \u001b[1;32mdef\u001b[0m \u001b[0mf\u001b[0m\u001b[1;33m(\u001b[0m\u001b[0ms\u001b[0m\u001b[1;33m)\u001b[0m\u001b[1;33m:\u001b[0m\u001b[1;33m\u001b[0m\u001b[1;33m\u001b[0m\u001b[0m\n\u001b[1;32m----> 2\u001b[1;33m     \u001b[1;32mreturn\u001b[0m \u001b[0mnp\u001b[0m\u001b[1;33m.\u001b[0m\u001b[0mround\u001b[0m\u001b[1;33m(\u001b[0m\u001b[0ms\u001b[0m \u001b[1;33m/\u001b[0m \u001b[0msum\u001b[0m\u001b[1;33m(\u001b[0m\u001b[0ms\u001b[0m\u001b[1;33m)\u001b[0m \u001b[1;33m*\u001b[0m \u001b[1;36m100\u001b[0m\u001b[1;33m,\u001b[0m \u001b[1;36m2\u001b[0m\u001b[1;33m)\u001b[0m\u001b[1;33m\u001b[0m\u001b[1;33m\u001b[0m\u001b[0m\n\u001b[0m",
      "\u001b[1;31mTypeError\u001b[0m: unsupported operand type(s) for +: 'int' and 'str'"
     ]
    }
   ],
   "source": [
    "f('boo')"
   ]
  },
  {
   "cell_type": "code",
   "execution_count": 73,
   "metadata": {},
   "outputs": [
    {
     "data": {
      "text/plain": [
       "array([  0.,  10.,  20.,  30.,  40.])"
      ]
     },
     "execution_count": 73,
     "metadata": {},
     "output_type": "execute_result"
    }
   ],
   "source": [
    "my_new_array = np.arange(5)\n",
    "f(my_new_array)"
   ]
  },
  {
   "cell_type": "code",
   "execution_count": 74,
   "metadata": {},
   "outputs": [
    {
     "data": {
      "text/plain": [
       "array([ 0.  ,  0.18,  0.36,  0.53,  0.71,  0.89,  1.07,  1.25,  1.43,\n",
       "        1.6 ,  1.78,  1.96,  2.14,  2.32,  2.5 ,  2.67,  2.85,  3.03,\n",
       "        3.21,  3.39,  3.57,  3.74,  3.92,  4.1 ,  4.28,  4.46,  4.63,\n",
       "        4.81,  4.99,  5.17,  5.35,  5.53,  5.7 ,  5.88])"
      ]
     },
     "execution_count": 74,
     "metadata": {},
     "output_type": "execute_result"
    }
   ],
   "source": [
    "my_newer_array = np.arange(0, 100, 3)\n",
    "my_newer_array\n",
    "\n",
    "f(my_newer_array)"
   ]
  },
  {
   "cell_type": "code",
   "execution_count": 78,
   "metadata": {},
   "outputs": [],
   "source": [
    "def percent_of_whole(s):\n",
    "    return np.round(s / sum(s) * 100, 2)"
   ]
  },
  {
   "cell_type": "code",
   "execution_count": 79,
   "metadata": {},
   "outputs": [
    {
     "data": {
      "text/plain": [
       "array([  0.,  10.,  20.,  30.,  40.])"
      ]
     },
     "execution_count": 79,
     "metadata": {},
     "output_type": "execute_result"
    }
   ],
   "source": [
    "percent_of_whole(my_new_array)"
   ]
  },
  {
   "cell_type": "markdown",
   "metadata": {},
   "source": [
    "## New Function Alert: `Apply` ##\n",
    "\n",
    "How is the `Apply` function used?"
   ]
  },
  {
   "cell_type": "code",
   "execution_count": 80,
   "metadata": {},
   "outputs": [
    {
     "data": {
      "text/html": [
       "<table border=\"1\" class=\"dataframe\">\n",
       "    <thead>\n",
       "        <tr>\n",
       "            <th>State</th> <th>Year Last Lived</th>\n",
       "        </tr>\n",
       "    </thead>\n",
       "    <tbody>\n",
       "        <tr>\n",
       "            <td>CT   </td> <td>2010           </td>\n",
       "        </tr>\n",
       "        <tr>\n",
       "            <td>CA   </td> <td>2016           </td>\n",
       "        </tr>\n",
       "        <tr>\n",
       "            <td>NY   </td> <td>2018           </td>\n",
       "        </tr>\n",
       "    </tbody>\n",
       "</table>"
      ],
      "text/plain": [
       "State | Year Last Lived\n",
       "CT    | 2010\n",
       "CA    | 2016\n",
       "NY    | 2018"
      ]
     },
     "execution_count": 80,
     "metadata": {},
     "output_type": "execute_result"
    }
   ],
   "source": [
    "My_States = Table().with_columns(\n",
    "    'State', make_array('CT', 'CA', 'NY'),\n",
    "    'Year Last Lived', make_array(2010, 2016, 2018)\n",
    ")\n",
    "My_States"
   ]
  },
  {
   "cell_type": "code",
   "execution_count": 81,
   "metadata": {},
   "outputs": [],
   "source": [
    "def how_long_since_left(x):\n",
    "    return 2021 - x"
   ]
  },
  {
   "cell_type": "code",
   "execution_count": 82,
   "metadata": {},
   "outputs": [
    {
     "data": {
      "text/plain": [
       "11"
      ]
     },
     "execution_count": 82,
     "metadata": {},
     "output_type": "execute_result"
    }
   ],
   "source": [
    "how_long_since_left(2010)"
   ]
  },
  {
   "cell_type": "code",
   "execution_count": 83,
   "metadata": {},
   "outputs": [
    {
     "data": {
      "text/plain": [
       "5"
      ]
     },
     "execution_count": 83,
     "metadata": {},
     "output_type": "execute_result"
    }
   ],
   "source": [
    "how_long_since_left(2016)"
   ]
  },
  {
   "cell_type": "code",
   "execution_count": 84,
   "metadata": {},
   "outputs": [
    {
     "data": {
      "text/plain": [
       "array([11,  5,  3], dtype=int64)"
      ]
     },
     "execution_count": 84,
     "metadata": {},
     "output_type": "execute_result"
    }
   ],
   "source": [
    "My_States.apply(how_long_since_left, 'Year Last Lived')"
   ]
  },
  {
   "cell_type": "markdown",
   "metadata": {},
   "source": [
    "**Question:** For the sleep data set, write a function that returns the row-wise sum of elements in three columns of the data set. "
   ]
  },
  {
   "cell_type": "code",
   "execution_count": 86,
   "metadata": {},
   "outputs": [
    {
     "data": {
      "text/html": [
       "<table border=\"1\" class=\"dataframe\">\n",
       "    <thead>\n",
       "        <tr>\n",
       "            <th>Gender</th> <th>ClassYear</th> <th>LarkOwl</th> <th>NumEarlyClass</th> <th>EarlyClass</th> <th>GPA</th> <th>ClassesMissed</th> <th>CognitionZscore</th> <th>PoorSleepQuality</th> <th>DepressionScore</th> <th>AnxietyScore</th> <th>StressScore</th> <th>DepressionStatus</th> <th>AnxietyStatus</th> <th>Stress</th> <th>DASScore</th> <th>Happiness</th> <th>AlcoholUse</th> <th>Drinks</th> <th>WeekdayBed</th> <th>WeekdayRise</th> <th>WeekdaySleep</th> <th>WeekendBed</th> <th>WeekendRise</th> <th>WeekendSleep</th> <th>AverageSleep</th> <th>AllNighter</th>\n",
       "        </tr>\n",
       "    </thead>\n",
       "    <tbody>\n",
       "        <tr>\n",
       "            <td>0     </td> <td>4        </td> <td>Neither</td> <td>0            </td> <td>0         </td> <td>3.6 </td> <td>0            </td> <td>-0.26          </td> <td>4               </td> <td>4              </td> <td>3           </td> <td>8          </td> <td>normal          </td> <td>normal       </td> <td>normal</td> <td>15      </td> <td>28       </td> <td>Moderate  </td> <td>10    </td> <td>25.75     </td> <td>8.7        </td> <td>7.7         </td> <td>25.75     </td> <td>9.5        </td> <td>5.88        </td> <td>7.18        </td> <td>0         </td>\n",
       "        </tr>\n",
       "        <tr>\n",
       "            <td>0     </td> <td>4        </td> <td>Neither</td> <td>2            </td> <td>1         </td> <td>3.24</td> <td>0            </td> <td>1.39           </td> <td>6               </td> <td>1              </td> <td>0           </td> <td>3          </td> <td>normal          </td> <td>normal       </td> <td>normal</td> <td>4       </td> <td>25       </td> <td>Moderate  </td> <td>6     </td> <td>25.7      </td> <td>8.2        </td> <td>6.8         </td> <td>26        </td> <td>10         </td> <td>7.25        </td> <td>6.93        </td> <td>0         </td>\n",
       "        </tr>\n",
       "        <tr>\n",
       "            <td>0     </td> <td>4        </td> <td>Owl    </td> <td>0            </td> <td>0         </td> <td>2.97</td> <td>12           </td> <td>0.38           </td> <td>18              </td> <td>18             </td> <td>18          </td> <td>9          </td> <td>moderate        </td> <td>severe       </td> <td>normal</td> <td>45      </td> <td>17       </td> <td>Light     </td> <td>3     </td> <td>27.44     </td> <td>6.55       </td> <td>3           </td> <td>28        </td> <td>12.59      </td> <td>10.09       </td> <td>5.02        </td> <td>0         </td>\n",
       "        </tr>\n",
       "        <tr>\n",
       "            <td>0     </td> <td>1        </td> <td>Lark   </td> <td>5            </td> <td>1         </td> <td>3.76</td> <td>0            </td> <td>1.39           </td> <td>9               </td> <td>1              </td> <td>4           </td> <td>6          </td> <td>normal          </td> <td>normal       </td> <td>normal</td> <td>11      </td> <td>32       </td> <td>Light     </td> <td>2     </td> <td>23.5      </td> <td>7.17       </td> <td>6.77        </td> <td>27        </td> <td>8          </td> <td>7.25        </td> <td>6.9         </td> <td>0         </td>\n",
       "        </tr>\n",
       "        <tr>\n",
       "            <td>0     </td> <td>4        </td> <td>Owl    </td> <td>0            </td> <td>0         </td> <td>3.2 </td> <td>4            </td> <td>1.22           </td> <td>9               </td> <td>7              </td> <td>25          </td> <td>14         </td> <td>normal          </td> <td>severe       </td> <td>normal</td> <td>46      </td> <td>15       </td> <td>Moderate  </td> <td>4     </td> <td>25.9      </td> <td>8.67       </td> <td>6.09        </td> <td>23.75     </td> <td>9.5        </td> <td>7           </td> <td>6.35        </td> <td>0         </td>\n",
       "        </tr>\n",
       "    </tbody>\n",
       "</table>"
      ],
      "text/plain": [
       "Gender | ClassYear | LarkOwl | NumEarlyClass | EarlyClass | GPA  | ClassesMissed | CognitionZscore | PoorSleepQuality | DepressionScore | AnxietyScore | StressScore | DepressionStatus | AnxietyStatus | Stress | DASScore | Happiness | AlcoholUse | Drinks | WeekdayBed | WeekdayRise | WeekdaySleep | WeekendBed | WeekendRise | WeekendSleep | AverageSleep | AllNighter\n",
       "0      | 4         | Neither | 0             | 0          | 3.6  | 0             | -0.26           | 4                | 4               | 3            | 8           | normal           | normal        | normal | 15       | 28        | Moderate   | 10     | 25.75      | 8.7         | 7.7          | 25.75      | 9.5         | 5.88         | 7.18         | 0\n",
       "0      | 4         | Neither | 2             | 1          | 3.24 | 0             | 1.39            | 6                | 1               | 0            | 3           | normal           | normal        | normal | 4        | 25        | Moderate   | 6      | 25.7       | 8.2         | 6.8          | 26         | 10          | 7.25         | 6.93         | 0\n",
       "0      | 4         | Owl     | 0             | 0          | 2.97 | 12            | 0.38            | 18               | 18              | 18           | 9           | moderate         | severe        | normal | 45       | 17        | Light      | 3      | 27.44      | 6.55        | 3            | 28         | 12.59       | 10.09        | 5.02         | 0\n",
       "0      | 1         | Lark    | 5             | 1          | 3.76 | 0             | 1.39            | 9                | 1               | 4            | 6           | normal           | normal        | normal | 11       | 32        | Light      | 2      | 23.5       | 7.17        | 6.77         | 27         | 8           | 7.25         | 6.9          | 0\n",
       "0      | 4         | Owl     | 0             | 0          | 3.2  | 4             | 1.22            | 9                | 7               | 25           | 14          | normal           | severe        | normal | 46       | 15        | Moderate   | 4      | 25.9       | 8.67        | 6.09         | 23.75      | 9.5         | 7            | 6.35         | 0"
      ]
     },
     "execution_count": 86,
     "metadata": {},
     "output_type": "execute_result"
    }
   ],
   "source": [
    "sleep.take(np.arange(5))"
   ]
  },
  {
   "cell_type": "code",
   "execution_count": 91,
   "metadata": {},
   "outputs": [],
   "source": [
    "def Calculate_DAS(Stress, Anxiety, Depression):\n",
    "    return sum(make_array(Stress, Anxiety, Depression))"
   ]
  },
  {
   "cell_type": "code",
   "execution_count": 88,
   "metadata": {},
   "outputs": [
    {
     "data": {
      "text/plain": [
       "15"
      ]
     },
     "execution_count": 88,
     "metadata": {},
     "output_type": "execute_result"
    }
   ],
   "source": [
    "Calculate_DAS(4, 3, 8)"
   ]
  },
  {
   "cell_type": "code",
   "execution_count": 89,
   "metadata": {},
   "outputs": [
    {
     "data": {
      "text/plain": [
       "15"
      ]
     },
     "execution_count": 89,
     "metadata": {},
     "output_type": "execute_result"
    }
   ],
   "source": [
    "Calculate_DAS(\n",
    "    sleep.column('StressScore').item(0),\n",
    "    sleep.column('AnxietyScore').item(0),\n",
    "    sleep.column('DepressionScore').item(0)\n",
    ")"
   ]
  },
  {
   "cell_type": "code",
   "execution_count": 92,
   "metadata": {},
   "outputs": [
    {
     "data": {
      "text/plain": [
       "array([15,  4, 45, 11, 46, 50,  2,  7, 48, 48, 27, 21, 41,  8,  5, 15, 44,\n",
       "       55,  6, 21, 34, 19, 12, 11, 18, 44, 41, 56, 18, 29, 53, 21,  7, 27,\n",
       "       41, 16,  7, 12, 26, 40,  4, 15,  0, 20, 22, 33, 31, 12,  7, 20,  8,\n",
       "       69, 15, 29,  4, 20, 59, 45,  5, 10,  6,  0, 16, 74, 26, 10, 10,  7,\n",
       "       23,  6, 11, 12, 28, 56, 21, 31, 39,  9, 11, 14, 29,  9, 36,  1, 41,\n",
       "        2, 47, 10, 21, 46,  3, 40,  4, 18,  0,  8,  7,  8,  8, 35,  0, 25,\n",
       "       25, 47, 53, 20,  3, 71, 25, 12, 22,  5,  1,  0, 10,  8,  2, 49,  6,\n",
       "       27,  2, 13, 31, 19,  8,  7, 17,  6, 45, 39,  6, 40, 10, 21, 13, 13,\n",
       "       19, 54,  2, 28, 31, 22, 32, 82,  8, 14, 19, 21,  6, 21,  1, 23,  6,\n",
       "       24,  8,  4, 30, 42,  3,  2, 67,  8, 19, 30, 10,  2, 28,  9, 16, 15,\n",
       "       23,  6, 28, 43,  9, 10, 50, 18,  3, 36,  0, 21,  6,  5,  5, 11, 13,\n",
       "       26, 23, 12, 25, 43, 28, 31, 68,  3, 16, 17, 17, 48, 12,  1,  0, 12,\n",
       "        3, 22,  1, 25, 32, 37,  8, 10, 20,  1,  2, 36, 15, 21, 10, 17,  9,\n",
       "       11,  4,  2,  2,  5, 29, 27, 34, 13, 22, 14, 11, 14, 45, 27,  2, 13,\n",
       "       12, 24, 12,  4,  7, 27, 24, 11,  2,  9, 24, 19,  3,  5,  5], dtype=int64)"
      ]
     },
     "execution_count": 92,
     "metadata": {},
     "output_type": "execute_result"
    }
   ],
   "source": [
    "sleep.apply(Calculate_DAS, 'StressScore', 'AnxietyScore', 'DepressionScore')"
   ]
  },
  {
   "cell_type": "code",
   "execution_count": 93,
   "metadata": {},
   "outputs": [
    {
     "data": {
      "text/html": [
       "<table border=\"1\" class=\"dataframe\">\n",
       "    <thead>\n",
       "        <tr>\n",
       "            <th>DASScore</th> <th>DAS Calculation</th>\n",
       "        </tr>\n",
       "    </thead>\n",
       "    <tbody>\n",
       "        <tr>\n",
       "            <td>15      </td> <td>15             </td>\n",
       "        </tr>\n",
       "        <tr>\n",
       "            <td>4       </td> <td>4              </td>\n",
       "        </tr>\n",
       "        <tr>\n",
       "            <td>45      </td> <td>45             </td>\n",
       "        </tr>\n",
       "        <tr>\n",
       "            <td>11      </td> <td>11             </td>\n",
       "        </tr>\n",
       "        <tr>\n",
       "            <td>46      </td> <td>46             </td>\n",
       "        </tr>\n",
       "        <tr>\n",
       "            <td>50      </td> <td>50             </td>\n",
       "        </tr>\n",
       "        <tr>\n",
       "            <td>2       </td> <td>2              </td>\n",
       "        </tr>\n",
       "        <tr>\n",
       "            <td>7       </td> <td>7              </td>\n",
       "        </tr>\n",
       "        <tr>\n",
       "            <td>48      </td> <td>48             </td>\n",
       "        </tr>\n",
       "        <tr>\n",
       "            <td>48      </td> <td>48             </td>\n",
       "        </tr>\n",
       "    </tbody>\n",
       "</table>\n",
       "<p>... (243 rows omitted)</p>"
      ],
      "text/plain": [
       "DASScore | DAS Calculation\n",
       "15       | 15\n",
       "4        | 4\n",
       "45       | 45\n",
       "11       | 11\n",
       "46       | 46\n",
       "50       | 50\n",
       "2        | 2\n",
       "7        | 7\n",
       "48       | 48\n",
       "48       | 48\n",
       "... (243 rows omitted)"
      ]
     },
     "execution_count": 93,
     "metadata": {},
     "output_type": "execute_result"
    }
   ],
   "source": [
    "sleep.select('DASScore', 'DAS Calculation')"
   ]
  },
  {
   "cell_type": "markdown",
   "metadata": {},
   "source": [
    "## Another example?\n",
    "\n",
    "## How many mentions?"
   ]
  },
  {
   "cell_type": "code",
   "execution_count": 94,
   "metadata": {},
   "outputs": [
    {
     "data": {
      "text/html": [
       "<table border=\"1\" class=\"dataframe\">\n",
       "    <thead>\n",
       "        <tr>\n",
       "            <th>Polarity</th> <th>Date</th> <th>User</th> <th>Text</th>\n",
       "        </tr>\n",
       "    </thead>\n",
       "    <tbody>\n",
       "        <tr>\n",
       "            <td>0       </td> <td>Mon Apr 06 22:19:49 PDT 2009</td> <td>scotthamilton  </td> <td>is upset that he can't update his Facebook by texting it ...</td>\n",
       "        </tr>\n",
       "        <tr>\n",
       "            <td>0       </td> <td>Mon Apr 06 22:19:53 PDT 2009</td> <td>mattycus       </td> <td>@Kenichan I dived many times for the ball. Managed to sa ...</td>\n",
       "        </tr>\n",
       "        <tr>\n",
       "            <td>0       </td> <td>Mon Apr 06 22:19:57 PDT 2009</td> <td>ElleCTF        </td> <td>my whole body feels itchy and like its on fire              </td>\n",
       "        </tr>\n",
       "        <tr>\n",
       "            <td>0       </td> <td>Mon Apr 06 22:19:57 PDT 2009</td> <td>Karoli         </td> <td>@nationwideclass no, it's not behaving at all. i'm mad.  ...</td>\n",
       "        </tr>\n",
       "        <tr>\n",
       "            <td>0       </td> <td>Mon Apr 06 22:20:00 PDT 2009</td> <td>joy_wolf       </td> <td>@Kwesidei not the whole crew                                </td>\n",
       "        </tr>\n",
       "        <tr>\n",
       "            <td>0       </td> <td>Mon Apr 06 22:20:03 PDT 2009</td> <td>mybirch        </td> <td>Need a hug                                                  </td>\n",
       "        </tr>\n",
       "        <tr>\n",
       "            <td>0       </td> <td>Mon Apr 06 22:20:03 PDT 2009</td> <td>coZZ           </td> <td>@LOLTrish hey  long time no see! Yes.. Rains a bit ,only ...</td>\n",
       "        </tr>\n",
       "        <tr>\n",
       "            <td>0       </td> <td>Mon Apr 06 22:20:05 PDT 2009</td> <td>2Hood4Hollywood</td> <td>@Tatiana_K nope they didn't have it                         </td>\n",
       "        </tr>\n",
       "        <tr>\n",
       "            <td>0       </td> <td>Mon Apr 06 22:20:09 PDT 2009</td> <td>mimismo        </td> <td>@twittera que me muera ?                                    </td>\n",
       "        </tr>\n",
       "        <tr>\n",
       "            <td>0       </td> <td>Mon Apr 06 22:20:16 PDT 2009</td> <td>erinx3leannexo </td> <td>spring break in plain city... it's snowing                  </td>\n",
       "        </tr>\n",
       "    </tbody>\n",
       "</table>\n",
       "<p>... (1048565 rows omitted)</p>"
      ],
      "text/plain": [
       "Polarity | Date                         | User            | Text\n",
       "0        | Mon Apr 06 22:19:49 PDT 2009 | scotthamilton   | is upset that he can't update his Facebook by texting it ...\n",
       "0        | Mon Apr 06 22:19:53 PDT 2009 | mattycus        | @Kenichan I dived many times for the ball. Managed to sa ...\n",
       "0        | Mon Apr 06 22:19:57 PDT 2009 | ElleCTF         | my whole body feels itchy and like its on fire\n",
       "0        | Mon Apr 06 22:19:57 PDT 2009 | Karoli          | @nationwideclass no, it's not behaving at all. i'm mad.  ...\n",
       "0        | Mon Apr 06 22:20:00 PDT 2009 | joy_wolf        | @Kwesidei not the whole crew\n",
       "0        | Mon Apr 06 22:20:03 PDT 2009 | mybirch         | Need a hug\n",
       "0        | Mon Apr 06 22:20:03 PDT 2009 | coZZ            | @LOLTrish hey  long time no see! Yes.. Rains a bit ,only ...\n",
       "0        | Mon Apr 06 22:20:05 PDT 2009 | 2Hood4Hollywood | @Tatiana_K nope they didn't have it\n",
       "0        | Mon Apr 06 22:20:09 PDT 2009 | mimismo         | @twittera que me muera ?\n",
       "0        | Mon Apr 06 22:20:16 PDT 2009 | erinx3leannexo  | spring break in plain city... it's snowing\n",
       "... (1048565 rows omitted)"
      ]
     },
     "execution_count": 94,
     "metadata": {},
     "output_type": "execute_result"
    }
   ],
   "source": [
    "Twitter = Table.read_table('Twitter.csv')\n",
    "Twitter"
   ]
  },
  {
   "cell_type": "markdown",
   "metadata": {},
   "source": [
    "**Question:** How many _i's_ are in the word `mississippi`?"
   ]
  },
  {
   "cell_type": "code",
   "execution_count": 102,
   "metadata": {},
   "outputs": [
    {
     "data": {
      "text/plain": [
       "4"
      ]
     },
     "execution_count": 102,
     "metadata": {},
     "output_type": "execute_result"
    }
   ],
   "source": [
    "'mississippi'.count('i')"
   ]
  },
  {
   "cell_type": "markdown",
   "metadata": {},
   "source": [
    "**Question:** Return the body of the second text in the `Twitter` data set."
   ]
  },
  {
   "cell_type": "code",
   "execution_count": 100,
   "metadata": {},
   "outputs": [
    {
     "data": {
      "text/plain": [
       "'@Kenichan I dived many times for the ball. Managed to save 50%  The rest go out of bounds'"
      ]
     },
     "execution_count": 100,
     "metadata": {},
     "output_type": "execute_result"
    }
   ],
   "source": [
    "Twitter.column('Text').item(1)"
   ]
  },
  {
   "cell_type": "markdown",
   "metadata": {},
   "source": [
    "**Question:** How many @ symbols are in the second text in the `Twitter` data set."
   ]
  },
  {
   "cell_type": "code",
   "execution_count": 101,
   "metadata": {},
   "outputs": [
    {
     "data": {
      "text/plain": [
       "1"
      ]
     },
     "execution_count": 101,
     "metadata": {},
     "output_type": "execute_result"
    }
   ],
   "source": [
    "Twitter.column('Text').item(1).count('@')"
   ]
  },
  {
   "cell_type": "markdown",
   "metadata": {},
   "source": [
    "**Question:** Return the body of the third text in the `Twitter` data set."
   ]
  },
  {
   "cell_type": "code",
   "execution_count": 104,
   "metadata": {},
   "outputs": [
    {
     "data": {
      "text/plain": [
       "'my whole body feels itchy and like its on fire '"
      ]
     },
     "execution_count": 104,
     "metadata": {},
     "output_type": "execute_result"
    }
   ],
   "source": [
    "Twitter.column('Text').item(2)"
   ]
  },
  {
   "cell_type": "markdown",
   "metadata": {},
   "source": [
    "**Question:** How many alphabet `o` are in the third text in the `Twitter` data set."
   ]
  },
  {
   "cell_type": "code",
   "execution_count": 105,
   "metadata": {},
   "outputs": [
    {
     "data": {
      "text/plain": [
       "3"
      ]
     },
     "execution_count": 105,
     "metadata": {},
     "output_type": "execute_result"
    }
   ],
   "source": [
    "Twitter.column('Text').item(2).count('o')"
   ]
  },
  {
   "cell_type": "markdown",
   "metadata": {},
   "source": [
    "**Question:** Write a custom or user-defined function that takes a text and counts the number of a given character that appears in that text?"
   ]
  },
  {
   "cell_type": "code",
   "execution_count": 106,
   "metadata": {},
   "outputs": [],
   "source": [
    "def Mention_Count(text):\n",
    "    return text.count('@')"
   ]
  },
  {
   "cell_type": "code",
   "execution_count": 108,
   "metadata": {},
   "outputs": [
    {
     "data": {
      "text/plain": [
       "1"
      ]
     },
     "execution_count": 108,
     "metadata": {},
     "output_type": "execute_result"
    }
   ],
   "source": [
    "Mention_Count(Twitter.column('Text').item(1))"
   ]
  },
  {
   "cell_type": "code",
   "execution_count": 109,
   "metadata": {},
   "outputs": [
    {
     "ename": "AttributeError",
     "evalue": "'numpy.ndarray' object has no attribute 'count'",
     "output_type": "error",
     "traceback": [
      "\u001b[1;31m---------------------------------------------------------------------------\u001b[0m",
      "\u001b[1;31mAttributeError\u001b[0m                            Traceback (most recent call last)",
      "\u001b[1;32m~\\AppData\\Local\\Temp/ipykernel_19532/1888685561.py\u001b[0m in \u001b[0;36m<module>\u001b[1;34m\u001b[0m\n\u001b[1;32m----> 1\u001b[1;33m \u001b[0mMention_Count\u001b[0m\u001b[1;33m(\u001b[0m\u001b[0mTwitter\u001b[0m\u001b[1;33m.\u001b[0m\u001b[0mcolumn\u001b[0m\u001b[1;33m(\u001b[0m\u001b[1;34m'Text'\u001b[0m\u001b[1;33m)\u001b[0m\u001b[1;33m)\u001b[0m\u001b[1;33m\u001b[0m\u001b[1;33m\u001b[0m\u001b[0m\n\u001b[0m",
      "\u001b[1;32m~\\AppData\\Local\\Temp/ipykernel_19532/3802100243.py\u001b[0m in \u001b[0;36mMention_Count\u001b[1;34m(text)\u001b[0m\n\u001b[0;32m      1\u001b[0m \u001b[1;32mdef\u001b[0m \u001b[0mMention_Count\u001b[0m\u001b[1;33m(\u001b[0m\u001b[0mtext\u001b[0m\u001b[1;33m)\u001b[0m\u001b[1;33m:\u001b[0m\u001b[1;33m\u001b[0m\u001b[1;33m\u001b[0m\u001b[0m\n\u001b[1;32m----> 2\u001b[1;33m     \u001b[1;32mreturn\u001b[0m \u001b[0mtext\u001b[0m\u001b[1;33m.\u001b[0m\u001b[0mcount\u001b[0m\u001b[1;33m(\u001b[0m\u001b[1;34m'@'\u001b[0m\u001b[1;33m)\u001b[0m\u001b[1;33m\u001b[0m\u001b[1;33m\u001b[0m\u001b[0m\n\u001b[0m",
      "\u001b[1;31mAttributeError\u001b[0m: 'numpy.ndarray' object has no attribute 'count'"
     ]
    }
   ],
   "source": [
    "Mention_Count(Twitter.column('Text'))"
   ]
  },
  {
   "cell_type": "markdown",
   "metadata": {},
   "source": [
    "## Apply ##"
   ]
  },
  {
   "cell_type": "code",
   "execution_count": 110,
   "metadata": {},
   "outputs": [
    {
     "data": {
      "text/plain": [
       "array([0, 1, 0, ..., 1, 1, 0])"
      ]
     },
     "execution_count": 110,
     "metadata": {},
     "output_type": "execute_result"
    }
   ],
   "source": [
    "Twitter.apply(Mention_Count, 'Text')"
   ]
  },
  {
   "cell_type": "code",
   "execution_count": 111,
   "metadata": {
    "tags": []
   },
   "outputs": [
    {
     "data": {
      "text/html": [
       "<table border=\"1\" class=\"dataframe\">\n",
       "    <thead>\n",
       "        <tr>\n",
       "            <th>Polarity</th> <th>Date</th> <th>User</th> <th>Text</th> <th>Mentions</th>\n",
       "        </tr>\n",
       "    </thead>\n",
       "    <tbody>\n",
       "        <tr>\n",
       "            <td>0       </td> <td>Mon Apr 06 22:19:49 PDT 2009</td> <td>scotthamilton  </td> <td>is upset that he can't update his Facebook by texting it ...</td> <td>0       </td>\n",
       "        </tr>\n",
       "        <tr>\n",
       "            <td>0       </td> <td>Mon Apr 06 22:19:53 PDT 2009</td> <td>mattycus       </td> <td>@Kenichan I dived many times for the ball. Managed to sa ...</td> <td>1       </td>\n",
       "        </tr>\n",
       "        <tr>\n",
       "            <td>0       </td> <td>Mon Apr 06 22:19:57 PDT 2009</td> <td>ElleCTF        </td> <td>my whole body feels itchy and like its on fire              </td> <td>0       </td>\n",
       "        </tr>\n",
       "        <tr>\n",
       "            <td>0       </td> <td>Mon Apr 06 22:19:57 PDT 2009</td> <td>Karoli         </td> <td>@nationwideclass no, it's not behaving at all. i'm mad.  ...</td> <td>1       </td>\n",
       "        </tr>\n",
       "        <tr>\n",
       "            <td>0       </td> <td>Mon Apr 06 22:20:00 PDT 2009</td> <td>joy_wolf       </td> <td>@Kwesidei not the whole crew                                </td> <td>1       </td>\n",
       "        </tr>\n",
       "        <tr>\n",
       "            <td>0       </td> <td>Mon Apr 06 22:20:03 PDT 2009</td> <td>mybirch        </td> <td>Need a hug                                                  </td> <td>0       </td>\n",
       "        </tr>\n",
       "        <tr>\n",
       "            <td>0       </td> <td>Mon Apr 06 22:20:03 PDT 2009</td> <td>coZZ           </td> <td>@LOLTrish hey  long time no see! Yes.. Rains a bit ,only ...</td> <td>1       </td>\n",
       "        </tr>\n",
       "        <tr>\n",
       "            <td>0       </td> <td>Mon Apr 06 22:20:05 PDT 2009</td> <td>2Hood4Hollywood</td> <td>@Tatiana_K nope they didn't have it                         </td> <td>1       </td>\n",
       "        </tr>\n",
       "        <tr>\n",
       "            <td>0       </td> <td>Mon Apr 06 22:20:09 PDT 2009</td> <td>mimismo        </td> <td>@twittera que me muera ?                                    </td> <td>1       </td>\n",
       "        </tr>\n",
       "        <tr>\n",
       "            <td>0       </td> <td>Mon Apr 06 22:20:16 PDT 2009</td> <td>erinx3leannexo </td> <td>spring break in plain city... it's snowing                  </td> <td>0       </td>\n",
       "        </tr>\n",
       "    </tbody>\n",
       "</table>\n",
       "<p>... (1048565 rows omitted)</p>"
      ],
      "text/plain": [
       "Polarity | Date                         | User            | Text                                                         | Mentions\n",
       "0        | Mon Apr 06 22:19:49 PDT 2009 | scotthamilton   | is upset that he can't update his Facebook by texting it ... | 0\n",
       "0        | Mon Apr 06 22:19:53 PDT 2009 | mattycus        | @Kenichan I dived many times for the ball. Managed to sa ... | 1\n",
       "0        | Mon Apr 06 22:19:57 PDT 2009 | ElleCTF         | my whole body feels itchy and like its on fire               | 0\n",
       "0        | Mon Apr 06 22:19:57 PDT 2009 | Karoli          | @nationwideclass no, it's not behaving at all. i'm mad.  ... | 1\n",
       "0        | Mon Apr 06 22:20:00 PDT 2009 | joy_wolf        | @Kwesidei not the whole crew                                 | 1\n",
       "0        | Mon Apr 06 22:20:03 PDT 2009 | mybirch         | Need a hug                                                   | 0\n",
       "0        | Mon Apr 06 22:20:03 PDT 2009 | coZZ            | @LOLTrish hey  long time no see! Yes.. Rains a bit ,only ... | 1\n",
       "0        | Mon Apr 06 22:20:05 PDT 2009 | 2Hood4Hollywood | @Tatiana_K nope they didn't have it                          | 1\n",
       "0        | Mon Apr 06 22:20:09 PDT 2009 | mimismo         | @twittera que me muera ?                                     | 1\n",
       "0        | Mon Apr 06 22:20:16 PDT 2009 | erinx3leannexo  | spring break in plain city... it's snowing                   | 0\n",
       "... (1048565 rows omitted)"
      ]
     },
     "execution_count": 111,
     "metadata": {},
     "output_type": "execute_result"
    }
   ],
   "source": [
    "Twitter_with_Mentions = Twitter.with_column(\n",
    "    'Mentions',\n",
    "    Twitter.apply(Mention_Count, 'Text')\n",
    ")\n",
    "\n",
    "Twitter_with_Mentions"
   ]
  },
  {
   "cell_type": "code",
   "execution_count": 112,
   "metadata": {},
   "outputs": [
    {
     "data": {
      "text/plain": [
       "13"
      ]
     },
     "execution_count": 112,
     "metadata": {},
     "output_type": "execute_result"
    }
   ],
   "source": [
    "max(Twitter_with_Mentions.column('Mentions'))"
   ]
  },
  {
   "cell_type": "code",
   "execution_count": 113,
   "metadata": {},
   "outputs": [
    {
     "data": {
      "text/plain": [
       "array([0, 4])"
      ]
     },
     "execution_count": 113,
     "metadata": {},
     "output_type": "execute_result"
    }
   ],
   "source": [
    "np.unique(Twitter.column('Polarity'))"
   ]
  },
  {
   "cell_type": "code",
   "execution_count": 114,
   "metadata": {},
   "outputs": [
    {
     "data": {
      "image/png": "[encoded data removed]",
      "text/plain": [
       "<Figure size 432x288 with 1 Axes>"
      ]
     },
     "metadata": {},
     "output_type": "display_data"
    }
   ],
   "source": [
    "Twitter_with_Mentions.where('Polarity', 0).hist('Mentions', bins = np.arange(10))"
   ]
  },
  {
   "cell_type": "code",
   "execution_count": 115,
   "metadata": {},
   "outputs": [
    {
     "data": {
      "image/png": "[encoded data removed]",
      "text/plain": [
       "<Figure size 432x288 with 1 Axes>"
      ]
     },
     "metadata": {},
     "output_type": "display_data"
    }
   ],
   "source": [
    "Twitter_with_Mentions.where('Polarity', 4).hist('Mentions', bins = np.arange(10))"
   ]
  },
  {
   "cell_type": "code",
   "execution_count": null,
   "metadata": {},
   "outputs": [],
   "source": []
  }
 ],
 "metadata": {
  "anaconda-cloud": {},
  "kernelspec": {
   "display_name": "Python 3 (ipykernel)",
   "language": "python",
   "name": "python3"
  },
  "language_info": {
   "codemirror_mode": {
    "name": "ipython",
    "version": 3
   },
   "file_extension": ".py",
   "mimetype": "text/x-python",
   "name": "python",
   "nbconvert_exporter": "python",
   "pygments_lexer": "ipython3",
   "version": "3.9.7"
  }
 },
 "nbformat": 4,
 "nbformat_minor": 4
}
