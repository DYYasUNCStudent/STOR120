{
 "cells": [
  {
   "cell_type": "code",
   "execution_count": 2,
   "metadata": {
    "tags": []
   },
   "outputs": [],
   "source": [
    "from datascience import *\n",
    "import numpy as np\n",
    "import warnings\n",
    "warnings.filterwarnings(\"ignore\")\n",
    "\n",
    "%matplotlib inline\n",
    "import matplotlib.pyplot as plots\n",
    "plots.style.use('fivethirtyeight')\n",
    "plots.rcParams[\"patch.force_edgecolor\"] = True"
   ]
  },
  {
   "cell_type": "markdown",
   "metadata": {},
   "source": [
    "## Lecture 8 ##"
   ]
  },
  {
   "cell_type": "markdown",
   "metadata": {},
   "source": [
    "## REVIEW: Visualizing Categorical Distribution ##\n",
    "\n",
    "Here are some examples of categorical variables.\n",
    "\n",
    "- The individuals are cartons of ice-cream, and the variable is the flavor in the carton.\n",
    "\n",
    "- The individuals are professional basketball players, and the variable is the player’s team.\n",
    "\n",
    "- The individuals are years, and the variable is the genre of the highest grossing movie of the year.\n",
    "\n",
    "- The individuals are survey respondents, and the variable is the response they choose from among “Not at all satisfied,” “Somewhat satisfied,” and “Very satisfied.”"
   ]
  },
  {
   "cell_type": "code",
   "execution_count": 3,
   "metadata": {
    "tags": []
   },
   "outputs": [
    {
     "data": {
      "text/html": [
       "<table border=\"1\" class=\"dataframe\">\n",
       "    <thead>\n",
       "        <tr>\n",
       "            <th>Rank</th> <th>Name</th> <th>Platform</th> <th>Year</th> <th>Genre</th> <th>Publisher</th> <th>NA_Sales</th> <th>EU_Sales</th> <th>JP_Sales</th> <th>Other_Sales</th> <th>Global_Sales</th>\n",
       "        </tr>\n",
       "    </thead>\n",
       "    <tbody>\n",
       "        <tr>\n",
       "            <td>1   </td> <td>Wii Sports               </td> <td>Wii     </td> <td>2006</td> <td>Sports      </td> <td>Nintendo </td> <td>41.49   </td> <td>29.02   </td> <td>3.77    </td> <td>8.46       </td> <td>82.74       </td>\n",
       "        </tr>\n",
       "        <tr>\n",
       "            <td>2   </td> <td>Super Mario Bros.        </td> <td>NES     </td> <td>1985</td> <td>Platform    </td> <td>Nintendo </td> <td>29.08   </td> <td>3.58    </td> <td>6.81    </td> <td>0.77       </td> <td>40.24       </td>\n",
       "        </tr>\n",
       "        <tr>\n",
       "            <td>3   </td> <td>Mario Kart Wii           </td> <td>Wii     </td> <td>2008</td> <td>Racing      </td> <td>Nintendo </td> <td>15.85   </td> <td>12.88   </td> <td>3.79    </td> <td>3.31       </td> <td>35.82       </td>\n",
       "        </tr>\n",
       "        <tr>\n",
       "            <td>4   </td> <td>Wii Sports Resort        </td> <td>Wii     </td> <td>2009</td> <td>Sports      </td> <td>Nintendo </td> <td>15.75   </td> <td>11.01   </td> <td>3.28    </td> <td>2.96       </td> <td>33          </td>\n",
       "        </tr>\n",
       "        <tr>\n",
       "            <td>5   </td> <td>Pokemon Red/Pokemon Blue </td> <td>GB      </td> <td>1996</td> <td>Role-Playing</td> <td>Nintendo </td> <td>11.27   </td> <td>8.89    </td> <td>10.22   </td> <td>1          </td> <td>31.37       </td>\n",
       "        </tr>\n",
       "        <tr>\n",
       "            <td>6   </td> <td>Tetris                   </td> <td>GB      </td> <td>1989</td> <td>Puzzle      </td> <td>Nintendo </td> <td>23.2    </td> <td>2.26    </td> <td>4.22    </td> <td>0.58       </td> <td>30.26       </td>\n",
       "        </tr>\n",
       "        <tr>\n",
       "            <td>7   </td> <td>New Super Mario Bros.    </td> <td>DS      </td> <td>2006</td> <td>Platform    </td> <td>Nintendo </td> <td>11.38   </td> <td>9.23    </td> <td>6.5     </td> <td>2.9        </td> <td>30.01       </td>\n",
       "        </tr>\n",
       "        <tr>\n",
       "            <td>8   </td> <td>Wii Play                 </td> <td>Wii     </td> <td>2006</td> <td>Misc        </td> <td>Nintendo </td> <td>14.03   </td> <td>9.2     </td> <td>2.93    </td> <td>2.85       </td> <td>29.02       </td>\n",
       "        </tr>\n",
       "        <tr>\n",
       "            <td>9   </td> <td>New Super Mario Bros. Wii</td> <td>Wii     </td> <td>2009</td> <td>Platform    </td> <td>Nintendo </td> <td>14.59   </td> <td>7.06    </td> <td>4.7     </td> <td>2.26       </td> <td>28.62       </td>\n",
       "        </tr>\n",
       "        <tr>\n",
       "            <td>10  </td> <td>Duck Hunt                </td> <td>NES     </td> <td>1984</td> <td>Shooter     </td> <td>Nintendo </td> <td>26.93   </td> <td>0.63    </td> <td>0.28    </td> <td>0.47       </td> <td>28.31       </td>\n",
       "        </tr>\n",
       "    </tbody>\n",
       "</table>\n",
       "<p>... (16588 rows omitted)</p>"
      ],
      "text/plain": [
       "Rank | Name                      | Platform | Year | Genre        | Publisher | NA_Sales | EU_Sales | JP_Sales | Other_Sales | Global_Sales\n",
       "1    | Wii Sports                | Wii      | 2006 | Sports       | Nintendo  | 41.49    | 29.02    | 3.77     | 8.46        | 82.74\n",
       "2    | Super Mario Bros.         | NES      | 1985 | Platform     | Nintendo  | 29.08    | 3.58     | 6.81     | 0.77        | 40.24\n",
       "3    | Mario Kart Wii            | Wii      | 2008 | Racing       | Nintendo  | 15.85    | 12.88    | 3.79     | 3.31        | 35.82\n",
       "4    | Wii Sports Resort         | Wii      | 2009 | Sports       | Nintendo  | 15.75    | 11.01    | 3.28     | 2.96        | 33\n",
       "5    | Pokemon Red/Pokemon Blue  | GB       | 1996 | Role-Playing | Nintendo  | 11.27    | 8.89     | 10.22    | 1           | 31.37\n",
       "6    | Tetris                    | GB       | 1989 | Puzzle       | Nintendo  | 23.2     | 2.26     | 4.22     | 0.58        | 30.26\n",
       "7    | New Super Mario Bros.     | DS       | 2006 | Platform     | Nintendo  | 11.38    | 9.23     | 6.5      | 2.9         | 30.01\n",
       "8    | Wii Play                  | Wii      | 2006 | Misc         | Nintendo  | 14.03    | 9.2      | 2.93     | 2.85        | 29.02\n",
       "9    | New Super Mario Bros. Wii | Wii      | 2009 | Platform     | Nintendo  | 14.59    | 7.06     | 4.7      | 2.26        | 28.62\n",
       "10   | Duck Hunt                 | NES      | 1984 | Shooter      | Nintendo  | 26.93    | 0.63     | 0.28     | 0.47        | 28.31\n",
       "... (16588 rows omitted)"
      ]
     },
     "execution_count": 3,
     "metadata": {},
     "output_type": "execute_result"
    }
   ],
   "source": [
    "vgsales = Table.read_table('vgsales.csv')\n",
    "vgsales"
   ]
  },
  {
   "cell_type": "code",
   "execution_count": 4,
   "metadata": {
    "tags": []
   },
   "outputs": [
    {
     "data": {
      "text/html": [
       "<table border=\"1\" class=\"dataframe\">\n",
       "    <thead>\n",
       "        <tr>\n",
       "            <th>Rank</th> <th>Name</th> <th>Platform</th> <th>Year</th> <th>Genre</th> <th>Publisher</th> <th>NA_Sales</th> <th>EU_Sales</th> <th>JP_Sales</th> <th>Other_Sales</th> <th>Global_Sales</th> <th>Years Since Release</th>\n",
       "        </tr>\n",
       "    </thead>\n",
       "    <tbody>\n",
       "        <tr>\n",
       "            <td>1   </td> <td>Wii Sports               </td> <td>Wii     </td> <td>2006</td> <td>Sports      </td> <td>Nintendo </td> <td>41.49   </td> <td>29.02   </td> <td>3.77    </td> <td>8.46       </td> <td>82.74       </td> <td>18                 </td>\n",
       "        </tr>\n",
       "        <tr>\n",
       "            <td>2   </td> <td>Super Mario Bros.        </td> <td>NES     </td> <td>1985</td> <td>Platform    </td> <td>Nintendo </td> <td>29.08   </td> <td>3.58    </td> <td>6.81    </td> <td>0.77       </td> <td>40.24       </td> <td>39                 </td>\n",
       "        </tr>\n",
       "        <tr>\n",
       "            <td>3   </td> <td>Mario Kart Wii           </td> <td>Wii     </td> <td>2008</td> <td>Racing      </td> <td>Nintendo </td> <td>15.85   </td> <td>12.88   </td> <td>3.79    </td> <td>3.31       </td> <td>35.82       </td> <td>16                 </td>\n",
       "        </tr>\n",
       "        <tr>\n",
       "            <td>4   </td> <td>Wii Sports Resort        </td> <td>Wii     </td> <td>2009</td> <td>Sports      </td> <td>Nintendo </td> <td>15.75   </td> <td>11.01   </td> <td>3.28    </td> <td>2.96       </td> <td>33          </td> <td>15                 </td>\n",
       "        </tr>\n",
       "        <tr>\n",
       "            <td>5   </td> <td>Pokemon Red/Pokemon Blue </td> <td>GB      </td> <td>1996</td> <td>Role-Playing</td> <td>Nintendo </td> <td>11.27   </td> <td>8.89    </td> <td>10.22   </td> <td>1          </td> <td>31.37       </td> <td>28                 </td>\n",
       "        </tr>\n",
       "        <tr>\n",
       "            <td>6   </td> <td>Tetris                   </td> <td>GB      </td> <td>1989</td> <td>Puzzle      </td> <td>Nintendo </td> <td>23.2    </td> <td>2.26    </td> <td>4.22    </td> <td>0.58       </td> <td>30.26       </td> <td>35                 </td>\n",
       "        </tr>\n",
       "        <tr>\n",
       "            <td>7   </td> <td>New Super Mario Bros.    </td> <td>DS      </td> <td>2006</td> <td>Platform    </td> <td>Nintendo </td> <td>11.38   </td> <td>9.23    </td> <td>6.5     </td> <td>2.9        </td> <td>30.01       </td> <td>18                 </td>\n",
       "        </tr>\n",
       "        <tr>\n",
       "            <td>8   </td> <td>Wii Play                 </td> <td>Wii     </td> <td>2006</td> <td>Misc        </td> <td>Nintendo </td> <td>14.03   </td> <td>9.2     </td> <td>2.93    </td> <td>2.85       </td> <td>29.02       </td> <td>18                 </td>\n",
       "        </tr>\n",
       "        <tr>\n",
       "            <td>9   </td> <td>New Super Mario Bros. Wii</td> <td>Wii     </td> <td>2009</td> <td>Platform    </td> <td>Nintendo </td> <td>14.59   </td> <td>7.06    </td> <td>4.7     </td> <td>2.26       </td> <td>28.62       </td> <td>15                 </td>\n",
       "        </tr>\n",
       "        <tr>\n",
       "            <td>10  </td> <td>Duck Hunt                </td> <td>NES     </td> <td>1984</td> <td>Shooter     </td> <td>Nintendo </td> <td>26.93   </td> <td>0.63    </td> <td>0.28    </td> <td>0.47       </td> <td>28.31       </td> <td>40                 </td>\n",
       "        </tr>\n",
       "    </tbody>\n",
       "</table>\n",
       "<p>... (16588 rows omitted)</p>"
      ],
      "text/plain": [
       "Rank | Name                      | Platform | Year | Genre        | Publisher | NA_Sales | EU_Sales | JP_Sales | Other_Sales | Global_Sales | Years Since Release\n",
       "1    | Wii Sports                | Wii      | 2006 | Sports       | Nintendo  | 41.49    | 29.02    | 3.77     | 8.46        | 82.74        | 18\n",
       "2    | Super Mario Bros.         | NES      | 1985 | Platform     | Nintendo  | 29.08    | 3.58     | 6.81     | 0.77        | 40.24        | 39\n",
       "3    | Mario Kart Wii            | Wii      | 2008 | Racing       | Nintendo  | 15.85    | 12.88    | 3.79     | 3.31        | 35.82        | 16\n",
       "4    | Wii Sports Resort         | Wii      | 2009 | Sports       | Nintendo  | 15.75    | 11.01    | 3.28     | 2.96        | 33           | 15\n",
       "5    | Pokemon Red/Pokemon Blue  | GB       | 1996 | Role-Playing | Nintendo  | 11.27    | 8.89     | 10.22    | 1           | 31.37        | 28\n",
       "6    | Tetris                    | GB       | 1989 | Puzzle       | Nintendo  | 23.2     | 2.26     | 4.22     | 0.58        | 30.26        | 35\n",
       "7    | New Super Mario Bros.     | DS       | 2006 | Platform     | Nintendo  | 11.38    | 9.23     | 6.5      | 2.9         | 30.01        | 18\n",
       "8    | Wii Play                  | Wii      | 2006 | Misc         | Nintendo  | 14.03    | 9.2      | 2.93     | 2.85        | 29.02        | 18\n",
       "9    | New Super Mario Bros. Wii | Wii      | 2009 | Platform     | Nintendo  | 14.59    | 7.06     | 4.7      | 2.26        | 28.62        | 15\n",
       "10   | Duck Hunt                 | NES      | 1984 | Shooter      | Nintendo  | 26.93    | 0.63     | 0.28     | 0.47        | 28.31        | 40\n",
       "... (16588 rows omitted)"
      ]
     },
     "execution_count": 4,
     "metadata": {},
     "output_type": "execute_result"
    }
   ],
   "source": [
    "# New years_since variable\n",
    "years_since = 2024 - vgsales.column('Year')\n",
    "\n",
    "# Add Age column to table\n",
    "vgsales = vgsales.with_column('Years Since Release', years_since)\n",
    "vgsales"
   ]
  },
  {
   "cell_type": "markdown",
   "metadata": {},
   "source": [
    "**Question:** How many different genres of games are there? \n",
    "\n",
    "`Hint:` Construct a frequency(count) distribution for the appropriate categorical variable in the data set. This is considered a summary of the categorical variable."
   ]
  },
  {
   "cell_type": "code",
   "execution_count": 5,
   "metadata": {
    "tags": []
   },
   "outputs": [
    {
     "data": {
      "text/html": [
       "<table border=\"1\" class=\"dataframe\">\n",
       "    <thead>\n",
       "        <tr>\n",
       "            <th>Genre</th> <th>count</th>\n",
       "        </tr>\n",
       "    </thead>\n",
       "    <tbody>\n",
       "        <tr>\n",
       "            <td>Action      </td> <td>3316 </td>\n",
       "        </tr>\n",
       "        <tr>\n",
       "            <td>Adventure   </td> <td>1286 </td>\n",
       "        </tr>\n",
       "        <tr>\n",
       "            <td>Fighting    </td> <td>848  </td>\n",
       "        </tr>\n",
       "        <tr>\n",
       "            <td>Misc        </td> <td>1739 </td>\n",
       "        </tr>\n",
       "        <tr>\n",
       "            <td>Platform    </td> <td>886  </td>\n",
       "        </tr>\n",
       "        <tr>\n",
       "            <td>Puzzle      </td> <td>582  </td>\n",
       "        </tr>\n",
       "        <tr>\n",
       "            <td>Racing      </td> <td>1249 </td>\n",
       "        </tr>\n",
       "        <tr>\n",
       "            <td>Role-Playing</td> <td>1488 </td>\n",
       "        </tr>\n",
       "        <tr>\n",
       "            <td>Shooter     </td> <td>1310 </td>\n",
       "        </tr>\n",
       "        <tr>\n",
       "            <td>Simulation  </td> <td>867  </td>\n",
       "        </tr>\n",
       "    </tbody>\n",
       "</table>\n",
       "<p>... (2 rows omitted)</p>"
      ],
      "text/plain": [
       "Genre        | count\n",
       "Action       | 3316\n",
       "Adventure    | 1286\n",
       "Fighting     | 848\n",
       "Misc         | 1739\n",
       "Platform     | 886\n",
       "Puzzle       | 582\n",
       "Racing       | 1249\n",
       "Role-Playing | 1488\n",
       "Shooter      | 1310\n",
       "Simulation   | 867\n",
       "... (2 rows omitted)"
      ]
     },
     "execution_count": 5,
     "metadata": {},
     "output_type": "execute_result"
    }
   ],
   "source": [
    "genre_distribution = vgsales.group('Genre')\n",
    "genre_distribution"
   ]
  },
  {
   "cell_type": "code",
   "execution_count": 6,
   "metadata": {
    "tags": []
   },
   "outputs": [
    {
     "data": {
      "text/plain": [
       "16598"
      ]
     },
     "execution_count": 6,
     "metadata": {},
     "output_type": "execute_result"
    }
   ],
   "source": [
    "sum(genre_distribution.column('count'))"
   ]
  },
  {
   "cell_type": "code",
   "execution_count": 7,
   "metadata": {
    "tags": []
   },
   "outputs": [
    {
     "data": {
      "text/html": [
       "<table border=\"1\" class=\"dataframe\">\n",
       "    <thead>\n",
       "        <tr>\n",
       "            <th>Rank</th> <th>Name</th> <th>Platform</th> <th>Year</th> <th>Genre</th> <th>Publisher</th> <th>NA_Sales</th> <th>EU_Sales</th> <th>JP_Sales</th> <th>Other_Sales</th> <th>Global_Sales</th> <th>Years Since Release</th>\n",
       "        </tr>\n",
       "    </thead>\n",
       "    <tbody>\n",
       "        <tr>\n",
       "            <td>1   </td> <td>Wii Sports               </td> <td>Wii     </td> <td>2006</td> <td>Sports      </td> <td>Nintendo </td> <td>41.49   </td> <td>29.02   </td> <td>3.77    </td> <td>8.46       </td> <td>82.74       </td> <td>18                 </td>\n",
       "        </tr>\n",
       "        <tr>\n",
       "            <td>2   </td> <td>Super Mario Bros.        </td> <td>NES     </td> <td>1985</td> <td>Platform    </td> <td>Nintendo </td> <td>29.08   </td> <td>3.58    </td> <td>6.81    </td> <td>0.77       </td> <td>40.24       </td> <td>39                 </td>\n",
       "        </tr>\n",
       "        <tr>\n",
       "            <td>3   </td> <td>Mario Kart Wii           </td> <td>Wii     </td> <td>2008</td> <td>Racing      </td> <td>Nintendo </td> <td>15.85   </td> <td>12.88   </td> <td>3.79    </td> <td>3.31       </td> <td>35.82       </td> <td>16                 </td>\n",
       "        </tr>\n",
       "        <tr>\n",
       "            <td>4   </td> <td>Wii Sports Resort        </td> <td>Wii     </td> <td>2009</td> <td>Sports      </td> <td>Nintendo </td> <td>15.75   </td> <td>11.01   </td> <td>3.28    </td> <td>2.96       </td> <td>33          </td> <td>15                 </td>\n",
       "        </tr>\n",
       "        <tr>\n",
       "            <td>5   </td> <td>Pokemon Red/Pokemon Blue </td> <td>GB      </td> <td>1996</td> <td>Role-Playing</td> <td>Nintendo </td> <td>11.27   </td> <td>8.89    </td> <td>10.22   </td> <td>1          </td> <td>31.37       </td> <td>28                 </td>\n",
       "        </tr>\n",
       "        <tr>\n",
       "            <td>6   </td> <td>Tetris                   </td> <td>GB      </td> <td>1989</td> <td>Puzzle      </td> <td>Nintendo </td> <td>23.2    </td> <td>2.26    </td> <td>4.22    </td> <td>0.58       </td> <td>30.26       </td> <td>35                 </td>\n",
       "        </tr>\n",
       "        <tr>\n",
       "            <td>7   </td> <td>New Super Mario Bros.    </td> <td>DS      </td> <td>2006</td> <td>Platform    </td> <td>Nintendo </td> <td>11.38   </td> <td>9.23    </td> <td>6.5     </td> <td>2.9        </td> <td>30.01       </td> <td>18                 </td>\n",
       "        </tr>\n",
       "        <tr>\n",
       "            <td>8   </td> <td>Wii Play                 </td> <td>Wii     </td> <td>2006</td> <td>Misc        </td> <td>Nintendo </td> <td>14.03   </td> <td>9.2     </td> <td>2.93    </td> <td>2.85       </td> <td>29.02       </td> <td>18                 </td>\n",
       "        </tr>\n",
       "        <tr>\n",
       "            <td>9   </td> <td>New Super Mario Bros. Wii</td> <td>Wii     </td> <td>2009</td> <td>Platform    </td> <td>Nintendo </td> <td>14.59   </td> <td>7.06    </td> <td>4.7     </td> <td>2.26       </td> <td>28.62       </td> <td>15                 </td>\n",
       "        </tr>\n",
       "        <tr>\n",
       "            <td>10  </td> <td>Duck Hunt                </td> <td>NES     </td> <td>1984</td> <td>Shooter     </td> <td>Nintendo </td> <td>26.93   </td> <td>0.63    </td> <td>0.28    </td> <td>0.47       </td> <td>28.31       </td> <td>40                 </td>\n",
       "        </tr>\n",
       "    </tbody>\n",
       "</table>\n",
       "<p>... (693 rows omitted)</p>"
      ],
      "text/plain": [
       "Rank | Name                      | Platform | Year | Genre        | Publisher | NA_Sales | EU_Sales | JP_Sales | Other_Sales | Global_Sales | Years Since Release\n",
       "1    | Wii Sports                | Wii      | 2006 | Sports       | Nintendo  | 41.49    | 29.02    | 3.77     | 8.46        | 82.74        | 18\n",
       "2    | Super Mario Bros.         | NES      | 1985 | Platform     | Nintendo  | 29.08    | 3.58     | 6.81     | 0.77        | 40.24        | 39\n",
       "3    | Mario Kart Wii            | Wii      | 2008 | Racing       | Nintendo  | 15.85    | 12.88    | 3.79     | 3.31        | 35.82        | 16\n",
       "4    | Wii Sports Resort         | Wii      | 2009 | Sports       | Nintendo  | 15.75    | 11.01    | 3.28     | 2.96        | 33           | 15\n",
       "5    | Pokemon Red/Pokemon Blue  | GB       | 1996 | Role-Playing | Nintendo  | 11.27    | 8.89     | 10.22    | 1           | 31.37        | 28\n",
       "6    | Tetris                    | GB       | 1989 | Puzzle       | Nintendo  | 23.2     | 2.26     | 4.22     | 0.58        | 30.26        | 35\n",
       "7    | New Super Mario Bros.     | DS       | 2006 | Platform     | Nintendo  | 11.38    | 9.23     | 6.5      | 2.9         | 30.01        | 18\n",
       "8    | Wii Play                  | Wii      | 2006 | Misc         | Nintendo  | 14.03    | 9.2      | 2.93     | 2.85        | 29.02        | 18\n",
       "9    | New Super Mario Bros. Wii | Wii      | 2009 | Platform     | Nintendo  | 14.59    | 7.06     | 4.7      | 2.26        | 28.62        | 15\n",
       "10   | Duck Hunt                 | NES      | 1984 | Shooter      | Nintendo  | 26.93    | 0.63     | 0.28     | 0.47        | 28.31        | 40\n",
       "... (693 rows omitted)"
      ]
     },
     "execution_count": 7,
     "metadata": {},
     "output_type": "execute_result"
    }
   ],
   "source": [
    "# Track all games from the publisher - Nintendo, and sort by global sales.\n",
    "nintendo = vgsales.where('Publisher', 'Nintendo').sort('Global_Sales', descending=True)\n",
    "nintendo"
   ]
  },
  {
   "cell_type": "code",
   "execution_count": 8,
   "metadata": {
    "tags": []
   },
   "outputs": [
    {
     "data": {
      "image/png": "[encoded data removed]",
      "text/plain": [
       "<Figure size 600x500 with 1 Axes>"
      ]
     },
     "metadata": {},
     "output_type": "display_data"
    }
   ],
   "source": [
    "# Select Nintendo, sort by global sales, and make new table with 10 largest global sales\n",
    "top10_nintendo = nintendo.take(np.arange(10))\n",
    "\n",
    "# Barplot of name/title of the games by Age.\n",
    "top10_nintendo.barh('Name', 'Years Since Release')"
   ]
  },
  {
   "cell_type": "code",
   "execution_count": 9,
   "metadata": {
    "tags": []
   },
   "outputs": [
    {
     "data": {
      "image/png": "[encoded data removed]",
      "text/plain": [
       "<Figure size 600x500 with 1 Axes>"
      ]
     },
     "metadata": {},
     "output_type": "display_data"
    }
   ],
   "source": [
    "# SORTED Barplot of name/title of the games by Age.\n",
    "top10_nintendo.sort('Years Since Release', descending = True).barh('Name', 'Years Since Release')"
   ]
  },
  {
   "cell_type": "markdown",
   "metadata": {},
   "source": [
    "## NEW CONTENT ##\n",
    "\n",
    "## Summarizing and Visualizing Numerical Distribution - Binning and Histogram ##"
   ]
  },
  {
   "cell_type": "code",
   "execution_count": 10,
   "metadata": {
    "tags": []
   },
   "outputs": [
    {
     "data": {
      "text/html": [
       "<table border=\"1\" class=\"dataframe\">\n",
       "    <thead>\n",
       "        <tr>\n",
       "            <th>Rank</th> <th>Name</th> <th>Platform</th> <th>Year</th> <th>Genre</th> <th>Publisher</th> <th>NA_Sales</th> <th>EU_Sales</th> <th>JP_Sales</th> <th>Other_Sales</th> <th>Global_Sales</th> <th>Years Since Release</th>\n",
       "        </tr>\n",
       "    </thead>\n",
       "    <tbody>\n",
       "        <tr>\n",
       "            <td>1   </td> <td>Wii Sports               </td> <td>Wii     </td> <td>2006</td> <td>Sports      </td> <td>Nintendo </td> <td>41.49   </td> <td>29.02   </td> <td>3.77    </td> <td>8.46       </td> <td>82.74       </td> <td>18                 </td>\n",
       "        </tr>\n",
       "        <tr>\n",
       "            <td>2   </td> <td>Super Mario Bros.        </td> <td>NES     </td> <td>1985</td> <td>Platform    </td> <td>Nintendo </td> <td>29.08   </td> <td>3.58    </td> <td>6.81    </td> <td>0.77       </td> <td>40.24       </td> <td>39                 </td>\n",
       "        </tr>\n",
       "        <tr>\n",
       "            <td>3   </td> <td>Mario Kart Wii           </td> <td>Wii     </td> <td>2008</td> <td>Racing      </td> <td>Nintendo </td> <td>15.85   </td> <td>12.88   </td> <td>3.79    </td> <td>3.31       </td> <td>35.82       </td> <td>16                 </td>\n",
       "        </tr>\n",
       "        <tr>\n",
       "            <td>4   </td> <td>Wii Sports Resort        </td> <td>Wii     </td> <td>2009</td> <td>Sports      </td> <td>Nintendo </td> <td>15.75   </td> <td>11.01   </td> <td>3.28    </td> <td>2.96       </td> <td>33          </td> <td>15                 </td>\n",
       "        </tr>\n",
       "        <tr>\n",
       "            <td>5   </td> <td>Pokemon Red/Pokemon Blue </td> <td>GB      </td> <td>1996</td> <td>Role-Playing</td> <td>Nintendo </td> <td>11.27   </td> <td>8.89    </td> <td>10.22   </td> <td>1          </td> <td>31.37       </td> <td>28                 </td>\n",
       "        </tr>\n",
       "        <tr>\n",
       "            <td>6   </td> <td>Tetris                   </td> <td>GB      </td> <td>1989</td> <td>Puzzle      </td> <td>Nintendo </td> <td>23.2    </td> <td>2.26    </td> <td>4.22    </td> <td>0.58       </td> <td>30.26       </td> <td>35                 </td>\n",
       "        </tr>\n",
       "        <tr>\n",
       "            <td>7   </td> <td>New Super Mario Bros.    </td> <td>DS      </td> <td>2006</td> <td>Platform    </td> <td>Nintendo </td> <td>11.38   </td> <td>9.23    </td> <td>6.5     </td> <td>2.9        </td> <td>30.01       </td> <td>18                 </td>\n",
       "        </tr>\n",
       "        <tr>\n",
       "            <td>8   </td> <td>Wii Play                 </td> <td>Wii     </td> <td>2006</td> <td>Misc        </td> <td>Nintendo </td> <td>14.03   </td> <td>9.2     </td> <td>2.93    </td> <td>2.85       </td> <td>29.02       </td> <td>18                 </td>\n",
       "        </tr>\n",
       "        <tr>\n",
       "            <td>9   </td> <td>New Super Mario Bros. Wii</td> <td>Wii     </td> <td>2009</td> <td>Platform    </td> <td>Nintendo </td> <td>14.59   </td> <td>7.06    </td> <td>4.7     </td> <td>2.26       </td> <td>28.62       </td> <td>15                 </td>\n",
       "        </tr>\n",
       "        <tr>\n",
       "            <td>10  </td> <td>Duck Hunt                </td> <td>NES     </td> <td>1984</td> <td>Shooter     </td> <td>Nintendo </td> <td>26.93   </td> <td>0.63    </td> <td>0.28    </td> <td>0.47       </td> <td>28.31       </td> <td>40                 </td>\n",
       "        </tr>\n",
       "    </tbody>\n",
       "</table>\n",
       "<p>... (16588 rows omitted)</p>"
      ],
      "text/plain": [
       "Rank | Name                      | Platform | Year | Genre        | Publisher | NA_Sales | EU_Sales | JP_Sales | Other_Sales | Global_Sales | Years Since Release\n",
       "1    | Wii Sports                | Wii      | 2006 | Sports       | Nintendo  | 41.49    | 29.02    | 3.77     | 8.46        | 82.74        | 18\n",
       "2    | Super Mario Bros.         | NES      | 1985 | Platform     | Nintendo  | 29.08    | 3.58     | 6.81     | 0.77        | 40.24        | 39\n",
       "3    | Mario Kart Wii            | Wii      | 2008 | Racing       | Nintendo  | 15.85    | 12.88    | 3.79     | 3.31        | 35.82        | 16\n",
       "4    | Wii Sports Resort         | Wii      | 2009 | Sports       | Nintendo  | 15.75    | 11.01    | 3.28     | 2.96        | 33           | 15\n",
       "5    | Pokemon Red/Pokemon Blue  | GB       | 1996 | Role-Playing | Nintendo  | 11.27    | 8.89     | 10.22    | 1           | 31.37        | 28\n",
       "6    | Tetris                    | GB       | 1989 | Puzzle       | Nintendo  | 23.2     | 2.26     | 4.22     | 0.58        | 30.26        | 35\n",
       "7    | New Super Mario Bros.     | DS       | 2006 | Platform     | Nintendo  | 11.38    | 9.23     | 6.5      | 2.9         | 30.01        | 18\n",
       "8    | Wii Play                  | Wii      | 2006 | Misc         | Nintendo  | 14.03    | 9.2      | 2.93     | 2.85        | 29.02        | 18\n",
       "9    | New Super Mario Bros. Wii | Wii      | 2009 | Platform     | Nintendo  | 14.59    | 7.06     | 4.7      | 2.26        | 28.62        | 15\n",
       "10   | Duck Hunt                 | NES      | 1984 | Shooter      | Nintendo  | 26.93    | 0.63     | 0.28     | 0.47        | 28.31        | 40\n",
       "... (16588 rows omitted)"
      ]
     },
     "execution_count": 10,
     "metadata": {},
     "output_type": "execute_result"
    }
   ],
   "source": [
    "vgsales"
   ]
  },
  {
   "cell_type": "markdown",
   "metadata": {},
   "source": [
    "## Binning ##\n",
    "\n",
    "In this short exercise, we want to produce a 'binned' or grouped frequency distribution of the continuous numerical variable `years_since`."
   ]
  },
  {
   "cell_type": "code",
   "execution_count": 11,
   "metadata": {
    "tags": []
   },
   "outputs": [
    {
     "data": {
      "text/plain": [
       "(4.0, 44.0)"
      ]
     },
     "execution_count": 11,
     "metadata": {},
     "output_type": "execute_result"
    }
   ],
   "source": [
    "# Find the range of values of the variable.\n",
    "min(years_since), max(years_since)"
   ]
  },
  {
   "cell_type": "code",
   "execution_count": 12,
   "metadata": {
    "tags": []
   },
   "outputs": [],
   "source": [
    "# Sometimes we can set an arbitrary set of lower end points(bin lower limit) for each bin/class of values\n",
    "my_bins = make_array(0, 5, 10, 15, 20, 30, 45)"
   ]
  },
  {
   "cell_type": "markdown",
   "metadata": {},
   "source": [
    "## Using the `bin` function ##\n",
    "\n",
    "**Question:** Provide a 'binned' or grouped frequency distribution of the continuous numerical variable `years_since`."
   ]
  },
  {
   "cell_type": "code",
   "execution_count": 64,
   "metadata": {
    "tags": []
   },
   "outputs": [
    {
     "data": {
      "text/html": [
       "<table border=\"1\" class=\"dataframe\">\n",
       "    <thead>\n",
       "        <tr>\n",
       "            <th>bin</th> <th>Years Since Release count</th>\n",
       "        </tr>\n",
       "    </thead>\n",
       "    <tbody>\n",
       "        <tr>\n",
       "            <td>0   </td> <td>1                        </td>\n",
       "        </tr>\n",
       "        <tr>\n",
       "            <td>5   </td> <td>961                      </td>\n",
       "        </tr>\n",
       "        <tr>\n",
       "            <td>10  </td> <td>4183                     </td>\n",
       "        </tr>\n",
       "        <tr>\n",
       "            <td>15  </td> <td>6010                     </td>\n",
       "        </tr>\n",
       "        <tr>\n",
       "            <td>20  </td> <td>4686                     </td>\n",
       "        </tr>\n",
       "        <tr>\n",
       "            <td>30  </td> <td>486                      </td>\n",
       "        </tr>\n",
       "        <tr>\n",
       "            <td>45  </td> <td>0                        </td>\n",
       "        </tr>\n",
       "    </tbody>\n",
       "</table>"
      ],
      "text/plain": [
       "bin  | Years Since Release count\n",
       "0    | 1\n",
       "5    | 961\n",
       "10   | 4183\n",
       "15   | 6010\n",
       "20   | 4686\n",
       "30   | 486\n",
       "45   | 0"
      ]
     },
     "execution_count": 64,
     "metadata": {},
     "output_type": "execute_result"
    }
   ],
   "source": [
    "binned_data = vgsales.bin('Years Since Release', bins = my_bins)\n",
    "binned_data"
   ]
  },
  {
   "cell_type": "code",
   "execution_count": 65,
   "metadata": {
    "tags": []
   },
   "outputs": [
    {
     "data": {
      "text/plain": [
       "16327"
      ]
     },
     "execution_count": 65,
     "metadata": {},
     "output_type": "execute_result"
    }
   ],
   "source": [
    "sum(binned_data.column('Years Since Release count'))"
   ]
  },
  {
   "cell_type": "markdown",
   "metadata": {},
   "source": [
    "**Question:** Why does the sum of the `Years Since Release count` column not equal the total number of rows in the data set?"
   ]
  },
  {
   "cell_type": "code",
   "execution_count": 15,
   "metadata": {
    "tags": []
   },
   "outputs": [
    {
     "data": {
      "text/html": [
       "<table border=\"1\" class=\"dataframe\">\n",
       "    <thead>\n",
       "        <tr>\n",
       "            <th>Rank</th> <th>Name</th> <th>Platform</th> <th>Year</th> <th>Genre</th> <th>Publisher</th> <th>NA_Sales</th> <th>EU_Sales</th> <th>JP_Sales</th> <th>Other_Sales</th> <th>Global_Sales</th> <th>Years Since Release</th>\n",
       "        </tr>\n",
       "    </thead>\n",
       "    <tbody>\n",
       "        <tr>\n",
       "            <td>180 </td> <td>Madden NFL 2004                            </td> <td>PS2     </td> <td>nan </td> <td>Sports   </td> <td>Electronic Arts                       </td> <td>4.26    </td> <td>0.26    </td> <td>0.01    </td> <td>0.71       </td> <td>5.23        </td> <td>nan                </td>\n",
       "        </tr>\n",
       "        <tr>\n",
       "            <td>378 </td> <td>FIFA Soccer 2004                           </td> <td>PS2     </td> <td>nan </td> <td>Sports   </td> <td>Electronic Arts                       </td> <td>0.59    </td> <td>2.36    </td> <td>0.04    </td> <td>0.51       </td> <td>3.49        </td> <td>nan                </td>\n",
       "        </tr>\n",
       "        <tr>\n",
       "            <td>432 </td> <td>LEGO Batman: The Videogame                 </td> <td>Wii     </td> <td>nan </td> <td>Action   </td> <td>Warner Bros. Interactive Entertainment</td> <td>1.86    </td> <td>1.02    </td> <td>0       </td> <td>0.29       </td> <td>3.17        </td> <td>nan                </td>\n",
       "        </tr>\n",
       "        <tr>\n",
       "            <td>471 </td> <td>wwe Smackdown vs. Raw 2006                 </td> <td>PS2     </td> <td>nan </td> <td>Fighting </td> <td>nan                                   </td> <td>1.57    </td> <td>1.02    </td> <td>0       </td> <td>0.41       </td> <td>3           </td> <td>nan                </td>\n",
       "        </tr>\n",
       "        <tr>\n",
       "            <td>608 </td> <td>Space Invaders                             </td> <td>2600    </td> <td>nan </td> <td>Shooter  </td> <td>Atari                                 </td> <td>2.36    </td> <td>0.14    </td> <td>0       </td> <td>0.03       </td> <td>2.53        </td> <td>nan                </td>\n",
       "        </tr>\n",
       "        <tr>\n",
       "            <td>625 </td> <td>Rock Band                                  </td> <td>X360    </td> <td>nan </td> <td>Misc     </td> <td>Electronic Arts                       </td> <td>1.93    </td> <td>0.34    </td> <td>0       </td> <td>0.21       </td> <td>2.48        </td> <td>nan                </td>\n",
       "        </tr>\n",
       "        <tr>\n",
       "            <td>650 </td> <td>Frogger's Adventures: Temple of the Frog   </td> <td>GBA     </td> <td>nan </td> <td>Adventure</td> <td>Konami Digital Entertainment          </td> <td>2.15    </td> <td>0.18    </td> <td>0       </td> <td>0.07       </td> <td>2.39        </td> <td>nan                </td>\n",
       "        </tr>\n",
       "        <tr>\n",
       "            <td>653 </td> <td>LEGO Indiana Jones: The Original Adventures</td> <td>Wii     </td> <td>nan </td> <td>Action   </td> <td>LucasArts                             </td> <td>1.54    </td> <td>0.63    </td> <td>0       </td> <td>0.22       </td> <td>2.39        </td> <td>nan                </td>\n",
       "        </tr>\n",
       "        <tr>\n",
       "            <td>713 </td> <td>Call of Duty 3                             </td> <td>Wii     </td> <td>nan </td> <td>Shooter  </td> <td>Activision                            </td> <td>1.19    </td> <td>0.84    </td> <td>0       </td> <td>0.23       </td> <td>2.26        </td> <td>nan                </td>\n",
       "        </tr>\n",
       "        <tr>\n",
       "            <td>784 </td> <td>Rock Band                                  </td> <td>Wii     </td> <td>nan </td> <td>Misc     </td> <td>MTV Games                             </td> <td>1.35    </td> <td>0.56    </td> <td>0       </td> <td>0.2        </td> <td>2.11        </td> <td>nan                </td>\n",
       "        </tr>\n",
       "    </tbody>\n",
       "</table>\n",
       "<p>... (16588 rows omitted)</p>"
      ],
      "text/plain": [
       "Rank | Name                                        | Platform | Year | Genre     | Publisher                              | NA_Sales | EU_Sales | JP_Sales | Other_Sales | Global_Sales | Years Since Release\n",
       "180  | Madden NFL 2004                             | PS2      | nan  | Sports    | Electronic Arts                        | 4.26     | 0.26     | 0.01     | 0.71        | 5.23         | nan\n",
       "378  | FIFA Soccer 2004                            | PS2      | nan  | Sports    | Electronic Arts                        | 0.59     | 2.36     | 0.04     | 0.51        | 3.49         | nan\n",
       "432  | LEGO Batman: The Videogame                  | Wii      | nan  | Action    | Warner Bros. Interactive Entertainment | 1.86     | 1.02     | 0        | 0.29        | 3.17         | nan\n",
       "471  | wwe Smackdown vs. Raw 2006                  | PS2      | nan  | Fighting  | nan                                    | 1.57     | 1.02     | 0        | 0.41        | 3            | nan\n",
       "608  | Space Invaders                              | 2600     | nan  | Shooter   | Atari                                  | 2.36     | 0.14     | 0        | 0.03        | 2.53         | nan\n",
       "625  | Rock Band                                   | X360     | nan  | Misc      | Electronic Arts                        | 1.93     | 0.34     | 0        | 0.21        | 2.48         | nan\n",
       "650  | Frogger's Adventures: Temple of the Frog    | GBA      | nan  | Adventure | Konami Digital Entertainment           | 2.15     | 0.18     | 0        | 0.07        | 2.39         | nan\n",
       "653  | LEGO Indiana Jones: The Original Adventures | Wii      | nan  | Action    | LucasArts                              | 1.54     | 0.63     | 0        | 0.22        | 2.39         | nan\n",
       "713  | Call of Duty 3                              | Wii      | nan  | Shooter   | Activision                             | 1.19     | 0.84     | 0        | 0.23        | 2.26         | nan\n",
       "784  | Rock Band                                   | Wii      | nan  | Misc      | MTV Games                              | 1.35     | 0.56     | 0        | 0.2         | 2.11         | nan\n",
       "... (16588 rows omitted)"
      ]
     },
     "execution_count": 15,
     "metadata": {},
     "output_type": "execute_result"
    }
   ],
   "source": [
    "# The reason can be found by exploring the values of the variable \"Years Since Release count\" further.\n",
    "\n",
    "vgsales.sort('Years Since Release', descending=True)"
   ]
  },
  {
   "cell_type": "code",
   "execution_count": 16,
   "metadata": {
    "tags": []
   },
   "outputs": [
    {
     "data": {
      "text/html": [
       "<table border=\"1\" class=\"dataframe\">\n",
       "    <thead>\n",
       "        <tr>\n",
       "            <th>bin</th> <th>Years Since Release count</th>\n",
       "        </tr>\n",
       "    </thead>\n",
       "    <tbody>\n",
       "        <tr>\n",
       "            <td>0   </td> <td>1                        </td>\n",
       "        </tr>\n",
       "        <tr>\n",
       "            <td>5   </td> <td>961                      </td>\n",
       "        </tr>\n",
       "        <tr>\n",
       "            <td>10  </td> <td>4183                     </td>\n",
       "        </tr>\n",
       "        <tr>\n",
       "            <td>15  </td> <td>6010                     </td>\n",
       "        </tr>\n",
       "        <tr>\n",
       "            <td>20  </td> <td>3198                     </td>\n",
       "        </tr>\n",
       "        <tr>\n",
       "            <td>25  </td> <td>1488                     </td>\n",
       "        </tr>\n",
       "        <tr>\n",
       "            <td>30  </td> <td>281                      </td>\n",
       "        </tr>\n",
       "        <tr>\n",
       "            <td>35  </td> <td>83                       </td>\n",
       "        </tr>\n",
       "        <tr>\n",
       "            <td>40  </td> <td>122                      </td>\n",
       "        </tr>\n",
       "        <tr>\n",
       "            <td>45  </td> <td>0                        </td>\n",
       "        </tr>\n",
       "    </tbody>\n",
       "</table>"
      ],
      "text/plain": [
       "bin  | Years Since Release count\n",
       "0    | 1\n",
       "5    | 961\n",
       "10   | 4183\n",
       "15   | 6010\n",
       "20   | 3198\n",
       "25   | 1488\n",
       "30   | 281\n",
       "35   | 83\n",
       "40   | 122\n",
       "45   | 0"
      ]
     },
     "execution_count": 16,
     "metadata": {},
     "output_type": "execute_result"
    }
   ],
   "source": [
    "# Let's try another custom binning with regular bin-widths\n",
    "vgsales.bin('Years Since Release', bins = np.arange(0, 50, 5))"
   ]
  },
  {
   "cell_type": "code",
   "execution_count": 17,
   "metadata": {
    "tags": []
   },
   "outputs": [
    {
     "data": {
      "text/html": [
       "<table border=\"1\" class=\"dataframe\">\n",
       "    <thead>\n",
       "        <tr>\n",
       "            <th>bin</th> <th>Years Since Release count</th>\n",
       "        </tr>\n",
       "    </thead>\n",
       "    <tbody>\n",
       "        <tr>\n",
       "            <td>0   </td> <td>1                        </td>\n",
       "        </tr>\n",
       "        <tr>\n",
       "            <td>5   </td> <td>961                      </td>\n",
       "        </tr>\n",
       "        <tr>\n",
       "            <td>10  </td> <td>4183                     </td>\n",
       "        </tr>\n",
       "        <tr>\n",
       "            <td>15  </td> <td>6010                     </td>\n",
       "        </tr>\n",
       "        <tr>\n",
       "            <td>20  </td> <td>3198                     </td>\n",
       "        </tr>\n",
       "        <tr>\n",
       "            <td>25  </td> <td>1488                     </td>\n",
       "        </tr>\n",
       "        <tr>\n",
       "            <td>30  </td> <td>281                      </td>\n",
       "        </tr>\n",
       "        <tr>\n",
       "            <td>35  </td> <td>83                       </td>\n",
       "        </tr>\n",
       "        <tr>\n",
       "            <td>40  </td> <td>122                      </td>\n",
       "        </tr>\n",
       "        <tr>\n",
       "            <td>45  </td> <td>0                        </td>\n",
       "        </tr>\n",
       "    </tbody>\n",
       "</table>"
      ],
      "text/plain": [
       "bin  | Years Since Release count\n",
       "0    | 1\n",
       "5    | 961\n",
       "10   | 4183\n",
       "15   | 6010\n",
       "20   | 3198\n",
       "25   | 1488\n",
       "30   | 281\n",
       "35   | 83\n",
       "40   | 122\n",
       "45   | 0"
      ]
     },
     "execution_count": 17,
     "metadata": {},
     "output_type": "execute_result"
    }
   ],
   "source": [
    "vgsales.bin('Years Since Release', bins = np.arange(0, 46, 5))"
   ]
  },
  {
   "cell_type": "code",
   "execution_count": 18,
   "metadata": {
    "tags": []
   },
   "outputs": [
    {
     "data": {
      "text/plain": [
       "122"
      ]
     },
     "execution_count": 18,
     "metadata": {},
     "output_type": "execute_result"
    }
   ],
   "source": [
    "vgsales.where('Years Since Release', are.above_or_equal_to(40)).num_rows"
   ]
  },
  {
   "cell_type": "markdown",
   "metadata": {},
   "source": [
    "## Histograms ##\n",
    "\n",
    "In this short exercise, we want to produce a histogram/visualization of the continuous numerical variable `years_since`."
   ]
  },
  {
   "cell_type": "code",
   "execution_count": 51,
   "metadata": {
    "tags": []
   },
   "outputs": [
    {
     "data": {
      "image/png": "[encoded data removed]",
      "text/plain": [
       "<Figure size 600x400 with 1 Axes>"
      ]
     },
     "metadata": {},
     "output_type": "display_data"
    }
   ],
   "source": [
    "vgsales.hist('Years Since Release')"
   ]
  },
  {
   "cell_type": "markdown",
   "metadata": {},
   "source": [
    "## Using Custom/User-defined bins in a histogram ##"
   ]
  },
  {
   "cell_type": "code",
   "execution_count": 66,
   "metadata": {
    "tags": []
   },
   "outputs": [
    {
     "data": {
      "text/plain": [
       "array([ 0,  5, 10, 15, 20, 30, 45], dtype=int64)"
      ]
     },
     "execution_count": 66,
     "metadata": {},
     "output_type": "execute_result"
    }
   ],
   "source": [
    "my_bins"
   ]
  },
  {
   "cell_type": "code",
   "execution_count": 67,
   "metadata": {
    "tags": []
   },
   "outputs": [
    {
     "data": {
      "text/html": [
       "<table border=\"1\" class=\"dataframe\">\n",
       "    <thead>\n",
       "        <tr>\n",
       "            <th>bin</th> <th>Years Since Release count</th>\n",
       "        </tr>\n",
       "    </thead>\n",
       "    <tbody>\n",
       "        <tr>\n",
       "            <td>0   </td> <td>1                        </td>\n",
       "        </tr>\n",
       "        <tr>\n",
       "            <td>5   </td> <td>961                      </td>\n",
       "        </tr>\n",
       "        <tr>\n",
       "            <td>10  </td> <td>4183                     </td>\n",
       "        </tr>\n",
       "        <tr>\n",
       "            <td>15  </td> <td>6010                     </td>\n",
       "        </tr>\n",
       "        <tr>\n",
       "            <td>20  </td> <td>4686                     </td>\n",
       "        </tr>\n",
       "        <tr>\n",
       "            <td>30  </td> <td>486                      </td>\n",
       "        </tr>\n",
       "        <tr>\n",
       "            <td>45  </td> <td>0                        </td>\n",
       "        </tr>\n",
       "    </tbody>\n",
       "</table>"
      ],
      "text/plain": [
       "bin  | Years Since Release count\n",
       "0    | 1\n",
       "5    | 961\n",
       "10   | 4183\n",
       "15   | 6010\n",
       "20   | 4686\n",
       "30   | 486\n",
       "45   | 0"
      ]
     },
     "execution_count": 67,
     "metadata": {},
     "output_type": "execute_result"
    }
   ],
   "source": [
    "# A binned/grouped frequency distribution\n",
    "\n",
    "binned_data"
   ]
  },
  {
   "cell_type": "markdown",
   "metadata": {},
   "source": [
    "**Quesion:** Based on the grouped frequency table above, how many games have been released for at least 15 years but less than 20 years?"
   ]
  },
  {
   "cell_type": "code",
   "execution_count": 68,
   "metadata": {
    "tags": []
   },
   "outputs": [
    {
     "data": {
      "image/png": "[encoded data removed]",
      "text/plain": [
       "<Figure size 600x400 with 1 Axes>"
      ]
     },
     "metadata": {},
     "output_type": "display_data"
    }
   ],
   "source": [
    "# Let's make a histogram based on the custom bins defined.\n",
    "\n",
    "vgsales.hist('Years Since Release', bins = my_bins)"
   ]
  },
  {
   "cell_type": "code",
   "execution_count": 69,
   "metadata": {
    "tags": []
   },
   "outputs": [
    {
     "data": {
      "image/png": "[encoded data removed]",
      "text/plain": [
       "<Figure size 600x400 with 1 Axes>"
      ]
     },
     "metadata": {},
     "output_type": "display_data"
    }
   ],
   "source": [
    "# Let's try equally spaced bins instead.\n",
    "vgsales.hist('Years Since Release', bins = np.arange(0, 45, 5))"
   ]
  },
  {
   "cell_type": "code",
   "execution_count": 56,
   "metadata": {
    "tags": []
   },
   "outputs": [],
   "source": [
    "# Add a column containing what percent of movies are in each bin\n",
    "binned_data = binned_data.with_column(\n",
    "    'Percent', 100*(binned_data.column('Years Since Release count')/sum(binned_data.column('Years Since Release count'))))"
   ]
  },
  {
   "cell_type": "code",
   "execution_count": 57,
   "metadata": {
    "tags": []
   },
   "outputs": [
    {
     "data": {
      "text/html": [
       "<table border=\"1\" class=\"dataframe\">\n",
       "    <thead>\n",
       "        <tr>\n",
       "            <th>bin</th> <th>Years Since Release count</th> <th>Percent</th>\n",
       "        </tr>\n",
       "    </thead>\n",
       "    <tbody>\n",
       "        <tr>\n",
       "            <td>0   </td> <td>1                        </td> <td>0.00612482</td>\n",
       "        </tr>\n",
       "        <tr>\n",
       "            <td>5   </td> <td>961                      </td> <td>5.88596   </td>\n",
       "        </tr>\n",
       "        <tr>\n",
       "            <td>10  </td> <td>4183                     </td> <td>25.6201   </td>\n",
       "        </tr>\n",
       "        <tr>\n",
       "            <td>15  </td> <td>6010                     </td> <td>36.8102   </td>\n",
       "        </tr>\n",
       "        <tr>\n",
       "            <td>20  </td> <td>4686                     </td> <td>28.7009   </td>\n",
       "        </tr>\n",
       "        <tr>\n",
       "            <td>30  </td> <td>486                      </td> <td>2.97666   </td>\n",
       "        </tr>\n",
       "        <tr>\n",
       "            <td>45  </td> <td>0                        </td> <td>0         </td>\n",
       "        </tr>\n",
       "    </tbody>\n",
       "</table>"
      ],
      "text/plain": [
       "bin  | Years Since Release count | Percent\n",
       "0    | 1                         | 0.00612482\n",
       "5    | 961                       | 5.88596\n",
       "10   | 4183                      | 25.6201\n",
       "15   | 6010                      | 36.8102\n",
       "20   | 4686                      | 28.7009\n",
       "30   | 486                       | 2.97666\n",
       "45   | 0                         | 0"
      ]
     },
     "execution_count": 57,
     "metadata": {},
     "output_type": "execute_result"
    }
   ],
   "source": [
    "binned_data"
   ]
  },
  {
   "cell_type": "code",
   "execution_count": 70,
   "metadata": {
    "tags": []
   },
   "outputs": [
    {
     "data": {
      "image/png": "[encoded data removed]",
      "text/plain": [
       "<Figure size 600x400 with 1 Axes>"
      ]
     },
     "metadata": {},
     "output_type": "display_data"
    }
   ],
   "source": [
    "vgsales.hist('Years Since Release', bins = my_bins)"
   ]
  },
  {
   "cell_type": "code",
   "execution_count": 58,
   "metadata": {
    "tags": []
   },
   "outputs": [
    {
     "data": {
      "text/plain": [
       "100.0"
      ]
     },
     "execution_count": 58,
     "metadata": {},
     "output_type": "execute_result"
    }
   ],
   "source": [
    "sum(binned_data.column('Percent'))"
   ]
  },
  {
   "cell_type": "markdown",
   "metadata": {},
   "source": [
    "## Calculating the height of a bar in a histogram ##\n",
    "\n",
    "**Question:** What is the height of the [20, 30) bin? "
   ]
  },
  {
   "cell_type": "code",
   "execution_count": 59,
   "metadata": {
    "tags": []
   },
   "outputs": [
    {
     "data": {
      "text/plain": [
       "28.700924848410608"
      ]
     },
     "execution_count": 59,
     "metadata": {},
     "output_type": "execute_result"
    }
   ],
   "source": [
    "# Step 1: What is the % of games in the [20, 30) bin?\n",
    "percent = binned_data.where('bin', 20).column('Percent').item(0)\n",
    "percent"
   ]
  },
  {
   "cell_type": "code",
   "execution_count": 60,
   "metadata": {
    "tags": []
   },
   "outputs": [],
   "source": [
    "# Step 2: Calculate the width of the 20-30 bin\n",
    "width = 30 - 20"
   ]
  },
  {
   "cell_type": "code",
   "execution_count": 61,
   "metadata": {
    "tags": []
   },
   "outputs": [
    {
     "data": {
      "text/plain": [
       "2.8700924848410607"
      ]
     },
     "execution_count": 61,
     "metadata": {},
     "output_type": "execute_result"
    }
   ],
   "source": [
    "# Step 3: Area of rectangle = height * width\n",
    "#         ---------> height = percent / width\n",
    "height = percent / width\n",
    "height"
   ]
  },
  {
   "cell_type": "markdown",
   "metadata": {},
   "source": [
    "**Question:** Can you explain the relevance of the number above in the histogram(based on the bins = `my_bins`). Output the histogram below to connect the dots."
   ]
  },
  {
   "cell_type": "code",
   "execution_count": 62,
   "metadata": {
    "tags": []
   },
   "outputs": [
    {
     "data": {
      "image/png": "[encoded data removed]",
      "text/plain": [
       "<Figure size 600x400 with 1 Axes>"
      ]
     },
     "metadata": {},
     "output_type": "display_data"
    }
   ],
   "source": [
    "vgsales.hist('Years Since Release', bins = my_bins)"
   ]
  },
  {
   "cell_type": "markdown",
   "metadata": {},
   "source": [
    "### What are the heights of the rest of the bins?"
   ]
  },
  {
   "cell_type": "code",
   "execution_count": 63,
   "metadata": {
    "tags": []
   },
   "outputs": [
    {
     "data": {
      "text/html": [
       "<table border=\"1\" class=\"dataframe\">\n",
       "    <thead>\n",
       "        <tr>\n",
       "            <th>bin</th> <th>Years Since Release count</th> <th>Percent</th>\n",
       "        </tr>\n",
       "    </thead>\n",
       "    <tbody>\n",
       "        <tr>\n",
       "            <td>0   </td> <td>1                        </td> <td>0.00612482</td>\n",
       "        </tr>\n",
       "        <tr>\n",
       "            <td>5   </td> <td>961                      </td> <td>5.88596   </td>\n",
       "        </tr>\n",
       "        <tr>\n",
       "            <td>10  </td> <td>4183                     </td> <td>25.6201   </td>\n",
       "        </tr>\n",
       "        <tr>\n",
       "            <td>15  </td> <td>6010                     </td> <td>36.8102   </td>\n",
       "        </tr>\n",
       "        <tr>\n",
       "            <td>20  </td> <td>4686                     </td> <td>28.7009   </td>\n",
       "        </tr>\n",
       "        <tr>\n",
       "            <td>30  </td> <td>486                      </td> <td>2.97666   </td>\n",
       "        </tr>\n",
       "        <tr>\n",
       "            <td>45  </td> <td>0                        </td> <td>0         </td>\n",
       "        </tr>\n",
       "    </tbody>\n",
       "</table>"
      ],
      "text/plain": [
       "bin  | Years Since Release count | Percent\n",
       "0    | 1                         | 0.00612482\n",
       "5    | 961                       | 5.88596\n",
       "10   | 4183                      | 25.6201\n",
       "15   | 6010                      | 36.8102\n",
       "20   | 4686                      | 28.7009\n",
       "30   | 486                       | 2.97666\n",
       "45   | 0                         | 0"
      ]
     },
     "execution_count": 63,
     "metadata": {},
     "output_type": "execute_result"
    }
   ],
   "source": [
    "binned_data"
   ]
  },
  {
   "cell_type": "markdown",
   "metadata": {
    "tags": []
   },
   "source": [
    "**Step 1:** Find the lower bounds of each of the non-empty bins."
   ]
  },
  {
   "cell_type": "code",
   "execution_count": 32,
   "metadata": {
    "tags": []
   },
   "outputs": [],
   "source": [
    "# Get the bin lefts\n",
    "bin_lefts = binned_data.take(np.arange(binned_data.num_rows - 1))"
   ]
  },
  {
   "cell_type": "markdown",
   "metadata": {},
   "source": [
    "**Step 2:** Find the widths of each of the non-empty bins."
   ]
  },
  {
   "cell_type": "code",
   "execution_count": 49,
   "metadata": {
    "tags": []
   },
   "outputs": [
    {
     "data": {
      "text/html": [
       "<table border=\"1\" class=\"dataframe\">\n",
       "    <thead>\n",
       "        <tr>\n",
       "            <th>bin</th> <th>Years Since Release count</th> <th>Percent</th> <th>Width</th> <th>Height</th>\n",
       "        </tr>\n",
       "    </thead>\n",
       "    <tbody>\n",
       "        <tr>\n",
       "            <td>0   </td> <td>1                        </td> <td>0.00612482</td> <td>5    </td> <td>0.00122496</td>\n",
       "        </tr>\n",
       "        <tr>\n",
       "            <td>5   </td> <td>961                      </td> <td>5.88596   </td> <td>5    </td> <td>1.17719   </td>\n",
       "        </tr>\n",
       "        <tr>\n",
       "            <td>10  </td> <td>4183                     </td> <td>25.6201   </td> <td>5    </td> <td>5.12403   </td>\n",
       "        </tr>\n",
       "        <tr>\n",
       "            <td>15  </td> <td>6010                     </td> <td>36.8102   </td> <td>5    </td> <td>7.36204   </td>\n",
       "        </tr>\n",
       "        <tr>\n",
       "            <td>20  </td> <td>4686                     </td> <td>28.7009   </td> <td>10   </td> <td>2.87009   </td>\n",
       "        </tr>\n",
       "        <tr>\n",
       "            <td>30  </td> <td>486                      </td> <td>2.97666   </td> <td>15   </td> <td>0.198444  </td>\n",
       "        </tr>\n",
       "    </tbody>\n",
       "</table>"
      ],
      "text/plain": [
       "bin  | Years Since Release count | Percent    | Width | Height\n",
       "0    | 1                         | 0.00612482 | 5     | 0.00122496\n",
       "5    | 961                       | 5.88596    | 5     | 1.17719\n",
       "10   | 4183                      | 25.6201    | 5     | 5.12403\n",
       "15   | 6010                      | 36.8102    | 5     | 7.36204\n",
       "20   | 4686                      | 28.7009    | 10    | 2.87009\n",
       "30   | 486                       | 2.97666    | 15    | 0.198444"
      ]
     },
     "execution_count": 49,
     "metadata": {},
     "output_type": "execute_result"
    }
   ],
   "source": [
    "# Get the bin widths\n",
    "bin_widths = np.diff(binned_data.column('bin'))\n",
    "bin_lefts = bin_lefts.with_column('Width', bin_widths)\n",
    "bin_lefts"
   ]
  },
  {
   "cell_type": "markdown",
   "metadata": {},
   "source": [
    "**Step 3:** Recall that area = height * width. It follows that:\n",
    "\n",
    "- height of each bar = area of each bar(percent) divided by width of the bar."
   ]
  },
  {
   "cell_type": "code",
   "execution_count": 34,
   "metadata": {
    "tags": []
   },
   "outputs": [],
   "source": [
    "# Get the bin heights\n",
    "\n",
    "bin_heights = bin_lefts.column('Percent') / bin_widths\n",
    "bin_lefts = bin_lefts.with_column('Height', bin_heights)"
   ]
  },
  {
   "cell_type": "code",
   "execution_count": 35,
   "metadata": {
    "tags": []
   },
   "outputs": [
    {
     "data": {
      "text/html": [
       "<table border=\"1\" class=\"dataframe\">\n",
       "    <thead>\n",
       "        <tr>\n",
       "            <th>bin</th> <th>Years Since Release count</th> <th>Percent</th> <th>Width</th> <th>Height</th>\n",
       "        </tr>\n",
       "    </thead>\n",
       "    <tbody>\n",
       "        <tr>\n",
       "            <td>0   </td> <td>1                        </td> <td>0.00612482</td> <td>5    </td> <td>0.00122496</td>\n",
       "        </tr>\n",
       "        <tr>\n",
       "            <td>5   </td> <td>961                      </td> <td>5.88596   </td> <td>5    </td> <td>1.17719   </td>\n",
       "        </tr>\n",
       "        <tr>\n",
       "            <td>10  </td> <td>4183                     </td> <td>25.6201   </td> <td>5    </td> <td>5.12403   </td>\n",
       "        </tr>\n",
       "        <tr>\n",
       "            <td>15  </td> <td>6010                     </td> <td>36.8102   </td> <td>5    </td> <td>7.36204   </td>\n",
       "        </tr>\n",
       "        <tr>\n",
       "            <td>20  </td> <td>4686                     </td> <td>28.7009   </td> <td>10   </td> <td>2.87009   </td>\n",
       "        </tr>\n",
       "        <tr>\n",
       "            <td>30  </td> <td>486                      </td> <td>2.97666   </td> <td>15   </td> <td>0.198444  </td>\n",
       "        </tr>\n",
       "    </tbody>\n",
       "</table>"
      ],
      "text/plain": [
       "bin  | Years Since Release count | Percent    | Width | Height\n",
       "0    | 1                         | 0.00612482 | 5     | 0.00122496\n",
       "5    | 961                       | 5.88596    | 5     | 1.17719\n",
       "10   | 4183                      | 25.6201    | 5     | 5.12403\n",
       "15   | 6010                      | 36.8102    | 5     | 7.36204\n",
       "20   | 4686                      | 28.7009    | 10    | 2.87009\n",
       "30   | 486                       | 2.97666    | 15    | 0.198444"
      ]
     },
     "execution_count": 35,
     "metadata": {},
     "output_type": "execute_result"
    }
   ],
   "source": [
    "bin_lefts"
   ]
  },
  {
   "cell_type": "markdown",
   "metadata": {
    "tags": []
   },
   "source": [
    "- **Let us compare the entries of the table above to the histogram below**"
   ]
  },
  {
   "cell_type": "code",
   "execution_count": 36,
   "metadata": {
    "tags": []
   },
   "outputs": [
    {
     "data": {
      "image/png": "[encoded data removed]",
      "text/plain": [
       "<Figure size 600x400 with 1 Axes>"
      ]
     },
     "metadata": {},
     "output_type": "display_data"
    }
   ],
   "source": [
    "vgsales.hist('Years Since Release', bins = my_bins)"
   ]
  },
  {
   "cell_type": "code",
   "execution_count": null,
   "metadata": {},
   "outputs": [],
   "source": []
  },
  {
   "cell_type": "code",
   "execution_count": null,
   "metadata": {},
   "outputs": [],
   "source": []
  }
 ],
 "metadata": {
  "anaconda-cloud": {},
  "kernelspec": {
   "display_name": "Python 3 (ipykernel)",
   "language": "python",
   "name": "python3"
  },
  "language_info": {
   "codemirror_mode": {
    "name": "ipython",
    "version": 3
   },
   "file_extension": ".py",
   "mimetype": "text/x-python",
   "name": "python",
   "nbconvert_exporter": "python",
   "pygments_lexer": "ipython3",
   "version": "3.11.4"
  }
 },
 "nbformat": 4,
 "nbformat_minor": 4
}
