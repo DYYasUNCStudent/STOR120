{
 "cells": [
  {
   "cell_type": "markdown",
   "metadata": {
    "tags": []
   },
   "source": [
    "# STOR 120: Final Exam(Essay Part)\n",
    "\n",
    "60 points total\n",
    "\n",
    "**Directions:** The exam is open book in the sense that you may consult all course materials but not the internet or CHATGPT. Just as with all course assignments, you will submit exams to Gradescope as Jupyter Notebooks with the ipynb file extension. To receive full credit, you should show all of your code used to answer each question. **Only Python code that strongly aligns with the functions and methods taught in class will be graded correctly.** \n",
    "\n",
    "**Make sure to view your submission in Gradescope and verify that it is the correct file and has the format that you intended it to have, including all code being shown and run.**\n",
    "\n",
    "**Your work WILL be graded based on ACCURACY and sound demonstration of the techniques learned in this class. Not mere completion. Please exercise care while working on the problems**\n"
   ]
  },
  {
   "cell_type": "markdown",
   "metadata": {},
   "source": [
    "## Bone Mineral Density\n",
    "\n",
    "\n",
    "Bone density, or bone mineral density (BMD), is the amount of bone mineral in bone tissue. The concept is of mass of mineral per volume of bone (relating to density in the physics sense), although clinically it is measured by proxy according to optical density per square centimetre of bone surface upon imaging. Bone density measurement is used in clinical medicine as an indirect indicator of osteoporosis and fracture risk. It is measured by a procedure called densitometry, often performed in the radiology or nuclear medicine departments of hospitals or clinics. The measurement is painless and non-invasive and involves low radiation exposure. Measurements are most commonly made over the lumbar spine and over the upper part of the hip. The forearm may be scanned if the hip and lumbar spine are not accessible.\n",
    "\n",
    "https://en.wikipedia.org/wiki/Bone_density"
   ]
  },
  {
   "cell_type": "markdown",
   "metadata": {},
   "source": [
    "**Run the cell below to import the needed modules and dataset**"
   ]
  },
  {
   "cell_type": "code",
   "execution_count": 1,
   "metadata": {},
   "outputs": [
    {
     "data": {
      "text/html": [
       "<table border=\"1\" class=\"dataframe\">\n",
       "    <thead>\n",
       "        <tr>\n",
       "            <th>id</th> <th>age</th> <th>sex</th> <th>fracture</th> <th>weight_kg</th> <th>height_cm</th> <th>medication</th> <th>waiting_time</th> <th>bmd</th>\n",
       "        </tr>\n",
       "    </thead>\n",
       "    <tbody>\n",
       "        <tr>\n",
       "            <td>469  </td> <td>57.0528</td> <td>F   </td> <td>no fracture</td> <td>64       </td> <td>155.5    </td> <td>Anticonvulsant</td> <td>18          </td> <td>0.8793</td>\n",
       "        </tr>\n",
       "        <tr>\n",
       "            <td>8724 </td> <td>75.7412</td> <td>F   </td> <td>no fracture</td> <td>78       </td> <td>162      </td> <td>No medication </td> <td>56          </td> <td>0.7946</td>\n",
       "        </tr>\n",
       "        <tr>\n",
       "            <td>6736 </td> <td>70.7789</td> <td>M   </td> <td>no fracture</td> <td>73       </td> <td>170.5    </td> <td>No medication </td> <td>10          </td> <td>0.9067</td>\n",
       "        </tr>\n",
       "        <tr>\n",
       "            <td>24180</td> <td>78.2472</td> <td>F   </td> <td>no fracture</td> <td>60       </td> <td>148      </td> <td>No medication </td> <td>14          </td> <td>0.7112</td>\n",
       "        </tr>\n",
       "        <tr>\n",
       "            <td>17072</td> <td>54.1919</td> <td>M   </td> <td>no fracture</td> <td>55       </td> <td>161      </td> <td>No medication </td> <td>20          </td> <td>0.7909</td>\n",
       "        </tr>\n",
       "    </tbody>\n",
       "</table>"
      ],
      "text/plain": [
       "id    | age     | sex  | fracture    | weight_kg | height_cm | medication     | waiting_time | bmd\n",
       "469   | 57.0528 | F    | no fracture | 64        | 155.5     | Anticonvulsant | 18           | 0.8793\n",
       "8724  | 75.7412 | F    | no fracture | 78        | 162       | No medication  | 56           | 0.7946\n",
       "6736  | 70.7789 | M    | no fracture | 73        | 170.5     | No medication  | 10           | 0.9067\n",
       "24180 | 78.2472 | F    | no fracture | 60        | 148       | No medication  | 14           | 0.7112\n",
       "17072 | 54.1919 | M    | no fracture | 55        | 161       | No medication  | 20           | 0.7909"
      ]
     },
     "execution_count": 1,
     "metadata": {},
     "output_type": "execute_result"
    }
   ],
   "source": [
    "from datascience import *\n",
    "import numpy as np\n",
    "\n",
    "%matplotlib inline\n",
    "import matplotlib.pyplot as plots\n",
    "plots.style.use('fivethirtyeight')\n",
    "\n",
    "import warnings\n",
    "warnings.simplefilter('ignore', FutureWarning)\n",
    "\n",
    "BMD = Table.read_table('https://raw.githubusercontent.com/JA-McLean/STOR120/master/data/bmd.csv')\n",
    "BMD.take(np.arange(5))"
   ]
  },
  {
   "cell_type": "markdown",
   "metadata": {},
   "source": [
    "## 1. Exploratory Data Analysis *(18 pts total)*"
   ]
  },
  {
   "cell_type": "markdown",
   "metadata": {},
   "source": [
    "**Question 1.1.** Construct a table `BMD_means` with two rows and four columns. There should be one row those in the dataset with a `fracture` and another for those with`no fracture` The columns should be if there was a fracture, mean ages, mean weights, and mean bone mineral densities (bmd). *(3 pts)*"
   ]
  },
  {
   "cell_type": "code",
   "execution_count": 3,
   "metadata": {},
   "outputs": [
    {
     "data": {
      "text/html": [
       "<table border=\"1\" class=\"dataframe\">\n",
       "    <thead>\n",
       "        <tr>\n",
       "            <th>fracture</th> <th>age mean</th> <th>weight_kg mean</th> <th>bmd mean</th>\n",
       "        </tr>\n",
       "    </thead>\n",
       "    <tbody>\n",
       "        <tr>\n",
       "            <td>fracture   </td> <td>69.7713 </td> <td>58.41         </td> <td>0.623308</td>\n",
       "        </tr>\n",
       "        <tr>\n",
       "            <td>no fracture</td> <td>61.0518 </td> <td>67.2941       </td> <td>0.850245</td>\n",
       "        </tr>\n",
       "    </tbody>\n",
       "</table>"
      ],
      "text/plain": [
       "fracture    | age mean | weight_kg mean | bmd mean\n",
       "fracture    | 69.7713  | 58.41          | 0.623308\n",
       "no fracture | 61.0518  | 67.2941        | 0.850245"
      ]
     },
     "execution_count": 3,
     "metadata": {},
     "output_type": "execute_result"
    }
   ],
   "source": [
    "BMD_means = BMD.select(\"fracture\", \"age\", \"weight_kg\", \"bmd\").group(\"fracture\", np.mean)\n",
    "BMD_means"
   ]
  },
  {
   "cell_type": "markdown",
   "metadata": {},
   "source": [
    "**Question 1.2.** Construct a table `BMD_SU`. This table should contain the columns `sex`, `fracture`, and `medication` from the `BMD` table, as well as columns of the quantitaive variables (`age`, `weight_kg`, `height_cm`, and `bmd`) in standard units. *(3\n",
    "pts)*"
   ]
  },
  {
   "cell_type": "code",
   "execution_count": 5,
   "metadata": {},
   "outputs": [
    {
     "data": {
      "text/html": [
       "<table border=\"1\" class=\"dataframe\">\n",
       "    <thead>\n",
       "        <tr>\n",
       "            <th>sex</th> <th>fracture</th> <th>medication</th> <th>age_SU</th> <th>weight_SU</th> <th>height_cm</th> <th>bmd_SU</th>\n",
       "        </tr>\n",
       "    </thead>\n",
       "    <tbody>\n",
       "        <tr>\n",
       "            <td>F   </td> <td>no fracture</td> <td>Anticonvulsant </td> <td>-0.533977</td> <td>-0.0578702</td> <td>-0.601464 </td> <td>0.579369 </td>\n",
       "        </tr>\n",
       "        <tr>\n",
       "            <td>F   </td> <td>no fracture</td> <td>No medication  </td> <td>0.982904 </td> <td>1.1592    </td> <td>0.220824  </td> <td>0.0692374</td>\n",
       "        </tr>\n",
       "        <tr>\n",
       "            <td>M   </td> <td>no fracture</td> <td>No medication  </td> <td>0.580128 </td> <td>0.724535  </td> <td>1.29612   </td> <td>0.744394 </td>\n",
       "        </tr>\n",
       "        <tr>\n",
       "            <td>F   </td> <td>no fracture</td> <td>No medication  </td> <td>1.1863   </td> <td>-0.405606 </td> <td>-1.55026  </td> <td>-0.433065</td>\n",
       "        </tr>\n",
       "        <tr>\n",
       "            <td>M   </td> <td>no fracture</td> <td>No medication  </td> <td>-0.766186</td> <td>-0.840276 </td> <td>0.0943179 </td> <td>0.0469529</td>\n",
       "        </tr>\n",
       "        <tr>\n",
       "            <td>M   </td> <td>no fracture</td> <td>No medication  </td> <td>1.0995   </td> <td>0.0290637 </td> <td>0.979858  </td> <td>-0.319234</td>\n",
       "        </tr>\n",
       "        <tr>\n",
       "            <td>M   </td> <td>no fracture</td> <td>No medication  </td> <td>-0.604766</td> <td>1.07227   </td> <td>-0.158694 </td> <td>1.36414  </td>\n",
       "        </tr>\n",
       "        <tr>\n",
       "            <td>F   </td> <td>no fracture</td> <td>No medication  </td> <td>-1.11323 </td> <td>-0.49254  </td> <td>-1.29725  </td> <td>-0.313813</td>\n",
       "        </tr>\n",
       "        <tr>\n",
       "            <td>M   </td> <td>no fracture</td> <td>Glucocorticoids</td> <td>0.387723 </td> <td>-0.0578702</td> <td>0.853352  </td> <td>-0.564964</td>\n",
       "        </tr>\n",
       "        <tr>\n",
       "            <td>M   </td> <td>no fracture</td> <td>No medication  </td> <td>0.213072 </td> <td>0.637601  </td> <td>-0.0954407</td> <td>0.984705 </td>\n",
       "        </tr>\n",
       "    </tbody>\n",
       "</table>\n",
       "<p>... (159 rows omitted)</p>"
      ],
      "text/plain": [
       "sex  | fracture    | medication      | age_SU    | weight_SU  | height_cm  | bmd_SU\n",
       "F    | no fracture | Anticonvulsant  | -0.533977 | -0.0578702 | -0.601464  | 0.579369\n",
       "F    | no fracture | No medication   | 0.982904  | 1.1592     | 0.220824   | 0.0692374\n",
       "M    | no fracture | No medication   | 0.580128  | 0.724535   | 1.29612    | 0.744394\n",
       "F    | no fracture | No medication   | 1.1863    | -0.405606  | -1.55026   | -0.433065\n",
       "M    | no fracture | No medication   | -0.766186 | -0.840276  | 0.0943179  | 0.0469529\n",
       "M    | no fracture | No medication   | 1.0995    | 0.0290637  | 0.979858   | -0.319234\n",
       "M    | no fracture | No medication   | -0.604766 | 1.07227    | -0.158694  | 1.36414\n",
       "F    | no fracture | No medication   | -1.11323  | -0.49254   | -1.29725   | -0.313813\n",
       "M    | no fracture | Glucocorticoids | 0.387723  | -0.0578702 | 0.853352   | -0.564964\n",
       "M    | no fracture | No medication   | 0.213072  | 0.637601   | -0.0954407 | 0.984705\n",
       "... (159 rows omitted)"
      ]
     },
     "execution_count": 5,
     "metadata": {},
     "output_type": "execute_result"
    }
   ],
   "source": [
    "BMD_SU = BMD.select(\"sex\", \"fracture\", \"medication\").with_columns(\n",
    "    \"age_SU\", (BMD.column(\"age\") - np.mean(BMD.column(\"age\"))) / np.std(BMD.column(\"age\")),\n",
    "    \"weight_SU\", (BMD.column(\"weight_kg\") - np.mean(BMD.column(\"weight_kg\"))) / np.std(BMD.column(\"weight_kg\")),\n",
    "    \"height_cm\", (BMD.column(\"height_cm\") - np.mean(BMD.column(\"height_cm\"))) / np.std(BMD.column(\"height_cm\")),\n",
    "    \"bmd_SU\", (BMD.column(\"bmd\") - np.mean(BMD.column(\"bmd\"))) / np.std(BMD.column(\"bmd\"))\n",
    ")\n",
    "BMD_SU"
   ]
  },
  {
   "cell_type": "markdown",
   "metadata": {},
   "source": [
    "**Question 1.3.** What is the mean `bmd` for males on no medication over the age of 65? Assign this float value to `Males_over_65_bmd`. *(3 pts)*"
   ]
  },
  {
   "cell_type": "code",
   "execution_count": 14,
   "metadata": {},
   "outputs": [
    {
     "data": {
      "text/plain": [
       "0.78056774129032269"
      ]
     },
     "execution_count": 14,
     "metadata": {},
     "output_type": "execute_result"
    }
   ],
   "source": [
    "Males_over_65_bmd = np.mean(BMD.where(\"sex\", \"M\").where(\"medication\", \"No medication\").where(\"age\", are.above_or_equal_to(65)).column(\"bmd\"))\n",
    "Males_over_65_bmd"
   ]
  },
  {
   "cell_type": "markdown",
   "metadata": {},
   "source": [
    "**Question 1.4.** What proportion of the females on no medication over the age of 65 in the dataset have had a fracture? Assign this float value to `fracture_prop`. *(3 pts)*"
   ]
  },
  {
   "cell_type": "code",
   "execution_count": 13,
   "metadata": {},
   "outputs": [
    {
     "data": {
      "text/plain": [
       "0.42857142857142855"
      ]
     },
     "execution_count": 13,
     "metadata": {},
     "output_type": "execute_result"
    }
   ],
   "source": [
    "fracture_prop = BMD.where(\"sex\", \"F\").where(\"medication\", \"No medication\").where(\"age\", are.above_or_equal_to(65)).where(\"fracture\", \"fracture\").num_rows / BMD.where(\"sex\", \"F\").where(\"medication\", \"No medication\").where(\"age\", are.above_or_equal_to(65)).num_rows\n",
    "fracture_prop"
   ]
  },
  {
   "cell_type": "markdown",
   "metadata": {},
   "source": [
    "**Question 1.5.** Construct a scatter plot with ages on the horizontal axis and bmd on the vertical axis (using the original `BMD` table). Include the best fit line in this plot. *(3 pts)*"
   ]
  },
  {
   "cell_type": "code",
   "execution_count": 10,
   "metadata": {},
   "outputs": [
    {
     "data": {
      "image/png": "[encoded data removed]",
      "text/plain": [
       "<Figure size 500x500 with 1 Axes>"
      ]
     },
     "metadata": {},
     "output_type": "display_data"
    }
   ],
   "source": [
    "BMD.scatter(\"age\", \"bmd\", fit_line= True)"
   ]
  },
  {
   "cell_type": "markdown",
   "metadata": {},
   "source": [
    "**Question 1.6.** Calculate the correlation coefficient for the relationship between the ages and bmd and assign this value to `corr`. Interpret the value obtained in the context of the data set you analyzed*(3 pts)*"
   ]
  },
  {
   "cell_type": "code",
   "execution_count": 11,
   "metadata": {},
   "outputs": [
    {
     "data": {
      "text/plain": [
       "-0.30657643878351171"
      ]
     },
     "execution_count": 11,
     "metadata": {},
     "output_type": "execute_result"
    }
   ],
   "source": [
    "corr = np.average(BMD_SU.column(\"age_SU\") * BMD_SU.column(\"bmd_SU\"))\n",
    "corr"
   ]
  },
  {
   "cell_type": "markdown",
   "metadata": {},
   "source": [
    "The value of the calculated correlation coefficient for the relationship between the ages and bmd is approximately -0.307. This value of correlatioin coefficient suggests a relatively strong negative linear relationship between the ages and bmd. In other words, this correlation coefficient suggests the fact that as age increases, the bmd decreases."
   ]
  },
  {
   "cell_type": "markdown",
   "metadata": {},
   "source": [
    "## 2. Testing and Prediction"
   ]
  },
  {
   "cell_type": "markdown",
   "metadata": {},
   "source": [
    "### 2.1 Differences By Age Group *(14 pts total)*\n",
    "Bone density tests are recommended for all females age 65 and older, and for younger females at higher-than-normal risk for a fracture. Males may want to discuss osteoporosis screening with their doctor if they’re over age 70 or at high risk for thinning bones. Does our data provide evidence that females 65 and older have lower bone mineral density than females under 65 years old?\n",
    "\n",
    "\n",
    "**Question 2.1.1.** Construct a new table `females_BMD` that contains only females from the original 'BMD table'. The table should include only two columns:\n",
    "\n",
    "1. `bmd` - The bmd values from the `BMD` table\n",
    "2. `Over 65` - For females 65 and older assign the int value `1`. For females under 65 years old assign the int value `0`. *(4 pts)*"
   ]
  },
  {
   "cell_type": "code",
   "execution_count": 33,
   "metadata": {},
   "outputs": [
    {
     "data": {
      "text/html": [
       "<table border=\"1\" class=\"dataframe\">\n",
       "    <thead>\n",
       "        <tr>\n",
       "            <th>bmd</th> <th>Over 65</th>\n",
       "        </tr>\n",
       "    </thead>\n",
       "    <tbody>\n",
       "        <tr>\n",
       "            <td>0.8793</td> <td>0      </td>\n",
       "        </tr>\n",
       "        <tr>\n",
       "            <td>0.7946</td> <td>1      </td>\n",
       "        </tr>\n",
       "        <tr>\n",
       "            <td>0.7112</td> <td>1      </td>\n",
       "        </tr>\n",
       "        <tr>\n",
       "            <td>0.731 </td> <td>0      </td>\n",
       "        </tr>\n",
       "        <tr>\n",
       "            <td>0.5793</td> <td>1      </td>\n",
       "        </tr>\n",
       "        <tr>\n",
       "            <td>0.976 </td> <td>0      </td>\n",
       "        </tr>\n",
       "        <tr>\n",
       "            <td>0.7861</td> <td>1      </td>\n",
       "        </tr>\n",
       "        <tr>\n",
       "            <td>0.8254</td> <td>0      </td>\n",
       "        </tr>\n",
       "        <tr>\n",
       "            <td>0.8499</td> <td>0      </td>\n",
       "        </tr>\n",
       "        <tr>\n",
       "            <td>0.7738</td> <td>1      </td>\n",
       "        </tr>\n",
       "    </tbody>\n",
       "</table>\n",
       "<p>... (73 rows omitted)</p>"
      ],
      "text/plain": [
       "bmd    | Over 65\n",
       "0.8793 | 0\n",
       "0.7946 | 1\n",
       "0.7112 | 1\n",
       "0.731  | 0\n",
       "0.5793 | 1\n",
       "0.976  | 0\n",
       "0.7861 | 1\n",
       "0.8254 | 0\n",
       "0.8499 | 0\n",
       "0.7738 | 1\n",
       "... (73 rows omitted)"
      ]
     },
     "execution_count": 33,
     "metadata": {},
     "output_type": "execute_result"
    }
   ],
   "source": [
    "over_65 = make_array()\n",
    "for elem in BMD.where(\"sex\", \"F\").column(\"age\"):\n",
    "    if elem >= 65:\n",
    "        over_65 = np.append(over_65, 1)\n",
    "    if elem < 65:\n",
    "        over_65 = np.append(over_65, 0)\n",
    "\n",
    "females_BMD = BMD.where(\"sex\", \"F\").select(\"bmd\").with_column(\"Over 65\", over_65)\n",
    "females_BMD"
   ]
  },
  {
   "cell_type": "markdown",
   "metadata": {},
   "source": [
    "**Question 2.1.2.** Find the difference in mean bmd values for females under 65 compared to those 65 and older. Assign this float value to `mean_bmd_diff`. *(4 pts)*"
   ]
  },
  {
   "cell_type": "code",
   "execution_count": 37,
   "metadata": {},
   "outputs": [
    {
     "data": {
      "text/plain": [
       "0.099552734523255748"
      ]
     },
     "execution_count": 37,
     "metadata": {},
     "output_type": "execute_result"
    }
   ],
   "source": [
    "mean_bmd_diff = np.mean(females_BMD.where(\"Over 65\", 0).column(\"bmd\")) - np.mean(females_BMD.where(\"Over 65\", 1).column(\"bmd\"))\n",
    "mean_bmd_diff"
   ]
  },
  {
   "cell_type": "markdown",
   "metadata": {},
   "source": [
    "**Question 2.1.3.** Perform a hypothesis test (using A/B testing methods used in this class) to draw a conclusion about the null and alternative hypotheses below at a 5% significance level. This simulation should be repeated 5,000 times. Describe your conclusions using simple, non-technical language. Assign the p-value of your hypothesis test to `bmd_p_value` *(6 pts)*\n",
    "\n",
    "Null Hypothesis: There is no difference in the mean bone mineral densities for females 65 and older compared to females under 65 years old.\n",
    "\n",
    "Alternative Hypothesis: Females 65 and older have lower mean bone mineral densities compared to females under 65 years old.\n",
    "\n"
   ]
  },
  {
   "cell_type": "code",
   "execution_count": 74,
   "metadata": {},
   "outputs": [
    {
     "name": "stdout",
     "output_type": "stream",
     "text": [
      "Observed Difference: 0.0995527345233\n"
     ]
    },
    {
     "data": {
      "image/png": "[encoded data removed]",
      "text/plain": [
       "<Figure size 600x400 with 1 Axes>"
      ]
     },
     "metadata": {},
     "output_type": "display_data"
    }
   ],
   "source": [
    "# Perform your hypothesis test here\n",
    "def difference_of_means(table, group_label, outcome):\n",
    "    \n",
    "    reduced = table.select(outcome, group_label)  \n",
    "    \n",
    "    summary_table = reduced.group(group_label, np.mean)\n",
    "    \n",
    "    return summary_table.column(1).item(0) - summary_table.column(1).item(1)\n",
    "\n",
    "def one_simulated_difference(table, group_label, outcome):    \n",
    "    # array of shuffled labels\n",
    "    shuffled_labels = table.sample(with_replacement = False).column(group_label)\n",
    "    \n",
    "    # table of outcome variable and shuffled labels\n",
    "    shuffled_table = table.select(outcome).with_column(\n",
    "        'Shuffled Label', shuffled_labels)\n",
    "    \n",
    "    return difference_of_means(shuffled_table, 'Shuffled Label', outcome) \n",
    "\n",
    "differences = make_array()\n",
    "\n",
    "for i in np.arange(5000):\n",
    "    new_difference = one_simulated_difference(females_BMD, 'Over 65', 'bmd')\n",
    "    differences = np.append(differences, new_difference)\n",
    "\n",
    "Table().with_column('Difference Between Group Means', differences).hist(bins=9)\n",
    "print('Observed Difference:', mean_bmd_diff)\n",
    "plots.title('Prediction Under the Null Hypothesis');\n",
    "plots.plot([mean_bmd_diff, mean_bmd_diff], [0, 5], color='red', lw=2);"
   ]
  },
  {
   "cell_type": "code",
   "execution_count": 73,
   "metadata": {},
   "outputs": [
    {
     "data": {
      "text/plain": [
       "0.00080000000000000004"
      ]
     },
     "execution_count": 73,
     "metadata": {},
     "output_type": "execute_result"
    }
   ],
   "source": [
    "bmd_p_value = sum(differences>= mean_bmd_diff)/5000\n",
    "bmd_p_value"
   ]
  },
  {
   "cell_type": "markdown",
   "metadata": {},
   "source": [
    "The p-value is approximately equal to 0.0008. Because the p_value is very small, the observed value of the test statistic is quite far away from the heart of the simulated distribution centered at 0. By our cutoff(a p-value cutoff of 0.05) for what is “small”, the empirical P-value is small. So we end up rejecting the null hypothesis of randomness, and conclude that Females 65 and older have lower mean bone mineral densities compared to females under 65 years old."
   ]
  },
  {
   "cell_type": "markdown",
   "metadata": {
    "tags": []
   },
   "source": [
    "### 2.2 Regression Analysis - Bone Mineral Density vs. Age *(17 pts total)*"
   ]
  },
  {
   "cell_type": "markdown",
   "metadata": {},
   "source": [
    "**Question 2.2.1** In questions 1.5 & 1.6 you analyzed the relationship between bone mineral density and age. Determine the slope and the intercept for the linear regression model using age as the predictor and bone mineral density as the response (again using the `BMD` table containing males and females). Assign the value of the slope of this model to `BMD_slope` and the intercept of this model to `BMD_intercept`. *(4 pts)*"
   ]
  },
  {
   "cell_type": "code",
   "execution_count": 75,
   "metadata": {},
   "outputs": [
    {
     "data": {
      "text/plain": [
       "0.71547628359218995"
      ]
     },
     "execution_count": 75,
     "metadata": {},
     "output_type": "execute_result"
    }
   ],
   "source": [
    "BMD_slope = corr * np.std(BMD.column(\"bmd\")) / np.std(BMD.column(\"age\"))\n",
    "BMD_intercept = np.average(BMD.column(\"bmd\") - BMD_slope * np.average(BMD.column(\"age\")))\n",
    "\n",
    "# Do not change the below code\n",
    "80 * BMD_slope + BMD_intercept"
   ]
  },
  {
   "cell_type": "markdown",
   "metadata": {},
   "source": [
    "**Question 2.2.2** Construct a **99%** confidence interval for the population slope of the regression model from the previous question.  This simulation should be repeated 10,000 times. Assign the upper and lower bounds of your confidence interval to `lower_bound_BMD_slope` and `upper_bound_BMD_slope` *(6 pts)*"
   ]
  },
  {
   "cell_type": "code",
   "execution_count": 44,
   "metadata": {},
   "outputs": [],
   "source": [
    "# Perform your simulation here\n",
    "def standard_units(x):\n",
    "    \"Convert any array of numbers to standard units.\"\n",
    "    return (x - np.average(x)) / np.std(x)\n",
    "\n",
    "def correlation(t, x, y):\n",
    "    \"\"\"t is a table; x and y are column labels\"\"\"\n",
    "    x_in_standard_units = standard_units(t.column(x))\n",
    "    y_in_standard_units = standard_units(t.column(y))\n",
    "    return np.average(x_in_standard_units * y_in_standard_units)\n",
    "\n",
    "def slope(t, x, y):\n",
    "    \"\"\"t is a table; x and y are column labels\"\"\"\n",
    "    r = correlation(t, x, y)\n",
    "    slope_xy = r * np.std(t.column(y)) / np.std(t.column(x))\n",
    "    return slope_xy\n",
    "\n",
    "def bootstrap_slope(t, x, y, repetitions=10000):\n",
    "    slopes = make_array()\n",
    "    for i in np.arange(repetitions):\n",
    "        bootstrap_sample = t.sample()\n",
    "        bootstrap_slope = slope(bootstrap_sample, x, y)\n",
    "        slopes = np.append(slopes, bootstrap_slope)\n",
    "    return slopes\n",
    "\n",
    "slopes = bootstrap_slope(BMD, \"age\", \"bmd\")"
   ]
  },
  {
   "cell_type": "code",
   "execution_count": 46,
   "metadata": {},
   "outputs": [
    {
     "data": {
      "text/plain": [
       "(-0.0066879448101140517, -0.0014048961343794998)"
      ]
     },
     "execution_count": 46,
     "metadata": {},
     "output_type": "execute_result"
    }
   ],
   "source": [
    "lower_bound_BMD_slope = percentile(0.5, slopes)\n",
    "upper_bound_BMD_slope = percentile(99.5, slopes)\n",
    "\n",
    "# do not change the below code\n",
    "lower_bound_BMD_slope, upper_bound_BMD_slope"
   ]
  },
  {
   "cell_type": "markdown",
   "metadata": {},
   "source": [
    "**Question 2.2.3** Construct new table `BMD_with_residuals`. This table should include all of the rows and columns of the `BMD` table, as well as two new columns:\n",
    "\n",
    "1. `Prediction for BMD` - the values of the bone mineral density for each person predicted by the linear regression model.\n",
    "2. `Residual for BMD` - the differences between each person's actual bone mineral densities and the bone mineral densities predicted by the linear regression model. *(3 pts)*"
   ]
  },
  {
   "cell_type": "code",
   "execution_count": 48,
   "metadata": {},
   "outputs": [
    {
     "data": {
      "text/html": [
       "<table border=\"1\" class=\"dataframe\">\n",
       "    <thead>\n",
       "        <tr>\n",
       "            <th>id</th> <th>age</th> <th>sex</th> <th>fracture</th> <th>weight_kg</th> <th>height_cm</th> <th>medication</th> <th>waiting_time</th> <th>bmd</th> <th>Prediction for BMD</th> <th>Residual for BMD</th>\n",
       "        </tr>\n",
       "    </thead>\n",
       "    <tbody>\n",
       "        <tr>\n",
       "            <td>469  </td> <td>57.0528</td> <td>F   </td> <td>no fracture</td> <td>64       </td> <td>155.5    </td> <td>Anticonvulsant </td> <td>18          </td> <td>0.8793</td> <td>0.810285          </td> <td>0.0690151       </td>\n",
       "        </tr>\n",
       "        <tr>\n",
       "            <td>8724 </td> <td>75.7412</td> <td>F   </td> <td>no fracture</td> <td>78       </td> <td>162      </td> <td>No medication  </td> <td>56          </td> <td>0.7946</td> <td>0.733072          </td> <td>0.0615282       </td>\n",
       "        </tr>\n",
       "        <tr>\n",
       "            <td>6736 </td> <td>70.7789</td> <td>M   </td> <td>no fracture</td> <td>73       </td> <td>170.5    </td> <td>No medication  </td> <td>10          </td> <td>0.9067</td> <td>0.753574          </td> <td>0.153126        </td>\n",
       "        </tr>\n",
       "        <tr>\n",
       "            <td>24180</td> <td>78.2472</td> <td>F   </td> <td>no fracture</td> <td>60       </td> <td>148      </td> <td>No medication  </td> <td>14          </td> <td>0.7112</td> <td>0.722718          </td> <td>-0.0115182      </td>\n",
       "        </tr>\n",
       "        <tr>\n",
       "            <td>17072</td> <td>54.1919</td> <td>M   </td> <td>no fracture</td> <td>55       </td> <td>161      </td> <td>No medication  </td> <td>20          </td> <td>0.7909</td> <td>0.822105          </td> <td>-0.031205       </td>\n",
       "        </tr>\n",
       "        <tr>\n",
       "            <td>3806 </td> <td>77.1778</td> <td>M   </td> <td>no fracture</td> <td>65       </td> <td>168      </td> <td>No medication  </td> <td>7           </td> <td>0.7301</td> <td>0.727137          </td> <td>0.00296331      </td>\n",
       "        </tr>\n",
       "        <tr>\n",
       "            <td>17106</td> <td>56.1806</td> <td>M   </td> <td>no fracture</td> <td>77       </td> <td>159      </td> <td>No medication  </td> <td>26          </td> <td>1.0096</td> <td>0.813888          </td> <td>0.195712        </td>\n",
       "        </tr>\n",
       "        <tr>\n",
       "            <td>23834</td> <td>49.9161</td> <td>F   </td> <td>no fracture</td> <td>59       </td> <td>150      </td> <td>No medication  </td> <td>9           </td> <td>0.731 </td> <td>0.839771          </td> <td>-0.108771       </td>\n",
       "        </tr>\n",
       "        <tr>\n",
       "            <td>2454 </td> <td>68.4084</td> <td>M   </td> <td>no fracture</td> <td>64       </td> <td>167      </td> <td>Glucocorticoids</td> <td>6           </td> <td>0.6893</td> <td>0.763368          </td> <td>-0.074068       </td>\n",
       "        </tr>\n",
       "        <tr>\n",
       "            <td>2088 </td> <td>66.2566</td> <td>M   </td> <td>no fracture</td> <td>72       </td> <td>159.5    </td> <td>No medication  </td> <td>10          </td> <td>0.9466</td> <td>0.772258          </td> <td>0.174342        </td>\n",
       "        </tr>\n",
       "    </tbody>\n",
       "</table>\n",
       "<p>... (159 rows omitted)</p>"
      ],
      "text/plain": [
       "id    | age     | sex  | fracture    | weight_kg | height_cm | medication      | waiting_time | bmd    | Prediction for BMD | Residual for BMD\n",
       "469   | 57.0528 | F    | no fracture | 64        | 155.5     | Anticonvulsant  | 18           | 0.8793 | 0.810285           | 0.0690151\n",
       "8724  | 75.7412 | F    | no fracture | 78        | 162       | No medication   | 56           | 0.7946 | 0.733072           | 0.0615282\n",
       "6736  | 70.7789 | M    | no fracture | 73        | 170.5     | No medication   | 10           | 0.9067 | 0.753574           | 0.153126\n",
       "24180 | 78.2472 | F    | no fracture | 60        | 148       | No medication   | 14           | 0.7112 | 0.722718           | -0.0115182\n",
       "17072 | 54.1919 | M    | no fracture | 55        | 161       | No medication   | 20           | 0.7909 | 0.822105           | -0.031205\n",
       "3806  | 77.1778 | M    | no fracture | 65        | 168       | No medication   | 7            | 0.7301 | 0.727137           | 0.00296331\n",
       "17106 | 56.1806 | M    | no fracture | 77        | 159       | No medication   | 26           | 1.0096 | 0.813888           | 0.195712\n",
       "23834 | 49.9161 | F    | no fracture | 59        | 150       | No medication   | 9            | 0.731  | 0.839771           | -0.108771\n",
       "2454  | 68.4084 | M    | no fracture | 64        | 167       | Glucocorticoids | 6            | 0.6893 | 0.763368           | -0.074068\n",
       "2088  | 66.2566 | M    | no fracture | 72        | 159.5     | No medication   | 10           | 0.9466 | 0.772258           | 0.174342\n",
       "... (159 rows omitted)"
      ]
     },
     "execution_count": 48,
     "metadata": {},
     "output_type": "execute_result"
    }
   ],
   "source": [
    "BMD_with_residuals = BMD.with_columns(\n",
    "    \"Prediction for BMD\", BMD_slope * BMD.column(\"age\") + BMD_intercept,\n",
    "    \"Residual for BMD\", BMD.column(\"bmd\") - (BMD_slope * BMD.column(\"age\") + BMD_intercept)\n",
    "    )\n",
    "BMD_with_residuals"
   ]
  },
  {
   "cell_type": "markdown",
   "metadata": {},
   "source": [
    "**Question 2.2.4.** Is there a pattern in the residuals based on if the person had a bone fracture? To answer this question make two plots, each with `Residual for BMD` on the vertical axis and `Prediction for BMD` on the horizontal axis. For the first plot only use the rows in the `BMD_with_residuals` table corresponding to those that have had a bone fracture. For the second plot only include those who have **not** had a bone fracture. Do the two plots show similar or different patterns in variability? *(4 pts)*"
   ]
  },
  {
   "cell_type": "code",
   "execution_count": 51,
   "metadata": {},
   "outputs": [
    {
     "data": {
      "image/png": "[encoded data removed]",
      "text/plain": [
       "<Figure size 500x500 with 1 Axes>"
      ]
     },
     "metadata": {},
     "output_type": "display_data"
    }
   ],
   "source": [
    "# Plot for fractures\n",
    "BMD_with_residuals.where(\"fracture\", \"fracture\").scatter(\"Prediction for BMD\", \"Residual for BMD\", fit_line=True)"
   ]
  },
  {
   "cell_type": "code",
   "execution_count": 52,
   "metadata": {},
   "outputs": [
    {
     "data": {
      "image/png": "[encoded data removed]",
      "text/plain": [
       "<Figure size 500x500 with 1 Axes>"
      ]
     },
     "metadata": {},
     "output_type": "display_data"
    }
   ],
   "source": [
    "# Plot for no fractures\n",
    "BMD_with_residuals.where(\"fracture\", \"no fracture\").scatter(\"Prediction for BMD\", \"Residual for BMD\", fit_line=True)"
   ]
  },
  {
   "cell_type": "markdown",
   "metadata": {},
   "source": [
    "In the two plots we can find a similarly relative negative relationship between the Prediction for BMD and the Residual for BMD from the fit lines. However, In the plot for fractures we can observe a narrower range for the y values, i.e. the Residual for BMD, when comparing to the plot for no fractures, which means that the BMD residual has a narrower span for the plot for no fractures"
   ]
  },
  {
   "cell_type": "markdown",
   "metadata": {},
   "source": [
    "## 3. Classification *(11 pts total)*"
   ]
  },
  {
   "cell_type": "markdown",
   "metadata": {},
   "source": [
    "**Question 3.1** Construct a new table `BMD_classify` with four columns. The first three columns should be `bmd`, `age`, and `weight_kg` in standard units. The last column should be named `Class` and equal to the integer `1` for those that have had a fracture and equal to the integer `0` for those that have **not** had a fracture *(3 pts)*"
   ]
  },
  {
   "cell_type": "code",
   "execution_count": 104,
   "metadata": {},
   "outputs": [
    {
     "data": {
      "text/html": [
       "<table border=\"1\" class=\"dataframe\">\n",
       "    <thead>\n",
       "        <tr>\n",
       "            <th>bmd_SU</th> <th>age_SU</th> <th>weight_SU</th> <th>Class</th>\n",
       "        </tr>\n",
       "    </thead>\n",
       "    <tbody>\n",
       "        <tr>\n",
       "            <td>0.579369 </td> <td>-0.533977</td> <td>-0.0578702</td> <td>0    </td>\n",
       "        </tr>\n",
       "        <tr>\n",
       "            <td>0.0692374</td> <td>0.982904 </td> <td>1.1592    </td> <td>0    </td>\n",
       "        </tr>\n",
       "        <tr>\n",
       "            <td>0.744394 </td> <td>0.580128 </td> <td>0.724535  </td> <td>0    </td>\n",
       "        </tr>\n",
       "        <tr>\n",
       "            <td>-0.433065</td> <td>1.1863   </td> <td>-0.405606 </td> <td>0    </td>\n",
       "        </tr>\n",
       "        <tr>\n",
       "            <td>0.0469529</td> <td>-0.766186</td> <td>-0.840276 </td> <td>0    </td>\n",
       "        </tr>\n",
       "        <tr>\n",
       "            <td>-0.319234</td> <td>1.0995   </td> <td>0.0290637 </td> <td>0    </td>\n",
       "        </tr>\n",
       "        <tr>\n",
       "            <td>1.36414  </td> <td>-0.604766</td> <td>1.07227   </td> <td>0    </td>\n",
       "        </tr>\n",
       "        <tr>\n",
       "            <td>-0.313813</td> <td>-1.11323 </td> <td>-0.49254  </td> <td>0    </td>\n",
       "        </tr>\n",
       "        <tr>\n",
       "            <td>-0.564964</td> <td>0.387723 </td> <td>-0.0578702</td> <td>0    </td>\n",
       "        </tr>\n",
       "        <tr>\n",
       "            <td>0.984705 </td> <td>0.213072 </td> <td>0.637601  </td> <td>0    </td>\n",
       "        </tr>\n",
       "    </tbody>\n",
       "</table>\n",
       "<p>... (159 rows omitted)</p>"
      ],
      "text/plain": [
       "bmd_SU    | age_SU    | weight_SU  | Class\n",
       "0.579369  | -0.533977 | -0.0578702 | 0\n",
       "0.0692374 | 0.982904  | 1.1592     | 0\n",
       "0.744394  | 0.580128  | 0.724535   | 0\n",
       "-0.433065 | 1.1863    | -0.405606  | 0\n",
       "0.0469529 | -0.766186 | -0.840276  | 0\n",
       "-0.319234 | 1.0995    | 0.0290637  | 0\n",
       "1.36414   | -0.604766 | 1.07227    | 0\n",
       "-0.313813 | -1.11323  | -0.49254   | 0\n",
       "-0.564964 | 0.387723  | -0.0578702 | 0\n",
       "0.984705  | 0.213072  | 0.637601   | 0\n",
       "... (159 rows omitted)"
      ]
     },
     "execution_count": 104,
     "metadata": {},
     "output_type": "execute_result"
    }
   ],
   "source": [
    "clas = make_array()\n",
    "for elem in BMD_SU.column(\"fracture\"):\n",
    "    if elem == \"fracture\":\n",
    "        clas = np.append(clas, 1)\n",
    "    if elem == \"no fracture\":\n",
    "        clas = np.append(clas, 0)\n",
    "\n",
    "BMD_classify = BMD_SU.select(\"bmd_SU\", \"age_SU\", \"weight_SU\").with_column(\"Class\", clas)\n",
    "BMD_classify"
   ]
  },
  {
   "cell_type": "markdown",
   "metadata": {},
   "source": [
    "**Question 3.2** Construct two new tables (`BMD_train` and `BMD_test`). Randomly assign (approximately) 80% of the data in `BMD_classify` to the training set and the remaining (approximately) 20% of the data to the testing set. *(3 pts)*"
   ]
  },
  {
   "cell_type": "code",
   "execution_count": 109,
   "metadata": {},
   "outputs": [
    {
     "name": "stdout",
     "output_type": "stream",
     "text": [
      "Training set:\t 135 examples\n",
      "Test set:\t 34 examples\n"
     ]
    },
    {
     "data": {
      "text/html": [
       "<table border=\"1\" class=\"dataframe\">\n",
       "    <thead>\n",
       "        <tr>\n",
       "            <th>bmd_SU</th> <th>age_SU</th> <th>weight_SU</th> <th>Class</th>\n",
       "        </tr>\n",
       "    </thead>\n",
       "    <tbody>\n",
       "        <tr>\n",
       "            <td>-0.338507 </td> <td>-1.17058 </td> <td>0.115998 </td> <td>0    </td>\n",
       "        </tr>\n",
       "        <tr>\n",
       "            <td>-1.34191  </td> <td>1.06442  </td> <td>-1.10108 </td> <td>1    </td>\n",
       "        </tr>\n",
       "        <tr>\n",
       "            <td>-0.804672 </td> <td>1.88537  </td> <td>-0.92721 </td> <td>1    </td>\n",
       "        </tr>\n",
       "        <tr>\n",
       "            <td>-0.0391732</td> <td>0.550018 </td> <td>1.24614  </td> <td>0    </td>\n",
       "        </tr>\n",
       "        <tr>\n",
       "            <td>0.0812829 </td> <td>-0.719036</td> <td>-0.231738</td> <td>0    </td>\n",
       "        </tr>\n",
       "    </tbody>\n",
       "</table>\n",
       "<p>... (130 rows omitted)</p>"
      ],
      "text/plain": [
       "<IPython.core.display.HTML object>"
      ]
     },
     "metadata": {},
     "output_type": "display_data"
    },
    {
     "data": {
      "text/html": [
       "<table border=\"1\" class=\"dataframe\">\n",
       "    <thead>\n",
       "        <tr>\n",
       "            <th>bmd_SU</th> <th>age_SU</th> <th>weight_SU</th> <th>Class</th>\n",
       "        </tr>\n",
       "    </thead>\n",
       "    <tbody>\n",
       "        <tr>\n",
       "            <td>1.41232 </td> <td>0.34853 </td> <td>-0.231738</td> <td>0    </td>\n",
       "        </tr>\n",
       "        <tr>\n",
       "            <td>0.984705</td> <td>0.213072</td> <td>0.637601 </td> <td>0    </td>\n",
       "        </tr>\n",
       "        <tr>\n",
       "            <td>0.149341</td> <td>0.519221</td> <td>-0.49254 </td> <td>0    </td>\n",
       "        </tr>\n",
       "        <tr>\n",
       "            <td>0.923272</td> <td>0.923998</td> <td>0.376799 </td> <td>0    </td>\n",
       "        </tr>\n",
       "        <tr>\n",
       "            <td>-1.53223</td> <td>0.765895</td> <td>-0.92721 </td> <td>1    </td>\n",
       "        </tr>\n",
       "    </tbody>\n",
       "</table>\n",
       "<p>... (29 rows omitted)</p>"
      ],
      "text/plain": [
       "<IPython.core.display.HTML object>"
      ]
     },
     "metadata": {},
     "output_type": "display_data"
    },
    {
     "data": {
      "text/plain": [
       "(None, None)"
      ]
     },
     "execution_count": 109,
     "metadata": {},
     "output_type": "execute_result"
    }
   ],
   "source": [
    "# do not change the line of code below\n",
    "np.random.seed(1236514109)\n",
    "# do not change the line of code above\n",
    "size = BMD_classify.num_rows\n",
    "train_size = int(size * 0.8)\n",
    "\n",
    "BMD_classify_shuff = BMD_classify.sample(with_replacement = False)\n",
    "BMD_train = BMD_classify_shuff.take(np.arange(0, train_size))\n",
    "BMD_test = BMD_classify_shuff.take(np.arange(train_size, BMD_classify_shuff.num_rows))\n",
    "\n",
    "print(\"Training set:\\t\",   BMD_train.num_rows, \"examples\")\n",
    "print(\"Test set:\\t\",       BMD_test.num_rows, \"examples\")\n",
    "BMD_train.show(5), BMD_test.show(5)"
   ]
  },
  {
   "cell_type": "markdown",
   "metadata": {},
   "source": [
    "**Question 3.3** Use the training data set to classify the first person in your testing data set as either `1` or `0` (corresponding to `fracture` or `no fracture`) by implementing a k-Nearest Neighbors algorithm (with k=5). Assign this value to `fracture_classification`. Then evaluate the accuracy of this classification model and assign `fracture_accuracy` to the proportion of your testing data that is correctly classified *(5 pts)*"
   ]
  },
  {
   "cell_type": "code",
   "execution_count": 110,
   "metadata": {},
   "outputs": [
    {
     "data": {
      "text/plain": [
       "(0, 0.8529411764705882)"
      ]
     },
     "execution_count": 110,
     "metadata": {},
     "output_type": "execute_result"
    }
   ],
   "source": [
    "def distance(point1, point2):\n",
    "    \"\"\"Returns the distance between point1 and point2\n",
    "    where each argument is an array \n",
    "    consisting of the coordinates of the point\"\"\"\n",
    "    return np.sqrt(np.sum((point1 - point2)**2))\n",
    "\n",
    "def all_distances(training, new_point):\n",
    "    \"\"\"Returns an array of distances\n",
    "    between each point in the training set\n",
    "    and the new point (which is a row of attributes)\"\"\"\n",
    "    attributes = training.drop('Class')\n",
    "    def distance_from_point(row):\n",
    "        return distance(np.array(list(new_point)), np.array(list(row)))\n",
    "    return attributes.apply(distance_from_point)\n",
    "\n",
    "def table_with_distances(training, new_point):\n",
    "    \"\"\"Augments the training table \n",
    "    with a column of distances from new_point\"\"\"\n",
    "    return training.with_column('Distance', all_distances(training, new_point))\n",
    "\n",
    "def closest(training, new_point, k):\n",
    "    \"\"\"Returns a table of the k rows of the augmented table\n",
    "    corresponding to the k smallest distances\"\"\"\n",
    "    with_dists = table_with_distances(training, new_point)\n",
    "    sorted_by_distance = with_dists.sort('Distance')\n",
    "    topk = sorted_by_distance.take(np.arange(k))\n",
    "    return topk\n",
    "\n",
    "def majority(topkclasses):\n",
    "    ones = topkclasses.where('Class', are.equal_to(1)).num_rows\n",
    "    zeros = topkclasses.where('Class', are.equal_to(0)).num_rows\n",
    "    if ones > zeros:\n",
    "        return 1\n",
    "    else:\n",
    "        return 0\n",
    "\n",
    "def classify(training, new_point, k):\n",
    "    closestk = closest(training, new_point, k)\n",
    "    topkclasses = closestk.select('Class')\n",
    "    return majority(topkclasses)\n",
    "\n",
    "fracture_classification = classify(BMD_train, make_array((BMD_test.row(0).item(0), (BMD_test.row(0).item(1)), (BMD_test.row(0).item(2)))), 5)\n",
    "\n",
    "def evaluate_accuracy(training, test, k):\n",
    "    \"\"\"Return the proportion of correctly classified examples \n",
    "    in the test set\"\"\"\n",
    "    test_attributes = test.drop('Class')\n",
    "    num_correct = 0\n",
    "    for i in np.arange(test.num_rows):\n",
    "        c = classify(training, test_attributes.row(i), k)\n",
    "        num_correct = num_correct + (c == test.column('Class').item(i))\n",
    "    return num_correct / test.num_rows\n",
    "\n",
    "fracture_accuracy = evaluate_accuracy(BMD_train, BMD_test, 5)\n",
    "\n",
    "fracture_classification, fracture_accuracy"
   ]
  }
 ],
 "metadata": {
  "kernelspec": {
   "display_name": "Python 3 (ipykernel)",
   "language": "python",
   "name": "python3"
  },
  "language_info": {
   "codemirror_mode": {
    "name": "ipython",
    "version": 3
   },
   "file_extension": ".py",
   "mimetype": "text/x-python",
   "name": "python",
   "nbconvert_exporter": "python",
   "pygments_lexer": "ipython3",
   "version": "3.11.5"
  }
 },
 "nbformat": 4,
 "nbformat_minor": 4
}
