{
 "cells": [
  {
   "cell_type": "markdown",
   "id": "7b63444f-72ed-4e25-becb-4832630a3ee0",
   "metadata": {},
   "source": [
    "Directions: The exam is open book, notes, course materials, and internet, BUT if you are found to be submitting the work of other students as your exam submission, an honor code violation will be reported. This could be by communication with others and the sharing of answers and code: during the exam time, with students in other sections of the course, by using the solutions to exams from previous semesters, or online answer tools such as Chegg, CourseHero, ChatGPT, etc. This is a zero tolerance policy and all suspected honor code violations will be reported. Just as with all course assignments, you should submit this exam to Gradescope as a Jupyter Notebook with the ipynb file extension. To receive full credit, you should show and run all of your code used to answer each question.\n",
    "\n",
    "**Check your file on Gradescope to ensure that it is the file that you intended to submit! No completed work ill be accepted after the due date and time.**"
   ]
  },
  {
   "cell_type": "markdown",
   "id": "3ec48c3a-cba6-4016-ac22-9ca16d2222c9",
   "metadata": {},
   "source": [
    "Run the cell below to set up the notebook."
   ]
  },
  {
   "cell_type": "code",
   "execution_count": 12,
   "id": "21e27352-a7b7-40bc-8a47-7eb034031a5f",
   "metadata": {},
   "outputs": [],
   "source": [
    "import matplotlib\n",
    "from datascience import *\n",
    "%matplotlib inline\n",
    "import matplotlib.pyplot as plots\n",
    "import numpy as np\n",
    "plots.style.use('fivethirtyeight')\n",
    "from scipy import stats\n"
   ]
  },
  {
   "cell_type": "markdown",
   "id": "6babad85-2986-44a9-aa6c-6d29fb4dab95",
   "metadata": {},
   "source": [
    "# Simulation Problem\n",
    "\n",
    "The two envelopes problem, also known as the exchange paradox, is a paradox in probability theory. It is of special interest in decision theory and for the Bayesian interpretation of probability theory. It is a variant of an older problem known as the necktie paradox. The problem is typically introduced by formulating a hypothetical challenge like the following example:\n",
    "\n",
    "Imagine you are given two identical envelopes, each containing money. One contains twice as much as the other. You may pick one envelope and keep the money it contains. Having chosen an envelope at will, but before inspecting it, you are given the chance to switch envelopes. Should you switch?"
   ]
  },
  {
   "cell_type": "markdown",
   "id": "70ea5d97-2120-4f8d-be2e-debd3c2a7499",
   "metadata": {},
   "source": [
    "# User car Dealership\n",
    "\n",
    "(What model was your first car?)\n",
    "\n",
    "As of August 2004, a large Toyota car dealership offers purchasers of new Toyota cars the option to buy their used car as part of a trade-in. The dealer then sells the used cars for a small profit. The `ToyotaCorolla.csv` data includes the sales price and other information on the used cars, such as its age, mileage, fuel type, and engine size. A description of each of these variables is provided below. The total number of records in the dataset is 718 Toyota cars in the inventory."
   ]
  },
  {
   "cell_type": "code",
   "execution_count": 13,
   "id": "9cf51042-72d4-4393-9e3f-bbbba562c5d1",
   "metadata": {},
   "outputs": [],
   "source": [
    "# Behind the door of our choice\n",
    "doors = make_array(100, 50)\n",
    "\n",
    "# Our two goats\n",
    "goats = make_array('first goat', 'second goat')"
   ]
  },
  {
   "cell_type": "markdown",
   "id": "cb15d8a6-9f6e-42a8-bd10-39c674c2deb1",
   "metadata": {},
   "source": [
    "Variables              | Descriptions\n",
    "---------------------- | -----------------------------------------------------\n",
    "_Price_                | Offer Price in EUROs\n",
    "_Age_08_04_            | Age in months as in August 2004\n",
    "_Mfg_Year_             | Year of Manufacture of the car\n",
    "_KM_                   | Accumulated Kilometers on odometer\n",
    "_Automatic_            | Automatic ( (Yes=1, No=0)\n",
    "_Boardcomputer_        | Boardcomputer (Yes=1, No=0)free form of SO2  (prevents microbial growth and the oxidation of wine)\n",
    "_Sport_Model_          | Sport Model  (Yes=1, No=0)\n",
    "_Cylinders_            | Number of cylinders\n",
    "_Central_Lock_         | Central Lock  (Yes=1, No=0)\n",
    "_Power_Steering_       | Power Steering  (Yes=1, No=0)\n",
    "_Weight_               | Weight in Kilograms\n",
    "_Parking_Assistant_    | Parking assistance system  (Yes=1, No=0)\n",
    "_ABS_                  | Anti-Lock Brake System (Yes=1, No=0)\n",
    "_Fuel_Type_            | Fuel Type (Petrol, Diesel, CNG)"
   ]
  },
  {
   "cell_type": "code",
   "execution_count": 14,
   "id": "8be1d88a-b833-4fc6-8ad6-59e1c2b626c9",
   "metadata": {},
   "outputs": [
    {
     "data": {
      "text/html": [
       "<table border=\"1\" class=\"dataframe\">\n",
       "    <thead>\n",
       "        <tr>\n",
       "            <th>Price</th> <th>Age_08_04</th> <th>Mfg_Year</th> <th>KM</th> <th>Automatic</th> <th>Boardcomputer</th> <th>Sport_Model</th> <th>Cylinders</th> <th>Central_Lock</th> <th>Power_Steering</th> <th>Weight</th> <th>Parking_Assistant</th> <th>ABS</th> <th>Fuel_Type</th>\n",
       "        </tr>\n",
       "    </thead>\n",
       "    <tbody>\n",
       "        <tr>\n",
       "            <td>13750</td> <td>23       </td> <td>2002    </td> <td>72937</td> <td>0        </td> <td>1            </td> <td>0          </td> <td>4        </td> <td>1           </td> <td>1             </td> <td>1165  </td> <td>0                </td> <td>1   </td> <td>Diesel   </td>\n",
       "        </tr>\n",
       "        <tr>\n",
       "            <td>14950</td> <td>26       </td> <td>2002    </td> <td>48000</td> <td>0        </td> <td>1            </td> <td>0          </td> <td>4        </td> <td>0           </td> <td>1             </td> <td>1165  </td> <td>0                </td> <td>1   </td> <td>Diesel   </td>\n",
       "        </tr>\n",
       "        <tr>\n",
       "            <td>12950</td> <td>32       </td> <td>2002    </td> <td>61000</td> <td>0        </td> <td>1            </td> <td>0          </td> <td>4        </td> <td>1           </td> <td>1             </td> <td>1170  </td> <td>0                </td> <td>1   </td> <td>Diesel   </td>\n",
       "        </tr>\n",
       "        <tr>\n",
       "            <td>18600</td> <td>30       </td> <td>2002    </td> <td>75889</td> <td>0        </td> <td>1            </td> <td>0          </td> <td>4        </td> <td>1           </td> <td>1             </td> <td>1245  </td> <td>0                </td> <td>1   </td> <td>Diesel   </td>\n",
       "        </tr>\n",
       "        <tr>\n",
       "            <td>12950</td> <td>23       </td> <td>2002    </td> <td>71138</td> <td>0        </td> <td>1            </td> <td>0          </td> <td>4        </td> <td>0           </td> <td>1             </td> <td>1105  </td> <td>0                </td> <td>1   </td> <td>Diesel   </td>\n",
       "        </tr>\n",
       "    </tbody>\n",
       "</table>"
      ],
      "text/plain": [
       "Price | Age_08_04 | Mfg_Year | KM    | Automatic | Boardcomputer | Sport_Model | Cylinders | Central_Lock | Power_Steering | Weight | Parking_Assistant | ABS  | Fuel_Type\n",
       "13750 | 23        | 2002     | 72937 | 0         | 1             | 0           | 4         | 1            | 1              | 1165   | 0                 | 1    | Diesel\n",
       "14950 | 26        | 2002     | 48000 | 0         | 1             | 0           | 4         | 0            | 1              | 1165   | 0                 | 1    | Diesel\n",
       "12950 | 32        | 2002     | 61000 | 0         | 1             | 0           | 4         | 1            | 1              | 1170   | 0                 | 1    | Diesel\n",
       "18600 | 30        | 2002     | 75889 | 0         | 1             | 0           | 4         | 1            | 1              | 1245   | 0                 | 1    | Diesel\n",
       "12950 | 23        | 2002     | 71138 | 0         | 1             | 0           | 4         | 0            | 1              | 1105   | 0                 | 1    | Diesel"
      ]
     },
     "execution_count": 14,
     "metadata": {},
     "output_type": "execute_result"
    }
   ],
   "source": [
    "# Run this cell to load the data set and select only the variables of interest.\n",
    "\n",
    "toyota = Table.read_table('ToyotaCorolla.csv').select(\n",
    "    ['Price', 'Age_08_04', 'Mfg_Year', 'KM', 'Automatic',\n",
    "    'Boardcomputer', 'Sport_Model', 'Cylinders',\n",
    "    'Central_Lock', 'Power_Steering', 'Weight', 'Parking_Assistant',\n",
    "    'Weight','Parking_Assistant', 'ABS', 'Fuel_Type'])\n",
    "toyota.take(np.arange(5))"
   ]
  },
  {
   "cell_type": "markdown",
   "id": "fcaff2c6-2f0b-4615-859e-88192d440f4c",
   "metadata": {},
   "source": [
    "## Question 1\n",
    "\n",
    "A customer is interested in purchasing a used car at the dealership but is unsure of how much she should plan to spend on the purchase on average. On arrival at the dealership, she asks the the manager at the dealership: \"Based on the data you have on used cars in the inventory, what is the typical price of a used car in your lot?\". Using the data above, and to answer the question posed, a statistical analyst is interested in generating a suitable plot of the distribution of the prices in the data.\n",
    "\n",
    "Plot a histogram of the `Price` of all cars in the data set. Use the `toyota_bins` provided below. Then describe the shape of the histogram."
   ]
  },
  {
   "cell_type": "code",
   "execution_count": 15,
   "id": "0db3c3b9-c4ec-4ff7-803a-561a97179434",
   "metadata": {},
   "outputs": [
    {
     "data": {
      "image/png": "[encoded data removed]",
      "text/plain": [
       "<Figure size 432x288 with 1 Axes>"
      ]
     },
     "metadata": {},
     "output_type": "display_data"
    }
   ],
   "source": [
    "toyota_bins = np.arange(4300, 33000, 900)\n",
    "\n",
    "toyota.hist('Price', bins = toyota_bins)"
   ]
  },
  {
   "cell_type": "markdown",
   "id": "9c6655e9-554e-4f08-838e-6038338ac55f",
   "metadata": {},
   "source": [
    "The histogram is right-skewed, unimodal, with possibly some outliers on the upper tail of the distribution."
   ]
  },
  {
   "cell_type": "markdown",
   "id": "cc9a9c67-806d-4b26-983c-291916c6eef5",
   "metadata": {},
   "source": [
    "## Question 2\n",
    "\n",
    "Based on the shape of the histogram, compute and output the values of the appropriate `measure of center` and `measure of spread` of the distribution of prices of all used cars? Provide a reasonable reason for your choice of measures."
   ]
  },
  {
   "cell_type": "code",
   "execution_count": 16,
   "id": "7828e1ad-8748-4b52-8c4d-d43968d79d73",
   "metadata": {},
   "outputs": [
    {
     "data": {
      "text/plain": [
       "9900.0"
      ]
     },
     "execution_count": 16,
     "metadata": {},
     "output_type": "execute_result"
    }
   ],
   "source": [
    "# Measure of center\n",
    "measure_of_center = np.median(toyota.column('Price'))\n",
    "measure_of_center"
   ]
  },
  {
   "cell_type": "code",
   "execution_count": 17,
   "id": "addb470d-7e17-4b9c-8cd4-526f612becd8",
   "metadata": {},
   "outputs": [
    {
     "data": {
      "text/plain": [
       "3450"
      ]
     },
     "execution_count": 17,
     "metadata": {},
     "output_type": "execute_result"
    }
   ],
   "source": [
    "# Measure of spread\n",
    "measure_of_spread = percentile(75, toyota.column('Price')) - percentile(25, toyota.column('Price'))\n",
    "measure_of_spread"
   ]
  },
  {
   "cell_type": "markdown",
   "id": "a1c33a03-a31c-45d5-b3cb-880197ef32dd",
   "metadata": {},
   "source": [
    "The choice of the median and the interquartile range is based on the skewness of the distribution. Skewed distributions have a tendency to have outliers which\n",
    "can have undue influence on the mean and the standard deviation. The median and the interquartile range are both robust/resistant statistics that are not extremely affected by the \n",
    "skewness of the distribution."
   ]
  },
  {
   "cell_type": "markdown",
   "id": "41a82d9e-3109-40c7-9b8c-f071463edcfa",
   "metadata": {},
   "source": [
    "## Question 3\n",
    "\n",
    "Construct a 90% confidence interval for the median price of all used car prices who characteristics are provided in the data set. To receive full credit you should: \n",
    "   \n",
    "   * take bootstrap samples from the original sample, \n",
    "   * find your bootstrap statistic, repeat 5000 times, and \n",
    "   * determine the upper and lower bounds of the confidence interval. \n",
    "   * provide an interpretation of the 90% confidence interval you just computed."
   ]
  },
  {
   "cell_type": "code",
   "execution_count": null,
   "id": "0230b507",
   "metadata": {},
   "outputs": [
    {
     "data": {
      "text/plain": [
       "(9750.0, 9950.0)"
      ]
     },
     "metadata": {},
     "output_type": "display_data"
    }
   ],
   "source": [
    "toyo_car = make_array()\n",
    "\n",
    "for i in np.arange(5000): # Number of simulations required.\n",
    "    bootstrap = toyota.sample() # take bootstrap samples from the original sample\n",
    "    bootstrap_median =np.median(bootstrap.column('Price')) # find your bootstrap statistic, repeat 5000 times\n",
    "    toyo_car = np.append(toyo_car, bootstrap_median)\n",
    "    \n",
    "lower_bound = percentile(5, toyo_car) # determine the lower bound of the confidence interval. \n",
    "upper_bound = percentile(95, toyo_car) # determine the upper bound of the confidence interval. \n",
    "\n",
    "lower_bound, upper_bound # Output the bounds of the confidence interval."
   ]
  },
  {
   "cell_type": "code",
   "execution_count": 19,
   "id": "305e72b6-1c16-4d71-a0a1-f8b8730eb181",
   "metadata": {},
   "outputs": [
    {
     "name": "stdout",
     "output_type": "stream",
     "text": [
      "We predict with 90% confidence that if samples are randomly drawn,\n",
      "the unknown median price of all used cars lies between 9750.0 and 9950.0 Euros\n"
     ]
    },
    {
     "data": {
      "image/png": "[encoded data removed]",
      "text/plain": [
       "<Figure size 432x288 with 1 Axes>"
      ]
     },
     "metadata": {},
     "output_type": "display_data"
    }
   ],
   "source": [
    "Table().with_column(\n",
    "    'Simulated median car prices', toyo_car\n",
    ").hist()\n",
    "\n",
    "plots.plot([lower_bound, upper_bound], [0,0], color=\"gold\", lw=10, zorder=1);\n",
    "print(\"We predict with 90% confidence that if samples are randomly drawn,\")\n",
    "print(\"the unknown median price of all used cars lies between\", np.round(lower_bound,2), \"and\", np.round(upper_bound,2), \"Euros\")"
   ]
  },
  {
   "cell_type": "markdown",
   "id": "c8913a6b-918e-4f0e-92bd-7be33be2378a",
   "metadata": {},
   "source": [
    "We are $90 \\%$ confident that the interval $(9750,9950)$ would contain the true median price. This does not mean that there is a 90% probability that the true value of the median is in this interval; rather, if we repeated this process many times, then 90% of the time, the intervals generated would contain the true median price."
   ]
  },
  {
   "cell_type": "markdown",
   "id": "bbe6e67c-00bb-4845-a533-d8998a90889b",
   "metadata": {},
   "source": [
    "## Question 4\n",
    "\n",
    "Before personally visiting the car dealership, an individual assumed that the typical price of a used car at this dealership is about $\\$8000$. \n",
    "\n",
    "Does this confidence interval provide evidence in support of this assumption at the 0.05 significance level?  Why do you so answer?"
   ]
  },
  {
   "cell_type": "markdown",
   "id": "4bc2d418-5eb5-4714-b684-1077b75df660",
   "metadata": {},
   "source": [
    "# Possible Correct Answer 1\n",
    "\n",
    "\"If you are testing whether or not the population median is a particular value x=8000, and you use the 5% cutoff for the p-value, then you will reject the null hypothesis if x is not in your 95% confidence interval for the median.\" This excerpt from our textbook and previous assessment work shows that we need a 95% confidence interval to test the given claim at  at the 0.05 significance level. \n",
    "\n",
    "See Lab 8, Question 4. \n",
    "\n",
    "- The 90% confidence interval computed above does not contain 8000 as a possible value of the population median. Thus if we use a p-value cutoff of 10%, we reject the individual's claim . In this problem, we are required to use a p-value cutoff of 0.05. This requires a 95% confidence interval which is wider than a 90% confidence interval for the population median. This might either widen out to include the 8000 or not. Thus we are unable to tell using the 90% confidence interval. "
   ]
  },
  {
   "cell_type": "markdown",
   "id": "3c3c2593-4696-44ec-a7bf-5065e638115d",
   "metadata": {},
   "source": [
    "# Possible Correct Answer 2\n",
    "\n",
    "Because we have the simulated values of the statistic in this problem, we can compute the required lower and upper bounds of a 95% confidence interval.\n",
    "\n",
    "The bounds are provided below based on the results of the simulation above. "
   ]
  },
  {
   "cell_type": "code",
   "execution_count": 20,
   "id": "c68bae49-427b-4ef5-bb08-83727acbfaef",
   "metadata": {},
   "outputs": [
    {
     "data": {
      "text/plain": [
       "(9600.0, 9950.0)"
      ]
     },
     "execution_count": 20,
     "metadata": {},
     "output_type": "execute_result"
    }
   ],
   "source": [
    "lower_bound_95 = percentile(2.5, toyo_car) # determine the lower bound of the confidence interval. \n",
    "upper_bound_95 = percentile(97.5, toyo_car) # determine the upper bound of the confidence interval. \n",
    "\n",
    "lower_bound_95, upper_bound_95 # Output the bounds of the confidence interval."
   ]
  },
  {
   "cell_type": "markdown",
   "id": "2e6af25b-c7df-4433-abaf-1a82b2134b16",
   "metadata": {},
   "source": [
    "- Since 8000 does NOT fall in the 95% confidence interval computed below, we reject the individual's claim that the typical price of a used car at this dealership is about $\\$8000$."
   ]
  },
  {
   "cell_type": "markdown",
   "id": "e3a4d3ac-0040-40c3-9464-b1f859789efc",
   "metadata": {},
   "source": [
    "## Question 5\n",
    "\n",
    "Depending on the model of a car and the year of manufacture, used car prices can vary. As of August 2004, the manager of the car dealership where the `ToyotaCorolla.csv` data set was collected has Toyota cars with different years of manufacture(in particular, cars manufactured in the categories of the years 1998 - 2004). To meet different customer needs for used cars, the manager of the Toyota car dealership offering the promotion claims that he maintains the following inventory proportions of Toyota cars by `Year of manufacture(MFG_Year)`: 1998(22%), 1999(28%), 2000(11%), 2001(8%), 2002(10%), 2003(9%), and 2004(12%). \n",
    "\n",
    "The goal of this problem is to assess whether the actual observed proportions of toyota cars in the `ToyotaCorolla.csv` data set, grouped by `Year of manufacture(MFG_Year)`, supports the manager's claim or represents a significant departure from the claim. To do this, we need to simulate multiple proportions of the cars under the model of random selection and see what the simulations predict. In other words, our goal is to test the null hypothesis that the current dealership inventory is randomly selected from a population with the multiple categories of `Year of manufacture(MFG_Year)` and having the proportions stated above. We need a statistic that will help us assess whether or not the model of random selection is supported by the data."
   ]
  },
  {
   "cell_type": "markdown",
   "id": "3adb5733-3d6f-4ac9-9318-1bea3008668e",
   "metadata": {},
   "source": [
    "Use the following hypotheses:\n",
    "\n",
    "**Null Hypothesis:** The proportions of used Toyota cars by year of manufacture shows that the data is a random sample drawn from a population having the proportions claimed by the manager.\n",
    "    \n",
    "**Alternative Hypothesis**: The proportions of used Toyota cars by year of manufacture `does not` show that the data is a random sample drawn from a population having the proportions claimed by the manager.\n",
    "\n",
    "To receive full credit you should:\n",
    "\n",
    "1. Choose an appropriate test statistic\n",
    "\n",
    "2. Find the value of the observed test statistic\n",
    "\n",
    "3. Find your simulated test statistic, and repeat at least **500 times**\n",
    "\n",
    "4. Plot your simulated test statistics in a histogram along with the observed test statistic\n",
    "\n",
    "5. Calculate the p-value based off of your observed and simulated test statistics\n",
    "\n",
    "6. Use the p-value to draw a conclusion and explain the conclusion using simple, non-technical language in the context of the problem with complete sentences\n",
    "\n",
    "You may do this in as many lines as needed, and may add cells as well. You can (should) use functions that we have used in class, homework, labs, or from the text! Only python code that align with functions and methods taught in class are acceptable. \n",
    "\n",
    "First, create a table of the observed proportions in the dataset and the claims proportions below `summary_table`."
   ]
  },
  {
   "cell_type": "code",
   "execution_count": 21,
   "id": "ec954bd6-2291-4e5f-a453-7d93a9de8ce4",
   "metadata": {},
   "outputs": [
    {
     "data": {
      "text/html": [
       "<table border=\"1\" class=\"dataframe\">\n",
       "    <thead>\n",
       "        <tr>\n",
       "            <th>Mfg_Year</th> <th>count</th> <th>Proportions</th> <th>Claims</th>\n",
       "        </tr>\n",
       "    </thead>\n",
       "    <tbody>\n",
       "        <tr>\n",
       "            <td>1998    </td> <td>196  </td> <td>0.272981   </td> <td>0.22  </td>\n",
       "        </tr>\n",
       "        <tr>\n",
       "            <td>1999    </td> <td>221  </td> <td>0.307799   </td> <td>0.28  </td>\n",
       "        </tr>\n",
       "        <tr>\n",
       "            <td>2000    </td> <td>112  </td> <td>0.155989   </td> <td>0.11  </td>\n",
       "        </tr>\n",
       "        <tr>\n",
       "            <td>2001    </td> <td>96   </td> <td>0.133705   </td> <td>0.08  </td>\n",
       "        </tr>\n",
       "        <tr>\n",
       "            <td>2002    </td> <td>43   </td> <td>0.0598886  </td> <td>0.1   </td>\n",
       "        </tr>\n",
       "        <tr>\n",
       "            <td>2003    </td> <td>37   </td> <td>0.051532   </td> <td>0.09  </td>\n",
       "        </tr>\n",
       "        <tr>\n",
       "            <td>2004    </td> <td>13   </td> <td>0.0181058  </td> <td>0.12  </td>\n",
       "        </tr>\n",
       "    </tbody>\n",
       "</table>"
      ],
      "text/plain": [
       "Mfg_Year | count | Proportions | Claims\n",
       "1998     | 196   | 0.272981    | 0.22\n",
       "1999     | 221   | 0.307799    | 0.28\n",
       "2000     | 112   | 0.155989    | 0.11\n",
       "2001     | 96    | 0.133705    | 0.08\n",
       "2002     | 43    | 0.0598886   | 0.1\n",
       "2003     | 37    | 0.051532    | 0.09\n",
       "2004     | 13    | 0.0181058   | 0.12"
      ]
     },
     "execution_count": 21,
     "metadata": {},
     "output_type": "execute_result"
    }
   ],
   "source": [
    "tyt_grp_prop = toyota.group('Mfg_Year')\n",
    "tyt_grp = tyt_grp_prop.with_columns(\n",
    "    'Proportions', tyt_grp_prop.column('count')/sum(tyt_grp_prop.column('count')),\n",
    "    'Claims', make_array(0.22, 0.28, 0.11, 0.08, 0.10, 0.09, 0.12)\n",
    ")\n",
    "\n",
    "tyt_grp\n"
   ]
  },
  {
   "cell_type": "code",
   "execution_count": 22,
   "id": "fa6304e2-177d-4d90-a193-b0dc43c0ddd2",
   "metadata": {},
   "outputs": [
    {
     "data": {
      "text/html": [
       "<table border=\"1\" class=\"dataframe\">\n",
       "    <thead>\n",
       "        <tr>\n",
       "            <th>Mfg_Year</th> <th>Proportions</th> <th>Claims</th>\n",
       "        </tr>\n",
       "    </thead>\n",
       "    <tbody>\n",
       "        <tr>\n",
       "            <td>1998    </td> <td>0.272981   </td> <td>0.22  </td>\n",
       "        </tr>\n",
       "        <tr>\n",
       "            <td>1999    </td> <td>0.307799   </td> <td>0.28  </td>\n",
       "        </tr>\n",
       "        <tr>\n",
       "            <td>2000    </td> <td>0.155989   </td> <td>0.11  </td>\n",
       "        </tr>\n",
       "        <tr>\n",
       "            <td>2001    </td> <td>0.133705   </td> <td>0.08  </td>\n",
       "        </tr>\n",
       "        <tr>\n",
       "            <td>2002    </td> <td>0.0598886  </td> <td>0.1   </td>\n",
       "        </tr>\n",
       "        <tr>\n",
       "            <td>2003    </td> <td>0.051532   </td> <td>0.09  </td>\n",
       "        </tr>\n",
       "        <tr>\n",
       "            <td>2004    </td> <td>0.0181058  </td> <td>0.12  </td>\n",
       "        </tr>\n",
       "    </tbody>\n",
       "</table>"
      ],
      "text/plain": [
       "Mfg_Year | Proportions | Claims\n",
       "1998     | 0.272981    | 0.22\n",
       "1999     | 0.307799    | 0.28\n",
       "2000     | 0.155989    | 0.11\n",
       "2001     | 0.133705    | 0.08\n",
       "2002     | 0.0598886   | 0.1\n",
       "2003     | 0.051532    | 0.09\n",
       "2004     | 0.0181058   | 0.12"
      ]
     },
     "execution_count": 22,
     "metadata": {},
     "output_type": "execute_result"
    }
   ],
   "source": [
    "summary_table = tyt_grp.drop('count')\n",
    "summary_table"
   ]
  },
  {
   "cell_type": "code",
   "execution_count": 23,
   "id": "54798ead-ece3-4e7e-9f84-457500a216f4",
   "metadata": {},
   "outputs": [
    {
     "data": {
      "image/png": "[encoded data removed]",
      "text/plain": [
       "<Figure size 432x288 with 1 Axes>"
      ]
     },
     "metadata": {},
     "output_type": "display_data"
    }
   ],
   "source": [
    "summary_table.barh('Mfg_Year')"
   ]
  },
  {
   "cell_type": "code",
   "execution_count": 24,
   "id": "5d5681cb-da54-4ec7-9fe7-6a6cb3815b01",
   "metadata": {},
   "outputs": [
    {
     "data": {
      "text/plain": [
       "array([ 0.22,  0.28,  0.11,  0.08,  0.1 ,  0.09,  0.12])"
      ]
     },
     "execution_count": 24,
     "metadata": {},
     "output_type": "execute_result"
    }
   ],
   "source": [
    "# Under the model, this is the true distribution of toyota cars by year\n",
    "\n",
    "model = summary_table.column('Claims')\n",
    "model"
   ]
  },
  {
   "cell_type": "code",
   "execution_count": 25,
   "id": "c5c61c1a-d27d-48cd-b553-3d47640a02b6",
   "metadata": {},
   "outputs": [
    {
     "data": {
      "text/plain": [
       "array([ 0.23537604,  0.28551532,  0.11977716,  0.07520891,  0.07660167,\n",
       "        0.07660167,  0.13091922])"
      ]
     },
     "execution_count": 25,
     "metadata": {},
     "output_type": "execute_result"
    }
   ],
   "source": [
    "# Let's simulate a random draw of 718 cars from this distribution\n",
    "simulated = sample_proportions(718, model)\n",
    "simulated"
   ]
  },
  {
   "cell_type": "code",
   "execution_count": 26,
   "id": "c1262f1a-9cd6-4100-bc8f-ba2af948e91d",
   "metadata": {},
   "outputs": [
    {
     "data": {
      "text/html": [
       "<table border=\"1\" class=\"dataframe\">\n",
       "    <thead>\n",
       "        <tr>\n",
       "            <th>Mfg_Year</th> <th>Proportions</th> <th>Claims</th> <th>Simulated</th>\n",
       "        </tr>\n",
       "    </thead>\n",
       "    <tbody>\n",
       "        <tr>\n",
       "            <td>1998    </td> <td>0.272981   </td> <td>0.22  </td> <td>0.235376 </td>\n",
       "        </tr>\n",
       "        <tr>\n",
       "            <td>1999    </td> <td>0.307799   </td> <td>0.28  </td> <td>0.285515 </td>\n",
       "        </tr>\n",
       "        <tr>\n",
       "            <td>2000    </td> <td>0.155989   </td> <td>0.11  </td> <td>0.119777 </td>\n",
       "        </tr>\n",
       "        <tr>\n",
       "            <td>2001    </td> <td>0.133705   </td> <td>0.08  </td> <td>0.0752089</td>\n",
       "        </tr>\n",
       "        <tr>\n",
       "            <td>2002    </td> <td>0.0598886  </td> <td>0.1   </td> <td>0.0766017</td>\n",
       "        </tr>\n",
       "        <tr>\n",
       "            <td>2003    </td> <td>0.051532   </td> <td>0.09  </td> <td>0.0766017</td>\n",
       "        </tr>\n",
       "        <tr>\n",
       "            <td>2004    </td> <td>0.0181058  </td> <td>0.12  </td> <td>0.130919 </td>\n",
       "        </tr>\n",
       "    </tbody>\n",
       "</table>"
      ],
      "text/plain": [
       "Mfg_Year | Proportions | Claims | Simulated\n",
       "1998     | 0.272981    | 0.22   | 0.235376\n",
       "1999     | 0.307799    | 0.28   | 0.285515\n",
       "2000     | 0.155989    | 0.11   | 0.119777\n",
       "2001     | 0.133705    | 0.08   | 0.0752089\n",
       "2002     | 0.0598886   | 0.1    | 0.0766017\n",
       "2003     | 0.051532    | 0.09   | 0.0766017\n",
       "2004     | 0.0181058   | 0.12   | 0.130919"
      ]
     },
     "execution_count": 26,
     "metadata": {},
     "output_type": "execute_result"
    }
   ],
   "source": [
    "# The actual observed distribution (Panels) looks quite different\n",
    "# from the simulation -- try running this several times to confirm!\n",
    "summary_table_simulated = summary_table.with_column('Simulated', simulated)\n",
    "summary_table_simulated"
   ]
  },
  {
   "cell_type": "code",
   "execution_count": 27,
   "id": "336c87e7-b0ab-486a-9a21-2afabfa5571f",
   "metadata": {},
   "outputs": [
    {
     "data": {
      "image/png": "[encoded data removed]",
      "text/plain": [
       "<Figure size 432x288 with 1 Axes>"
      ]
     },
     "metadata": {},
     "output_type": "display_data"
    }
   ],
   "source": [
    "summary_table_simulated.barh('Mfg_Year')"
   ]
  },
  {
   "cell_type": "markdown",
   "id": "cbbb76e2-5d2b-4929-b248-b89c60cad7a6",
   "metadata": {},
   "source": [
    "1. Choose an appropriate test statistic"
   ]
  },
  {
   "cell_type": "code",
   "execution_count": 28,
   "id": "63f43225-abf3-4558-b442-50da1665091a",
   "metadata": {},
   "outputs": [],
   "source": [
    "def tvd(dist1, dist2):\n",
    "    return sum(abs(dist1 - dist2))/2"
   ]
  },
  {
   "cell_type": "markdown",
   "id": "87952952-518f-4001-b00d-6c3398ae0ecd",
   "metadata": {},
   "source": [
    "2. Find the value of the observed test statistic"
   ]
  },
  {
   "cell_type": "code",
   "execution_count": 29,
   "id": "6c50cc45-5dc0-4953-8bdc-acd6f6d537d6",
   "metadata": {},
   "outputs": [
    {
     "data": {
      "text/plain": [
       "0.18047353760445681"
      ]
     },
     "execution_count": 29,
     "metadata": {},
     "output_type": "execute_result"
    }
   ],
   "source": [
    "# The TVD of our observed data (Panels) from their expected values\n",
    "# assuming the model is true (Eligbible)\n",
    "obsvd_tvd = tvd(summary_table.column('Proportions'), summary_table.column('Claims'))\n",
    "obsvd_tvd"
   ]
  },
  {
   "cell_type": "markdown",
   "id": "0d92b049-7674-4d22-a748-d93a57aa3346",
   "metadata": {},
   "source": [
    "3. Find your simulated test statistic, and repeat at least **500 times**"
   ]
  },
  {
   "cell_type": "code",
   "execution_count": 30,
   "id": "34a8ec66-772d-4cdd-93f3-ae164d100259",
   "metadata": {},
   "outputs": [],
   "source": [
    "def simulated_tvd():\n",
    "    return tvd(sample_proportions(718, model), model)\n",
    "\n",
    "tvds = make_array()\n",
    "\n",
    "num_simulations = 10000\n",
    "for i in np.arange(num_simulations):\n",
    "    new_tvd = simulated_tvd()\n",
    "    tvds = np.append(tvds, new_tvd)"
   ]
  },
  {
   "cell_type": "markdown",
   "id": "e29e552b-7d69-49bf-a7f1-9030d4d94c0e",
   "metadata": {},
   "source": [
    "4. Plot your simulated test statistics in a histogram along with the observed test statistic"
   ]
  },
  {
   "cell_type": "code",
   "execution_count": 31,
   "id": "43a21837-5de9-4cff-adae-fa21913e105e",
   "metadata": {},
   "outputs": [
    {
     "data": {
      "image/png": "[encoded data removed]",
      "text/plain": [
       "<Figure size 432x288 with 1 Axes>"
      ]
     },
     "metadata": {},
     "output_type": "display_data"
    }
   ],
   "source": [
    "title = 'Simulated TVDs (if model is true)'\n",
    "bins = np.arange(0, 0.15, .005)\n",
    "\n",
    "Table().with_column(title, tvds).hist(bins = bins)\n",
    "plots.plot([obsvd_tvd, obsvd_tvd], [0, 38], color='red', lw=2);"
   ]
  },
  {
   "cell_type": "markdown",
   "id": "5c02fed9-0fb1-45d4-8c4e-5685302d6948",
   "metadata": {},
   "source": [
    "5. Calculate the p-value based off of your observed and simulated test statistics"
   ]
  },
  {
   "cell_type": "code",
   "execution_count": 32,
   "id": "f97b2408-d4a7-48ca-ba0e-381d34105a78",
   "metadata": {},
   "outputs": [
    {
     "data": {
      "text/plain": [
       "0.0"
      ]
     },
     "execution_count": 32,
     "metadata": {},
     "output_type": "execute_result"
    }
   ],
   "source": [
    "p_value = sum(tvds >= obsvd_tvd) / len(tvds)\n",
    "p_value"
   ]
  },
  {
   "cell_type": "markdown",
   "id": "b0dcc8fb-999d-4319-a6eb-afe21c40c1b0",
   "metadata": {},
   "source": [
    "6. Use the p-value to draw a conclusion and explain the conclusion using simple, non-technical language in the context of the problem with complete sentences"
   ]
  },
  {
   "cell_type": "markdown",
   "id": "357e394b-9f72-4b4e-abde-060a8d3bb948",
   "metadata": {},
   "source": [
    "With the p-value(0.0) less than a p-value cutoff(say, of 0.05), we reject the hull hypothesis that contains the claim of the manager of the car dealership. Thus, the simulation based on the data analyzed provides sufficient evidence in favor of the claim that the sample proportions of used Toyota cars by year of manufacture `does not` show that the data is a random sample drawn from a population having the proportions claimed by the manager."
   ]
  },
  {
   "cell_type": "markdown",
   "id": "400dc2de-e457-42f3-ad28-c9a93dbf421d",
   "metadata": {},
   "source": [
    "## Question 6\n",
    "\n",
    "Are used, `sports-model` Toyota cars(_Sport_Model=1_) on the lot more expensive than Toyota cars that are not `sports-model`(_Sport_Model=0_)? \n",
    "\n",
    "Does this data suggest that the mean price of used, sports-model Toyota cars is higher than those that are not sports-model? The *Sport_ Model* variable in the data set is used to characterize where a Toyota car is a sports model or not. \n",
    "\n",
    "Perform a hypothesis test (at the 0.05 significance level) to examine this claim. For the test statistic, use the average price of sports model Toyota cars(_Sport_Model=1_) minus the average price of Toyota cars that are not of the sports model(_Sport_Model=0_). \n",
    "\n",
    "*Do not reinvent the wheel. You may do this in as many lines as needed, and may add cells as well. You can (should) use functions that we have used in class, homework, labs, or from the text! Only python code that align with functions and methods taught in class are acceptable.*\n",
    "\n",
    "**To receive full credit you should:**\n",
    "\n",
    "1. Choose an appropriate test statistic\n",
    "\n",
    "2. Find the value of the observed test statistic\n",
    "\n",
    "3. Shuffle the labels of the original sample, find your simulated test statistic, and repeat at least **1000 times**\n",
    "\n",
    "4. Plot your simulated test statistics in a histogram along with the observed test statistic\n",
    "\n",
    "5. Calculate the p-value based off of your observed and simulated test statistics\n",
    "\n",
    "6. Use the p-value to draw a conclusion and explain the conclusion using simple, non-technical language in the context of the problem with complete sentences"
   ]
  },
  {
   "cell_type": "markdown",
   "id": "2bf91386-6d2b-460b-a5f9-5e48e653e6b7",
   "metadata": {},
   "source": [
    "1. Choose an appropriate test statistic"
   ]
  },
  {
   "cell_type": "code",
   "execution_count": 33,
   "id": "0760c2c6-e319-4841-b227-1d1e40a527ce",
   "metadata": {},
   "outputs": [],
   "source": [
    "# Define utility function for finding a value of the test statistic\n",
    "\n",
    "def difference_of_means(table, label, group_label):\n",
    "    \"\"\"Takes: name of table, column label of numerical variable,\n",
    "    column label of group-label variable\n",
    "    Returns: Difference of means of the two groups\"\"\"\n",
    "    \n",
    "    #table with the two relevant columns\n",
    "    reduced = table.select(label, group_label)  \n",
    "    \n",
    "    # table containing group means\n",
    "    means_table = reduced.group(group_label, np.average)\n",
    "    # array of group means\n",
    "    means = means_table.column(1)\n",
    "    \n",
    "    return means.item(1) - means.item(0)"
   ]
  },
  {
   "cell_type": "markdown",
   "id": "b7f7888a-8786-4fad-9366-0bb68c9d4807",
   "metadata": {},
   "source": [
    "2. Find the value of the observed test statistic"
   ]
  },
  {
   "cell_type": "code",
   "execution_count": 34,
   "id": "21f35d1b-767b-4c58-8892-a37f93f8f5fd",
   "metadata": {},
   "outputs": [
    {
     "data": {
      "text/html": [
       "<table border=\"1\" class=\"dataframe\">\n",
       "    <thead>\n",
       "        <tr>\n",
       "            <th>Sport_Model</th> <th>Price average</th>\n",
       "        </tr>\n",
       "    </thead>\n",
       "    <tbody>\n",
       "        <tr>\n",
       "            <td>0          </td> <td>10396        </td>\n",
       "        </tr>\n",
       "        <tr>\n",
       "            <td>1          </td> <td>11586.4      </td>\n",
       "        </tr>\n",
       "    </tbody>\n",
       "</table>"
      ],
      "text/plain": [
       "Sport_Model | Price average\n",
       "0           | 10396\n",
       "1           | 11586.4"
      ]
     },
     "execution_count": 34,
     "metadata": {},
     "output_type": "execute_result"
    }
   ],
   "source": [
    "sports_and_price = toyota.select('Sport_Model', 'Price')\n",
    "sports_and_price.group('Sport_Model', np.average)"
   ]
  },
  {
   "cell_type": "code",
   "execution_count": 35,
   "id": "f8fdcf25-b37d-4e35-994a-1b4082147f93",
   "metadata": {},
   "outputs": [
    {
     "data": {
      "image/png": "[encoded data removed]",
      "text/plain": [
       "<Figure size 432x288 with 1 Axes>"
      ]
     },
     "metadata": {},
     "output_type": "display_data"
    }
   ],
   "source": [
    "sports_and_price.hist('Price', group = 'Sport_Model')"
   ]
  },
  {
   "cell_type": "code",
   "execution_count": 36,
   "id": "6b5b9130-195c-4283-8708-45139fc9f24e",
   "metadata": {},
   "outputs": [
    {
     "data": {
      "text/plain": [
       "1190.3203853211016"
      ]
     },
     "execution_count": 36,
     "metadata": {},
     "output_type": "execute_result"
    }
   ],
   "source": [
    "observed_difference = difference_of_means(toyota, 'Price', 'Sport_Model')\n",
    "observed_difference"
   ]
  },
  {
   "cell_type": "markdown",
   "id": "1a5d490c-3dae-4157-b998-0f82824406fd",
   "metadata": {},
   "source": [
    "3. Shuffle the labels of the original sample, find your simulated test statistic, and repeat at least **1000 times**"
   ]
  },
  {
   "cell_type": "code",
   "execution_count": 37,
   "id": "0a9084dd-0b01-472b-ad3f-f8b5878320e1",
   "metadata": {},
   "outputs": [],
   "source": [
    "def one_simulated_difference(table, label, group_label):\n",
    "    \"\"\"Takes: name of table, column label of numerical variable,\n",
    "    column label of group-label variable\n",
    "    Returns: Difference of means of the two groups after shuffling labels\"\"\"\n",
    "    \n",
    "    # array of shuffled labels\n",
    "    shuffled_labels = table.sample(with_replacement = False\n",
    "                                                    ).column(group_label)\n",
    "    \n",
    "    # table of numerical variable and shuffled labels\n",
    "    shuffled_table = table.select(label).with_column(\n",
    "        'Shuffled Label', shuffled_labels)\n",
    "    \n",
    "    return difference_of_means(shuffled_table, label, 'Shuffled Label')  "
   ]
  },
  {
   "cell_type": "code",
   "execution_count": 38,
   "id": "811263e3-da9d-4310-a7d4-8f1a303e821c",
   "metadata": {},
   "outputs": [
    {
     "data": {
      "text/plain": [
       "100.6532844036683"
      ]
     },
     "execution_count": 38,
     "metadata": {},
     "output_type": "execute_result"
    }
   ],
   "source": [
    "one_simulated_difference(toyota, 'Price', 'Sport_Model')"
   ]
  },
  {
   "cell_type": "code",
   "execution_count": 39,
   "id": "76114f33-8b95-4190-af27-729b03d43293",
   "metadata": {},
   "outputs": [],
   "source": [
    "differences = make_array()\n",
    "\n",
    "for i in np.arange(1000):\n",
    "    new_difference = one_simulated_difference(toyota, 'Price', 'Sport_Model')\n",
    "    differences = np.append(differences, new_difference)"
   ]
  },
  {
   "cell_type": "markdown",
   "id": "2d79bfb1-6039-426b-a803-754b5a613f43",
   "metadata": {},
   "source": [
    "4. Plot your simulated test statistics in a histogram along with the observed test statistic"
   ]
  },
  {
   "cell_type": "code",
   "execution_count": 40,
   "id": "8e160e3b-09cf-4ede-934c-b244da8a4492",
   "metadata": {},
   "outputs": [
    {
     "name": "stdout",
     "output_type": "stream",
     "text": [
      "Observed Difference: 1190.3203853211016\n"
     ]
    },
    {
     "data": {
      "image/png": "[encoded data removed]",
      "text/plain": [
       "<Figure size 432x288 with 1 Axes>"
      ]
     },
     "metadata": {},
     "output_type": "display_data"
    }
   ],
   "source": [
    "Table().with_column('Difference Between Group Means', differences).hist()\n",
    "\n",
    "print('Observed Difference:', observed_difference)\n",
    "plots.title('Prediction Under the Null Hypothesis');\n",
    "plots.plot([observed_difference, observed_difference], [0, 0.0015], color='red', lw=2);\n"
   ]
  },
  {
   "cell_type": "markdown",
   "id": "43f569bc-d7c1-4fa1-b48f-b43f2b056769",
   "metadata": {},
   "source": [
    "5. Calculate the p-value based off of your observed and simulated test statistics"
   ]
  },
  {
   "cell_type": "code",
   "execution_count": 41,
   "id": "da7d43c4-2e70-4b2e-8567-1ebae8af7859",
   "metadata": {},
   "outputs": [
    {
     "data": {
      "text/plain": [
       "0.0"
      ]
     },
     "execution_count": 41,
     "metadata": {},
     "output_type": "execute_result"
    }
   ],
   "source": [
    "p_value = sum(differences >= observed_difference) / len(differences)\n",
    "p_value"
   ]
  },
  {
   "cell_type": "markdown",
   "id": "17d34be3-39e2-4a6b-9cf5-5f2b235ddd1f",
   "metadata": {},
   "source": [
    "6. Use the p-value to draw a conclusion and explain the conclusion using simple, non-technical language in the context of the problem with complete sentences"
   ]
  },
  {
   "cell_type": "markdown",
   "id": "152b5597-74ce-4504-928d-ab7d3a3c4d2a",
   "metadata": {},
   "source": [
    "The p-value is equal to 0.0. Under the null hypothesis, the mean price of used, sports-model Toyota cars is about the same as those that are not sports-model. The alternative hypothesis is the hypothesis that the mean price of used, sports-model Toyota cars is higher than those that are not sports-model.\n",
    "\n",
    "Because the p_value is very small, the observed value of the test statistic is quite far away from the heart of the simulated distribution centered at 0. By any reasonable cutoff(a p-value cutoff of 0.01 or 0.05) for what is “small”, the empirical P-value is small. So we end up rejecting the null hypothesis of randomness, and conclude the difference between the mean price of used, sports-model Toyota cars and non sports-model Toyota cars is too large to reflect chance variation alone."
   ]
  }
 ],
 "metadata": {
  "kernelspec": {
   "display_name": "Python 3 (ipykernel)",
   "language": "python",
   "name": "python3"
  },
  "language_info": {
   "codemirror_mode": {
    "name": "ipython",
    "version": 3
   },
   "file_extension": ".py",
   "mimetype": "text/x-python",
   "name": "python",
   "nbconvert_exporter": "python",
   "pygments_lexer": "ipython3",
   "version": "3.9.7"
  }
 },
 "nbformat": 4,
 "nbformat_minor": 5
}
