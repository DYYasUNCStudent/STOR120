{
 "cells": [
  {
   "cell_type": "markdown",
   "metadata": {},
   "source": [
    "# STOR 120 - Homework 3: Table Manipulation and Visualization"
   ]
  },
  {
   "cell_type": "markdown",
   "metadata": {},
   "source": [
    "**Reading**: \n",
    "* [Visualization](https://www.inferentialthinking.com/chapters/07/Visualization.html)"
   ]
  },
  {
   "cell_type": "markdown",
   "metadata": {},
   "source": [
    "Please complete this notebook by filling in the cells provided. \n",
    "\n",
    "**Throughout this homework and all future ones, please be sure to not re-assign variables throughout the notebook!** For example, if you use `max_temperature` in your answer to one question, do not reassign it later on. Moreover, please be sure to only put your written answers in the provided cells. \n",
    "\n",
    "**Deadline:**\n",
    "\n",
    "This assignment is due Friday, September 9th at 5:00pm. Late work will penalized as stated in the syllabus.\n",
    "\n",
    "Directly sharing answers is not okay, but discussing problems with the course staff or with other students is encouraged.\n",
    "\n",
    "You should start early so that you have time to get help if you're stuck. "
   ]
  },
  {
   "cell_type": "code",
   "execution_count": 2,
   "metadata": {},
   "outputs": [],
   "source": [
    "# Don't change this cell; just run it. \n",
    "\n",
    "import numpy as np\n",
    "from datascience import *\n",
    "\n",
    "\n",
    "# These lines do some fancy plotting magic.\n",
    "import matplotlib\n",
    "%matplotlib inline\n",
    "import matplotlib.pyplot as plots\n",
    "plots.style.use('fivethirtyeight')"
   ]
  },
  {
   "cell_type": "markdown",
   "metadata": {},
   "source": [
    "## 1. Unemployment\n"
   ]
  },
  {
   "cell_type": "markdown",
   "metadata": {},
   "source": [
    "The Federal Reserve Bank of St. Louis publishes data about jobs in the US.  Below, we've loaded data on unemployment in the United States. There are many ways of defining unemployment, and our dataset includes two notions of the unemployment rate:\n",
    "\n",
    "1. Among people who are able to work and are looking for a full-time job, the percentage who can't find a job.  This is called the Non-Employment Index, or NEI.\n",
    "2. Among people who are able to work and are looking for a full-time job, the percentage who can't find any job *or* are only working at a part-time job.  The latter group is called \"Part-Time for Economic Reasons\", so the acronym for this index is NEI-PTER.  (Economists are great at marketing.)\n",
    "\n",
    "The source of the data is [here](https://fred.stlouisfed.org/categories/33509)."
   ]
  },
  {
   "cell_type": "markdown",
   "metadata": {},
   "source": [
    "**Question 1.1.** The data are in a CSV file called `unemployment2022.csv`.  Load that file into a table called `unemployment2022`.\n",
    "\n",
    "<!--\n",
    "BEGIN QUESTION\n",
    "name: q1_1\n",
    "-->"
   ]
  },
  {
   "cell_type": "code",
   "execution_count": 3,
   "metadata": {},
   "outputs": [
    {
     "data": {
      "text/html": [
       "<table border=\"1\" class=\"dataframe\">\n",
       "    <thead>\n",
       "        <tr>\n",
       "            <th>DATE</th> <th>NEI</th> <th>NEI-PTER</th>\n",
       "        </tr>\n",
       "    </thead>\n",
       "    <tbody>\n",
       "        <tr>\n",
       "            <td>1/1/1994 </td> <td>10.0072</td> <td>11.0736 </td>\n",
       "        </tr>\n",
       "        <tr>\n",
       "            <td>2/1/1994 </td> <td>9.83318</td> <td>10.9887 </td>\n",
       "        </tr>\n",
       "        <tr>\n",
       "            <td>3/1/1994 </td> <td>9.72693</td> <td>10.9415 </td>\n",
       "        </tr>\n",
       "        <tr>\n",
       "            <td>4/1/1994 </td> <td>9.59373</td> <td>10.7789 </td>\n",
       "        </tr>\n",
       "        <tr>\n",
       "            <td>5/1/1994 </td> <td>9.38267</td> <td>10.6046 </td>\n",
       "        </tr>\n",
       "        <tr>\n",
       "            <td>6/1/1994 </td> <td>9.37588</td> <td>10.5891 </td>\n",
       "        </tr>\n",
       "        <tr>\n",
       "            <td>7/1/1994 </td> <td>9.31817</td> <td>10.4796 </td>\n",
       "        </tr>\n",
       "        <tr>\n",
       "            <td>8/1/1994 </td> <td>9.26762</td> <td>10.3866 </td>\n",
       "        </tr>\n",
       "        <tr>\n",
       "            <td>9/1/1994 </td> <td>9.17775</td> <td>10.2857 </td>\n",
       "        </tr>\n",
       "        <tr>\n",
       "            <td>10/1/1994</td> <td>9.10318</td> <td>10.2432 </td>\n",
       "        </tr>\n",
       "    </tbody>\n",
       "</table>\n",
       "<p>... (333 rows omitted)</p>"
      ],
      "text/plain": [
       "DATE      | NEI     | NEI-PTER\n",
       "1/1/1994  | 10.0072 | 11.0736\n",
       "2/1/1994  | 9.83318 | 10.9887\n",
       "3/1/1994  | 9.72693 | 10.9415\n",
       "4/1/1994  | 9.59373 | 10.7789\n",
       "5/1/1994  | 9.38267 | 10.6046\n",
       "6/1/1994  | 9.37588 | 10.5891\n",
       "7/1/1994  | 9.31817 | 10.4796\n",
       "8/1/1994  | 9.26762 | 10.3866\n",
       "9/1/1994  | 9.17775 | 10.2857\n",
       "10/1/1994 | 9.10318 | 10.2432\n",
       "... (333 rows omitted)"
      ]
     },
     "execution_count": 3,
     "metadata": {},
     "output_type": "execute_result"
    }
   ],
   "source": [
    "unemployment2022 = Table.read_table(\"unemployment2022.csv\")\n",
    "unemployment2022"
   ]
  },
  {
   "cell_type": "markdown",
   "metadata": {},
   "source": [
    "**Question 1.2.** Sort the data in descending order by NEI, naming the sorted table `by_nei`.  Create another table called `by_nei_pter` that's sorted in descending order by NEI-PTER instead.\n",
    "\n",
    "<!--\n",
    "BEGIN QUESTION\n",
    "name: q1_2\n",
    "-->"
   ]
  },
  {
   "cell_type": "code",
   "execution_count": 7,
   "metadata": {},
   "outputs": [],
   "source": [
    "by_nei = unemployment2022.sort(\"NEI\", descending = True)\n",
    "by_nei_pter = unemployment2022.sort(\"NEI-PTER\", descending = True)"
   ]
  },
  {
   "cell_type": "markdown",
   "metadata": {},
   "source": [
    "**Question 1.3.** Use `take` to make a table containing the data for the ten months when NEI was greatest.  Call that table `greatest_nei`.\n",
    "\n",
    "`greatest_nei` should be sorted in descending order of `NEI`. Note that each row of `unemployment` represents a month.\n",
    "\n",
    "<!--\n",
    "BEGIN QUESTION\n",
    "name: q1_3\n",
    "-->"
   ]
  },
  {
   "cell_type": "code",
   "execution_count": 14,
   "metadata": {},
   "outputs": [
    {
     "data": {
      "text/html": [
       "<table border=\"1\" class=\"dataframe\">\n",
       "    <thead>\n",
       "        <tr>\n",
       "            <th>DATE</th> <th>NEI</th> <th>NEI-PTER</th>\n",
       "        </tr>\n",
       "    </thead>\n",
       "    <tbody>\n",
       "        <tr>\n",
       "            <td>4/1/2020 </td> <td>15.5316</td> <td>17.7847 </td>\n",
       "        </tr>\n",
       "        <tr>\n",
       "            <td>5/1/2020 </td> <td>14.3125</td> <td>16.4133 </td>\n",
       "        </tr>\n",
       "        <tr>\n",
       "            <td>6/1/2020 </td> <td>12.5481</td> <td>14.2853 </td>\n",
       "        </tr>\n",
       "        <tr>\n",
       "            <td>7/1/2020 </td> <td>11.9463</td> <td>13.4875 </td>\n",
       "        </tr>\n",
       "        <tr>\n",
       "            <td>10/1/2009</td> <td>10.9794</td> <td>12.8786 </td>\n",
       "        </tr>\n",
       "        <tr>\n",
       "            <td>6/1/2009 </td> <td>10.9399</td> <td>12.8703 </td>\n",
       "        </tr>\n",
       "        <tr>\n",
       "            <td>5/1/2009 </td> <td>10.8998</td> <td>12.8307 </td>\n",
       "        </tr>\n",
       "        <tr>\n",
       "            <td>12/1/2009</td> <td>10.8989</td> <td>12.8045 </td>\n",
       "        </tr>\n",
       "        <tr>\n",
       "            <td>9/1/2009 </td> <td>10.8657</td> <td>12.7255 </td>\n",
       "        </tr>\n",
       "        <tr>\n",
       "            <td>11/1/2009</td> <td>10.8352</td> <td>12.7394 </td>\n",
       "        </tr>\n",
       "    </tbody>\n",
       "</table>"
      ],
      "text/plain": [
       "DATE      | NEI     | NEI-PTER\n",
       "4/1/2020  | 15.5316 | 17.7847\n",
       "5/1/2020  | 14.3125 | 16.4133\n",
       "6/1/2020  | 12.5481 | 14.2853\n",
       "7/1/2020  | 11.9463 | 13.4875\n",
       "10/1/2009 | 10.9794 | 12.8786\n",
       "6/1/2009  | 10.9399 | 12.8703\n",
       "5/1/2009  | 10.8998 | 12.8307\n",
       "12/1/2009 | 10.8989 | 12.8045\n",
       "9/1/2009  | 10.8657 | 12.7255\n",
       "11/1/2009 | 10.8352 | 12.7394"
      ]
     },
     "execution_count": 14,
     "metadata": {},
     "output_type": "execute_result"
    }
   ],
   "source": [
    "greatest_nei = by_nei.take(np.arange(0, 10, 1))\n",
    "greatest_nei"
   ]
  },
  {
   "cell_type": "markdown",
   "metadata": {},
   "source": [
    "**Question 1.4.** It's believed that many people became PTER (recall: \"Part-Time for Economic Reasons\") in the \"Great Recession\" of 2008-2009.  NEI-PTER is the percentage of people who are unemployed (and counted in the NEI) plus the percentage of people who are PTER.  Compute an array containing the percentage of people who were PTER in each month.  (The first element of the array should correspond to the first row of `unemployment2022`, and so on.)\n",
    "\n",
    "*Note:* Use the original `unemployment2022` table for this.\n",
    "\n",
    "<!--\n",
    "BEGIN QUESTION\n",
    "name: q1_4\n",
    "-->"
   ]
  },
  {
   "cell_type": "code",
   "execution_count": 15,
   "metadata": {},
   "outputs": [
    {
     "data": {
      "text/plain": [
       "array([ 1.06640315,  1.1555059 ,  1.21461594,  1.18515659,  1.22193715,\n",
       "        1.21320817,  1.16137951,  1.11902353,  1.1079541 ,  1.14004119,\n",
       "        1.15059322,  1.11741765,  1.1936827 ,  1.08078857,  1.10352353,\n",
       "        1.09155621,  1.13529982,  1.12195201,  1.13580941,  1.14525877,\n",
       "        1.14948261,  1.12169917,  1.13600252,  1.10907887,  1.04289838,\n",
       "        1.08356044,  1.09588158,  1.08299487,  1.08105899,  1.0717145 ,\n",
       "        1.10687018,  1.09920007,  1.0839267 ,  1.08325863,  1.00770767,\n",
       "        1.08005243,  1.06455172,  1.03466896,  1.01147973,  1.04367644,\n",
       "        0.99792479,  0.98237632,  1.01387727,  0.99778134,  0.978638  ,\n",
       "        0.97798584,  0.97286781,  0.94288115,  0.97997807,  0.94143327,\n",
       "        0.93888594,  0.881706  ,  0.91740208,  0.92131223,  0.94838083,\n",
       "        0.86785843,  0.83938366,  0.83978036,  0.80584215,  0.82467541,\n",
       "        0.84454036,  0.8264696 ,  0.85579255,  0.79172804,  0.82975301,\n",
       "        0.81859262,  0.82625392,  0.80134907,  0.7919441 ,  0.76317086,\n",
       "        0.75900191,  0.78083415,  0.76010916,  0.74607223,  0.76048441,\n",
       "        0.72358383,  0.78675428,  0.74979052,  0.75506548,  0.77381701,\n",
       "        0.75977881,  0.75266686,  0.78956838,  0.74989087,  0.7787225 ,\n",
       "        0.76161342,  0.7635016 ,  0.74848282,  0.81396465,  0.88037394,\n",
       "        0.84163237,  0.81336829,  0.97929542,  1.02666378,  0.9684219 ,\n",
       "        1.00751865,  0.937483  ,  0.9752304 ,  0.94476261,  0.95065923,\n",
       "        0.95424778,  0.93659982,  0.96784528,  1.02630197,  0.99174315,\n",
       "        0.99382055,  0.95945033,  0.97803863,  1.04429847,  1.07942114,\n",
       "        1.05864194,  1.07335552,  1.04658061,  1.04648874,  1.06395837,\n",
       "        1.03783259,  1.10176295,  1.07453999,  1.06289442,  1.06760578,\n",
       "        1.06194677,  1.00920822,  1.06836531,  1.01074036,  1.03753743,\n",
       "        0.99957605,  1.00140514,  1.02914371,  1.00498022,  1.06537958,\n",
       "        0.99070966,  0.9888776 ,  0.97415241,  0.94330677,  0.97956188,\n",
       "        0.92737877,  0.96443901,  0.9847612 ,  0.97432018,  1.01369531,\n",
       "        1.03486562,  0.94151749,  0.90707322,  0.90188085,  0.90002579,\n",
       "        0.91826118,  0.87497666,  0.82804529,  0.90443093,  0.94141906,\n",
       "        0.93969749,  0.9373892 ,  0.91660155,  0.9511474 ,  0.89278143,\n",
       "        0.9059578 ,  0.91838646,  0.90792208,  0.92353128,  0.90410387,\n",
       "        0.9697798 ,  0.93140795,  0.95121942,  1.01089575,  0.99570761,\n",
       "        0.9414719 ,  0.95089868,  0.98155224,  1.03874268,  1.04318866,\n",
       "        1.05272287,  1.08564269,  1.13509177,  1.18549168,  1.28556744,\n",
       "        1.27179645,  1.32598243,  1.42910715,  1.53934583,  1.70068396,\n",
       "        1.72966807,  1.86049937,  1.93874334,  1.85588533,  1.93092798,\n",
       "        1.93031293,  1.93213193,  1.91971671,  1.85974981,  1.89916853,\n",
       "        1.90422477,  1.90559507,  1.80854109,  1.87743698,  1.93732028,\n",
       "        1.91897419,  1.85912549,  1.82542798,  1.83974705,  1.84471348,\n",
       "        1.89561685,  1.85825705,  1.83898286,  1.86197557,  1.77931208,\n",
       "        1.7725851 ,  1.81053364,  1.8121269 ,  1.80045433,  1.7798577 ,\n",
       "        1.76648073,  1.81184492,  1.84259925,  1.80501563,  1.74598184,\n",
       "        1.69714532,  1.70191154,  1.70836807,  1.61403874,  1.63789183,\n",
       "        1.68270288,  1.67798442,  1.67959075,  1.61863523,  1.7141326 ,\n",
       "        1.69731279,  1.66520081,  1.62895843,  1.62690427,  1.6744157 ,\n",
       "        1.57651207,  1.6293432 ,  1.61314745,  1.66156033,  1.64733908,\n",
       "        1.56988219,  1.57595219,  1.65237345,  1.56823336,  1.59134717,\n",
       "        1.44754009,  1.48449577,  1.5004525 ,  1.52112899,  1.45115667,\n",
       "        1.51296892,  1.49018215,  1.4382321 ,  1.40000098,  1.455441  ,\n",
       "        1.387668  ,  1.37774955,  1.33791105,  1.34032667,  1.32388743,\n",
       "        1.32250408,  1.30491858,  1.28415517,  1.24536754,  1.28291683,\n",
       "        1.17899994,  1.18658444,  1.22518238,  1.20752134,  1.16760197,\n",
       "        1.19229983,  1.20264994,  1.18941162,  1.26490881,  1.13986748,\n",
       "        1.16246844,  1.1901747 ,  1.13579798,  1.19014703,  1.11923543,\n",
       "        1.10355593,  1.13455125,  1.12097263,  1.0878407 ,  1.04425458,\n",
       "        1.01950185,  1.03711565,  1.02607616,  1.02330139,  0.96855017,\n",
       "        0.94494402,  0.92688717,  0.97420027,  0.99665158,  1.03511982,\n",
       "        0.99872658,  0.98107421,  0.95761394,  0.92803972,  0.87493128,\n",
       "        0.82418599,  0.83905729,  0.84985544,  0.88460814,  0.90069867,\n",
       "        1.03923104,  0.89960683,  0.92382773,  0.94273955,  0.84420107,\n",
       "        0.85037873,  0.7365739 ,  0.80119162,  0.75344154,  0.78191955,\n",
       "        0.77494663,  0.79875753,  0.88625542,  0.91954797,  1.18434872,\n",
       "        2.25313822,  2.1007871 ,  1.73722278,  1.54118268,  1.36684789,\n",
       "        1.10093499,  1.19683952,  1.2103738 ,  1.17090945,  1.20961051,\n",
       "        1.26414178,  1.20680122,  1.08644332,  1.01682341,  0.90384002,\n",
       "        0.80283606,  0.77734288,  0.74513481,  0.74955008,  0.75299593,\n",
       "        0.75012882,  0.79796237,  0.88389135,  0.88004867,  0.83547503,\n",
       "        0.82083861,  0.71131842,  0.70005349])"
      ]
     },
     "execution_count": 15,
     "metadata": {},
     "output_type": "execute_result"
    }
   ],
   "source": [
    "pter = unemployment2022.column(\"NEI-PTER\") - unemployment2022.column(\"NEI\")\n",
    "pter"
   ]
  },
  {
   "cell_type": "markdown",
   "metadata": {},
   "source": [
    "**Question 1.5.** Add `pter` as a column to `unemployment2022` (named \"PTER\") and sort the resulting table by that column in descending order.  Call the table `by_pter`.\n",
    "\n",
    "Try to do this with a single line of code, if you can.\n",
    "\n",
    "<!--\n",
    "BEGIN QUESTION\n",
    "name: q1_5\n",
    "-->"
   ]
  },
  {
   "cell_type": "code",
   "execution_count": 17,
   "metadata": {},
   "outputs": [
    {
     "data": {
      "text/html": [
       "<table border=\"1\" class=\"dataframe\">\n",
       "    <thead>\n",
       "        <tr>\n",
       "            <th>DATE</th> <th>NEI</th> <th>NEI-PTER</th> <th>PTER</th>\n",
       "        </tr>\n",
       "    </thead>\n",
       "    <tbody>\n",
       "        <tr>\n",
       "            <td>4/1/2020 </td> <td>15.5316</td> <td>17.7847 </td> <td>2.25314</td>\n",
       "        </tr>\n",
       "        <tr>\n",
       "            <td>5/1/2020 </td> <td>14.3125</td> <td>16.4133 </td> <td>2.10079</td>\n",
       "        </tr>\n",
       "        <tr>\n",
       "            <td>3/1/2009 </td> <td>10.6015</td> <td>12.5403 </td> <td>1.93874</td>\n",
       "        </tr>\n",
       "        <tr>\n",
       "            <td>3/1/2010 </td> <td>10.7956</td> <td>12.7329 </td> <td>1.93732</td>\n",
       "        </tr>\n",
       "        <tr>\n",
       "            <td>7/1/2009 </td> <td>10.7791</td> <td>12.7112 </td> <td>1.93213</td>\n",
       "        </tr>\n",
       "        <tr>\n",
       "            <td>5/1/2009 </td> <td>10.8998</td> <td>12.8307 </td> <td>1.93093</td>\n",
       "        </tr>\n",
       "        <tr>\n",
       "            <td>6/1/2009 </td> <td>10.9399</td> <td>12.8703 </td> <td>1.93031</td>\n",
       "        </tr>\n",
       "        <tr>\n",
       "            <td>8/1/2009 </td> <td>10.7941</td> <td>12.7139 </td> <td>1.91972</td>\n",
       "        </tr>\n",
       "        <tr>\n",
       "            <td>4/1/2010 </td> <td>10.6456</td> <td>12.5646 </td> <td>1.91897</td>\n",
       "        </tr>\n",
       "        <tr>\n",
       "            <td>12/1/2009</td> <td>10.8989</td> <td>12.8045 </td> <td>1.9056 </td>\n",
       "        </tr>\n",
       "    </tbody>\n",
       "</table>\n",
       "<p>... (333 rows omitted)</p>"
      ],
      "text/plain": [
       "DATE      | NEI     | NEI-PTER | PTER\n",
       "4/1/2020  | 15.5316 | 17.7847  | 2.25314\n",
       "5/1/2020  | 14.3125 | 16.4133  | 2.10079\n",
       "3/1/2009  | 10.6015 | 12.5403  | 1.93874\n",
       "3/1/2010  | 10.7956 | 12.7329  | 1.93732\n",
       "7/1/2009  | 10.7791 | 12.7112  | 1.93213\n",
       "5/1/2009  | 10.8998 | 12.8307  | 1.93093\n",
       "6/1/2009  | 10.9399 | 12.8703  | 1.93031\n",
       "8/1/2009  | 10.7941 | 12.7139  | 1.91972\n",
       "4/1/2010  | 10.6456 | 12.5646  | 1.91897\n",
       "12/1/2009 | 10.8989 | 12.8045  | 1.9056\n",
       "... (333 rows omitted)"
      ]
     },
     "execution_count": 17,
     "metadata": {},
     "output_type": "execute_result"
    }
   ],
   "source": [
    "by_pter = unemployment2022.with_column(\"PTER\", pter).sort(\"PTER\", descending = True)\n",
    "by_pter"
   ]
  },
  {
   "cell_type": "markdown",
   "metadata": {},
   "source": [
    "**Question 1.6.** \n",
    "\n",
    "Create a line plot of the PTER over time. \n",
    "\n",
    "To do this, create a new table called `pter_over_time` that adds the `year` array and the `pter` array to the `unemployment` table. Label these columns `Year` and `PTER`. Then, generate a line plot using one of the table methods you've learned in class.\n",
    "\n",
    "<!--\n",
    "BEGIN QUESTION\n",
    "name: q1_6\n",
    "-->"
   ]
  },
  {
   "cell_type": "code",
   "execution_count": 19,
   "metadata": {},
   "outputs": [
    {
     "data": {
      "image/png": "[encoded data removed]",
      "text/plain": [
       "<Figure size 600x600 with 1 Axes>"
      ]
     },
     "metadata": {},
     "output_type": "display_data"
    }
   ],
   "source": [
    "year = 1994 + np.arange(by_pter.num_rows)/12\n",
    "pter_over_time = unemployment2022.with_columns(\"Year\", year, \"PTER\", pter)\n",
    "pter_over_time.plot(\"Year\", \"PTER\")"
   ]
  },
  {
   "cell_type": "markdown",
   "metadata": {},
   "source": [
    "**Question 1.7.** Were PTER rates high during the Great Recession (that is to say, were PTER rates particularly high in the years 2008 through 2009)? Assign highPTER to `True` if you think PTER rates were high in this period, and `False` if you think they weren't. \n",
    "\n",
    "<!--\n",
    "BEGIN QUESTION\n",
    "name: q1_7\n",
    "-->"
   ]
  },
  {
   "cell_type": "code",
   "execution_count": null,
   "metadata": {},
   "outputs": [],
   "source": [
    "highPTER = True"
   ]
  },
  {
   "cell_type": "markdown",
   "metadata": {},
   "source": [
    "## 2. Birth Rates\n"
   ]
  },
  {
   "cell_type": "markdown",
   "metadata": {},
   "source": [
    "The following table gives census-based population estimates for each state on both July 1, 2020 and July 1, 2021. The last four columns describe the components of the estimated change in population during this time interval. **For all questions below, assume that the word \"states\" refers to all 52 rows including Puerto Rico & the District of Columbia.**\n",
    "\n",
    "The data was taken from [here](https://www2.census.gov/programs-surveys/popest/datasets/2020-2021/state/totals/NST-EST2021-alldata.csv).\n",
    "\n",
    "The raw data is a bit messy - run the cell below to clean the table and make it easier to work with."
   ]
  },
  {
   "cell_type": "code",
   "execution_count": 18,
   "metadata": {},
   "outputs": [
    {
     "data": {
      "text/html": [
       "<table border=\"1\" class=\"dataframe\">\n",
       "    <thead>\n",
       "        <tr>\n",
       "            <th>REGION</th> <th>NAME</th> <th>2020</th> <th>2021</th> <th>BIRTHS</th> <th>DEATHS</th> <th>MIGRATION</th> <th>OTHER</th>\n",
       "        </tr>\n",
       "    </thead>\n",
       "    <tbody>\n",
       "        <tr>\n",
       "            <td>3     </td> <td>Alabama   </td> <td>5,024,803 </td> <td>5,039,877 </td> <td>13,410 </td> <td>16,148</td> <td>3,337    </td> <td>-75  </td>\n",
       "        </tr>\n",
       "        <tr>\n",
       "            <td>4     </td> <td>Alaska    </td> <td>732,441   </td> <td>732,673   </td> <td>2,407  </td> <td>1,384 </td> <td>-2,012   </td> <td>39   </td>\n",
       "        </tr>\n",
       "        <tr>\n",
       "            <td>4     </td> <td>Arizona   </td> <td>7,177,986 </td> <td>7,276,316 </td> <td>18,036 </td> <td>18,340</td> <td>26,791   </td> <td>-3   </td>\n",
       "        </tr>\n",
       "        <tr>\n",
       "            <td>3     </td> <td>Arkansas  </td> <td>3,012,232 </td> <td>3,025,891 </td> <td>8,554  </td> <td>9,449 </td> <td>1,618    </td> <td>-15  </td>\n",
       "        </tr>\n",
       "        <tr>\n",
       "            <td>4     </td> <td>California</td> <td>39,499,738</td> <td>39,237,836</td> <td>104,957</td> <td>81,738</td> <td>-62,562  </td> <td>858  </td>\n",
       "        </tr>\n",
       "    </tbody>\n",
       "</table>\n",
       "<p>... (47 rows omitted)</p>"
      ],
      "text/plain": [
       "<IPython.core.display.HTML object>"
      ]
     },
     "metadata": {},
     "output_type": "display_data"
    }
   ],
   "source": [
    "# Don't change this cell; just run it.\n",
    "pop = Table.read_table('NST-est2021-alldata.csv').where('SUMLEV', 40).select([1, 4, 6, 7, 10, 12, 20, 22])\n",
    "pop = pop.relabeled('POPESTIMATE2020', '2020').relabeled('POPESTIMATE2021', '2021')\n",
    "pop = pop.relabeled('BIRTHS2020', 'BIRTHS').relabeled('DEATHS2020', 'DEATHS')\n",
    "pop = pop.relabeled('NETMIG2020', 'MIGRATION').relabeled('RESIDUAL2020', 'OTHER')\n",
    "pop = pop.with_columns(\"REGION\", np.array([int(region) if region != \"X\" else 0 for region in pop.column(\"REGION\")]))\n",
    "pop.set_format([2, 3, 4, 5, 6, 7], NumberFormatter(decimals=0)).show(5)"
   ]
  },
  {
   "cell_type": "markdown",
   "metadata": {},
   "source": [
    "**Question 2.1.** Assign `us_birth_rate` to the total US annual birth rate during this time interval. The annual birth rate for a year-long period is the total number of births in that period as a proportion of the population size at the start of the time period.\n",
    "\n",
    "**Hint:** Which year corresponds to the start of the time period?\n",
    "\n",
    "<!--\n",
    "BEGIN QUESTION\n",
    "name: q2_1\n",
    "-->"
   ]
  },
  {
   "cell_type": "code",
   "execution_count": 21,
   "metadata": {},
   "outputs": [
    {
     "data": {
      "text/plain": [
       "0.0026809904449698759"
      ]
     },
     "execution_count": 21,
     "metadata": {},
     "output_type": "execute_result"
    }
   ],
   "source": [
    "us_birth_rate = sum(pop.column(\"BIRTHS\")) / sum(pop.column(\"2020\"))\n",
    "us_birth_rate"
   ]
  },
  {
   "cell_type": "markdown",
   "metadata": {},
   "source": [
    "**Question 2.2.** Assign `movers` to the number of states for which the **absolute value** of the **annual rate of migration** was higher than 1.0%. The annual rate of migration for a year-long period is the net number of migrations (in and out) as a proportion of the population size at the start of the period. The `MIGRATION` column contains estimated annual net migration counts by state.\n",
    "\n",
    "<!--\n",
    "BEGIN QUESTION\n",
    "name: q2_2\n",
    "-->"
   ]
  },
  {
   "cell_type": "code",
   "execution_count": 34,
   "metadata": {},
   "outputs": [
    {
     "data": {
      "text/plain": [
       "0"
      ]
     },
     "execution_count": 34,
     "metadata": {},
     "output_type": "execute_result"
    }
   ],
   "source": [
    "migration_rates = pop.column(\"MIGRATION\") / pop.column(\"2020\")\n",
    "movers = (pop.with_column(\"MigRate\", abs(migration_rates))).where(\"MigRate\", are.above(0.01)).num_rows\n",
    "movers"
   ]
  },
  {
   "cell_type": "markdown",
   "metadata": {},
   "source": [
    "**Question 2.3.** Assign `south_births` to the total number of births that occurred in region 3 (the Southern US). \n",
    "\n",
    "\n",
    "<!--\n",
    "BEGIN QUESTION\n",
    "name: q2_3\n",
    "-->"
   ]
  },
  {
   "cell_type": "code",
   "execution_count": 36,
   "metadata": {},
   "outputs": [
    {
     "data": {
      "text/plain": [
       "345546"
      ]
     },
     "execution_count": 36,
     "metadata": {},
     "output_type": "execute_result"
    }
   ],
   "source": [
    "south_births = sum(pop.where(\"REGION\", are.equal_to(3)).column(\"BIRTHS\"))\n",
    "south_births"
   ]
  },
  {
   "cell_type": "markdown",
   "metadata": {},
   "source": [
    "**Question 2.4.** Assign `less_than_NC_births` to the number of states that had a total number of births that was smaller than the *total number of births in North Carolina* during this time interval.\n",
    "\n",
    "<!--\n",
    "BEGIN QUESTION\n",
    "name: q2_4\n",
    "-->"
   ]
  },
  {
   "cell_type": "code",
   "execution_count": 39,
   "metadata": {},
   "outputs": [
    {
     "data": {
      "text/plain": [
       "43"
      ]
     },
     "execution_count": 39,
     "metadata": {},
     "output_type": "execute_result"
    }
   ],
   "source": [
    "less_than_NC_births = pop.where(\"BIRTHS\", are.below(pop.where(\"NAME\", are.equal_to(\"North Carolina\")).column(\"BIRTHS\").item(0))).num_rows\n",
    "less_than_NC_births"
   ]
  },
  {
   "cell_type": "markdown",
   "metadata": {},
   "source": [
    "**Question 2.5.** \n",
    "\n",
    "In the next question, you will be creating a visualization to understand the relationship between birth and death rates. The annual death rate for a year-long period is the total number of deaths in that period as a proportion of the population size at the start of the time period.\n",
    "\n",
    "What visualization is most appropriate to see if there is an association between birth and death rates during a given time interval?\n",
    "\n",
    "1. Line Graph\n",
    "<br>\n",
    "2. Scatter Plot\n",
    "<br>\n",
    "3. Bar Chart\n",
    "\n",
    "Assign `visualization` below to the number corresponding to the correct visualization.\n",
    "\n",
    "<!--\n",
    "BEGIN QUESTION\n",
    "name: q2_5\n",
    "-->"
   ]
  },
  {
   "cell_type": "code",
   "execution_count": null,
   "metadata": {},
   "outputs": [],
   "source": [
    "visualization = 2"
   ]
  },
  {
   "cell_type": "markdown",
   "metadata": {},
   "source": [
    "**Question 2.6.** \n",
    "\n",
    "In the code cell below, create a visualization that will help us determine if there is an association between birth rate and death rate during this time interval. It may be helpful to create an intermediate table here.\n",
    "\n",
    "<!--\n",
    "BEGIN QUESTION\n",
    "name: q2_6\n",
    "manual: true\n",
    "-->\n",
    "<!-- EXPORT TO PDF -->"
   ]
  },
  {
   "cell_type": "code",
   "execution_count": 45,
   "metadata": {
    "export_pdf": true,
    "manual_problem_id": "birth_death_rates_graph"
   },
   "outputs": [
    {
     "data": {
      "image/png": "[encoded data removed]",
      "text/plain": [
       "<Figure size 500x500 with 1 Axes>"
      ]
     },
     "metadata": {},
     "output_type": "display_data"
    }
   ],
   "source": [
    "# Generate your chart in this cell\n",
    "pop_rates = pop.with_columns(\"birth_rates\", pop.column(\"BIRTHS\") / pop.column(\"2020\"), \"death_rates\", pop.column(\"DEATHS\") / pop.column(\"2020\"))\n",
    "pop_rates.scatter(\"birth_rates\", \"death_rates\")"
   ]
  },
  {
   "cell_type": "markdown",
   "metadata": {},
   "source": [
    "**Question 2.7.** `True` or `False`: There is an association between birth rate and death rate during this time interval. \n",
    "\n",
    "Assign `assoc` to `True` or `False` in the cell below. \n",
    "\n",
    "<!--\n",
    "BEGIN QUESTION\n",
    "name: q2_7\n",
    "-->"
   ]
  },
  {
   "cell_type": "code",
   "execution_count": null,
   "metadata": {},
   "outputs": [],
   "source": [
    "assoc = False"
   ]
  },
  {
   "cell_type": "markdown",
   "metadata": {},
   "source": [
    "## 3. Marginal Histograms\n"
   ]
  },
  {
   "cell_type": "markdown",
   "metadata": {},
   "source": [
    "Consider the following scatter plot: \n",
    "\n",
    "![](hw03-scatter.png)\n",
    "\n",
    "The axes of the plot represent values of two variables: $x$ and $y$. "
   ]
  },
  {
   "cell_type": "markdown",
   "metadata": {},
   "source": [
    "Suppose we have a table called `t` that has two columns in it:\n",
    "\n",
    "- `x`: a column containing the x-values of the points in the scatter plot\n",
    "- `y`: a column containing the y-values of the points in the scatter plot"
   ]
  },
  {
   "cell_type": "markdown",
   "metadata": {},
   "source": [
    "Below, you are given two histograms, each of which corresponds to either column `x` or column `y`. "
   ]
  },
  {
   "cell_type": "markdown",
   "metadata": {},
   "source": [
    "**Histogram A:** \n",
    "![](hw03-var1.png)\n",
    "\n",
    "\n",
    "**Histogram B:** \n",
    "![](hw03-var2.png)"
   ]
  },
  {
   "cell_type": "markdown",
   "metadata": {},
   "source": [
    "**Question 3.1.** Suppose we run `t.hist('y')`. Which histogram does this code produce? Assign `histogram_column_y` to either 1 or 2.\n",
    "\n",
    "1. Histogram A\n",
    "2. Histogram B\n",
    "\n",
    "<!--\n",
    "BEGIN QUESTION\n",
    "name: q3_1\n",
    "manual: false\n",
    "-->"
   ]
  },
  {
   "cell_type": "code",
   "execution_count": null,
   "metadata": {},
   "outputs": [],
   "source": [
    "histogram_column_y = 1"
   ]
  },
  {
   "cell_type": "markdown",
   "metadata": {},
   "source": [
    "**Question 3.2.** State at least one reason why you chose the histogram from Question 1. Make sure to indicate which histogram you selected (ex: \"I chose histogram A because ...\").\n",
    "\n",
    "<!--\n",
    "BEGIN QUESTION\n",
    "name: q3_2\n",
    "manual: true\n",
    "-->\n",
    "<!-- EXPORT TO PDF -->"
   ]
  },
  {
   "cell_type": "markdown",
   "metadata": {
    "export_pdf": true
   },
   "source": [
    "I chose histogram A because for y-values in the scatter plot, it can be observed that there're no plots located around the 0 value for y, which corresponds to Histogram A, in which indicated the distribution of data points that none of them are located around 0 value for y."
   ]
  },
  {
   "cell_type": "markdown",
   "metadata": {},
   "source": [
    "**Question 3.3.** Suppose we run `t.hist('x')`. Which histogram does this code produce? `Assign histogram_column_x` to either 1 or 2.\n",
    "\n",
    "1. Histogram A\n",
    "2. Histogram B\n",
    "\n",
    "<!--\n",
    "BEGIN QUESTION\n",
    "name: q3_3\n",
    "manual: false\n",
    "-->"
   ]
  },
  {
   "cell_type": "code",
   "execution_count": null,
   "metadata": {},
   "outputs": [],
   "source": [
    "histogram_column_x = 2"
   ]
  },
  {
   "cell_type": "markdown",
   "metadata": {},
   "source": [
    "**Question 3.4.** State at least one reason why you chose the histogram from Question 3.  Make sure to indicate which histogram you selected (ex: \"I chose histogram A because ...\").\n",
    "\n",
    "<!--\n",
    "BEGIN QUESTION\n",
    "name: q3_4\n",
    "manual: true\n",
    "-->\n",
    "<!-- EXPORT TO PDF -->"
   ]
  },
  {
   "cell_type": "markdown",
   "metadata": {
    "export_pdf": true
   },
   "source": [
    "I chose histogram B because of the fact that when considering x-values, we can observe from the graph that the data points span across nearly all x-values, and there're no gaps. The pattern fits with histrogram B."
   ]
  },
  {
   "cell_type": "markdown",
   "metadata": {},
   "source": [
    "## 4. Uber\n"
   ]
  },
  {
   "cell_type": "markdown",
   "metadata": {},
   "source": [
    "Below we load tables containing 200,000 weekday Uber rides in the Manila, Philippines, and Boston, Massachusetts metropolitan areas from the [Uber Movement](https://movement.uber.com) project. The `sourceid` and `dstid` columns contain codes corresponding to start and end locations of each ride. The `hod` column contains codes corresponding to the hour of the day the ride took place. The `ride time` column contains the length of the ride, in minutes."
   ]
  },
  {
   "cell_type": "code",
   "execution_count": 20,
   "metadata": {
    "for_question_type": "solution",
    "scrolled": true
   },
   "outputs": [
    {
     "name": "stdout",
     "output_type": "stream",
     "text": [
      "Boston Table\n"
     ]
    },
    {
     "data": {
      "text/html": [
       "<table border=\"1\" class=\"dataframe\">\n",
       "    <thead>\n",
       "        <tr>\n",
       "            <th>sourceid</th> <th>dstid</th> <th>hod</th> <th>ride time</th>\n",
       "        </tr>\n",
       "    </thead>\n",
       "    <tbody>\n",
       "        <tr>\n",
       "            <td>584     </td> <td>33   </td> <td>7   </td> <td>11.866   </td>\n",
       "        </tr>\n",
       "        <tr>\n",
       "            <td>1013    </td> <td>1116 </td> <td>13  </td> <td>17.7993  </td>\n",
       "        </tr>\n",
       "        <tr>\n",
       "            <td>884     </td> <td>1190 </td> <td>22  </td> <td>19.3488  </td>\n",
       "        </tr>\n",
       "        <tr>\n",
       "            <td>211     </td> <td>364  </td> <td>1   </td> <td>1.7235   </td>\n",
       "        </tr>\n",
       "    </tbody>\n",
       "</table>\n",
       "<p>... (199996 rows omitted)</p>"
      ],
      "text/plain": [
       "<IPython.core.display.HTML object>"
      ]
     },
     "metadata": {},
     "output_type": "display_data"
    },
    {
     "name": "stdout",
     "output_type": "stream",
     "text": [
      "Manila Table\n"
     ]
    },
    {
     "data": {
      "text/html": [
       "<table border=\"1\" class=\"dataframe\">\n",
       "    <thead>\n",
       "        <tr>\n",
       "            <th>sourceid</th> <th>dstid</th> <th>hod</th> <th>ride time</th>\n",
       "        </tr>\n",
       "    </thead>\n",
       "    <tbody>\n",
       "        <tr>\n",
       "            <td>544     </td> <td>5    </td> <td>22  </td> <td>22.8115  </td>\n",
       "        </tr>\n",
       "        <tr>\n",
       "            <td>302     </td> <td>240  </td> <td>21  </td> <td>7.02267  </td>\n",
       "        </tr>\n",
       "        <tr>\n",
       "            <td>278     </td> <td>99   </td> <td>16  </td> <td>21.6437  </td>\n",
       "        </tr>\n",
       "        <tr>\n",
       "            <td>720     </td> <td>775  </td> <td>18  </td> <td>13.0597  </td>\n",
       "        </tr>\n",
       "    </tbody>\n",
       "</table>\n",
       "<p>... (199996 rows omitted)</p>"
      ],
      "text/plain": [
       "<IPython.core.display.HTML object>"
      ]
     },
     "metadata": {},
     "output_type": "display_data"
    }
   ],
   "source": [
    "boston = Table.read_table(\"boston.csv\")\n",
    "manila = Table.read_table(\"manila.csv\")\n",
    "print(\"Boston Table\")\n",
    "boston.show(4)\n",
    "print(\"Manila Table\")\n",
    "manila.show(4)"
   ]
  },
  {
   "cell_type": "markdown",
   "metadata": {},
   "source": [
    "**Question 4.1.** Produce histograms of all ride times in Boston using the given bins. \n",
    "\n",
    "<!--\n",
    "BEGIN QUESTION\n",
    "name: q4_1\n",
    "manual: true\n",
    "-->\n",
    "<!-- EXPORT TO PDF -->"
   ]
  },
  {
   "cell_type": "code",
   "execution_count": 48,
   "metadata": {
    "export_pdf": true,
    "manual_problem_id": "uber_1",
    "scrolled": true
   },
   "outputs": [
    {
     "data": {
      "image/png": "[encoded data removed]",
      "text/plain": [
       "<Figure size 600x400 with 1 Axes>"
      ]
     },
     "metadata": {},
     "output_type": "display_data"
    }
   ],
   "source": [
    "equal_bins = np.arange(0, 101, 2)\n",
    "boston.hist(\"ride time\", bins = equal_bins)\n",
    "\n",
    "# Don't delete the following line!\n",
    "plots.ylim(0, 0.052);"
   ]
  },
  {
   "cell_type": "markdown",
   "metadata": {},
   "source": [
    "**Question 4.2.** Now, produce histograms of all ride times in Manila using the given bins.\n",
    "\n",
    "<!--\n",
    "BEGIN QUESTION\n",
    "name: q4_2\n",
    "manual: true\n",
    "-->\n",
    "<!-- EXPORT TO PDF -->"
   ]
  },
  {
   "cell_type": "code",
   "execution_count": 49,
   "metadata": {
    "export_pdf": true
   },
   "outputs": [
    {
     "data": {
      "image/png": "[encoded data removed]",
      "text/plain": [
       "<Figure size 600x400 with 1 Axes>"
      ]
     },
     "metadata": {},
     "output_type": "display_data"
    }
   ],
   "source": [
    "manila.hist(\"ride time\", bins = equal_bins)\n",
    "\n",
    "# Don't delete the following line!\n",
    "plots.ylim(0, 0.052);"
   ]
  },
  {
   "cell_type": "markdown",
   "metadata": {},
   "source": [
    "**Question 4.3.** Assign `boston_under_6` and `manila_under_6` to the percentage of rides that are less than 6 minutes in their respective metropolitan areas. Use the height variables provided below in order to compute the percentages. Your solution should only use height variables, numbers, and mathematical operations. You should not access the tables boston and manila in any way.\n",
    "\n",
    "<!--\n",
    "BEGIN QUESTION\n",
    "name: q4_3\n",
    "manual: false\n",
    "-->"
   ]
  },
  {
   "cell_type": "code",
   "execution_count": 51,
   "metadata": {
    "manual_problem_id": "uber_2"
   },
   "outputs": [
    {
     "data": {
      "text/plain": [
       "(8.87, 3.97)"
      ]
     },
     "execution_count": 51,
     "metadata": {},
     "output_type": "execute_result"
    }
   ],
   "source": [
    "boston_under_2_height = 0.3765\n",
    "manila_under_2_height = 0.215\n",
    "boston_2_to_under_4_height = 1.7995\n",
    "manila_2_to_under_4_height = 0.77575\n",
    "boston_4_to_under_6_height = 2.25975\n",
    "manila_4_to_under_6_height = 0.9965\n",
    "\n",
    "boston_under_6 = (boston_under_2_height + boston_2_to_under_4_height + boston_4_to_under_6_height) * 2\n",
    "manila_under_6 = (manila_under_2_height + manila_2_to_under_4_height + manila_4_to_under_6_height) * 2\n",
    "\n",
    "round(boston_under_6, 2), round(manila_under_6, 2)"
   ]
  },
  {
   "cell_type": "markdown",
   "metadata": {},
   "source": [
    "**Question 4.4.** Let's take a closer look at the distribution of ride times in Manila. Assign `manila_median_bin` to an integer (1, 2, 3, or 4) that corresponds to the bin that contains the median time \n",
    "\n",
    "1:  0-20 minutes  \n",
    "2: 20-40 minutes  \n",
    "3: 40-60 minutes  \n",
    "4: 60-80 minutes  \n",
    "\n",
    "*Hint:* The median of a sorted list has half of the list elements to its left, and half to its right\n",
    "\n",
    "<!--\n",
    "BEGIN QUESTION\n",
    "name: q4_4\n",
    "manual: false\n",
    "-->"
   ]
  },
  {
   "cell_type": "code",
   "execution_count": 50,
   "metadata": {},
   "outputs": [
    {
     "data": {
      "text/plain": [
       "2"
      ]
     },
     "execution_count": 50,
     "metadata": {},
     "output_type": "execute_result"
    }
   ],
   "source": [
    "manila_median_bin = 2\n",
    "manila_median_bin"
   ]
  },
  {
   "cell_type": "markdown",
   "metadata": {},
   "source": [
    "**Question 4.5.** What is the main difference between the two histograms. What might be causing this?\n",
    "\n",
    "**Hint:** Try thinking about external factors that may be causing the difference!\n",
    "\n",
    "<!--\n",
    "BEGIN QUESTION\n",
    "name: q4_5\n",
    "manual: true\n",
    "-->\n",
    "<!-- EXPORT TO PDF -->"
   ]
  },
  {
   "cell_type": "markdown",
   "metadata": {
    "export_pdf": true
   },
   "source": [
    "The range of distribution that can be observered from the Boston histogram is significantly smaller than that of the Manila histogram, for which the majority of ride time data collected in Boston is lower than that collected in Manila. The reason behind this may be the fact that Boston is more urbanized, so people do not spend that much time on travelling."
   ]
  }
 ],
 "metadata": {
  "kernelspec": {
   "display_name": "Python 3 (ipykernel)",
   "language": "python",
   "name": "python3"
  }
 },
 "nbformat": 4,
 "nbformat_minor": 4
}
