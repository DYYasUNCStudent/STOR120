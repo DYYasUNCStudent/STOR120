{
 "cells": [
  {
   "cell_type": "markdown",
   "metadata": {},
   "source": [
    "# Homework 7: Testing Hypotheses"
   ]
  },
  {
   "cell_type": "markdown",
   "metadata": {},
   "source": [
    "**Reading**: \n",
    "* [Testing Hypotheses](https://www.inferentialthinking.com/chapters/11/Testing_Hypotheses.html)"
   ]
  },
  {
   "cell_type": "markdown",
   "metadata": {},
   "source": [
    "Please complete this notebook by filling in the cells provided. Before you begin, execute the following cell.\n",
    "\n",
    "Directly sharing answers is not okay, but discussing problems with the course staff or with other students is encouraged. \n",
    "\n",
    "For all problems that you must write our explanations and sentences for, you **must** provide your answer in the designated space. Moreover, throughout this homework and all future ones, please be sure to not re-assign variables throughout the notebook! For example, if you use `max_temperature` in your answer to one question, do not reassign it later on."
   ]
  },
  {
   "cell_type": "code",
   "execution_count": 1,
   "metadata": {},
   "outputs": [],
   "source": [
    "# Don't change this cell; just run it. \n",
    "\n",
    "import numpy as np\n",
    "from datascience import *\n",
    "\n",
    "# These lines do some fancy plotting magic.\n",
    "import matplotlib\n",
    "%matplotlib inline\n",
    "import matplotlib.pyplot as plt\n",
    "plt.style.use('fivethirtyeight')\n",
    "import warnings\n",
    "warnings.simplefilter('ignore', FutureWarning)"
   ]
  },
  {
   "cell_type": "markdown",
   "metadata": {},
   "source": [
    "## 1. Spam Calls\n"
   ]
  },
  {
   "cell_type": "markdown",
   "metadata": {},
   "source": [
    "## Part 1: 585 Fun"
   ]
  },
  {
   "cell_type": "markdown",
   "metadata": {},
   "source": [
    "Dr. McLean gets a lot of spam calls. An area code is defined to be a three digit number from 200-999 inclusive. In reality, many of these area codes are not in use. Of these possible numbers, there are currently 317 geographical US area codes (there are others not based on geography). \n",
    "\n",
    "**Throughout these questions, you should assume that Dr. McLean's area code is 585 (Rochester NY, home of the [garbage plate](https://www.visitrochester.com/blog/post/rochester-garbage-plate/)).**"
   ]
  },
  {
   "cell_type": "markdown",
   "metadata": {},
   "source": [
    "**Question 1.** Assuming each area code is just as likely as any other (of the 317 geographical US area codes), what's the probability that the area code of three back to back spam calls are 585?\n",
    "\n",
    "\n",
    "<!--\n",
    "BEGIN QUESTION\n",
    "name: q1_1\n",
    "manual: false\n",
    "-->"
   ]
  },
  {
   "cell_type": "code",
   "execution_count": 2,
   "metadata": {
    "manual_grade": true,
    "manual_problem_id": "catching_cheaters_1"
   },
   "outputs": [
    {
     "data": {
      "text/plain": [
       "0.0031545741324921135"
      ]
     },
     "execution_count": 2,
     "metadata": {},
     "output_type": "execute_result"
    }
   ],
   "source": [
    "prob_585 = 1 / 317\n",
    "prob_585"
   ]
  },
  {
   "cell_type": "markdown",
   "metadata": {},
   "source": [
    "**Question 2.** Peter already knows that Dr. McLean's area code is 585. Peter randomly guesses the last 7 digits (0-9 inclusive) of his phone number. What's the probability that Peter correctly guesses Dr. McLean's number, assuming that he’s equally likely to choose any digit? Assume that any digit is possible in any position of the phone number except for the first digit being `0` (in reality, there are more restrictions on what combinations of numbers can be used).\n",
    "\n",
    "*Note: A phone number contains an area code and 7 additional digits, i.e. xxx-xxx-xxxx*\n",
    "\n",
    "<!--\n",
    "BEGIN QUESTION\n",
    "name: q1_2\n",
    "manual: false\n",
    "-->"
   ]
  },
  {
   "cell_type": "code",
   "execution_count": 3,
   "metadata": {},
   "outputs": [
    {
     "data": {
      "text/plain": [
       "1.1111111111111115e-07"
      ]
     },
     "execution_count": 3,
     "metadata": {},
     "output_type": "execute_result"
    }
   ],
   "source": [
    "prob_mclean_num = 1/9 * (1 / 10) ** 6\n",
    "prob_mclean_num"
   ]
  },
  {
   "cell_type": "markdown",
   "metadata": {},
   "source": [
    "Dr. McLean suspects that there's a higher chance that the spammers are using his area code (585) to trick him into thinking it's someone from his area calling him. Stephanie thinks that this is not the case, and that spammers are just choosing area codes of the spam calls at random from all 317 possible US geographical area codes. Dr. McLean wants to test his claim using the 50 spam calls he received in the past month.\n",
    "\n",
    "Here's a dataset of the area codes of the 50 spam calls he received in the past month."
   ]
  },
  {
   "cell_type": "code",
   "execution_count": 4,
   "metadata": {},
   "outputs": [
    {
     "data": {
      "text/html": [
       "<table border=\"1\" class=\"dataframe\">\n",
       "    <thead>\n",
       "        <tr>\n",
       "            <th>Area Code</th>\n",
       "        </tr>\n",
       "    </thead>\n",
       "    <tbody>\n",
       "        <tr>\n",
       "            <td>810      </td>\n",
       "        </tr>\n",
       "        <tr>\n",
       "            <td>630      </td>\n",
       "        </tr>\n",
       "        <tr>\n",
       "            <td>205      </td>\n",
       "        </tr>\n",
       "        <tr>\n",
       "            <td>440      </td>\n",
       "        </tr>\n",
       "        <tr>\n",
       "            <td>585      </td>\n",
       "        </tr>\n",
       "        <tr>\n",
       "            <td>304      </td>\n",
       "        </tr>\n",
       "        <tr>\n",
       "            <td>870      </td>\n",
       "        </tr>\n",
       "        <tr>\n",
       "            <td>610      </td>\n",
       "        </tr>\n",
       "        <tr>\n",
       "            <td>717      </td>\n",
       "        </tr>\n",
       "        <tr>\n",
       "            <td>332      </td>\n",
       "        </tr>\n",
       "    </tbody>\n",
       "</table>\n",
       "<p>... (40 rows omitted)</p>"
      ],
      "text/plain": [
       "Area Code\n",
       "810\n",
       "630\n",
       "205\n",
       "440\n",
       "585\n",
       "304\n",
       "870\n",
       "610\n",
       "717\n",
       "332\n",
       "... (40 rows omitted)"
      ]
     },
     "execution_count": 4,
     "metadata": {},
     "output_type": "execute_result"
    }
   ],
   "source": [
    "# Just run this cell\n",
    "spam = Table().read_table('spam.csv')\n",
    "spam"
   ]
  },
  {
   "cell_type": "markdown",
   "metadata": {
    "editable": false
   },
   "source": [
    "**Question 3.** Define the null hypothesis and alternative hypothesis for this investigation. \n",
    "\n",
    "*Hint: Don’t forget that your null hypothesis should fully describe a probability model that we can use for simulation later.*\n",
    "\n",
    "\n",
    "<!--\n",
    "BEGIN QUESTION\n",
    "name: q1_3\n",
    "manual: true\n",
    "-->\n",
    "<!-- EXPORT TO PDF -->"
   ]
  },
  {
   "cell_type": "markdown",
   "metadata": {
    "export_pdf": true,
    "for_assignment_type": "solution"
   },
   "source": [
    "Null hypothesis: The spammers are randomly choosing area code for spam codes, so the probability of getting a spam call with an area code 585 should be the same as the possibility of getting other area codes, so the number of incidence of getting an area code 585 should equal to other calls (1/317).\n",
    "\n",
    "Alternative hypothesis: The spammers are intentionally choosing area code 585, so the possibility of getting an area code 585 should be different."
   ]
  },
  {
   "cell_type": "markdown",
   "metadata": {},
   "source": [
    "**Question 4.** Which of the following test statistics would be a reasonable choice to help differentiate between the two hypotheses?\n",
    "\n",
    "*Hint*: For a refresher on choosing test statistics, check out the textbook section on [Test Statistics](https://inferentialthinking.com/chapters/11/3/Decisions_and_Uncertainty.html#step-2-the-test-statistic).\n",
    "\n",
    "1. The proportion of area codes that are 585 in 50 random spam calls\n",
    "2. The total variation distance (TVD) between probability distribution of randomly chosen area codes, and the observed distribution of area codes. (*Remember the possible area codes are 200-999 inclusive*)\n",
    "3. The probability of getting an area code of 585 out of all the possible area codes.\n",
    "4. The proportion of area codes that are 585 in 50 random spam calls divided by 2\n",
    "5. The number of times you see the area code 585 in 50 random spam calls\n",
    "\n",
    "Assign `reasonable_test_statistics` to an array of numbers corresponding to these test statistics.\n",
    "\n",
    "<!--\n",
    "BEGIN QUESTION\n",
    "name: q1_4\n",
    "manual: false\n",
    "-->"
   ]
  },
  {
   "cell_type": "code",
   "execution_count": 153,
   "metadata": {},
   "outputs": [],
   "source": [
    "reasonable_test_statistics = make_array(1, 2, 5)"
   ]
  },
  {
   "cell_type": "markdown",
   "metadata": {},
   "source": [
    "**For the rest of this question, suppose that you decide to use the number of times you see the area code 585 in 50 spam calls as your test statistic.**\n",
    "\n",
    "**Question 5.** \n",
    "Write a function called `simulate` that generates exactly one simulated value of your test statistic under the null hypothesis.  It should take no arguments and simulate 50 area codes under the assumption that each area code is sampled with equal probability. The `AreaCodes` table contains all US geographical area codes. Your function should return the number of times you saw the 585 area code in those 50 random spam calls.\n",
    "\n",
    "\n",
    "<!--\n",
    "BEGIN QUESTION\n",
    "name: q1_5\n",
    "manual: false\n",
    "-->"
   ]
  },
  {
   "cell_type": "code",
   "execution_count": 6,
   "metadata": {},
   "outputs": [
    {
     "data": {
      "text/html": [
       "<table border=\"1\" class=\"dataframe\">\n",
       "    <thead>\n",
       "        <tr>\n",
       "            <th>Area Code</th> <th>State</th>\n",
       "        </tr>\n",
       "    </thead>\n",
       "    <tbody>\n",
       "        <tr>\n",
       "            <td>201      </td> <td>NJ   </td>\n",
       "        </tr>\n",
       "        <tr>\n",
       "            <td>202      </td> <td>DC   </td>\n",
       "        </tr>\n",
       "        <tr>\n",
       "            <td>203      </td> <td>CT   </td>\n",
       "        </tr>\n",
       "        <tr>\n",
       "            <td>205      </td> <td>AL   </td>\n",
       "        </tr>\n",
       "        <tr>\n",
       "            <td>206      </td> <td>WA   </td>\n",
       "        </tr>\n",
       "        <tr>\n",
       "            <td>207      </td> <td>ME   </td>\n",
       "        </tr>\n",
       "        <tr>\n",
       "            <td>208      </td> <td>ID   </td>\n",
       "        </tr>\n",
       "        <tr>\n",
       "            <td>209      </td> <td>CA   </td>\n",
       "        </tr>\n",
       "        <tr>\n",
       "            <td>210      </td> <td>TX   </td>\n",
       "        </tr>\n",
       "        <tr>\n",
       "            <td>212      </td> <td>NY   </td>\n",
       "        </tr>\n",
       "    </tbody>\n",
       "</table>\n",
       "<p>... (307 rows omitted)</p>"
      ],
      "text/plain": [
       "Area Code | State\n",
       "201       | NJ\n",
       "202       | DC\n",
       "203       | CT\n",
       "205       | AL\n",
       "206       | WA\n",
       "207       | ME\n",
       "208       | ID\n",
       "209       | CA\n",
       "210       | TX\n",
       "212       | NY\n",
       "... (307 rows omitted)"
      ]
     },
     "execution_count": 6,
     "metadata": {},
     "output_type": "execute_result"
    }
   ],
   "source": [
    "AreaCodes = Table.read_table('AreaCodes.csv')\n",
    "AreaCodes"
   ]
  },
  {
   "cell_type": "code",
   "execution_count": 141,
   "metadata": {},
   "outputs": [
    {
     "data": {
      "text/plain": [
       "2"
      ]
     },
     "execution_count": 141,
     "metadata": {},
     "output_type": "execute_result"
    }
   ],
   "source": [
    "def simulate():\n",
    "    num = 0\n",
    "    for i in np.arange(50):\n",
    "        if np.random.choice(AreaCodes.column(\"Area Code\")) == 585:\n",
    "            num += 1\n",
    "    return num\n",
    "\n",
    "# Call your function to make sure it works\n",
    "simulate()"
   ]
  },
  {
   "cell_type": "markdown",
   "metadata": {},
   "source": [
    "**Question 6.** Generate 20,000 simulated values of the number of times you see the area code 585 in 50 random spam calls. Assign `test_statistics_under_null` to an array that stores the result of each of these trials. \n",
    "\n",
    "*Hint*: Use the function you defined in Question 5.\n",
    "\n",
    "<!--\n",
    "BEGIN QUESTION\n",
    "name: q1_6\n",
    "manual: false\n",
    "-->"
   ]
  },
  {
   "cell_type": "code",
   "execution_count": 144,
   "metadata": {
    "for_assignment_type": "solution"
   },
   "outputs": [
    {
     "data": {
      "text/plain": [
       "array([ 0.,  0.,  1., ...,  0.,  0.,  0.])"
      ]
     },
     "execution_count": 144,
     "metadata": {},
     "output_type": "execute_result"
    }
   ],
   "source": [
    "test_statistics_under_null = make_array()\n",
    "repetitions = 20000\n",
    "\n",
    "for i in np.arange(repetitions):\n",
    "    test_statistics_under_null = np.append(test_statistics_under_null, simulate())\n",
    "    \n",
    "test_statistics_under_null"
   ]
  },
  {
   "cell_type": "markdown",
   "metadata": {},
   "source": [
    "**Question 7.** Using the results from Question 6, generate a histogram of the empirical distribution of the number of times you saw the area code 585 in your simulation. **NOTE: Use the provided bins when making the histogram**\n",
    "\n",
    "<!--\n",
    "BEGIN QUESTION\n",
    "name: q1_7\n",
    "manual: true\n",
    "-->\n",
    "<!-- EXPORT TO PDF -->"
   ]
  },
  {
   "cell_type": "code",
   "execution_count": 148,
   "metadata": {
    "export_pdf": true,
    "for_assignment_type": "solution"
   },
   "outputs": [
    {
     "data": {
      "image/png": "[encoded data removed]",
      "text/plain": [
       "<Figure size 600x400 with 1 Axes>"
      ]
     },
     "metadata": {},
     "output_type": "display_data"
    }
   ],
   "source": [
    "bins = np.arange(0,5,1) # Use these provided bins\n",
    "test = Table().with_column(\"Results\", test_statistics_under_null)\n",
    "test.hist(\"Results\", bins = bins)"
   ]
  },
  {
   "cell_type": "markdown",
   "metadata": {},
   "source": [
    "**Question 8.** Compute an empirical P-value for this test.\n",
    "\n",
    "\n",
    "<!--\n",
    "BEGIN QUESTION\n",
    "name: q1_8\n",
    "manual: false\n",
    "-->"
   ]
  },
  {
   "cell_type": "code",
   "execution_count": 152,
   "metadata": {
    "for_assignment_type": "solution"
   },
   "outputs": [
    {
     "data": {
      "text/plain": [
       "0.0002"
      ]
     },
     "execution_count": 152,
     "metadata": {},
     "output_type": "execute_result"
    }
   ],
   "source": [
    "# First calculate the observed value of the test statistic from the `spam` table.\n",
    "observed_val = spam.where(\"Area Code\", are.equal_to(585)).num_rows\n",
    "p_value = test.where(\"Results\", are.above_or_equal_to(observed_val)).num_rows / repetitions\n",
    "p_value"
   ]
  },
  {
   "cell_type": "markdown",
   "metadata": {
    "editable": false
   },
   "source": [
    "**Question 9.** Suppose you use a P-value cutoff of 1%. What do you conclude from the hypothesis test? Why?\n",
    "\n",
    "<!--\n",
    "BEGIN QUESTION\n",
    "name: q1_9\n",
    "manual: true\n",
    "-->\n",
    "<!-- EXPORT TO PDF -->"
   ]
  },
  {
   "cell_type": "markdown",
   "metadata": {
    "export_pdf": true,
    "manual_grade": true,
    "manual_problem_id": "catching_cheaters_8"
   },
   "source": [
    "We failed to reject the null hypothesis, as the P-value is still less than 1% we consider it as statistically significant and we failed to reject the hypothesis."
   ]
  },
  {
   "cell_type": "markdown",
   "metadata": {},
   "source": [
    "## Part 2: Multiple Spammers"
   ]
  },
  {
   "cell_type": "markdown",
   "metadata": {},
   "source": [
    "Instead of checking if the area code is equal to his own, Dr. McLean decides to check if the area code matches the area code of one of the 8 places he's been to recently, and wants to test if it's more likely to receive a spam call with an area code from any of those 8 places. These are the area codes of the places he's been to recently: 585, 919, 910, 315, 607, 707, 610, 864."
   ]
  },
  {
   "cell_type": "markdown",
   "metadata": {
    "editable": false
   },
   "source": [
    "##### **Question 10.** Define the null hypothesis and alternative hypothesis for this investigation.\n",
    "\n",
    "*Reminder: Don’t forget that your null hypothesis should fully describe a probability model that we can use for simulation later.*\n",
    "\n",
    "\n",
    "<!--\n",
    "BEGIN QUESTION\n",
    "name: q1_10\n",
    "manual: true\n",
    "-->\n",
    "<!-- EXPORT TO PDF -->"
   ]
  },
  {
   "cell_type": "markdown",
   "metadata": {
    "export_pdf": true,
    "for_assignment_type": "solution"
   },
   "source": [
    "Null hypothesis: The spammers are randomly choosing area code for spam codes, so the probability of getting a spam call with an area code that from any of the 8 places that Dr. McLean been to should be the same as the possibility of getting other area codes, the possibility of getting a spam call from those 8 places should be 8/317.\n",
    "\n",
    "Alternative hypothesis: The spammers are intentionally choosing the area codes that match the places Dr. McLean had been to, so the possibility of getting an area code from the 8 places should be different."
   ]
  },
  {
   "cell_type": "markdown",
   "metadata": {},
   "source": [
    "**Suppose you decide to use the number of times you see any of the area codes of the places Dr. McLean has been to in 50 spam calls as your test statistic.**\n",
    "\n",
    "**Question 11.** \n",
    "Write a function called `simulate_visited_area_codes` that generates exactly one simulated value of your test statistic under the null hypothesis. It should take no arguments and return the number of times that you saw any of the area codes of the places Dr. McLean has been to in those 50 spam calls (under the assumption that the calls come from the 317 US geographical area codes with equal probability).\n",
    " \n",
    "\n",
    "*Hint*: You may find the textbook [section](https://inferentialthinking.com/chapters/11/1/Assessing_a_Model.html#simulating-one-value-of-the-statistic) on the `sample_proportions` function to be useful.\n",
    "\n",
    "<!--\n",
    "BEGIN QUESTION\n",
    "name: q1_11\n",
    "manual: false\n",
    "-->"
   ]
  },
  {
   "cell_type": "code",
   "execution_count": 157,
   "metadata": {},
   "outputs": [
    {
     "data": {
      "text/plain": [
       "1.0"
      ]
     },
     "execution_count": 157,
     "metadata": {},
     "output_type": "execute_result"
    }
   ],
   "source": [
    "model_proportions = make_array(8/317, 309/317)\n",
    "def simulate_visited_area_codes():\n",
    "    return sample_proportions(50, model_proportions).item(0) * 50\n",
    "\n",
    "    \n",
    "# Call your function to make sure it works\n",
    "simulate_visited_area_codes()"
   ]
  },
  {
   "cell_type": "markdown",
   "metadata": {},
   "source": [
    "**Question 12.** Generate 20,000 simulated values of the number of times you see any of the area codes of the places Dr. McLean has been to in 50 random spam calls. Assign `test_statistics_under_null` to an array that stores the result of each of these trials. \n",
    "\n",
    "*Hint*: Use the function you defined in Question 11.\n",
    "\n",
    "<!--\n",
    "BEGIN QUESTION\n",
    "name: q1_12\n",
    "manual: false\n",
    "-->"
   ]
  },
  {
   "cell_type": "code",
   "execution_count": 158,
   "metadata": {
    "for_assignment_type": "solution"
   },
   "outputs": [
    {
     "data": {
      "text/plain": [
       "array([ 1.,  1.,  2., ...,  2.,  0.,  0.])"
      ]
     },
     "execution_count": 158,
     "metadata": {},
     "output_type": "execute_result"
    }
   ],
   "source": [
    "visited_test_statistics_under_null = make_array()\n",
    "\n",
    "repetitions = 20000\n",
    "for i in np.arange(repetitions):\n",
    "    visited_test_statistics_under_null = np.append(visited_test_statistics_under_null, simulate_visited_area_codes())\n",
    "\n",
    "visited_test_statistics_under_null"
   ]
  },
  {
   "cell_type": "markdown",
   "metadata": {},
   "source": [
    "**Question 13.** Using the results from Question 12, generate a histogram of the empirical distribution of the number of times you saw any of the area codes of the places Dr. McLean has been to in your simulation. **NOTE: Use the provided bins when making the histogram**\n",
    "\n",
    "<!--\n",
    "BEGIN QUESTION\n",
    "name: q1_13\n",
    "manual: true\n",
    "-->\n",
    "<!-- EXPORT TO PDF -->"
   ]
  },
  {
   "cell_type": "code",
   "execution_count": 160,
   "metadata": {
    "export_pdf": true,
    "for_assignment_type": "solution"
   },
   "outputs": [
    {
     "data": {
      "image/png": "[encoded data removed]",
      "text/plain": [
       "<Figure size 600x400 with 1 Axes>"
      ]
     },
     "metadata": {},
     "output_type": "display_data"
    }
   ],
   "source": [
    "bins_visited = np.arange(0,8,1) # Use these provided bins\n",
    "test2 = Table().with_column(\"Results\", visited_test_statistics_under_null)\n",
    "test2.hist(\"Results\", bins = bins_visited)"
   ]
  },
  {
   "cell_type": "markdown",
   "metadata": {},
   "source": [
    "**Question 14.** Compute an empirical P-value for this test.\n",
    "\n",
    "\n",
    "<!--\n",
    "BEGIN QUESTION\n",
    "name: q1_14\n",
    "manual: false\n",
    "-->"
   ]
  },
  {
   "cell_type": "code",
   "execution_count": 167,
   "metadata": {
    "for_assignment_type": "solution"
   },
   "outputs": [
    {
     "data": {
      "text/plain": [
       "0.0003"
      ]
     },
     "execution_count": 167,
     "metadata": {},
     "output_type": "execute_result"
    }
   ],
   "source": [
    "visited_area_codes = make_array(585, 919, 910, 315, 607, 707, 610, 864)\n",
    "# First calculate the observed value of the test statistic from the `spam` table.\n",
    "visited_observed_value = 0\n",
    "for code in visited_area_codes:\n",
    "    visited_observed_value += spam.where(\"Area Code\", are.equal_to(code)).num_rows\n",
    "p_value = test2.where(\"Results\", are.above_or_equal_to(visited_observed_value)).num_rows / repetitions\n",
    "p_value"
   ]
  },
  {
   "cell_type": "markdown",
   "metadata": {
    "editable": false
   },
   "source": [
    "**Question 15.** Suppose you use a P-value cutoff of 0.5% (**Note: that’s 0.5%, not our usual cutoff of 5%**). What do you conclude from the hypothesis test? Why?\n",
    "\n",
    "<!--\n",
    "BEGIN QUESTION\n",
    "name: q1_15\n",
    "manual: true\n",
    "-->\n",
    "<!-- EXPORT TO PDF -->"
   ]
  },
  {
   "cell_type": "markdown",
   "metadata": {
    "export_pdf": true,
    "manual_grade": true,
    "manual_problem_id": "catching_cheaters_8"
   },
   "source": [
    "We fail to reject the null hypothesis, as the p-value calculated is smaller than 0.5%"
   ]
  },
  {
   "cell_type": "markdown",
   "metadata": {},
   "source": [
    "**Question 16.** Is `p_value`:\n",
    "\n",
    "* (a) the probability that the spam calls favored the visited area codes,\n",
    "* (b) the probability that they didn't favor, or\n",
    "* (c) neither\n",
    "\n",
    "If you chose (c), explain what it is instead.\n",
    "\n",
    "\n",
    "<!--\n",
    "BEGIN QUESTION\n",
    "name: q1_16\n",
    "manual: true\n",
    "-->\n",
    "<!-- EXPORT TO PDF -->"
   ]
  },
  {
   "cell_type": "markdown",
   "metadata": {
    "export_pdf": true,
    "manual_grade": true,
    "manual_problem_id": "catching_cheaters_9"
   },
   "source": [
    "b"
   ]
  },
  {
   "cell_type": "markdown",
   "metadata": {},
   "source": [
    "**Question 17.** Is 0.5% (the P-value cutoff):\n",
    "\n",
    "* (a) the probability that the spam calls favored the visited area codes,\n",
    "* (b) the probability that they didn't favor, or\n",
    "* (c) neither\n",
    "\n",
    "If you chose (c), explain what it is instead.\n",
    "\n",
    "<!--\n",
    "BEGIN QUESTION\n",
    "name: q1_17\n",
    "manual: true\n",
    "-->\n",
    "<!-- EXPORT TO PDF -->"
   ]
  },
  {
   "cell_type": "markdown",
   "metadata": {
    "export_pdf": true,
    "manual_grade": true,
    "manual_problem_id": "catching_cheaters_10"
   },
   "source": [
    "C. It is used as a threshold/benchmark to decide whether the observed data is unusual enough to reject the null hypothesis."
   ]
  },
  {
   "cell_type": "markdown",
   "metadata": {},
   "source": [
    "**Question 18.** Suppose you run this test for 800 different people after observing each person's last 50 spam calls. When you reject the null hypothesis for a person, you accuse the spam callers of favoring the area codes that person has visited. If the spam callers were not actually favoring area codes that people have visited, can we compute how many times we will incorrectly accuse the spam callers of favoring area codes that people have visited? If so, what is the number? Explain your answer. Assume a 0.5% P-value cutoff.\n",
    "\n",
    "<!--\n",
    "BEGIN QUESTION\n",
    "name: q1_18\n",
    "manual: true\n",
    "-->\n",
    "<!-- EXPORT TO PDF -->"
   ]
  },
  {
   "cell_type": "markdown",
   "metadata": {
    "export_pdf": true,
    "manual_grade": true,
    "manual_problem_id": "catching_cheaters_10"
   },
   "source": [
    "The number is 4. We can calculate the number of incorrectly accuse the spam callers of favoring area codes by the following computation: 800 * 0.005."
   ]
  },
  {
   "cell_type": "markdown",
   "metadata": {},
   "source": [
    "## Part 3: Practice with A/B Tests"
   ]
  },
  {
   "cell_type": "markdown",
   "metadata": {},
   "source": [
    "Dr. McLean collects information about this month's spam calls. The table `with_labels` is a sampled table, where the `Area Code Visited` column contains either `\"Yes\"` or `\"No\"` which represents whether or not Dr. McLean has visited the location of the area code. The `Picked Up` column is `1` if Dr. McLean picked up and `0` if he did not pick up. Honestly, unless it's Dr. McLean's family calling, He's not answering the phone..."
   ]
  },
  {
   "cell_type": "code",
   "execution_count": 168,
   "metadata": {
    "editable": false
   },
   "outputs": [
    {
     "data": {
      "text/html": [
       "<table border=\"1\" class=\"dataframe\">\n",
       "    <thead>\n",
       "        <tr>\n",
       "            <th>Area Code Visited</th> <th>Picked Up</th>\n",
       "        </tr>\n",
       "    </thead>\n",
       "    <tbody>\n",
       "        <tr>\n",
       "            <td>No               </td> <td>0        </td>\n",
       "        </tr>\n",
       "        <tr>\n",
       "            <td>No               </td> <td>1        </td>\n",
       "        </tr>\n",
       "        <tr>\n",
       "            <td>No               </td> <td>1        </td>\n",
       "        </tr>\n",
       "        <tr>\n",
       "            <td>Yes              </td> <td>0        </td>\n",
       "        </tr>\n",
       "        <tr>\n",
       "            <td>No               </td> <td>0        </td>\n",
       "        </tr>\n",
       "        <tr>\n",
       "            <td>No               </td> <td>0        </td>\n",
       "        </tr>\n",
       "        <tr>\n",
       "            <td>Yes              </td> <td>0        </td>\n",
       "        </tr>\n",
       "        <tr>\n",
       "            <td>No               </td> <td>1        </td>\n",
       "        </tr>\n",
       "        <tr>\n",
       "            <td>No               </td> <td>1        </td>\n",
       "        </tr>\n",
       "        <tr>\n",
       "            <td>No               </td> <td>1        </td>\n",
       "        </tr>\n",
       "    </tbody>\n",
       "</table>\n",
       "<p>... (40 rows omitted)</p>"
      ],
      "text/plain": [
       "Area Code Visited | Picked Up\n",
       "No                | 0\n",
       "No                | 1\n",
       "No                | 1\n",
       "Yes               | 0\n",
       "No                | 0\n",
       "No                | 0\n",
       "Yes               | 0\n",
       "No                | 1\n",
       "No                | 1\n",
       "No                | 1\n",
       "... (40 rows omitted)"
      ]
     },
     "execution_count": 168,
     "metadata": {},
     "output_type": "execute_result"
    }
   ],
   "source": [
    "# Just run this cell\n",
    "with_labels = Table().read_table(\"spam_picked_up.csv\")\n",
    "with_labels"
   ]
  },
  {
   "cell_type": "markdown",
   "metadata": {},
   "source": [
    "Dr. McLean is going to perform an A/B Test to see whether or not he is more likely to pick up a call from an area code he has visited. Specifically, his null hypothesis is that there is no difference in the distribution of calls he picked up between visited and not visited area codes, with any difference due to chance. His alternative hypothesis is that there is a difference between the two categories, specifically that he thinks that he is more likely to pick up if he has visited the area code. We are going to perform a [permutation test](https://www.inferentialthinking.com/chapters/12/1/AB_Testing.html#Permutation-Test) to test this. Our test statistic will be the difference in proportion of calls picked up between the area codes Dr. McLean visited and the area codes he did not visit."
   ]
  },
  {
   "cell_type": "markdown",
   "metadata": {},
   "source": [
    "**Question 19.** Complete the `difference_in_proportion` function to have it calculate this test statistic, and use it to find the observed value. The function takes in a sampled table which can be any table that has the same columns as `with_labels`. We'll call `difference_in_proportion` with the sampled table `with_labels` in order to find the observed difference in proportion.\n",
    "\n",
    "<!--\n",
    "BEGIN QUESTION\n",
    "name: q1_19\n",
    "manual: false\n",
    "-->"
   ]
  },
  {
   "cell_type": "code",
   "execution_count": 173,
   "metadata": {},
   "outputs": [
    {
     "data": {
      "text/plain": [
       "0.21904761904761905"
      ]
     },
     "execution_count": 173,
     "metadata": {},
     "output_type": "execute_result"
    }
   ],
   "source": [
    "def difference_in_proportion(sample):\n",
    "    # Take a look at the code for `proportion_visited` and use that as a \n",
    "    # hint of what `proportions` should be assigned to\n",
    "    proportions = sample.group(\"Area Code Visited\", np.mean)\n",
    "    proportion_visited = proportions.where(\"Area Code Visited\", \"Yes\").column(\"Picked Up mean\").item(0)\n",
    "    proportion_not_visited = proportions.where(\"Area Code Visited\", \"No\").column(\"Picked Up mean\").item(0)\n",
    "    return abs(proportion_visited - proportion_not_visited)\n",
    "\n",
    "observed_diff_proportion = difference_in_proportion(with_labels)\n",
    "observed_diff_proportion"
   ]
  },
  {
   "cell_type": "markdown",
   "metadata": {},
   "source": [
    "**Question 20.** To perform a permutation test we shuffle the labels, because our null hypothesis is that the labels don't matter because the distribution of calls he picked up between visited and not visited area codes come from same underlying distribution. The labels in this case is the `\"Area Code Visited\"` column containing `\"Yes\"` and `\"No\"`.\n",
    "\n",
    "Write a function to shuffle the table and return a test statistic using the function you defined in question 19.\n",
    "\n",
    "*Hint: To shuffle labels, we sample without replacement and then replace the appropriate column with the new shuffled column.*\n",
    "\n",
    "<!--\n",
    "BEGIN QUESTION\n",
    "name: q1_20\n",
    "manual: false\n",
    "-->"
   ]
  },
  {
   "cell_type": "code",
   "execution_count": 177,
   "metadata": {},
   "outputs": [
    {
     "data": {
      "text/plain": [
       "0.16190476190476188"
      ]
     },
     "execution_count": 177,
     "metadata": {},
     "output_type": "execute_result"
    }
   ],
   "source": [
    "def simulate_one_stat():\n",
    "    shuffled = with_labels.sample(with_replacement = False).column(\"Area Code Visited\")\n",
    "    original_with_shuffled_labels = with_labels.select(\"Picked Up\").with_column('Area Code Visited', shuffled)\n",
    "    return difference_in_proportion(original_with_shuffled_labels)\n",
    "\n",
    "one_simulated_test_stat = simulate_one_stat() \n",
    "one_simulated_test_stat"
   ]
  },
  {
   "cell_type": "markdown",
   "metadata": {},
   "source": [
    "**Question 21.** Generate 1,000 simulated test statistic values. Assign `test_stats` to an array that stores the result of each of these trials. \n",
    "\n",
    "*Hint*: Use the function you defined in Question 20.\n",
    "\n",
    "We also provided code that'll generate a histogram for you after generating a 1000 simulated test statistic values.\n",
    "\n",
    "<!--\n",
    "BEGIN QUESTION\n",
    "name: q1_21\n",
    "manual: true\n",
    "-->\n",
    "<!-- EXPORT TO PDF -->"
   ]
  },
  {
   "cell_type": "code",
   "execution_count": 181,
   "metadata": {
    "export_pdf": true
   },
   "outputs": [
    {
     "data": {
      "image/png": "[encoded data removed]",
      "text/plain": [
       "<Figure size 600x400 with 1 Axes>"
      ]
     },
     "metadata": {},
     "output_type": "display_data"
    }
   ],
   "source": [
    "trials = 1000\n",
    "test_stats = make_array()\n",
    "\n",
    "for i in np.arange(trials):\n",
    "    test_stats = np.append(test_stats, simulate_one_stat())\n",
    "\n",
    "# here's code to generate a histogram of values and the red line is the observed value\n",
    "Table().with_column(\"Simulated Proportion Difference\", test_stats).hist(\"Simulated Proportion Difference\");\n",
    "plt.plot([observed_diff_proportion, observed_diff_proportion], [0, 3], color='red', lw=2);"
   ]
  },
  {
   "cell_type": "markdown",
   "metadata": {},
   "source": [
    "**Question 22.** Compute the empirical p-value for this test, and assign it to `p_value_ab`.\n",
    "\n",
    "<!--\n",
    "BEGIN QUESTION\n",
    "name: q1_22\n",
    "manual: false\n",
    "-->"
   ]
  },
  {
   "cell_type": "code",
   "execution_count": 185,
   "metadata": {},
   "outputs": [
    {
     "data": {
      "text/plain": [
       "0.88200000000000001"
      ]
     },
     "execution_count": 185,
     "metadata": {},
     "output_type": "execute_result"
    }
   ],
   "source": [
    "p_value_ab = np.sum(test_stats <= observed_diff_proportion) / trials\n",
    "p_value_ab"
   ]
  }
 ],
 "metadata": {
  "kernelspec": {
   "display_name": "Python 3 (ipykernel)",
   "language": "python",
   "name": "python3"
  }
 },
 "nbformat": 4,
 "nbformat_minor": 4
}
