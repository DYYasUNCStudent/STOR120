{
 "cells": [
  {
   "cell_type": "markdown",
   "metadata": {},
   "source": [
    "# Lab 0: Getting Started\n",
    "\n",
    "Welcome to STOR 120: *Foundations of Statistics and Data Science*!  Most weeks you will complete a lab assignment. You can't learn technical subjects without hands-on practice, so labs are an important part of the course.\n",
    "\n",
    "Collaborating on labs is more than okay -- it's encouraged! You should rarely remain stuck for more than a few minutes on questions in labs, so ask a classmate or an instructor for help. (Explaining things is beneficial, too -- the best way to solidify your knowledge of a subject is to explain it.) Please don't just share answers, though.\n",
    "\n",
    "#### Today's lab\n",
    "\n",
    "In this lab you will:\n",
    "\n",
    "1. Install the JupyterLab software needed for the course;\n",
    "2. open your first Jupyter notebook (like this one);\n",
    "3. run one *cell* to install a needed package (which may already be installed);\n",
    "4. change one *cell* of the notebook;\n",
    "5. save your notebook; and\n",
    "6. submit your notebook to Gradescope."
   ]
  },
  {
   "cell_type": "markdown",
   "metadata": {},
   "source": [
    "**Question 1.** Run the *cell* below to install the needed package"
   ]
  },
  {
   "cell_type": "code",
   "execution_count": 1,
   "metadata": {
    "tags": []
   },
   "outputs": [
    {
     "name": "stdout",
     "output_type": "stream",
     "text": [
      "Collecting datascience\n",
      "  Downloading datascience-0.17.6-py3-none-any.whl (732 kB)\n",
      "     ---------------------------------------- 0.0/732.8 kB ? eta -:--:--\n",
      "      --------------------------------------- 10.2/732.8 kB ? eta -:--:--\n",
      "     ---- -------------------------------- 92.2/732.8 kB 880.9 kB/s eta 0:00:01\n",
      "     -------------------- ----------------- 389.1/732.8 kB 2.7 MB/s eta 0:00:01\n",
      "     -------------------------------------- 732.8/732.8 kB 4.2 MB/s eta 0:00:00\n",
      "Collecting folium>=0.9.1 (from datascience)\n",
      "  Obtaining dependency information for folium>=0.9.1 from https://files.pythonhosted.org/packages/18/09/8569904c8ce5679cc02826d98de633c07abcd2443a23181e5f71ff9dacbc/folium-0.15.1-py2.py3-none-any.whl.metadata\n",
      "  Downloading folium-0.15.1-py2.py3-none-any.whl.metadata (3.4 kB)\n",
      "Requirement already satisfied: setuptools in c:\\users\\dyyja\\anaconda3\\lib\\site-packages (from datascience) (68.0.0)\n",
      "Requirement already satisfied: matplotlib>=3.0.0 in c:\\users\\dyyja\\appdata\\roaming\\python\\python311\\site-packages (from datascience) (3.7.2)\n",
      "Requirement already satisfied: pandas in c:\\users\\dyyja\\appdata\\roaming\\python\\python311\\site-packages (from datascience) (2.0.3)\n",
      "Requirement already satisfied: scipy in c:\\users\\dyyja\\anaconda3\\lib\\site-packages (from datascience) (1.11.1)\n",
      "Requirement already satisfied: numpy in c:\\users\\dyyja\\appdata\\roaming\\python\\python311\\site-packages (from datascience) (1.25.2)\n",
      "Requirement already satisfied: ipython in c:\\users\\dyyja\\appdata\\roaming\\python\\python311\\site-packages (from datascience) (8.14.0)\n",
      "Requirement already satisfied: plotly in c:\\users\\dyyja\\anaconda3\\lib\\site-packages (from datascience) (5.9.0)\n",
      "Collecting branca (from datascience)\n",
      "  Obtaining dependency information for branca from https://files.pythonhosted.org/packages/2f/e7/603b136221de923055716d23e3047da71f92e0d8ba2c4517ce49a54fe768/branca-0.7.0-py3-none-any.whl.metadata\n",
      "  Downloading branca-0.7.0-py3-none-any.whl.metadata (1.5 kB)\n",
      "Requirement already satisfied: jinja2>=2.9 in c:\\users\\dyyja\\appdata\\roaming\\python\\python311\\site-packages (from folium>=0.9.1->datascience) (3.1.2)\n",
      "Requirement already satisfied: requests in c:\\users\\dyyja\\appdata\\roaming\\python\\python311\\site-packages (from folium>=0.9.1->datascience) (2.31.0)\n",
      "Requirement already satisfied: xyzservices in c:\\users\\dyyja\\anaconda3\\lib\\site-packages (from folium>=0.9.1->datascience) (2022.9.0)\n",
      "Requirement already satisfied: contourpy>=1.0.1 in c:\\users\\dyyja\\appdata\\roaming\\python\\python311\\site-packages (from matplotlib>=3.0.0->datascience) (1.1.0)\n",
      "Requirement already satisfied: cycler>=0.10 in c:\\users\\dyyja\\appdata\\roaming\\python\\python311\\site-packages (from matplotlib>=3.0.0->datascience) (0.11.0)\n",
      "Requirement already satisfied: fonttools>=4.22.0 in c:\\users\\dyyja\\appdata\\roaming\\python\\python311\\site-packages (from matplotlib>=3.0.0->datascience) (4.42.1)\n",
      "Requirement already satisfied: kiwisolver>=1.0.1 in c:\\users\\dyyja\\appdata\\roaming\\python\\python311\\site-packages (from matplotlib>=3.0.0->datascience) (1.4.5)\n",
      "Requirement already satisfied: packaging>=20.0 in c:\\users\\dyyja\\appdata\\roaming\\python\\python311\\site-packages (from matplotlib>=3.0.0->datascience) (23.1)\n",
      "Requirement already satisfied: pillow>=6.2.0 in c:\\users\\dyyja\\appdata\\roaming\\python\\python311\\site-packages (from matplotlib>=3.0.0->datascience) (10.0.0)\n",
      "Requirement already satisfied: pyparsing<3.1,>=2.3.1 in c:\\users\\dyyja\\appdata\\roaming\\python\\python311\\site-packages (from matplotlib>=3.0.0->datascience) (3.0.9)\n",
      "Requirement already satisfied: python-dateutil>=2.7 in c:\\users\\dyyja\\appdata\\roaming\\python\\python311\\site-packages (from matplotlib>=3.0.0->datascience) (2.8.2)\n",
      "Requirement already satisfied: backcall in c:\\users\\dyyja\\appdata\\roaming\\python\\python311\\site-packages (from ipython->datascience) (0.2.0)\n",
      "Requirement already satisfied: decorator in c:\\users\\dyyja\\appdata\\roaming\\python\\python311\\site-packages (from ipython->datascience) (5.1.1)\n",
      "Requirement already satisfied: jedi>=0.16 in c:\\users\\dyyja\\appdata\\roaming\\python\\python311\\site-packages (from ipython->datascience) (0.19.0)\n",
      "Requirement already satisfied: matplotlib-inline in c:\\users\\dyyja\\appdata\\roaming\\python\\python311\\site-packages (from ipython->datascience) (0.1.6)\n",
      "Requirement already satisfied: pickleshare in c:\\users\\dyyja\\appdata\\roaming\\python\\python311\\site-packages (from ipython->datascience) (0.7.5)\n",
      "Requirement already satisfied: prompt-toolkit!=3.0.37,<3.1.0,>=3.0.30 in c:\\users\\dyyja\\appdata\\roaming\\python\\python311\\site-packages (from ipython->datascience) (3.0.39)\n",
      "Requirement already satisfied: pygments>=2.4.0 in c:\\users\\dyyja\\appdata\\roaming\\python\\python311\\site-packages (from ipython->datascience) (2.16.1)\n",
      "Requirement already satisfied: stack-data in c:\\users\\dyyja\\appdata\\roaming\\python\\python311\\site-packages (from ipython->datascience) (0.6.2)\n",
      "Requirement already satisfied: traitlets>=5 in c:\\users\\dyyja\\appdata\\roaming\\python\\python311\\site-packages (from ipython->datascience) (5.9.0)\n",
      "Requirement already satisfied: colorama in c:\\users\\dyyja\\appdata\\roaming\\python\\python311\\site-packages (from ipython->datascience) (0.4.6)\n",
      "Requirement already satisfied: pytz>=2020.1 in c:\\users\\dyyja\\appdata\\roaming\\python\\python311\\site-packages (from pandas->datascience) (2023.3)\n",
      "Requirement already satisfied: tzdata>=2022.1 in c:\\users\\dyyja\\appdata\\roaming\\python\\python311\\site-packages (from pandas->datascience) (2023.3)\n",
      "Requirement already satisfied: tenacity>=6.2.0 in c:\\users\\dyyja\\anaconda3\\lib\\site-packages (from plotly->datascience) (8.2.2)\n",
      "Requirement already satisfied: parso<0.9.0,>=0.8.3 in c:\\users\\dyyja\\appdata\\roaming\\python\\python311\\site-packages (from jedi>=0.16->ipython->datascience) (0.8.3)\n",
      "Requirement already satisfied: MarkupSafe>=2.0 in c:\\users\\dyyja\\appdata\\roaming\\python\\python311\\site-packages (from jinja2>=2.9->folium>=0.9.1->datascience) (2.1.3)\n",
      "Requirement already satisfied: wcwidth in c:\\users\\dyyja\\appdata\\roaming\\python\\python311\\site-packages (from prompt-toolkit!=3.0.37,<3.1.0,>=3.0.30->ipython->datascience) (0.2.6)\n",
      "Requirement already satisfied: six>=1.5 in c:\\users\\dyyja\\appdata\\roaming\\python\\python311\\site-packages (from python-dateutil>=2.7->matplotlib>=3.0.0->datascience) (1.16.0)\n",
      "Requirement already satisfied: charset-normalizer<4,>=2 in c:\\users\\dyyja\\appdata\\roaming\\python\\python311\\site-packages (from requests->folium>=0.9.1->datascience) (3.2.0)\n",
      "Requirement already satisfied: idna<4,>=2.5 in c:\\users\\dyyja\\appdata\\roaming\\python\\python311\\site-packages (from requests->folium>=0.9.1->datascience) (3.4)\n",
      "Requirement already satisfied: urllib3<3,>=1.21.1 in c:\\users\\dyyja\\appdata\\roaming\\python\\python311\\site-packages (from requests->folium>=0.9.1->datascience) (2.0.4)\n",
      "Requirement already satisfied: certifi>=2017.4.17 in c:\\users\\dyyja\\appdata\\roaming\\python\\python311\\site-packages (from requests->folium>=0.9.1->datascience) (2023.7.22)\n",
      "Requirement already satisfied: executing>=1.2.0 in c:\\users\\dyyja\\appdata\\roaming\\python\\python311\\site-packages (from stack-data->ipython->datascience) (1.2.0)\n",
      "Requirement already satisfied: asttokens>=2.1.0 in c:\\users\\dyyja\\appdata\\roaming\\python\\python311\\site-packages (from stack-data->ipython->datascience) (2.2.1)\n",
      "Requirement already satisfied: pure-eval in c:\\users\\dyyja\\appdata\\roaming\\python\\python311\\site-packages (from stack-data->ipython->datascience) (0.2.2)\n",
      "Downloading folium-0.15.1-py2.py3-none-any.whl (97 kB)\n",
      "   ---------------------------------------- 0.0/97.0 kB ? eta -:--:--\n",
      "   ---------------------------------------- 97.0/97.0 kB ? eta 0:00:00\n",
      "Downloading branca-0.7.0-py3-none-any.whl (25 kB)\n",
      "Installing collected packages: branca, folium, datascience\n",
      "Successfully installed branca-0.7.0 datascience-0.17.6 folium-0.15.1\n",
      "Note: you may need to restart the kernel to use updated packages.\n"
     ]
    }
   ],
   "source": [
    "pip install datascience"
   ]
  },
  {
   "cell_type": "markdown",
   "metadata": {},
   "source": [
    "**Question 2.** In the *cell* below type your preferred name and pronouns."
   ]
  },
  {
   "cell_type": "markdown",
   "metadata": {},
   "source": [
    "Yuyang (Jason) Deng, He/Him"
   ]
  },
  {
   "cell_type": "markdown",
   "metadata": {},
   "source": [
    "You're done with Lab 0! \n",
    "\n",
    "Make sure to save your Notebook and submit the .ipynb file to Gradescope. If you have trouble installing the software and completing the lab, you can ask your lab instructor for help during the first lab session."
   ]
  }
 ],
 "metadata": {
  "kernelspec": {
   "display_name": "Python 3 (ipykernel)",
   "language": "python",
   "name": "python3"
  }
 },
 "nbformat": 4,
 "nbformat_minor": 4
}
