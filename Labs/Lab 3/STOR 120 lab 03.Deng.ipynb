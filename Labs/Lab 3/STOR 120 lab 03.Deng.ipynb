{
 "cells": [
  {
   "cell_type": "markdown",
   "metadata": {},
   "source": [
    "# STOR 120 -  Lab 3: Arrays, Tables, & Visualizations\n",
    "\n",
    "Welcome to Lab 3!\n",
    "\n",
    "\n",
    "\n",
    "First run the cell below."
   ]
  },
  {
   "cell_type": "code",
   "execution_count": 2,
   "metadata": {},
   "outputs": [],
   "source": [
    "# Just run this cell\n",
    "\n",
    "import numpy as np\n",
    "from datascience import *\n",
    "\n",
    "# These lines do some fancy plotting magic\n",
    "import matplotlib\n",
    "%matplotlib inline\n",
    "import matplotlib.pyplot as plots\n",
    "plots.style.use('fivethirtyeight')"
   ]
  },
  {
   "cell_type": "markdown",
   "metadata": {},
   "source": [
    "# 1. Arrays\n",
    "\n",
    "Computers are most useful when you can use a small amount of code to *do the same action* to *many different things*.\n",
    "\n",
    "For example, in the time it takes you to calculate the 18% tip on a restaurant bill, a laptop can calculate 18% tips for every restaurant bill paid by every human on Earth that day (That's if you're pretty fast at doing arithmetic in your head!).\n",
    "\n",
    "**Arrays** are how we put many values in one place so that we can operate on them as a group. For example, if `billions_of_numbers` is an array of numbers, the expression\n",
    "\n",
    "    .18 * billions_of_numbers\n",
    "\n",
    "gives a new array of numbers that contains the result of multiplying each number in `billions_of_numbers` by .18.  Arrays are not limited to numbers; we can also put all the words in a book into an array of strings.\n",
    "\n",
    "Concretely, an array is a **collection of values of the same type**. "
   ]
  },
  {
   "cell_type": "markdown",
   "metadata": {},
   "source": [
    "## 1.1. Making arrays\n",
    "\n",
    "First, let's learn how to manually input values into an array. This typically isn't how programs work. Normally, we create arrays by loading them from an external source, like a data file.\n",
    "\n",
    "To create an array by hand, call the function `make_array`.  Each argument you pass to `make_array` will be in the array it returns.  Run this cell to see an example:"
   ]
  },
  {
   "cell_type": "code",
   "execution_count": 4,
   "metadata": {
    "scrolled": true
   },
   "outputs": [
    {
     "data": {
      "text/plain": [
       "array([ 0.125,  4.75 , -1.3  ])"
      ]
     },
     "execution_count": 4,
     "metadata": {},
     "output_type": "execute_result"
    }
   ],
   "source": [
    "make_array(0.125, 4.75, -1.3)"
   ]
  },
  {
   "cell_type": "markdown",
   "metadata": {},
   "source": [
    "Each value in an array (in the above case, the numbers 0.125, 4.75, and -1.3) is called an *element* of that array.\n",
    "\n",
    "Arrays themselves are also values, just like numbers and strings.  That means you can assign them to names or use them as arguments to functions. For example, `len(<some_array>)` returns the number of elements in `some_array`."
   ]
  },
  {
   "cell_type": "markdown",
   "metadata": {},
   "source": [
    "**Question 1.1.1.** Make an array containing the numbers $\\pi$, 1, -1, 0, and $e$, in that order.  Name it `interesting_numbers`.  \n",
    "\n",
    "*Hint:* How have you found the values $\\pi$ and $e$ earlier in this course?\n",
    "\n",
    "<!--\n",
    "BEGIN QUESTION\n",
    "name: q111\n",
    "-->"
   ]
  },
  {
   "cell_type": "code",
   "execution_count": 5,
   "metadata": {},
   "outputs": [
    {
     "data": {
      "text/plain": [
       "array([ 3.14159265,  1.        , -1.        ,  0.        ,  2.71828183])"
      ]
     },
     "execution_count": 5,
     "metadata": {},
     "output_type": "execute_result"
    }
   ],
   "source": [
    "import math\n",
    "\n",
    "interesting_numbers = make_array(math.pi, 1, -1, 0, math.e)\n",
    "interesting_numbers"
   ]
  },
  {
   "cell_type": "markdown",
   "metadata": {},
   "source": [
    "**Question 1.1.2.** Make an array containing the five strings `\"Hello\"`, `\",\"`, `\" \"`, `\"world\"`, and `\"!\"`.  (The third one is a single space inside quotes.)  Name it `hello_world_components`.\n",
    "\n",
    "*Note:* If you evaluate `hello_world_components`, you'll notice some extra information in addition to its contents: `dtype='<U5'`.  That's just NumPy's extremely cryptic way of saying that the data types in the array are strings.\n",
    "\n",
    "<!--\n",
    "BEGIN QUESTION\n",
    "name: q112\n",
    "-->"
   ]
  },
  {
   "cell_type": "code",
   "execution_count": 7,
   "metadata": {},
   "outputs": [
    {
     "data": {
      "text/plain": [
       "array(['Hello', ',', ' ', 'world', '!'],\n",
       "      dtype='<U5')"
      ]
     },
     "execution_count": 7,
     "metadata": {},
     "output_type": "execute_result"
    }
   ],
   "source": [
    "hello_world_components = make_array(\"Hello\", \",\", \" \", \"world\", \"!\")\n",
    "hello_world_components"
   ]
  },
  {
   "cell_type": "markdown",
   "metadata": {
    "tags": []
   },
   "source": [
    "###  `np.arange`\n",
    "Arrays are provided by a package called [NumPy](http://www.numpy.org/) (pronounced \"NUM-pie\"). The package is called `numpy`, but it's standard to rename it `np` for brevity.  You can do that with:\n",
    "\n",
    "    import numpy as np\n",
    "\n",
    "Very often in data science, we want to work with many numbers that are evenly spaced within some range.  NumPy provides a special function for this called `arange`.  The line of code `np.arange(start, stop, step)` evaluates to an array with all the numbers starting at `start` and counting up by `step`, stopping **before** `stop` is reached.\n",
    "\n",
    "Run the following cells to see some examples!"
   ]
  },
  {
   "cell_type": "code",
   "execution_count": 8,
   "metadata": {},
   "outputs": [
    {
     "data": {
      "text/plain": [
       "array([1, 3, 5])"
      ]
     },
     "execution_count": 8,
     "metadata": {},
     "output_type": "execute_result"
    }
   ],
   "source": [
    "# This array starts at 1 and counts up by 2\n",
    "# and then stops before 6\n",
    "np.arange(1, 6, 2)"
   ]
  },
  {
   "cell_type": "code",
   "execution_count": 9,
   "metadata": {},
   "outputs": [
    {
     "data": {
      "text/plain": [
       "array([4, 5, 6, 7, 8])"
      ]
     },
     "execution_count": 9,
     "metadata": {},
     "output_type": "execute_result"
    }
   ],
   "source": [
    "# This array doesn't contain 9\n",
    "# because np.arange stops *before* the stop value is reached\n",
    "np.arange(4, 9, 1)"
   ]
  },
  {
   "cell_type": "markdown",
   "metadata": {},
   "source": [
    "**Question 1.1.3.** Create an array with the multiples of 34 from 0 up to (**and including**) 3434.  (So its elements are 0, 34, 68, 102, etc.)\n",
    "\n",
    "<!--\n",
    "BEGIN QUESTION\n",
    "name: q113\n",
    "-->"
   ]
  },
  {
   "cell_type": "code",
   "execution_count": 11,
   "metadata": {},
   "outputs": [
    {
     "data": {
      "text/plain": [
       "array([   0,   34,   68,  102,  136,  170,  204,  238,  272,  306,  340,\n",
       "        374,  408,  442,  476,  510,  544,  578,  612,  646,  680,  714,\n",
       "        748,  782,  816,  850,  884,  918,  952,  986, 1020, 1054, 1088,\n",
       "       1122, 1156, 1190, 1224, 1258, 1292, 1326, 1360, 1394, 1428, 1462,\n",
       "       1496, 1530, 1564, 1598, 1632, 1666, 1700, 1734, 1768, 1802, 1836,\n",
       "       1870, 1904, 1938, 1972, 2006, 2040, 2074, 2108, 2142, 2176, 2210,\n",
       "       2244, 2278, 2312, 2346, 2380, 2414, 2448, 2482, 2516, 2550, 2584,\n",
       "       2618, 2652, 2686, 2720, 2754, 2788, 2822, 2856, 2890, 2924, 2958,\n",
       "       2992, 3026, 3060, 3094, 3128, 3162, 3196, 3230, 3264, 3298, 3332,\n",
       "       3366, 3400, 3434])"
      ]
     },
     "execution_count": 11,
     "metadata": {},
     "output_type": "execute_result"
    }
   ],
   "source": [
    "multiples_of_34 = np.arange(0, 3435, 34)\n",
    "multiples_of_34"
   ]
  },
  {
   "cell_type": "markdown",
   "metadata": {},
   "source": [
    "##### Temperature readings\n",
    "NOAA (the US National Oceanic and Atmospheric Administration) operates weather stations that measure surface temperatures at different sites around the United States.  The hourly readings are [publicly available](http://www.ncdc.noaa.gov/qclcd/QCLCD?prior=N).\n",
    "\n",
    "Suppose we download all the hourly data from the Raleigh-Durham International Airport site for the semester, from August 15, 2022 to December 9, 2022.  To analyze the data, we want to know when each reading was taken, but we find that the data do not include the timestamps of the readings (the time at which each one was taken).\n",
    "\n",
    "However, we know the first reading was taken at the first instant of August 15th 2022 (midnight on August 15th) and each subsequent reading was taken exactly 1 hour after the last.\n",
    "\n",
    "**Question 1.1.4.** Create an array of the *time, in seconds, since the start of the August 15th, and ending before the start of December 10th* at which each hourly reading was taken.  Name it `collection_times`.\n",
    "\n",
    "*Hint 1:* How many days are in each month? There are 30 days in September, which is equivalent to ($30 \\times 24$) hours or ($30 \\times 24 \\times 60 \\times 60$) seconds.\n",
    "\n",
    "<!--\n",
    "BEGIN QUESTION\n",
    "name: q114\n",
    "-->"
   ]
  },
  {
   "cell_type": "code",
   "execution_count": 8,
   "metadata": {},
   "outputs": [
    {
     "data": {
      "text/plain": [
       "array([       0,     3600,     7200, ..., 10098000, 10101600, 10105200])"
      ]
     },
     "execution_count": 8,
     "metadata": {},
     "output_type": "execute_result"
    }
   ],
   "source": [
    "collection_times = np.arange(0, 3600*24*(17+30+31+30+9), 3600)\n",
    "collection_times"
   ]
  },
  {
   "cell_type": "markdown",
   "metadata": {},
   "source": [
    "## 1.2. Working with single elements of arrays (\"indexing\")\n",
    "Let's work with a more interesting dataset.  The next cell creates an array called `NCpop` that includes estimated North Carolina populations in every year from 1900 to roughly the present. The estimates come from the [FRED Economic Data](https://fred.stlouisfed.org/series/NCPOP).\n"
   ]
  },
  {
   "cell_type": "code",
   "execution_count": 9,
   "metadata": {},
   "outputs": [
    {
     "data": {
      "text/plain": [
       "array([ 1897000,  1926000,  1956000,  1986000,  2017000,  2051000,\n",
       "        2077000,  2105000,  2142000,  2174000,  2221000,  2276000,\n",
       "        2313000,  2362000,  2421000,  2473000,  2513000,  2546000,\n",
       "        2522000,  2535000,  2588000,  2651000,  2700000,  2761000,\n",
       "        2830000,  2895000,  2959000,  3027000,  3082000,  3133000,\n",
       "        3167000,  3184000,  3227000,  3268000,  3304000,  3323000,\n",
       "        3346000,  3385000,  3440000,  3514000,  3574000,  3589000,\n",
       "        3569000,  3654000,  3560000,  3533000,  3706000,  3769000,\n",
       "        3837000,  3911000,  4068000,  4120000,  4109000,  4120000,\n",
       "        4131000,  4242000,  4309000,  4368000,  4376000,  4458000,\n",
       "        4573000,  4663000,  4707000,  4742000,  4802000,  4863000,\n",
       "        4896000,  4952000,  5004000,  5031000,  5084411,  5203531,\n",
       "        5301150,  5389852,  5470911,  5547188,  5607964,  5685607,\n",
       "        5759492,  5823491,  5898980,  5956653,  6019101,  6077056,\n",
       "        6164006,  6253954,  6321578,  6403700,  6480594,  6565459,\n",
       "        6656987,  6748135,  6831850,  6947412,  7060959,  7185403,\n",
       "        7307658,  7428672,  7545828,  7650789,  8081614,  8210122,\n",
       "        8326201,  8422501,  8553152,  8705407,  8917270,  9118037,\n",
       "        9309449,  9449566,  9574586,  9658913,  9751810,  9846717,\n",
       "        9937295, 10037218, 10161802, 10275758, 10391358, 10501384,\n",
       "       10457177, 10551162])"
      ]
     },
     "execution_count": 9,
     "metadata": {},
     "output_type": "execute_result"
    }
   ],
   "source": [
    "NCpop = Table.read_table(\"NCpop.csv\").column(\"NCPOP\")\n",
    "NCpop"
   ]
  },
  {
   "cell_type": "markdown",
   "metadata": {},
   "source": [
    "Here's how we get the first element of `NCpop`, which is the world population in the first year in the dataset, 1900."
   ]
  },
  {
   "cell_type": "code",
   "execution_count": 10,
   "metadata": {},
   "outputs": [
    {
     "data": {
      "text/plain": [
       "1897000"
      ]
     },
     "execution_count": 10,
     "metadata": {},
     "output_type": "execute_result"
    }
   ],
   "source": [
    "NCpop.item(0)"
   ]
  },
  {
   "cell_type": "markdown",
   "metadata": {},
   "source": [
    "The value of that expression is the number 1897000 (almost 2 million), because that's the first thing in the array `NCpop`.\n",
    "\n",
    "Notice that we wrote `.item(0)`, not `.item(1)`, to get the first element.  This is a weird convention in computer science.  0 is called the *index* of the first item.  It's the number of elements that appear *before* that item.  So 3 is the index of the 4th item.\n",
    "\n",
    "Here are some more examples.  In the examples, we've given names to the things we get out of `NCpop`.  Read and run each cell."
   ]
  },
  {
   "cell_type": "code",
   "execution_count": 11,
   "metadata": {},
   "outputs": [
    {
     "data": {
      "text/plain": [
       "2313000"
      ]
     },
     "execution_count": 11,
     "metadata": {},
     "output_type": "execute_result"
    }
   ],
   "source": [
    "# The 13th element in the array is the population\n",
    "# in 1912 (which is 1900 + 12).\n",
    "nc_pop_1912 = NCpop.item(12)\n",
    "nc_pop_1912"
   ]
  },
  {
   "cell_type": "code",
   "execution_count": 12,
   "metadata": {},
   "outputs": [
    {
     "data": {
      "text/plain": [
       "4863000"
      ]
     },
     "execution_count": 12,
     "metadata": {},
     "output_type": "execute_result"
    }
   ],
   "source": [
    "# The 66th element is the population in 1965.\n",
    "nc_pop_1965 = NCpop.item(65)\n",
    "nc_pop_1965"
   ]
  },
  {
   "cell_type": "code",
   "execution_count": null,
   "metadata": {},
   "outputs": [],
   "source": [
    "# The array has only 122 elements, so this doesn't work.\n",
    "# (There's no element with 122 other elements before it.)\n",
    "nc_pop_2022 = NCpop.item(122)\n",
    "population_2022"
   ]
  },
  {
   "cell_type": "markdown",
   "metadata": {},
   "source": [
    "Since `make_array` returns an array, we can call `.item(3)` on its output to get its 4th element, just like we \"chained\" together calls to the method `replace` earlier."
   ]
  },
  {
   "cell_type": "code",
   "execution_count": null,
   "metadata": {},
   "outputs": [],
   "source": [
    "make_array(-1, -3, 4, -2).item(3)"
   ]
  },
  {
   "cell_type": "markdown",
   "metadata": {},
   "source": [
    "**Question 2.2.1.** Set `population_1979` to the North Carolina population in 1979, by getting the appropriate element from `NCpop` using `item`.\n",
    "\n",
    "<!--\n",
    "BEGIN QUESTION\n",
    "name: q221\n",
    "-->"
   ]
  },
  {
   "cell_type": "code",
   "execution_count": 14,
   "metadata": {},
   "outputs": [
    {
     "data": {
      "text/plain": [
       "5823491"
      ]
     },
     "execution_count": 14,
     "metadata": {},
     "output_type": "execute_result"
    }
   ],
   "source": [
    "population_1979 = NCpop.item(79)\n",
    "population_1979"
   ]
  },
  {
   "cell_type": "markdown",
   "metadata": {},
   "source": [
    "## 1.3. Doing something to every element of an array\n",
    "Arrays are primarily useful for doing the same operation many times, so we don't often have to use `.item` and work with single elements.\n",
    "\n",
    "##### Logarithms\n",
    "Here is one simple question we might ask about world population:\n",
    "\n",
    "> How big was the population in *orders of magnitude* in each year?\n",
    "\n",
    "Orders of magnitude quantify how big a number is by representing it as the power of another number (for example, representing 104 as $10^{2.017033}$). One way to do this is by using the logarithm function. The logarithm (base 10) of a number increases by 1 every time we multiply the number by 10. It's like a measure of how many decimal digits the number has, or how big it is in orders of magnitude.\n",
    "\n",
    "We could try to answer our question like this, using the `log10` function from the `math` module and the `item` method you just saw:"
   ]
  },
  {
   "cell_type": "code",
   "execution_count": null,
   "metadata": {
    "scrolled": true
   },
   "outputs": [],
   "source": [
    "nc_pop_1900_magnitude = math.log10(NCpop.item(0))\n",
    "nc_pop_1901_magnitude = math.log10(NCpop.item(1))\n",
    "nc_pop_1902_magnitude = math.log10(NCpop.item(2))\n",
    "nc_pop_1903_magnitude = math.log10(NCpop.item(3))\n",
    "..."
   ]
  },
  {
   "cell_type": "markdown",
   "metadata": {},
   "source": [
    "But this is tedious and doesn't really take advantage of the fact that we are using a computer.\n",
    "\n",
    "Instead, NumPy provides its own version of `log10` that takes the logarithm of each element of an array.  It takes a single array of numbers as its argument.  It returns an array of the same length, where the first element of the result is the logarithm of the first element of the argument, and so on.\n",
    "\n",
    "**Question 1.3.1.** Use `np.log10` to compute the logarithms of the North Carolina population in every year.  Give the result (an array of 122 numbers) the name `NCpop_magnitudes`.  Your code should be very short.\n",
    "\n",
    "<!--\n",
    "BEGIN QUESTION\n",
    "name: q131\n",
    "-->"
   ]
  },
  {
   "cell_type": "code",
   "execution_count": 16,
   "metadata": {},
   "outputs": [
    {
     "data": {
      "text/plain": [
       "array([ 6.27806733,  6.28465628,  6.29136885,  6.29797924,  6.3047059 ,\n",
       "        6.31196566,  6.3174365 ,  6.3232521 ,  6.33081947,  6.33725954,\n",
       "        6.34654856,  6.35717226,  6.36417563,  6.37327989,  6.38399479,\n",
       "        6.39322412,  6.40019249,  6.4058584 ,  6.40174508,  6.40397796,\n",
       "        6.41296427,  6.42340973,  6.43136376,  6.44106641,  6.45178644,\n",
       "        6.46164857,  6.47114497,  6.48101242,  6.48883263,  6.49596039,\n",
       "        6.50064806,  6.50297306,  6.50879897,  6.51428205,  6.51904004,\n",
       "        6.52153034,  6.52452594,  6.52955867,  6.53655844,  6.54580176,\n",
       "        6.55315455,  6.55497346,  6.55254655,  6.56276854,  6.55145   ,\n",
       "        6.54814364,  6.56890541,  6.57622614,  6.5839918 ,  6.59228782,\n",
       "        6.60938094,  6.61489722,  6.61373614,  6.61489722,  6.61605519,\n",
       "        6.62757066,  6.63437649,  6.64028263,  6.64107731,  6.64914006,\n",
       "        6.6602012 ,  6.66866542,  6.6727442 ,  6.67596155,  6.68142216,\n",
       "        6.68690427,  6.68984141,  6.69478064,  6.6993173 ,  6.70165432,\n",
       "        6.70624065,  6.71629815,  6.72437009,  6.73157684,  6.73805965,\n",
       "        6.74407288,  6.74880522,  6.75477684,  6.76038418,  6.76518341,\n",
       "        6.77077692,  6.7750023 ,  6.77953163,  6.78369324,  6.78986305,\n",
       "        6.79615468,  6.8008255 ,  6.80643098,  6.81161481,  6.81726509,\n",
       "        6.82327771,  6.82918376,  6.83453832,  6.84182305,  6.84886369,\n",
       "        6.85645113,  6.86377821,  6.87091118,  6.8777069 ,  6.88370622,\n",
       "        6.9074981 ,  6.91434961,  6.92044689,  6.92544107,  6.93212619,\n",
       "        6.93978908,  6.95023192,  6.95990135,  6.96892398,  6.97541186,\n",
       "        6.98112   ,  6.98492825,  6.98908523,  6.99329146,  6.99726818,\n",
       "        7.00161336,  7.00697073,  7.01181387,  7.01667231,  7.02124654,\n",
       "        7.01941446,  7.02330029])"
      ]
     },
     "execution_count": 16,
     "metadata": {},
     "output_type": "execute_result"
    }
   ],
   "source": [
    "NCpop_magnitudes = np.log10(NCpop)\n",
    "NCpop_magnitudes"
   ]
  },
  {
   "cell_type": "markdown",
   "metadata": {},
   "source": [
    "What you just did is called *elementwise* application of `np.log10`, since `np.log10` operates separately on each element of the array that it's called on. Here's a picture of what's going on:"
   ]
  },
  {
   "cell_type": "markdown",
   "metadata": {},
   "source": [
    "<img src=\"lab03-array_logarithm.jpg\">\n",
    "\n",
    "\n",
    "The textbook's [section](https://www.inferentialthinking.com/chapters/05/1/Arrays)  on arrays has a useful list of NumPy functions that are designed to work elementwise, like `np.log10`."
   ]
  },
  {
   "cell_type": "markdown",
   "metadata": {},
   "source": [
    "##### Arithmetic\n",
    "Arithmetic also works elementwise on arrays, meaning that if you perform an arithmetic operation (like subtraction, division, etc) on an array, Python will do the operation to every element of the array individually and return an array of all of the results. For example, you can divide all the population numbers by 1 million to get numbers in millions:"
   ]
  },
  {
   "cell_type": "code",
   "execution_count": null,
   "metadata": {},
   "outputs": [],
   "source": [
    "NCpop_in_millions = NCpop / 1000000\n",
    "NCpop_in_millions"
   ]
  },
  {
   "cell_type": "markdown",
   "metadata": {},
   "source": [
    "You can do the same with addition, subtraction, multiplication, and exponentiation (`**`). For example, you can calculate a tip on several restaurant bills at once (in this case just 3):"
   ]
  },
  {
   "cell_type": "code",
   "execution_count": 6,
   "metadata": {},
   "outputs": [
    {
     "name": "stdout",
     "output_type": "stream",
     "text": [
      "Restaurant bills:\t [ 20.12  39.9   31.01]\n",
      "Tips:\t\t\t [ 4.024  7.98   6.202]\n"
     ]
    }
   ],
   "source": [
    "restaurant_bills = make_array(20.12, 39.90, 31.01)\n",
    "print(\"Restaurant bills:\\t\", restaurant_bills)\n",
    "\n",
    "# Array multiplication\n",
    "tips = .2 * restaurant_bills\n",
    "print(\"Tips:\\t\\t\\t\", tips)"
   ]
  },
  {
   "cell_type": "markdown",
   "metadata": {},
   "source": [
    "<img src=\"lab03-array_multiplication.jpg\">\n",
    "\n",
    "**Question 1.3.2.** Suppose the total charge at a restaurant is the original bill plus the tip. If the tip is 20%, that means we can multiply the original bill by 1.2 to get the total charge.  Compute the total charge for each bill in `restaurant_bills`, and assign the resulting array to `total_charges`.\n",
    "\n",
    "<!--\n",
    "BEGIN QUESTION\n",
    "name: q532\n",
    "-->"
   ]
  },
  {
   "cell_type": "code",
   "execution_count": 7,
   "metadata": {},
   "outputs": [
    {
     "data": {
      "text/plain": [
       "array([ 24.144,  47.88 ,  37.212])"
      ]
     },
     "execution_count": 7,
     "metadata": {},
     "output_type": "execute_result"
    }
   ],
   "source": [
    "total_charges = 1.2 * restaurant_bills\n",
    "total_charges"
   ]
  },
  {
   "cell_type": "markdown",
   "metadata": {},
   "source": [
    "**Question 1.3.3.** The array `more_restaurant_bills_array` contains 100,000 bills!  Compute the total charge for each one.  How is your code different?\n",
    "\n",
    "<!--\n",
    "BEGIN QUESTION\n",
    "name: q133\n",
    "-->"
   ]
  },
  {
   "cell_type": "code",
   "execution_count": 4,
   "metadata": {},
   "outputs": [
    {
     "data": {
      "text/plain": [
       "array([ 20.244,  20.892,  12.216, ...,  19.308,  18.336,  35.664])"
      ]
     },
     "execution_count": 4,
     "metadata": {},
     "output_type": "execute_result"
    }
   ],
   "source": [
    "more_restaurant_bills_array = Table.read_table(\"more_restaurant_bills.csv\").column(\"Bill\")\n",
    "more_total_charges = more_restaurant_bills_array * 1.2\n",
    "more_total_charges"
   ]
  },
  {
   "cell_type": "markdown",
   "metadata": {},
   "source": [
    "The function `sum` takes a single array of numbers as its argument.  It returns the sum of all the numbers in that array (so it returns a single number, not an array).\n",
    "\n",
    "**Question 1.3.4.** What was the sum of all the bills in `more_restaurant_bills_array`, *including tips*? Round your answer to the nearest cent.\n",
    "\n",
    "<!--\n",
    "BEGIN QUESTION\n",
    "name: q134\n",
    "-->"
   ]
  },
  {
   "cell_type": "code",
   "execution_count": 9,
   "metadata": {},
   "outputs": [
    {
     "data": {
      "text/plain": [
       "1795730.0600000001"
      ]
     },
     "execution_count": 9,
     "metadata": {},
     "output_type": "execute_result"
    }
   ],
   "source": [
    "sum_of_bills = np.round(sum(more_total_charges), 2)\n",
    "sum_of_bills"
   ]
  },
  {
   "cell_type": "markdown",
   "metadata": {},
   "source": [
    "## 2. Creating Tables\n",
    "\n",
    "An array is useful for describing a single attribute of each element in a collection. For example, let's say our collection is all US States. Then an array could describe the land area of each state. \n",
    "\n",
    "Tables extend this idea by containing multiple arrays, each one describing a different attribute for every element of a collection. In this way, tables allow us to not only store data about many entities but to also contain several kinds of data about each entity.\n",
    "\n",
    "For example, in the cell below we have two arrays. The first one, `NCpop`, was defined above in section 2.2 and contains the North Carolina population in each year. The second array, `years`, contains the years themselves. These elements are in order, so the year and the North Carolina population for that year have the same index in their corresponding arrays."
   ]
  },
  {
   "cell_type": "code",
   "execution_count": 23,
   "metadata": {},
   "outputs": [
    {
     "name": "stdout",
     "output_type": "stream",
     "text": [
      "Population column: [ 1897000  1926000  1956000  1986000  2017000  2051000  2077000  2105000\n",
      "  2142000  2174000  2221000  2276000  2313000  2362000  2421000  2473000\n",
      "  2513000  2546000  2522000  2535000  2588000  2651000  2700000  2761000\n",
      "  2830000  2895000  2959000  3027000  3082000  3133000  3167000  3184000\n",
      "  3227000  3268000  3304000  3323000  3346000  3385000  3440000  3514000\n",
      "  3574000  3589000  3569000  3654000  3560000  3533000  3706000  3769000\n",
      "  3837000  3911000  4068000  4120000  4109000  4120000  4131000  4242000\n",
      "  4309000  4368000  4376000  4458000  4573000  4663000  4707000  4742000\n",
      "  4802000  4863000  4896000  4952000  5004000  5031000  5084411  5203531\n",
      "  5301150  5389852  5470911  5547188  5607964  5685607  5759492  5823491\n",
      "  5898980  5956653  6019101  6077056  6164006  6253954  6321578  6403700\n",
      "  6480594  6565459  6656987  6748135  6831850  6947412  7060959  7185403\n",
      "  7307658  7428672  7545828  7650789  8081614  8210122  8326201  8422501\n",
      "  8553152  8705407  8917270  9118037  9309449  9449566  9574586  9658913\n",
      "  9751810  9846717  9937295 10037218 10161802 10275758 10391358 10501384\n",
      " 10457177 10551162]\n",
      "Years column: [1900 1901 1902 1903 1904 1905 1906 1907 1908 1909 1910 1911 1912 1913 1914\n",
      " 1915 1916 1917 1918 1919 1920 1921 1922 1923 1924 1925 1926 1927 1928 1929\n",
      " 1930 1931 1932 1933 1934 1935 1936 1937 1938 1939 1940 1941 1942 1943 1944\n",
      " 1945 1946 1947 1948 1949 1950 1951 1952 1953 1954 1955 1956 1957 1958 1959\n",
      " 1960 1961 1962 1963 1964 1965 1966 1967 1968 1969 1970 1971 1972 1973 1974\n",
      " 1975 1976 1977 1978 1979 1980 1981 1982 1983 1984 1985 1986 1987 1988 1989\n",
      " 1990 1991 1992 1993 1994 1995 1996 1997 1998 1999 2000 2001 2002 2003 2004\n",
      " 2005 2006 2007 2008 2009 2010 2011 2012 2013 2014 2015 2016 2017 2018 2019\n",
      " 2020 2021]\n"
     ]
    }
   ],
   "source": [
    "# Just run this cell\n",
    "\n",
    "years = np.arange(1900, 2021+1)\n",
    "print(\"Population column:\", NCpop)\n",
    "print(\"Years column:\", years)"
   ]
  },
  {
   "cell_type": "markdown",
   "metadata": {},
   "source": [
    "Suppose we want to answer this question:\n",
    "\n",
    "> In which year did the North Carolina's population cross 5 million?\n",
    "\n",
    "You could technically answer this question by importing and viewing the full NCpop table that includes the years, or just from staring at the arrays and counting the position where the population first crossed 5 million. We won't do that since we want how to learn to do these things when those methods may not be available. \n",
    "\n",
    "The expression below:\n",
    "\n",
    "- creates an empty table using the expression `Table()`,\n",
    "- adds two columns by calling `with_columns` with four arguments,\n",
    "- assigns the result to the name `population`, and finally\n",
    "- evaluates `population` so that we can see the table.\n",
    "\n",
    "The strings `\"Year\"` and `\"Population\"` are column labels that we have chosen. The names `NCpop` and `years` were assigned above to two arrays of the **same length**. The function `with_columns` takes in alternating strings (to represent column labels) and arrays (representing the data in those columns). The strings and arrays are separated by commas."
   ]
  },
  {
   "cell_type": "code",
   "execution_count": 24,
   "metadata": {},
   "outputs": [
    {
     "data": {
      "text/html": [
       "<table border=\"1\" class=\"dataframe\">\n",
       "    <thead>\n",
       "        <tr>\n",
       "            <th>Population</th> <th>Year</th>\n",
       "        </tr>\n",
       "    </thead>\n",
       "    <tbody>\n",
       "        <tr>\n",
       "            <td>1897000   </td> <td>1900</td>\n",
       "        </tr>\n",
       "        <tr>\n",
       "            <td>1926000   </td> <td>1901</td>\n",
       "        </tr>\n",
       "        <tr>\n",
       "            <td>1956000   </td> <td>1902</td>\n",
       "        </tr>\n",
       "        <tr>\n",
       "            <td>1986000   </td> <td>1903</td>\n",
       "        </tr>\n",
       "        <tr>\n",
       "            <td>2017000   </td> <td>1904</td>\n",
       "        </tr>\n",
       "        <tr>\n",
       "            <td>2051000   </td> <td>1905</td>\n",
       "        </tr>\n",
       "        <tr>\n",
       "            <td>2077000   </td> <td>1906</td>\n",
       "        </tr>\n",
       "        <tr>\n",
       "            <td>2105000   </td> <td>1907</td>\n",
       "        </tr>\n",
       "        <tr>\n",
       "            <td>2142000   </td> <td>1908</td>\n",
       "        </tr>\n",
       "        <tr>\n",
       "            <td>2174000   </td> <td>1909</td>\n",
       "        </tr>\n",
       "    </tbody>\n",
       "</table>\n",
       "<p>... (112 rows omitted)</p>"
      ],
      "text/plain": [
       "Population | Year\n",
       "1897000    | 1900\n",
       "1926000    | 1901\n",
       "1956000    | 1902\n",
       "1986000    | 1903\n",
       "2017000    | 1904\n",
       "2051000    | 1905\n",
       "2077000    | 1906\n",
       "2105000    | 1907\n",
       "2142000    | 1908\n",
       "2174000    | 1909\n",
       "... (112 rows omitted)"
      ]
     },
     "execution_count": 24,
     "metadata": {},
     "output_type": "execute_result"
    }
   ],
   "source": [
    "population = Table().with_columns(\n",
    "    \"Population\", NCpop,\n",
    "    \"Year\", years\n",
    ")\n",
    "population"
   ]
  },
  {
   "cell_type": "markdown",
   "metadata": {},
   "source": [
    "Now the data is combined into a single table! It's much easier to parse this data. If you need to know what the population was in 1959, for example, you can tell from a single glance."
   ]
  },
  {
   "cell_type": "markdown",
   "metadata": {
    "tags": []
   },
   "source": [
    "## 3. More Table Operations!\n",
    "\n",
    "Now that you've worked with arrays, let's add a few more methods to the list of table operations that you saw in Lab 2. Run the cell below"
   ]
  },
  {
   "cell_type": "code",
   "execution_count": 25,
   "metadata": {},
   "outputs": [
    {
     "data": {
      "text/html": [
       "<table border=\"1\" class=\"dataframe\">\n",
       "    <thead>\n",
       "        <tr>\n",
       "            <th>Bill</th>\n",
       "        </tr>\n",
       "    </thead>\n",
       "    <tbody>\n",
       "        <tr>\n",
       "            <td>16.87</td>\n",
       "        </tr>\n",
       "        <tr>\n",
       "            <td>17.41</td>\n",
       "        </tr>\n",
       "        <tr>\n",
       "            <td>10.18</td>\n",
       "        </tr>\n",
       "        <tr>\n",
       "            <td>9.84 </td>\n",
       "        </tr>\n",
       "        <tr>\n",
       "            <td>18.44</td>\n",
       "        </tr>\n",
       "        <tr>\n",
       "            <td>8.99 </td>\n",
       "        </tr>\n",
       "        <tr>\n",
       "            <td>39.72</td>\n",
       "        </tr>\n",
       "        <tr>\n",
       "            <td>3.55 </td>\n",
       "        </tr>\n",
       "        <tr>\n",
       "            <td>4.65 </td>\n",
       "        </tr>\n",
       "        <tr>\n",
       "            <td>5.61 </td>\n",
       "        </tr>\n",
       "    </tbody>\n",
       "</table>\n",
       "<p>... (99990 rows omitted)</p>"
      ],
      "text/plain": [
       "Bill\n",
       "16.87\n",
       "17.41\n",
       "10.18\n",
       "9.84\n",
       "18.44\n",
       "8.99\n",
       "39.72\n",
       "3.55\n",
       "4.65\n",
       "5.61\n",
       "... (99990 rows omitted)"
      ]
     },
     "execution_count": 25,
     "metadata": {},
     "output_type": "execute_result"
    }
   ],
   "source": [
    "# Returns a table of the amount of restaurant bills\n",
    "more_restaurant_bills = Table.read_table(\"more_restaurant_bills.csv\")\n",
    "more_restaurant_bills"
   ]
  },
  {
   "cell_type": "markdown",
   "metadata": {},
   "source": [
    "### `column`\n",
    "\n",
    "`column` takes the column name of a table (in string format) as its argument and returns the values in that column as an **array**.  Run the cell below."
   ]
  },
  {
   "cell_type": "code",
   "execution_count": 26,
   "metadata": {
    "scrolled": true
   },
   "outputs": [
    {
     "data": {
      "text/plain": [
       "array([ 16.87,  17.41,  10.18, ...,  16.09,  15.28,  29.72])"
      ]
     },
     "execution_count": 26,
     "metadata": {},
     "output_type": "execute_result"
    }
   ],
   "source": [
    "# Returns an array of the amount of restaurant bills\n",
    "more_restaurant_bills.column('Bill')"
   ]
  },
  {
   "cell_type": "markdown",
   "metadata": {},
   "source": [
    "Note that both the array above and the table `more_restaurant_bills` only have data for one variable, but their structures are different. Many functions that we will use expect the data to be in either an array format or a table format, but can not handle both."
   ]
  },
  {
   "cell_type": "markdown",
   "metadata": {},
   "source": [
    "### `take`\n",
    "The table method `take` takes as its argument an array of numbers.  Each number should be the index of a row in the table.  It returns a **new table** with only those rows. \n",
    "\n",
    "You'll usually want to use `take` in conjunction with `np.arange` to take the first few rows of a table."
   ]
  },
  {
   "cell_type": "code",
   "execution_count": 27,
   "metadata": {
    "scrolled": true
   },
   "outputs": [
    {
     "data": {
      "text/html": [
       "<table border=\"1\" class=\"dataframe\">\n",
       "    <thead>\n",
       "        <tr>\n",
       "            <th>Bill</th>\n",
       "        </tr>\n",
       "    </thead>\n",
       "    <tbody>\n",
       "        <tr>\n",
       "            <td>16.87</td>\n",
       "        </tr>\n",
       "        <tr>\n",
       "            <td>17.41</td>\n",
       "        </tr>\n",
       "        <tr>\n",
       "            <td>10.18</td>\n",
       "        </tr>\n",
       "        <tr>\n",
       "            <td>9.84 </td>\n",
       "        </tr>\n",
       "        <tr>\n",
       "            <td>18.44</td>\n",
       "        </tr>\n",
       "        <tr>\n",
       "            <td>8.99 </td>\n",
       "        </tr>\n",
       "        <tr>\n",
       "            <td>39.72</td>\n",
       "        </tr>\n",
       "        <tr>\n",
       "            <td>3.55 </td>\n",
       "        </tr>\n",
       "        <tr>\n",
       "            <td>4.65 </td>\n",
       "        </tr>\n",
       "        <tr>\n",
       "            <td>5.61 </td>\n",
       "        </tr>\n",
       "    </tbody>\n",
       "</table>\n",
       "<p>... (90 rows omitted)</p>"
      ],
      "text/plain": [
       "Bill\n",
       "16.87\n",
       "17.41\n",
       "10.18\n",
       "9.84\n",
       "18.44\n",
       "8.99\n",
       "39.72\n",
       "3.55\n",
       "4.65\n",
       "5.61\n",
       "... (90 rows omitted)"
      ]
     },
     "execution_count": 27,
     "metadata": {},
     "output_type": "execute_result"
    }
   ],
   "source": [
    "# Take first 100 amounts of restaurant bills\n",
    "more_restaurant_bills.take(np.arange(0, 100, 1))"
   ]
  },
  {
   "cell_type": "markdown",
   "metadata": {},
   "source": [
    "The next questions will give you practice with combining the operations you've learned in this lab and the previous one to answer questions about the `population` table. First, check out the `population` table from section 2."
   ]
  },
  {
   "cell_type": "code",
   "execution_count": 28,
   "metadata": {},
   "outputs": [
    {
     "data": {
      "text/html": [
       "<table border=\"1\" class=\"dataframe\">\n",
       "    <thead>\n",
       "        <tr>\n",
       "            <th>Population</th> <th>Year</th>\n",
       "        </tr>\n",
       "    </thead>\n",
       "    <tbody>\n",
       "        <tr>\n",
       "            <td>1897000   </td> <td>1900</td>\n",
       "        </tr>\n",
       "        <tr>\n",
       "            <td>1926000   </td> <td>1901</td>\n",
       "        </tr>\n",
       "        <tr>\n",
       "            <td>1956000   </td> <td>1902</td>\n",
       "        </tr>\n",
       "        <tr>\n",
       "            <td>1986000   </td> <td>1903</td>\n",
       "        </tr>\n",
       "        <tr>\n",
       "            <td>2017000   </td> <td>1904</td>\n",
       "        </tr>\n",
       "        <tr>\n",
       "            <td>2051000   </td> <td>1905</td>\n",
       "        </tr>\n",
       "        <tr>\n",
       "            <td>2077000   </td> <td>1906</td>\n",
       "        </tr>\n",
       "        <tr>\n",
       "            <td>2105000   </td> <td>1907</td>\n",
       "        </tr>\n",
       "        <tr>\n",
       "            <td>2142000   </td> <td>1908</td>\n",
       "        </tr>\n",
       "        <tr>\n",
       "            <td>2174000   </td> <td>1909</td>\n",
       "        </tr>\n",
       "    </tbody>\n",
       "</table>\n",
       "<p>... (112 rows omitted)</p>"
      ],
      "text/plain": [
       "Population | Year\n",
       "1897000    | 1900\n",
       "1926000    | 1901\n",
       "1956000    | 1902\n",
       "1986000    | 1903\n",
       "2017000    | 1904\n",
       "2051000    | 1905\n",
       "2077000    | 1906\n",
       "2105000    | 1907\n",
       "2142000    | 1908\n",
       "2174000    | 1909\n",
       "... (112 rows omitted)"
      ]
     },
     "execution_count": 28,
     "metadata": {},
     "output_type": "execute_result"
    }
   ],
   "source": [
    "# Run this cell to display the population table.\n",
    "population"
   ]
  },
  {
   "cell_type": "markdown",
   "metadata": {},
   "source": [
    "**Question 3.1.** Compute the year when the North Carolina population first went above 5 million. Assign the year to `year_NCpop_crossed_5_million`. \n",
    "<!--\n",
    "BEGIN QUESTION\n",
    "name: q31\n",
    "-->"
   ]
  },
  {
   "cell_type": "code",
   "execution_count": 32,
   "metadata": {},
   "outputs": [
    {
     "data": {
      "text/plain": [
       "1968"
      ]
     },
     "execution_count": 32,
     "metadata": {},
     "output_type": "execute_result"
    }
   ],
   "source": [
    "year_NCpop_crossed_5_million = ((population.where(\"Population\", are.above(5000000))).column(\"Year\")).item(0)\n",
    "year_NCpop_crossed_5_million"
   ]
  },
  {
   "cell_type": "markdown",
   "metadata": {},
   "source": [
    "**Question 3.2.** Find the average yearly change in North Carolina's population for 1980's (years from 1980 and 1990 (inclusive)) and the average yearly change in North Carolina population for 2010's (years from 2010 and 2020 (inclusive)). You should round to the nearest whole number.\n",
    "\n",
    "*Hint*: Think of the steps you need to do and try to put them in an order that makes sense.\n",
    "\n",
    "*Hint*: In a previous assignment you used a function that calculated the differences between adjacent values in an array\n",
    "\n",
    "<!--\n",
    "BEGIN QUESTION\n",
    "name: q42\n",
    "-->"
   ]
  },
  {
   "cell_type": "code",
   "execution_count": 35,
   "metadata": {},
   "outputs": [
    {
     "name": "stdout",
     "output_type": "stream",
     "text": [
      "Average yearly change in North Carolina's population for the 1980's: 6254369\n",
      "Average yearly change in North Carolina's population for the 2010's 10054001\n"
     ]
    }
   ],
   "source": [
    "between_1980_and_1990 = int(sum(((population.where(\"Year\", are.above_or_equal_to(1980))).where(\"Year\", are.below(1991))).column(\"Population\")) / 11)\n",
    "between_2010_and_2020 = int(sum(((population.where(\"Year\", are.above_or_equal_to(2010))).where(\"Year\", are.below(2021))).column(\"Population\")) / 11)\n",
    "print(\"Average yearly change in North Carolina's population for the 1980's:\", between_1980_and_1990)\n",
    "print(\"Average yearly change in North Carolina's population for the 2010's\", between_2010_and_2020)"
   ]
  },
  {
   "cell_type": "markdown",
   "metadata": {},
   "source": [
    "## 4. Visualizations\n",
    "\n",
    "Tables are a powerful way of organizing and visualizing data. However, large tables of numbers can be difficult to interpret, no matter how organized they are. Sometimes it is much easier to interpret graphs than numbers. Next you will use some fundamental graphical methods of data analysis to view the data from tables in a different way."
   ]
  },
  {
   "cell_type": "markdown",
   "metadata": {},
   "source": [
    "**Question 4.1.** Line plots, sometimes known as line graphs, are among the most common visualizations. They are often used to study chronological trends and patterns. Construct a line plot using the `population` table to plot the North Carolina population over time. Plot `Year` on the horizontal axis and `Population` on the vertical axis."
   ]
  },
  {
   "cell_type": "code",
   "execution_count": 36,
   "metadata": {},
   "outputs": [
    {
     "data": {
      "image/png": "[encoded data removed]",
      "text/plain": [
       "<Figure size 600x600 with 1 Axes>"
      ]
     },
     "metadata": {},
     "output_type": "display_data"
    }
   ],
   "source": [
    "population.plot(\"Year\", \"Population\")"
   ]
  },
  {
   "cell_type": "markdown",
   "metadata": {},
   "source": [
    "Run the cell below to load the table `primary_results`. This table has the votes for each candidate or ballot choice in every contest held in North Carolina in the May 8, 2018 elections."
   ]
  },
  {
   "cell_type": "code",
   "execution_count": 37,
   "metadata": {},
   "outputs": [
    {
     "data": {
      "text/html": [
       "<table border=\"1\" class=\"dataframe\">\n",
       "    <thead>\n",
       "        <tr>\n",
       "            <th>contest_name</th> <th>choice</th> <th>sum_total_votes</th>\n",
       "        </tr>\n",
       "    </thead>\n",
       "    <tbody>\n",
       "        <tr>\n",
       "            <td>ALAMANCE COUNTY BOARD OF COMMISSIONERS (DEM)</td> <td>Harold Dean Bowling </td> <td>1073           </td>\n",
       "        </tr>\n",
       "        <tr>\n",
       "            <td>ALAMANCE COUNTY BOARD OF COMMISSIONERS (DEM)</td> <td>Kristen Powers      </td> <td>4159           </td>\n",
       "        </tr>\n",
       "        <tr>\n",
       "            <td>ALAMANCE COUNTY BOARD OF COMMISSIONERS (DEM)</td> <td>Robert E. (Bob) Byrd</td> <td>3842           </td>\n",
       "        </tr>\n",
       "        <tr>\n",
       "            <td>ALAMANCE COUNTY BOARD OF COMMISSIONERS (REP)</td> <td>Amy Scott Galey     </td> <td>5272           </td>\n",
       "        </tr>\n",
       "        <tr>\n",
       "            <td>ALAMANCE COUNTY BOARD OF COMMISSIONERS (REP)</td> <td>Robert L. Simpson   </td> <td>3756           </td>\n",
       "        </tr>\n",
       "    </tbody>\n",
       "</table>\n",
       "<p>... (1199 rows omitted)</p>"
      ],
      "text/plain": [
       "<IPython.core.display.HTML object>"
      ]
     },
     "metadata": {},
     "output_type": "display_data"
    }
   ],
   "source": [
    "primary_results = Table.read_table('primary_results.csv')\n",
    "primary_results.show(5)"
   ]
  },
  {
   "cell_type": "markdown",
   "metadata": {},
   "source": [
    "**Question 4.2.** Construct a table `OCBOE` containing only the rows for the `contest_name` of `ORANGE COUNTY BOARD OF EDUCATION` and containing only the columns of `choice` and `sum_total_votes`. The table should be sorted in decreasing order by `sum_total_votes`."
   ]
  },
  {
   "cell_type": "code",
   "execution_count": 38,
   "metadata": {},
   "outputs": [
    {
     "data": {
      "text/html": [
       "<table border=\"1\" class=\"dataframe\">\n",
       "    <thead>\n",
       "        <tr>\n",
       "            <th>contest_name</th> <th>choice</th> <th>sum_total_votes</th>\n",
       "        </tr>\n",
       "    </thead>\n",
       "    <tbody>\n",
       "        <tr>\n",
       "            <td>ORANGE COUNTY BOARD OF EDUCATION</td> <td>Brenda Stephens         </td> <td>6114           </td>\n",
       "        </tr>\n",
       "        <tr>\n",
       "            <td>ORANGE COUNTY BOARD OF EDUCATION</td> <td>Sarah Smylie            </td> <td>5439           </td>\n",
       "        </tr>\n",
       "        <tr>\n",
       "            <td>ORANGE COUNTY BOARD OF EDUCATION</td> <td>Hillary MacKenzie       </td> <td>5163           </td>\n",
       "        </tr>\n",
       "        <tr>\n",
       "            <td>ORANGE COUNTY BOARD OF EDUCATION</td> <td>Will Atherton           </td> <td>4810           </td>\n",
       "        </tr>\n",
       "        <tr>\n",
       "            <td>ORANGE COUNTY BOARD OF EDUCATION</td> <td>Jessica Aguilar         </td> <td>1653           </td>\n",
       "        </tr>\n",
       "        <tr>\n",
       "            <td>ORANGE COUNTY BOARD OF EDUCATION</td> <td>Mike O'Hagerty          </td> <td>966            </td>\n",
       "        </tr>\n",
       "        <tr>\n",
       "            <td>ORANGE COUNTY BOARD OF EDUCATION</td> <td>James Needham           </td> <td>935            </td>\n",
       "        </tr>\n",
       "        <tr>\n",
       "            <td>ORANGE COUNTY BOARD OF EDUCATION</td> <td>Hawkeye Aguilar         </td> <td>796            </td>\n",
       "        </tr>\n",
       "        <tr>\n",
       "            <td>ORANGE COUNTY BOARD OF EDUCATION</td> <td>Write-In (Miscellaneous)</td> <td>109            </td>\n",
       "        </tr>\n",
       "        <tr>\n",
       "            <td>ORANGE COUNTY BOARD OF EDUCATION</td> <td>Lisa Knapp (Write-In)   </td> <td>13             </td>\n",
       "        </tr>\n",
       "    </tbody>\n",
       "</table>\n",
       "<p>... (1 rows omitted)</p>"
      ],
      "text/plain": [
       "contest_name                     | choice                   | sum_total_votes\n",
       "ORANGE COUNTY BOARD OF EDUCATION | Brenda Stephens          | 6114\n",
       "ORANGE COUNTY BOARD OF EDUCATION | Sarah Smylie             | 5439\n",
       "ORANGE COUNTY BOARD OF EDUCATION | Hillary MacKenzie        | 5163\n",
       "ORANGE COUNTY BOARD OF EDUCATION | Will Atherton            | 4810\n",
       "ORANGE COUNTY BOARD OF EDUCATION | Jessica Aguilar          | 1653\n",
       "ORANGE COUNTY BOARD OF EDUCATION | Mike O'Hagerty           | 966\n",
       "ORANGE COUNTY BOARD OF EDUCATION | James Needham            | 935\n",
       "ORANGE COUNTY BOARD OF EDUCATION | Hawkeye Aguilar          | 796\n",
       "ORANGE COUNTY BOARD OF EDUCATION | Write-In (Miscellaneous) | 109\n",
       "ORANGE COUNTY BOARD OF EDUCATION | Lisa Knapp (Write-In)    | 13\n",
       "... (1 rows omitted)"
      ]
     },
     "execution_count": 38,
     "metadata": {},
     "output_type": "execute_result"
    }
   ],
   "source": [
    "OCBOE = primary_results.where(\"contest_name\", are.equal_to(\"ORANGE COUNTY BOARD OF EDUCATION\")).sort(\"sum_total_votes\", descending = True)\n",
    "OCBOE"
   ]
  },
  {
   "cell_type": "markdown",
   "metadata": {},
   "source": [
    "**Question 4.3.** Construct a barplot for the number of votes for each of the candidates in the `OCBOE` table."
   ]
  },
  {
   "cell_type": "code",
   "execution_count": 40,
   "metadata": {},
   "outputs": [
    {
     "data": {
      "image/png": "[encoded data removed]",
      "text/plain": [
       "<Figure size 600x550 with 1 Axes>"
      ]
     },
     "metadata": {},
     "output_type": "display_data"
    }
   ],
   "source": [
    "OCBOE.barh(\"choice\", \"sum_total_votes\")"
   ]
  },
  {
   "cell_type": "markdown",
   "metadata": {},
   "source": [
    "Run the cell below to load the `Local_Air_Quality` table. This dataset contains air quality data collected using a PurpleAir Dual Laser Air Quality Sensor located at the Chapel Hill Public Library, as well as data on other variables such as temperature in Fahrenheit."
   ]
  },
  {
   "cell_type": "code",
   "execution_count": 41,
   "metadata": {},
   "outputs": [
    {
     "data": {
      "text/html": [
       "<table border=\"1\" class=\"dataframe\">\n",
       "    <thead>\n",
       "        <tr>\n",
       "            <th>X</th> <th>Y</th> <th>Last_Check</th> <th>Current_Particulate_Matter_2_5</th> <th>PM_2_5_10_Minute_Avg</th> <th>PM_2_5_30_Minute_Avg</th> <th>PM_2_5_1_Hour_Avg</th> <th>PM_2_5_6_Hour_Avg</th> <th>PM_2_5_24_Hour_Avg</th> <th>PM_2_5_One_Week_Avg</th> <th>Temp_F</th> <th>Humidity</th> <th>Pressure__mbar</th> <th>Site_Label</th> <th>Inside_Outside</th> <th>Latitude</th> <th>Longitude</th> <th>Uptime_Seconds</th> <th>RSSI_WiFi_signal_strength_dBm</th> <th>Hardware_Issues</th> <th>Age_of_Data_at_Check_minutes</th> <th>ObjectId</th>\n",
       "        </tr>\n",
       "    </thead>\n",
       "    <tbody>\n",
       "        <tr>\n",
       "            <td>-79.0357</td> <td>35.9325</td> <td>2018/09/27 19:48:03+00</td> <td>22.48                         </td> <td>22.05               </td> <td>18.33               </td> <td>15.5             </td> <td>10.25            </td> <td>11.44             </td> <td>13.81              </td> <td>88    </td> <td>59      </td> <td>1002.78       </td> <td>Chapel Hill Public Library</td> <td>outside       </td> <td>35.9325 </td> <td>-79.0357 </td> <td>3060          </td> <td>-84                          </td> <td>nan            </td> <td>1                           </td> <td>1       </td>\n",
       "        </tr>\n",
       "        <tr>\n",
       "            <td>-79.0357</td> <td>35.9325</td> <td>2018/09/27 19:59:52+00</td> <td>23                            </td> <td>22.47               </td> <td>19.2                </td> <td>16.24            </td> <td>10.46            </td> <td>11.49             </td> <td>13.82              </td> <td>88    </td> <td>58      </td> <td>1003.02       </td> <td>Chapel Hill Public Library</td> <td>outside       </td> <td>35.9325 </td> <td>-79.0357 </td> <td>3770          </td> <td>-84                          </td> <td>nan            </td> <td>0                           </td> <td>2       </td>\n",
       "        </tr>\n",
       "        <tr>\n",
       "            <td>-79.0357</td> <td>35.9325</td> <td>2018/10/02 14:43:38+00</td> <td>9.32                          </td> <td>10.53               </td> <td>13.64               </td> <td>15.65            </td> <td>18.14            </td> <td>14.53             </td> <td>12.89              </td> <td>86    </td> <td>55      </td> <td>1011.93       </td> <td>Chapel Hill Public Library</td> <td>outside       </td> <td>35.9325 </td> <td>-79.0357 </td> <td>7123          </td> <td>-92                          </td> <td>nan            </td> <td>0                           </td> <td>3       </td>\n",
       "        </tr>\n",
       "        <tr>\n",
       "            <td>-79.0357</td> <td>35.9325</td> <td>2018/10/02 14:43:38+00</td> <td>9.32                          </td> <td>10.53               </td> <td>13.64               </td> <td>15.65            </td> <td>18.14            </td> <td>14.53             </td> <td>12.89              </td> <td>86    </td> <td>55      </td> <td>1011.93       </td> <td>Chapel Hill Public Library</td> <td>outside       </td> <td>35.9325 </td> <td>-79.0357 </td> <td>7123          </td> <td>-92                          </td> <td>nan            </td> <td>0                           </td> <td>4       </td>\n",
       "        </tr>\n",
       "        <tr>\n",
       "            <td>-79.0357</td> <td>35.9325</td> <td>2018/10/02 14:59:23+00</td> <td>8                             </td> <td>9.25                </td> <td>12.58               </td> <td>14.91            </td> <td>17.97            </td> <td>14.51             </td> <td>12.89              </td> <td>86    </td> <td>54      </td> <td>1011.81       </td> <td>Chapel Hill Public Library</td> <td>outside       </td> <td>35.9325 </td> <td>-79.0357 </td> <td>100           </td> <td>-86                          </td> <td>nan            </td> <td>0                           </td> <td>5       </td>\n",
       "        </tr>\n",
       "    </tbody>\n",
       "</table>\n",
       "<p>... (12484 rows omitted)</p>"
      ],
      "text/plain": [
       "<IPython.core.display.HTML object>"
      ]
     },
     "metadata": {},
     "output_type": "display_data"
    }
   ],
   "source": [
    "Local_Air_Quality = Table.read_table(\"Local_Air_Quality.csv\")\n",
    "Local_Air_Quality.show(5)"
   ]
  },
  {
   "cell_type": "markdown",
   "metadata": {},
   "source": [
    "**Question 4.4.** Construct a scatterplot with the variable `Humidity` on the horizontal axis and `Pressure__mbar` on the vertical axis. Note that there are two underscores in the name `Pressure__mbar`"
   ]
  },
  {
   "cell_type": "code",
   "execution_count": 42,
   "metadata": {},
   "outputs": [
    {
     "data": {
      "image/png": "[encoded data removed]",
      "text/plain": [
       "<Figure size 500x500 with 1 Axes>"
      ]
     },
     "metadata": {},
     "output_type": "display_data"
    }
   ],
   "source": [
    "Local_Air_Quality.scatter(\"Humidity\", \"Pressure__mbar\")"
   ]
  },
  {
   "cell_type": "markdown",
   "metadata": {},
   "source": [
    "**Question 4.5.** Comment on the relationship between `Humidity` and `Pressure__mbar` shown in the plot from the previos question."
   ]
  },
  {
   "cell_type": "markdown",
   "metadata": {},
   "source": [
    "They are negatively correlated."
   ]
  },
  {
   "cell_type": "markdown",
   "metadata": {},
   "source": [
    "# You're done with Lab 3! \n",
    "Save the Jupyter Notebook and submit it to Gradescope."
   ]
  }
 ],
 "metadata": {
  "kernelspec": {
   "display_name": "Python 3 (ipykernel)",
   "language": "python",
   "name": "python3"
  },
  "language_info": {
   "codemirror_mode": {
    "name": "ipython",
    "version": 3
   },
   "file_extension": ".py",
   "mimetype": "text/x-python",
   "name": "python",
   "nbconvert_exporter": "python",
   "pygments_lexer": "ipython3",
   "version": "3.11.5"
  }
 },
 "nbformat": 4,
 "nbformat_minor": 4
}
